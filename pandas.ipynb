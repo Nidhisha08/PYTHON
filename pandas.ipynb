{
 "cells": [
  {
   "cell_type": "code",
   "execution_count": 50,
   "id": "ce80f6c8",
   "metadata": {},
   "outputs": [],
   "source": [
    "import pandas as pd\n",
    "import numpy as np"
   ]
  },
  {
   "cell_type": "markdown",
   "id": "ba80cee8",
   "metadata": {},
   "source": [
    "### Series"
   ]
  },
  {
   "cell_type": "code",
   "execution_count": 3,
   "id": "3efe23e9",
   "metadata": {},
   "outputs": [
    {
     "data": {
      "text/plain": [
       "0    11\n",
       "1    21\n",
       "2    31\n",
       "3    22\n",
       "4    13\n",
       "dtype: int64"
      ]
     },
     "execution_count": 3,
     "metadata": {},
     "output_type": "execute_result"
    }
   ],
   "source": [
    "a1=pd.Series([11,21,31,22,13])\n",
    "a1"
   ]
  },
  {
   "cell_type": "code",
   "execution_count": 5,
   "id": "30deb339",
   "metadata": {},
   "outputs": [
    {
     "data": {
      "text/plain": [
       "a    34\n",
       "b    21\n",
       "c    32\n",
       "d    11\n",
       "e    23\n",
       "dtype: int64"
      ]
     },
     "execution_count": 5,
     "metadata": {},
     "output_type": "execute_result"
    }
   ],
   "source": [
    "#adding the index\n",
    "a2=pd.Series([34,21,32,11,23],index=[\"a\",\"b\",\"c\",\"d\",\"e\"])\n",
    "a2"
   ]
  },
  {
   "cell_type": "code",
   "execution_count": 6,
   "id": "e80d753d",
   "metadata": {},
   "outputs": [
    {
     "data": {
      "text/plain": [
       "Index(['a', 'b', 'c', 'd', 'e'], dtype='object')"
      ]
     },
     "execution_count": 6,
     "metadata": {},
     "output_type": "execute_result"
    }
   ],
   "source": [
    "a2.index"
   ]
  },
  {
   "cell_type": "code",
   "execution_count": 7,
   "id": "162696b0",
   "metadata": {},
   "outputs": [
    {
     "data": {
      "text/plain": [
       "32"
      ]
     },
     "execution_count": 7,
     "metadata": {},
     "output_type": "execute_result"
    }
   ],
   "source": [
    "a2[\"c\"]"
   ]
  },
  {
   "cell_type": "code",
   "execution_count": 8,
   "id": "967d2c09",
   "metadata": {},
   "outputs": [
    {
     "data": {
      "text/plain": [
       "c    32\n",
       "d    11\n",
       "a    34\n",
       "dtype: int64"
      ]
     },
     "execution_count": 8,
     "metadata": {},
     "output_type": "execute_result"
    }
   ],
   "source": [
    "a2[[\"c\",\"d\",\"a\"]]"
   ]
  },
  {
   "cell_type": "code",
   "execution_count": 9,
   "id": "8fc14522",
   "metadata": {},
   "outputs": [
    {
     "data": {
      "text/plain": [
       "a    34\n",
       "b    21\n",
       "c    32\n",
       "dtype: int64"
      ]
     },
     "execution_count": 9,
     "metadata": {},
     "output_type": "execute_result"
    }
   ],
   "source": [
    "a2[\"a\":\"c\"]"
   ]
  },
  {
   "cell_type": "code",
   "execution_count": 12,
   "id": "500f777b",
   "metadata": {},
   "outputs": [
    {
     "data": {
      "text/plain": [
       "name      nidhisha\n",
       "age             23\n",
       "gender           f\n",
       "caste         jain\n",
       "dtype: object"
      ]
     },
     "execution_count": 12,
     "metadata": {},
     "output_type": "execute_result"
    }
   ],
   "source": [
    "#creating the series using dict\n",
    "d1={\"name\":\"nidhisha\",\"age\":23,\"gender\":\"f\",\"caste\":\"jain\"}\n",
    "a3=pd.Series(d1)\n",
    "a3"
   ]
  },
  {
   "cell_type": "code",
   "execution_count": 14,
   "id": "0a339d89",
   "metadata": {},
   "outputs": [],
   "source": [
    "a3.index.name=\"details\""
   ]
  },
  {
   "cell_type": "code",
   "execution_count": 15,
   "id": "75b952d4",
   "metadata": {},
   "outputs": [
    {
     "data": {
      "text/plain": [
       "details\n",
       "name      nidhisha\n",
       "age             23\n",
       "gender           f\n",
       "caste         jain\n",
       "dtype: object"
      ]
     },
     "execution_count": 15,
     "metadata": {},
     "output_type": "execute_result"
    }
   ],
   "source": [
    "a3"
   ]
  },
  {
   "cell_type": "code",
   "execution_count": 5,
   "id": "9d1252e7",
   "metadata": {},
   "outputs": [
    {
     "data": {
      "text/plain": [
       "a    3\n",
       "b    2\n",
       "c    1\n",
       "d    4\n",
       "e    2\n",
       "f    3\n",
       "dtype: int64"
      ]
     },
     "execution_count": 5,
     "metadata": {},
     "output_type": "execute_result"
    }
   ],
   "source": [
    "#creating the series from tuple\n",
    "t1=(3,2,1,4,2,3)\n",
    "a4=pd.Series(t1,index=(\"a\",\"b\",\"c\",\"d\",\"e\",\"f\"))\n",
    "a4"
   ]
  },
  {
   "cell_type": "code",
   "execution_count": 32,
   "id": "36faea34",
   "metadata": {},
   "outputs": [
    {
     "name": "stdout",
     "output_type": "stream",
     "text": [
      "id         [11, 12, 13, 14, 15, 16, 17, 18, 19, 20, 21, 2...\n",
      "sl         [5.1, 4, 9, 4.7, 6.0, 4.0, 3.6, 5.2, 5.3, 5.7,...\n",
      "pl         [5.0, 4, 3, 3.7, 4.6, 7.1, 4.5, 5.4, 5.1, 2.7,...\n",
      "species    [Iris verginica, iris setosa, Iris verginica, ...\n",
      "dtype: object\n"
     ]
    }
   ],
   "source": [
    "ID=list(range(11,31))\n",
    "SL=[5.1,4,9,4.7,6.0,4.0,3.6,5.2,5.3,5.7,4.7,3.9,4.0,3.8,4.1,4.9,5.9,4.3,5.4,3.5]\n",
    "PL = [5.0,4,3,3.7,4.6,7.1,4.5,5.4,5.1,2.7,3.2,3.1,3.2,3.7,5.3,3.8,5.9,4.3,5.4,7.1]\n",
    "species = [\"Iris verginica\",\"iris setosa\",\"Iris verginica\",\"iris vercicolor\",\"iris setosa\",\"iris setosa\",\"iris setosa\",\n",
    "\"iris vercicolor\",\"iris vercicolor\",\"Iris verginica\",\"Iris verginica\",\"iris setosa\",\n",
    "\"iris setosa\",\"Iris verginica\",\n",
    "\"iris vercicolor\",\"iris vercicolor\",\"iris vercicolor\",\"Iris verginica\",\"Iris verginica\",\"iris setosa\"]\n",
    "\n",
    "iris=pd.Series({\"id\":ID,\"sl\":SL,\"pl\":PL,\"species\":species})\n",
    "print(iris)"
   ]
  },
  {
   "cell_type": "code",
   "execution_count": null,
   "id": "6e17b9a4",
   "metadata": {},
   "outputs": [],
   "source": []
  },
  {
   "cell_type": "markdown",
   "id": "85d7a9e0",
   "metadata": {},
   "source": [
    "### Dataframe"
   ]
  },
  {
   "cell_type": "code",
   "execution_count": 33,
   "id": "0647b64b",
   "metadata": {},
   "outputs": [
    {
     "data": {
      "text/html": [
       "<div>\n",
       "<style scoped>\n",
       "    .dataframe tbody tr th:only-of-type {\n",
       "        vertical-align: middle;\n",
       "    }\n",
       "\n",
       "    .dataframe tbody tr th {\n",
       "        vertical-align: top;\n",
       "    }\n",
       "\n",
       "    .dataframe thead th {\n",
       "        text-align: right;\n",
       "    }\n",
       "</style>\n",
       "<table border=\"1\" class=\"dataframe\">\n",
       "  <thead>\n",
       "    <tr style=\"text-align: right;\">\n",
       "      <th></th>\n",
       "      <th>index</th>\n",
       "      <th>id</th>\n",
       "      <th>sl</th>\n",
       "      <th>pl</th>\n",
       "      <th>species</th>\n",
       "    </tr>\n",
       "  </thead>\n",
       "  <tbody>\n",
       "    <tr>\n",
       "      <th>0</th>\n",
       "      <td>0</td>\n",
       "      <td>11</td>\n",
       "      <td>5.1</td>\n",
       "      <td>5.0</td>\n",
       "      <td>Iris verginica</td>\n",
       "    </tr>\n",
       "    <tr>\n",
       "      <th>1</th>\n",
       "      <td>1</td>\n",
       "      <td>12</td>\n",
       "      <td>4.0</td>\n",
       "      <td>4.0</td>\n",
       "      <td>iris setosa</td>\n",
       "    </tr>\n",
       "    <tr>\n",
       "      <th>2</th>\n",
       "      <td>2</td>\n",
       "      <td>13</td>\n",
       "      <td>9.0</td>\n",
       "      <td>3.0</td>\n",
       "      <td>Iris verginica</td>\n",
       "    </tr>\n",
       "    <tr>\n",
       "      <th>3</th>\n",
       "      <td>3</td>\n",
       "      <td>14</td>\n",
       "      <td>4.7</td>\n",
       "      <td>3.7</td>\n",
       "      <td>iris vercicolor</td>\n",
       "    </tr>\n",
       "    <tr>\n",
       "      <th>4</th>\n",
       "      <td>4</td>\n",
       "      <td>15</td>\n",
       "      <td>6.0</td>\n",
       "      <td>4.6</td>\n",
       "      <td>iris setosa</td>\n",
       "    </tr>\n",
       "    <tr>\n",
       "      <th>5</th>\n",
       "      <td>5</td>\n",
       "      <td>16</td>\n",
       "      <td>4.0</td>\n",
       "      <td>7.1</td>\n",
       "      <td>iris setosa</td>\n",
       "    </tr>\n",
       "    <tr>\n",
       "      <th>6</th>\n",
       "      <td>6</td>\n",
       "      <td>17</td>\n",
       "      <td>3.6</td>\n",
       "      <td>4.5</td>\n",
       "      <td>iris setosa</td>\n",
       "    </tr>\n",
       "    <tr>\n",
       "      <th>7</th>\n",
       "      <td>7</td>\n",
       "      <td>18</td>\n",
       "      <td>5.2</td>\n",
       "      <td>5.4</td>\n",
       "      <td>iris vercicolor</td>\n",
       "    </tr>\n",
       "    <tr>\n",
       "      <th>8</th>\n",
       "      <td>8</td>\n",
       "      <td>19</td>\n",
       "      <td>5.3</td>\n",
       "      <td>5.1</td>\n",
       "      <td>iris vercicolor</td>\n",
       "    </tr>\n",
       "    <tr>\n",
       "      <th>9</th>\n",
       "      <td>9</td>\n",
       "      <td>20</td>\n",
       "      <td>5.7</td>\n",
       "      <td>2.7</td>\n",
       "      <td>Iris verginica</td>\n",
       "    </tr>\n",
       "    <tr>\n",
       "      <th>10</th>\n",
       "      <td>10</td>\n",
       "      <td>21</td>\n",
       "      <td>4.7</td>\n",
       "      <td>3.2</td>\n",
       "      <td>Iris verginica</td>\n",
       "    </tr>\n",
       "    <tr>\n",
       "      <th>11</th>\n",
       "      <td>11</td>\n",
       "      <td>22</td>\n",
       "      <td>3.9</td>\n",
       "      <td>3.1</td>\n",
       "      <td>iris setosa</td>\n",
       "    </tr>\n",
       "    <tr>\n",
       "      <th>12</th>\n",
       "      <td>12</td>\n",
       "      <td>23</td>\n",
       "      <td>4.0</td>\n",
       "      <td>3.2</td>\n",
       "      <td>iris setosa</td>\n",
       "    </tr>\n",
       "    <tr>\n",
       "      <th>13</th>\n",
       "      <td>13</td>\n",
       "      <td>24</td>\n",
       "      <td>3.8</td>\n",
       "      <td>3.7</td>\n",
       "      <td>Iris verginica</td>\n",
       "    </tr>\n",
       "    <tr>\n",
       "      <th>14</th>\n",
       "      <td>14</td>\n",
       "      <td>25</td>\n",
       "      <td>4.1</td>\n",
       "      <td>5.3</td>\n",
       "      <td>iris vercicolor</td>\n",
       "    </tr>\n",
       "    <tr>\n",
       "      <th>15</th>\n",
       "      <td>15</td>\n",
       "      <td>26</td>\n",
       "      <td>4.9</td>\n",
       "      <td>3.8</td>\n",
       "      <td>iris vercicolor</td>\n",
       "    </tr>\n",
       "    <tr>\n",
       "      <th>16</th>\n",
       "      <td>16</td>\n",
       "      <td>27</td>\n",
       "      <td>5.9</td>\n",
       "      <td>5.9</td>\n",
       "      <td>iris vercicolor</td>\n",
       "    </tr>\n",
       "    <tr>\n",
       "      <th>17</th>\n",
       "      <td>17</td>\n",
       "      <td>28</td>\n",
       "      <td>4.3</td>\n",
       "      <td>4.3</td>\n",
       "      <td>Iris verginica</td>\n",
       "    </tr>\n",
       "    <tr>\n",
       "      <th>18</th>\n",
       "      <td>18</td>\n",
       "      <td>29</td>\n",
       "      <td>5.4</td>\n",
       "      <td>5.4</td>\n",
       "      <td>Iris verginica</td>\n",
       "    </tr>\n",
       "    <tr>\n",
       "      <th>19</th>\n",
       "      <td>19</td>\n",
       "      <td>30</td>\n",
       "      <td>3.5</td>\n",
       "      <td>7.1</td>\n",
       "      <td>iris setosa</td>\n",
       "    </tr>\n",
       "  </tbody>\n",
       "</table>\n",
       "</div>"
      ],
      "text/plain": [
       "    index  id   sl   pl          species\n",
       "0       0  11  5.1  5.0   Iris verginica\n",
       "1       1  12  4.0  4.0      iris setosa\n",
       "2       2  13  9.0  3.0   Iris verginica\n",
       "3       3  14  4.7  3.7  iris vercicolor\n",
       "4       4  15  6.0  4.6      iris setosa\n",
       "5       5  16  4.0  7.1      iris setosa\n",
       "6       6  17  3.6  4.5      iris setosa\n",
       "7       7  18  5.2  5.4  iris vercicolor\n",
       "8       8  19  5.3  5.1  iris vercicolor\n",
       "9       9  20  5.7  2.7   Iris verginica\n",
       "10     10  21  4.7  3.2   Iris verginica\n",
       "11     11  22  3.9  3.1      iris setosa\n",
       "12     12  23  4.0  3.2      iris setosa\n",
       "13     13  24  3.8  3.7   Iris verginica\n",
       "14     14  25  4.1  5.3  iris vercicolor\n",
       "15     15  26  4.9  3.8  iris vercicolor\n",
       "16     16  27  5.9  5.9  iris vercicolor\n",
       "17     17  28  4.3  4.3   Iris verginica\n",
       "18     18  29  5.4  5.4   Iris verginica\n",
       "19     19  30  3.5  7.1      iris setosa"
      ]
     },
     "execution_count": 33,
     "metadata": {},
     "output_type": "execute_result"
    }
   ],
   "source": [
    "#convert above series into data frame\n",
    "df=pd.DataFrame(dict(iris)).reset_index()\n",
    "df"
   ]
  },
  {
   "cell_type": "code",
   "execution_count": null,
   "id": "4cf046d2",
   "metadata": {},
   "outputs": [],
   "source": []
  },
  {
   "cell_type": "code",
   "execution_count": 41,
   "id": "02c1b18f",
   "metadata": {},
   "outputs": [
    {
     "data": {
      "text/html": [
       "<div>\n",
       "<style scoped>\n",
       "    .dataframe tbody tr th:only-of-type {\n",
       "        vertical-align: middle;\n",
       "    }\n",
       "\n",
       "    .dataframe tbody tr th {\n",
       "        vertical-align: top;\n",
       "    }\n",
       "\n",
       "    .dataframe thead th {\n",
       "        text-align: right;\n",
       "    }\n",
       "</style>\n",
       "<table border=\"1\" class=\"dataframe\">\n",
       "  <thead>\n",
       "    <tr style=\"text-align: right;\">\n",
       "      <th></th>\n",
       "      <th>pl</th>\n",
       "      <th>sl</th>\n",
       "      <th>species</th>\n",
       "    </tr>\n",
       "  </thead>\n",
       "  <tbody>\n",
       "    <tr>\n",
       "      <th>11</th>\n",
       "      <td>5.0</td>\n",
       "      <td>5.1</td>\n",
       "      <td>Iris verginica</td>\n",
       "    </tr>\n",
       "    <tr>\n",
       "      <th>12</th>\n",
       "      <td>4.0</td>\n",
       "      <td>4.0</td>\n",
       "      <td>iris setosa</td>\n",
       "    </tr>\n",
       "    <tr>\n",
       "      <th>13</th>\n",
       "      <td>3.0</td>\n",
       "      <td>9.0</td>\n",
       "      <td>Iris verginica</td>\n",
       "    </tr>\n",
       "    <tr>\n",
       "      <th>14</th>\n",
       "      <td>3.7</td>\n",
       "      <td>4.7</td>\n",
       "      <td>iris vercicolor</td>\n",
       "    </tr>\n",
       "    <tr>\n",
       "      <th>15</th>\n",
       "      <td>4.6</td>\n",
       "      <td>6.0</td>\n",
       "      <td>iris setosa</td>\n",
       "    </tr>\n",
       "  </tbody>\n",
       "</table>\n",
       "</div>"
      ],
      "text/plain": [
       "     pl   sl          species\n",
       "11  5.0  5.1   Iris verginica\n",
       "12  4.0  4.0      iris setosa\n",
       "13  3.0  9.0   Iris verginica\n",
       "14  3.7  4.7  iris vercicolor\n",
       "15  4.6  6.0      iris setosa"
      ]
     },
     "execution_count": 41,
     "metadata": {},
     "output_type": "execute_result"
    }
   ],
   "source": [
    "df=pd.DataFrame(dict(iris),columns=[\"pl\",\"sl\",\"species\"],index=iris[\"id\"])\n",
    "df.head(5)"
   ]
  },
  {
   "cell_type": "code",
   "execution_count": 42,
   "id": "1fe16054",
   "metadata": {},
   "outputs": [
    {
     "data": {
      "text/plain": [
       "11     Iris verginica\n",
       "12        iris setosa\n",
       "13     Iris verginica\n",
       "14    iris vercicolor\n",
       "15        iris setosa\n",
       "16        iris setosa\n",
       "17        iris setosa\n",
       "18    iris vercicolor\n",
       "19    iris vercicolor\n",
       "20     Iris verginica\n",
       "21     Iris verginica\n",
       "22        iris setosa\n",
       "23        iris setosa\n",
       "24     Iris verginica\n",
       "25    iris vercicolor\n",
       "26    iris vercicolor\n",
       "27    iris vercicolor\n",
       "28     Iris verginica\n",
       "29     Iris verginica\n",
       "30        iris setosa\n",
       "Name: species, dtype: object"
      ]
     },
     "execution_count": 42,
     "metadata": {},
     "output_type": "execute_result"
    }
   ],
   "source": [
    "df[\"species\"]"
   ]
  },
  {
   "cell_type": "code",
   "execution_count": 43,
   "id": "6d9efe90",
   "metadata": {},
   "outputs": [
    {
     "data": {
      "text/plain": [
       "11     Iris verginica\n",
       "12        iris setosa\n",
       "13     Iris verginica\n",
       "14    iris vercicolor\n",
       "15        iris setosa\n",
       "16        iris setosa\n",
       "17        iris setosa\n",
       "18    iris vercicolor\n",
       "19    iris vercicolor\n",
       "20     Iris verginica\n",
       "21     Iris verginica\n",
       "22        iris setosa\n",
       "23        iris setosa\n",
       "24     Iris verginica\n",
       "25    iris vercicolor\n",
       "26    iris vercicolor\n",
       "27    iris vercicolor\n",
       "28     Iris verginica\n",
       "29     Iris verginica\n",
       "30        iris setosa\n",
       "Name: species, dtype: object"
      ]
     },
     "execution_count": 43,
     "metadata": {},
     "output_type": "execute_result"
    }
   ],
   "source": [
    "df.species"
   ]
  },
  {
   "cell_type": "code",
   "execution_count": 73,
   "id": "4b939391",
   "metadata": {},
   "outputs": [
    {
     "data": {
      "text/plain": [
       "pl                 3.2\n",
       "sl                 4.0\n",
       "species    iris setosa\n",
       "count             12.0\n",
       "Name: 23, dtype: object"
      ]
     },
     "execution_count": 73,
     "metadata": {},
     "output_type": "execute_result"
    }
   ],
   "source": [
    "#want to retrive a row\n",
    "#can call by index using loc\n",
    "df.loc[23]"
   ]
  },
  {
   "cell_type": "code",
   "execution_count": 74,
   "id": "6ce282b6",
   "metadata": {},
   "outputs": [
    {
     "data": {
      "text/html": [
       "<div>\n",
       "<style scoped>\n",
       "    .dataframe tbody tr th:only-of-type {\n",
       "        vertical-align: middle;\n",
       "    }\n",
       "\n",
       "    .dataframe tbody tr th {\n",
       "        vertical-align: top;\n",
       "    }\n",
       "\n",
       "    .dataframe thead th {\n",
       "        text-align: right;\n",
       "    }\n",
       "</style>\n",
       "<table border=\"1\" class=\"dataframe\">\n",
       "  <thead>\n",
       "    <tr style=\"text-align: right;\">\n",
       "      <th></th>\n",
       "      <th>pl</th>\n",
       "      <th>sl</th>\n",
       "      <th>species</th>\n",
       "      <th>count</th>\n",
       "    </tr>\n",
       "  </thead>\n",
       "  <tbody>\n",
       "    <tr>\n",
       "      <th>11</th>\n",
       "      <td>5.0</td>\n",
       "      <td>5.1</td>\n",
       "      <td>Iris verginica</td>\n",
       "      <td>0.0</td>\n",
       "    </tr>\n",
       "    <tr>\n",
       "      <th>12</th>\n",
       "      <td>4.0</td>\n",
       "      <td>4.0</td>\n",
       "      <td>iris setosa</td>\n",
       "      <td>1.0</td>\n",
       "    </tr>\n",
       "    <tr>\n",
       "      <th>13</th>\n",
       "      <td>3.0</td>\n",
       "      <td>9.0</td>\n",
       "      <td>Iris verginica</td>\n",
       "      <td>2.0</td>\n",
       "    </tr>\n",
       "  </tbody>\n",
       "</table>\n",
       "</div>"
      ],
      "text/plain": [
       "     pl   sl         species  count\n",
       "11  5.0  5.1  Iris verginica    0.0\n",
       "12  4.0  4.0     iris setosa    1.0\n",
       "13  3.0  9.0  Iris verginica    2.0"
      ]
     },
     "execution_count": 74,
     "metadata": {},
     "output_type": "execute_result"
    }
   ],
   "source": [
    "df.head(3)"
   ]
  },
  {
   "cell_type": "code",
   "execution_count": 75,
   "id": "f09231a2",
   "metadata": {},
   "outputs": [
    {
     "data": {
      "text/html": [
       "<div>\n",
       "<style scoped>\n",
       "    .dataframe tbody tr th:only-of-type {\n",
       "        vertical-align: middle;\n",
       "    }\n",
       "\n",
       "    .dataframe tbody tr th {\n",
       "        vertical-align: top;\n",
       "    }\n",
       "\n",
       "    .dataframe thead th {\n",
       "        text-align: right;\n",
       "    }\n",
       "</style>\n",
       "<table border=\"1\" class=\"dataframe\">\n",
       "  <thead>\n",
       "    <tr style=\"text-align: right;\">\n",
       "      <th></th>\n",
       "      <th>pl</th>\n",
       "      <th>sl</th>\n",
       "      <th>species</th>\n",
       "      <th>count</th>\n",
       "    </tr>\n",
       "  </thead>\n",
       "  <tbody>\n",
       "    <tr>\n",
       "      <th>11</th>\n",
       "      <td>5.0</td>\n",
       "      <td>5.1</td>\n",
       "      <td>Iris verginica</td>\n",
       "      <td>0.0</td>\n",
       "    </tr>\n",
       "    <tr>\n",
       "      <th>12</th>\n",
       "      <td>4.0</td>\n",
       "      <td>4.0</td>\n",
       "      <td>iris setosa</td>\n",
       "      <td>1.0</td>\n",
       "    </tr>\n",
       "    <tr>\n",
       "      <th>13</th>\n",
       "      <td>3.0</td>\n",
       "      <td>9.0</td>\n",
       "      <td>Iris verginica</td>\n",
       "      <td>2.0</td>\n",
       "    </tr>\n",
       "    <tr>\n",
       "      <th>14</th>\n",
       "      <td>3.7</td>\n",
       "      <td>4.7</td>\n",
       "      <td>iris vercicolor</td>\n",
       "      <td>3.0</td>\n",
       "    </tr>\n",
       "    <tr>\n",
       "      <th>15</th>\n",
       "      <td>4.6</td>\n",
       "      <td>6.0</td>\n",
       "      <td>iris setosa</td>\n",
       "      <td>4.0</td>\n",
       "    </tr>\n",
       "    <tr>\n",
       "      <th>16</th>\n",
       "      <td>7.1</td>\n",
       "      <td>4.0</td>\n",
       "      <td>iris setosa</td>\n",
       "      <td>5.0</td>\n",
       "    </tr>\n",
       "    <tr>\n",
       "      <th>17</th>\n",
       "      <td>4.5</td>\n",
       "      <td>3.6</td>\n",
       "      <td>iris setosa</td>\n",
       "      <td>6.0</td>\n",
       "    </tr>\n",
       "    <tr>\n",
       "      <th>18</th>\n",
       "      <td>5.4</td>\n",
       "      <td>5.2</td>\n",
       "      <td>iris vercicolor</td>\n",
       "      <td>7.0</td>\n",
       "    </tr>\n",
       "    <tr>\n",
       "      <th>19</th>\n",
       "      <td>5.1</td>\n",
       "      <td>5.3</td>\n",
       "      <td>iris vercicolor</td>\n",
       "      <td>8.0</td>\n",
       "    </tr>\n",
       "    <tr>\n",
       "      <th>20</th>\n",
       "      <td>2.7</td>\n",
       "      <td>5.7</td>\n",
       "      <td>Iris verginica</td>\n",
       "      <td>9.0</td>\n",
       "    </tr>\n",
       "    <tr>\n",
       "      <th>21</th>\n",
       "      <td>3.2</td>\n",
       "      <td>4.7</td>\n",
       "      <td>Iris verginica</td>\n",
       "      <td>10.0</td>\n",
       "    </tr>\n",
       "    <tr>\n",
       "      <th>22</th>\n",
       "      <td>3.1</td>\n",
       "      <td>3.9</td>\n",
       "      <td>iris setosa</td>\n",
       "      <td>11.0</td>\n",
       "    </tr>\n",
       "    <tr>\n",
       "      <th>23</th>\n",
       "      <td>3.2</td>\n",
       "      <td>4.0</td>\n",
       "      <td>iris setosa</td>\n",
       "      <td>12.0</td>\n",
       "    </tr>\n",
       "    <tr>\n",
       "      <th>24</th>\n",
       "      <td>3.7</td>\n",
       "      <td>3.8</td>\n",
       "      <td>Iris verginica</td>\n",
       "      <td>13.0</td>\n",
       "    </tr>\n",
       "    <tr>\n",
       "      <th>25</th>\n",
       "      <td>5.3</td>\n",
       "      <td>4.1</td>\n",
       "      <td>iris vercicolor</td>\n",
       "      <td>14.0</td>\n",
       "    </tr>\n",
       "    <tr>\n",
       "      <th>26</th>\n",
       "      <td>3.8</td>\n",
       "      <td>4.9</td>\n",
       "      <td>iris vercicolor</td>\n",
       "      <td>15.0</td>\n",
       "    </tr>\n",
       "    <tr>\n",
       "      <th>27</th>\n",
       "      <td>5.9</td>\n",
       "      <td>5.9</td>\n",
       "      <td>iris vercicolor</td>\n",
       "      <td>16.0</td>\n",
       "    </tr>\n",
       "    <tr>\n",
       "      <th>28</th>\n",
       "      <td>4.3</td>\n",
       "      <td>4.3</td>\n",
       "      <td>Iris verginica</td>\n",
       "      <td>17.0</td>\n",
       "    </tr>\n",
       "    <tr>\n",
       "      <th>29</th>\n",
       "      <td>5.4</td>\n",
       "      <td>5.4</td>\n",
       "      <td>Iris verginica</td>\n",
       "      <td>18.0</td>\n",
       "    </tr>\n",
       "    <tr>\n",
       "      <th>30</th>\n",
       "      <td>7.1</td>\n",
       "      <td>3.5</td>\n",
       "      <td>iris setosa</td>\n",
       "      <td>19.0</td>\n",
       "    </tr>\n",
       "  </tbody>\n",
       "</table>\n",
       "</div>"
      ],
      "text/plain": [
       "     pl   sl          species  count\n",
       "11  5.0  5.1   Iris verginica    0.0\n",
       "12  4.0  4.0      iris setosa    1.0\n",
       "13  3.0  9.0   Iris verginica    2.0\n",
       "14  3.7  4.7  iris vercicolor    3.0\n",
       "15  4.6  6.0      iris setosa    4.0\n",
       "16  7.1  4.0      iris setosa    5.0\n",
       "17  4.5  3.6      iris setosa    6.0\n",
       "18  5.4  5.2  iris vercicolor    7.0\n",
       "19  5.1  5.3  iris vercicolor    8.0\n",
       "20  2.7  5.7   Iris verginica    9.0\n",
       "21  3.2  4.7   Iris verginica   10.0\n",
       "22  3.1  3.9      iris setosa   11.0\n",
       "23  3.2  4.0      iris setosa   12.0\n",
       "24  3.7  3.8   Iris verginica   13.0\n",
       "25  5.3  4.1  iris vercicolor   14.0\n",
       "26  3.8  4.9  iris vercicolor   15.0\n",
       "27  5.9  5.9  iris vercicolor   16.0\n",
       "28  4.3  4.3   Iris verginica   17.0\n",
       "29  5.4  5.4   Iris verginica   18.0\n",
       "30  7.1  3.5      iris setosa   19.0"
      ]
     },
     "execution_count": 75,
     "metadata": {},
     "output_type": "execute_result"
    }
   ],
   "source": [
    "df[\"count\"]=np.arange(20.0)\n",
    "df"
   ]
  },
  {
   "cell_type": "code",
   "execution_count": 76,
   "id": "83e432d6",
   "metadata": {},
   "outputs": [],
   "source": [
    "#then you are assigning lists or arrays to a column, the value’s length must match the\n",
    "#length of the DataFrame. If you assign a Series, its labels will be realigned exactly to\n",
    "#the DataFrame’s index, inserting missing values in any holes:\n",
    "df[\"other\"]=pd.Series([\"sidhi\",3,4],index=[18,23,14])"
   ]
  },
  {
   "cell_type": "code",
   "execution_count": 77,
   "id": "29c9216a",
   "metadata": {},
   "outputs": [
    {
     "data": {
      "text/html": [
       "<div>\n",
       "<style scoped>\n",
       "    .dataframe tbody tr th:only-of-type {\n",
       "        vertical-align: middle;\n",
       "    }\n",
       "\n",
       "    .dataframe tbody tr th {\n",
       "        vertical-align: top;\n",
       "    }\n",
       "\n",
       "    .dataframe thead th {\n",
       "        text-align: right;\n",
       "    }\n",
       "</style>\n",
       "<table border=\"1\" class=\"dataframe\">\n",
       "  <thead>\n",
       "    <tr style=\"text-align: right;\">\n",
       "      <th></th>\n",
       "      <th>pl</th>\n",
       "      <th>sl</th>\n",
       "      <th>species</th>\n",
       "      <th>count</th>\n",
       "      <th>other</th>\n",
       "    </tr>\n",
       "  </thead>\n",
       "  <tbody>\n",
       "    <tr>\n",
       "      <th>11</th>\n",
       "      <td>5.0</td>\n",
       "      <td>5.1</td>\n",
       "      <td>Iris verginica</td>\n",
       "      <td>0.0</td>\n",
       "      <td>NaN</td>\n",
       "    </tr>\n",
       "    <tr>\n",
       "      <th>12</th>\n",
       "      <td>4.0</td>\n",
       "      <td>4.0</td>\n",
       "      <td>iris setosa</td>\n",
       "      <td>1.0</td>\n",
       "      <td>NaN</td>\n",
       "    </tr>\n",
       "    <tr>\n",
       "      <th>13</th>\n",
       "      <td>3.0</td>\n",
       "      <td>9.0</td>\n",
       "      <td>Iris verginica</td>\n",
       "      <td>2.0</td>\n",
       "      <td>NaN</td>\n",
       "    </tr>\n",
       "    <tr>\n",
       "      <th>14</th>\n",
       "      <td>3.7</td>\n",
       "      <td>4.7</td>\n",
       "      <td>iris vercicolor</td>\n",
       "      <td>3.0</td>\n",
       "      <td>4</td>\n",
       "    </tr>\n",
       "    <tr>\n",
       "      <th>15</th>\n",
       "      <td>4.6</td>\n",
       "      <td>6.0</td>\n",
       "      <td>iris setosa</td>\n",
       "      <td>4.0</td>\n",
       "      <td>NaN</td>\n",
       "    </tr>\n",
       "    <tr>\n",
       "      <th>16</th>\n",
       "      <td>7.1</td>\n",
       "      <td>4.0</td>\n",
       "      <td>iris setosa</td>\n",
       "      <td>5.0</td>\n",
       "      <td>NaN</td>\n",
       "    </tr>\n",
       "    <tr>\n",
       "      <th>17</th>\n",
       "      <td>4.5</td>\n",
       "      <td>3.6</td>\n",
       "      <td>iris setosa</td>\n",
       "      <td>6.0</td>\n",
       "      <td>NaN</td>\n",
       "    </tr>\n",
       "    <tr>\n",
       "      <th>18</th>\n",
       "      <td>5.4</td>\n",
       "      <td>5.2</td>\n",
       "      <td>iris vercicolor</td>\n",
       "      <td>7.0</td>\n",
       "      <td>sidhi</td>\n",
       "    </tr>\n",
       "    <tr>\n",
       "      <th>19</th>\n",
       "      <td>5.1</td>\n",
       "      <td>5.3</td>\n",
       "      <td>iris vercicolor</td>\n",
       "      <td>8.0</td>\n",
       "      <td>NaN</td>\n",
       "    </tr>\n",
       "    <tr>\n",
       "      <th>20</th>\n",
       "      <td>2.7</td>\n",
       "      <td>5.7</td>\n",
       "      <td>Iris verginica</td>\n",
       "      <td>9.0</td>\n",
       "      <td>NaN</td>\n",
       "    </tr>\n",
       "    <tr>\n",
       "      <th>21</th>\n",
       "      <td>3.2</td>\n",
       "      <td>4.7</td>\n",
       "      <td>Iris verginica</td>\n",
       "      <td>10.0</td>\n",
       "      <td>NaN</td>\n",
       "    </tr>\n",
       "    <tr>\n",
       "      <th>22</th>\n",
       "      <td>3.1</td>\n",
       "      <td>3.9</td>\n",
       "      <td>iris setosa</td>\n",
       "      <td>11.0</td>\n",
       "      <td>NaN</td>\n",
       "    </tr>\n",
       "    <tr>\n",
       "      <th>23</th>\n",
       "      <td>3.2</td>\n",
       "      <td>4.0</td>\n",
       "      <td>iris setosa</td>\n",
       "      <td>12.0</td>\n",
       "      <td>3</td>\n",
       "    </tr>\n",
       "    <tr>\n",
       "      <th>24</th>\n",
       "      <td>3.7</td>\n",
       "      <td>3.8</td>\n",
       "      <td>Iris verginica</td>\n",
       "      <td>13.0</td>\n",
       "      <td>NaN</td>\n",
       "    </tr>\n",
       "    <tr>\n",
       "      <th>25</th>\n",
       "      <td>5.3</td>\n",
       "      <td>4.1</td>\n",
       "      <td>iris vercicolor</td>\n",
       "      <td>14.0</td>\n",
       "      <td>NaN</td>\n",
       "    </tr>\n",
       "    <tr>\n",
       "      <th>26</th>\n",
       "      <td>3.8</td>\n",
       "      <td>4.9</td>\n",
       "      <td>iris vercicolor</td>\n",
       "      <td>15.0</td>\n",
       "      <td>NaN</td>\n",
       "    </tr>\n",
       "    <tr>\n",
       "      <th>27</th>\n",
       "      <td>5.9</td>\n",
       "      <td>5.9</td>\n",
       "      <td>iris vercicolor</td>\n",
       "      <td>16.0</td>\n",
       "      <td>NaN</td>\n",
       "    </tr>\n",
       "    <tr>\n",
       "      <th>28</th>\n",
       "      <td>4.3</td>\n",
       "      <td>4.3</td>\n",
       "      <td>Iris verginica</td>\n",
       "      <td>17.0</td>\n",
       "      <td>NaN</td>\n",
       "    </tr>\n",
       "    <tr>\n",
       "      <th>29</th>\n",
       "      <td>5.4</td>\n",
       "      <td>5.4</td>\n",
       "      <td>Iris verginica</td>\n",
       "      <td>18.0</td>\n",
       "      <td>NaN</td>\n",
       "    </tr>\n",
       "    <tr>\n",
       "      <th>30</th>\n",
       "      <td>7.1</td>\n",
       "      <td>3.5</td>\n",
       "      <td>iris setosa</td>\n",
       "      <td>19.0</td>\n",
       "      <td>NaN</td>\n",
       "    </tr>\n",
       "  </tbody>\n",
       "</table>\n",
       "</div>"
      ],
      "text/plain": [
       "     pl   sl          species  count  other\n",
       "11  5.0  5.1   Iris verginica    0.0    NaN\n",
       "12  4.0  4.0      iris setosa    1.0    NaN\n",
       "13  3.0  9.0   Iris verginica    2.0    NaN\n",
       "14  3.7  4.7  iris vercicolor    3.0      4\n",
       "15  4.6  6.0      iris setosa    4.0    NaN\n",
       "16  7.1  4.0      iris setosa    5.0    NaN\n",
       "17  4.5  3.6      iris setosa    6.0    NaN\n",
       "18  5.4  5.2  iris vercicolor    7.0  sidhi\n",
       "19  5.1  5.3  iris vercicolor    8.0    NaN\n",
       "20  2.7  5.7   Iris verginica    9.0    NaN\n",
       "21  3.2  4.7   Iris verginica   10.0    NaN\n",
       "22  3.1  3.9      iris setosa   11.0    NaN\n",
       "23  3.2  4.0      iris setosa   12.0      3\n",
       "24  3.7  3.8   Iris verginica   13.0    NaN\n",
       "25  5.3  4.1  iris vercicolor   14.0    NaN\n",
       "26  3.8  4.9  iris vercicolor   15.0    NaN\n",
       "27  5.9  5.9  iris vercicolor   16.0    NaN\n",
       "28  4.3  4.3   Iris verginica   17.0    NaN\n",
       "29  5.4  5.4   Iris verginica   18.0    NaN\n",
       "30  7.1  3.5      iris setosa   19.0    NaN"
      ]
     },
     "execution_count": 77,
     "metadata": {},
     "output_type": "execute_result"
    }
   ],
   "source": [
    "df"
   ]
  },
  {
   "cell_type": "code",
   "execution_count": 80,
   "id": "973b0125",
   "metadata": {},
   "outputs": [],
   "source": [
    "#want to delete the column other\n",
    "del df[\"other\"]\n"
   ]
  },
  {
   "cell_type": "code",
   "execution_count": 81,
   "id": "bd1fb8d0",
   "metadata": {},
   "outputs": [
    {
     "data": {
      "text/html": [
       "<div>\n",
       "<style scoped>\n",
       "    .dataframe tbody tr th:only-of-type {\n",
       "        vertical-align: middle;\n",
       "    }\n",
       "\n",
       "    .dataframe tbody tr th {\n",
       "        vertical-align: top;\n",
       "    }\n",
       "\n",
       "    .dataframe thead th {\n",
       "        text-align: right;\n",
       "    }\n",
       "</style>\n",
       "<table border=\"1\" class=\"dataframe\">\n",
       "  <thead>\n",
       "    <tr style=\"text-align: right;\">\n",
       "      <th></th>\n",
       "      <th>pl</th>\n",
       "      <th>sl</th>\n",
       "      <th>species</th>\n",
       "      <th>count</th>\n",
       "    </tr>\n",
       "  </thead>\n",
       "  <tbody>\n",
       "    <tr>\n",
       "      <th>11</th>\n",
       "      <td>5.0</td>\n",
       "      <td>5.1</td>\n",
       "      <td>Iris verginica</td>\n",
       "      <td>0.0</td>\n",
       "    </tr>\n",
       "    <tr>\n",
       "      <th>12</th>\n",
       "      <td>4.0</td>\n",
       "      <td>4.0</td>\n",
       "      <td>iris setosa</td>\n",
       "      <td>1.0</td>\n",
       "    </tr>\n",
       "  </tbody>\n",
       "</table>\n",
       "</div>"
      ],
      "text/plain": [
       "     pl   sl         species  count\n",
       "11  5.0  5.1  Iris verginica    0.0\n",
       "12  4.0  4.0     iris setosa    1.0"
      ]
     },
     "execution_count": 81,
     "metadata": {},
     "output_type": "execute_result"
    }
   ],
   "source": [
    "df.head(2)"
   ]
  },
  {
   "cell_type": "code",
   "execution_count": 84,
   "id": "c7e4ffd4",
   "metadata": {},
   "outputs": [
    {
     "data": {
      "text/html": [
       "<div>\n",
       "<style scoped>\n",
       "    .dataframe tbody tr th:only-of-type {\n",
       "        vertical-align: middle;\n",
       "    }\n",
       "\n",
       "    .dataframe tbody tr th {\n",
       "        vertical-align: top;\n",
       "    }\n",
       "\n",
       "    .dataframe thead th {\n",
       "        text-align: right;\n",
       "    }\n",
       "</style>\n",
       "<table border=\"1\" class=\"dataframe\">\n",
       "  <thead>\n",
       "    <tr style=\"text-align: right;\">\n",
       "      <th></th>\n",
       "      <th>India</th>\n",
       "      <th>USA</th>\n",
       "      <th>UK</th>\n",
       "    </tr>\n",
       "  </thead>\n",
       "  <tbody>\n",
       "    <tr>\n",
       "      <th>2000</th>\n",
       "      <td>30</td>\n",
       "      <td>10.0</td>\n",
       "      <td>5</td>\n",
       "    </tr>\n",
       "    <tr>\n",
       "      <th>2005</th>\n",
       "      <td>90</td>\n",
       "      <td>50.0</td>\n",
       "      <td>40</td>\n",
       "    </tr>\n",
       "    <tr>\n",
       "      <th>2010</th>\n",
       "      <td>110</td>\n",
       "      <td>NaN</td>\n",
       "      <td>90</td>\n",
       "    </tr>\n",
       "  </tbody>\n",
       "</table>\n",
       "</div>"
      ],
      "text/plain": [
       "      India   USA  UK\n",
       "2000     30  10.0   5\n",
       "2005     90  50.0  40\n",
       "2010    110   NaN  90"
      ]
     },
     "execution_count": 84,
     "metadata": {},
     "output_type": "execute_result"
    }
   ],
   "source": [
    "#nested dict\n",
    "pop={\"India\":{2000:30,2005:90,2010:110},\n",
    "    \"USA\":{2000:10,2005:50},\n",
    "    \"UK\":{2000:5,2005:40,2010:90}}   #outer key values in considered as columns and inner key is row indices\n",
    "df1=pd.DataFrame(pop)\n",
    "df1"
   ]
  },
  {
   "cell_type": "code",
   "execution_count": 85,
   "id": "edd12485",
   "metadata": {},
   "outputs": [
    {
     "data": {
      "text/html": [
       "<div>\n",
       "<style scoped>\n",
       "    .dataframe tbody tr th:only-of-type {\n",
       "        vertical-align: middle;\n",
       "    }\n",
       "\n",
       "    .dataframe tbody tr th {\n",
       "        vertical-align: top;\n",
       "    }\n",
       "\n",
       "    .dataframe thead th {\n",
       "        text-align: right;\n",
       "    }\n",
       "</style>\n",
       "<table border=\"1\" class=\"dataframe\">\n",
       "  <thead>\n",
       "    <tr style=\"text-align: right;\">\n",
       "      <th></th>\n",
       "      <th>2000</th>\n",
       "      <th>2005</th>\n",
       "      <th>2010</th>\n",
       "    </tr>\n",
       "  </thead>\n",
       "  <tbody>\n",
       "    <tr>\n",
       "      <th>India</th>\n",
       "      <td>30.0</td>\n",
       "      <td>90.0</td>\n",
       "      <td>110.0</td>\n",
       "    </tr>\n",
       "    <tr>\n",
       "      <th>USA</th>\n",
       "      <td>10.0</td>\n",
       "      <td>50.0</td>\n",
       "      <td>NaN</td>\n",
       "    </tr>\n",
       "    <tr>\n",
       "      <th>UK</th>\n",
       "      <td>5.0</td>\n",
       "      <td>40.0</td>\n",
       "      <td>90.0</td>\n",
       "    </tr>\n",
       "  </tbody>\n",
       "</table>\n",
       "</div>"
      ],
      "text/plain": [
       "       2000  2005   2010\n",
       "India  30.0  90.0  110.0\n",
       "USA    10.0  50.0    NaN\n",
       "UK      5.0  40.0   90.0"
      ]
     },
     "execution_count": 85,
     "metadata": {},
     "output_type": "execute_result"
    }
   ],
   "source": [
    "df1.T"
   ]
  },
  {
   "cell_type": "code",
   "execution_count": 91,
   "id": "6ac25678",
   "metadata": {},
   "outputs": [],
   "source": [
    "#providing the column name and row name\n",
    "df1.index.name=\"year\"\n",
    "df1.columns.name=\"country\""
   ]
  },
  {
   "cell_type": "code",
   "execution_count": 92,
   "id": "5f1d2d4b",
   "metadata": {},
   "outputs": [
    {
     "data": {
      "text/html": [
       "<div>\n",
       "<style scoped>\n",
       "    .dataframe tbody tr th:only-of-type {\n",
       "        vertical-align: middle;\n",
       "    }\n",
       "\n",
       "    .dataframe tbody tr th {\n",
       "        vertical-align: top;\n",
       "    }\n",
       "\n",
       "    .dataframe thead th {\n",
       "        text-align: right;\n",
       "    }\n",
       "</style>\n",
       "<table border=\"1\" class=\"dataframe\">\n",
       "  <thead>\n",
       "    <tr style=\"text-align: right;\">\n",
       "      <th>country</th>\n",
       "      <th>India</th>\n",
       "      <th>USA</th>\n",
       "      <th>UK</th>\n",
       "    </tr>\n",
       "    <tr>\n",
       "      <th>year</th>\n",
       "      <th></th>\n",
       "      <th></th>\n",
       "      <th></th>\n",
       "    </tr>\n",
       "  </thead>\n",
       "  <tbody>\n",
       "    <tr>\n",
       "      <th>2000</th>\n",
       "      <td>30</td>\n",
       "      <td>10.0</td>\n",
       "      <td>5</td>\n",
       "    </tr>\n",
       "    <tr>\n",
       "      <th>2005</th>\n",
       "      <td>90</td>\n",
       "      <td>50.0</td>\n",
       "      <td>40</td>\n",
       "    </tr>\n",
       "    <tr>\n",
       "      <th>2010</th>\n",
       "      <td>110</td>\n",
       "      <td>NaN</td>\n",
       "      <td>90</td>\n",
       "    </tr>\n",
       "  </tbody>\n",
       "</table>\n",
       "</div>"
      ],
      "text/plain": [
       "country  India   USA  UK\n",
       "year                    \n",
       "2000        30  10.0   5\n",
       "2005        90  50.0  40\n",
       "2010       110   NaN  90"
      ]
     },
     "execution_count": 92,
     "metadata": {},
     "output_type": "execute_result"
    }
   ],
   "source": [
    "df1"
   ]
  },
  {
   "cell_type": "markdown",
   "id": "10bc6b57",
   "metadata": {},
   "source": [
    "### Index objects"
   ]
  },
  {
   "cell_type": "code",
   "execution_count": 95,
   "id": "1cad6cfe",
   "metadata": {},
   "outputs": [
    {
     "data": {
      "text/plain": [
       "0    a\n",
       "1    b\n",
       "2    c\n",
       "3    d\n",
       "dtype: object"
      ]
     },
     "execution_count": 95,
     "metadata": {},
     "output_type": "execute_result"
    }
   ],
   "source": [
    "labels=pd.Index(np.arange(4))\n",
    "s1=pd.Series([\"a\",\"b\",\"c\",\"d\"],index=labels)\n",
    "s1"
   ]
  },
  {
   "cell_type": "code",
   "execution_count": 97,
   "id": "8e9ec02a",
   "metadata": {},
   "outputs": [
    {
     "data": {
      "text/plain": [
       "a    0\n",
       "a    1\n",
       "b    2\n",
       "a    3\n",
       "dtype: int32"
      ]
     },
     "execution_count": 97,
     "metadata": {},
     "output_type": "execute_result"
    }
   ],
   "source": [
    "labels=pd.Index([\"a\",\"a\",\"b\",\"a\"])\n",
    "s2=pd.Series(np.arange(4),index=labels)\n",
    "s2"
   ]
  },
  {
   "cell_type": "code",
   "execution_count": 98,
   "id": "2437cd31",
   "metadata": {},
   "outputs": [
    {
     "data": {
      "text/plain": [
       "a    0\n",
       "a    1\n",
       "a    3\n",
       "dtype: int32"
      ]
     },
     "execution_count": 98,
     "metadata": {},
     "output_type": "execute_result"
    }
   ],
   "source": [
    "s2[\"a\"]"
   ]
  },
  {
   "cell_type": "markdown",
   "id": "34a8d446",
   "metadata": {},
   "source": [
    "### reindex"
   ]
  },
  {
   "cell_type": "code",
   "execution_count": 99,
   "id": "8970d3ac",
   "metadata": {},
   "outputs": [
    {
     "data": {
      "text/plain": [
       "c    0\n",
       "b    1\n",
       "a    2\n",
       "d    3\n",
       "dtype: int32"
      ]
     },
     "execution_count": 99,
     "metadata": {},
     "output_type": "execute_result"
    }
   ],
   "source": [
    "obj=pd.Series(np.arange(4),index=[\"c\",\"b\",\"a\",\"d\"])\n",
    "obj"
   ]
  },
  {
   "cell_type": "code",
   "execution_count": 100,
   "id": "104e35aa",
   "metadata": {},
   "outputs": [],
   "source": [
    "#reindex row\n",
    "obj2=obj.reindex([\"a\",\"b\",\"c\",\"d\",\"e\"])"
   ]
  },
  {
   "cell_type": "code",
   "execution_count": 101,
   "id": "90280774",
   "metadata": {},
   "outputs": [
    {
     "data": {
      "text/plain": [
       "a    2.0\n",
       "b    1.0\n",
       "c    0.0\n",
       "d    3.0\n",
       "e    NaN\n",
       "dtype: float64"
      ]
     },
     "execution_count": 101,
     "metadata": {},
     "output_type": "execute_result"
    }
   ],
   "source": [
    "obj2"
   ]
  },
  {
   "cell_type": "code",
   "execution_count": 112,
   "id": "6b03222f",
   "metadata": {},
   "outputs": [
    {
     "data": {
      "text/html": [
       "<div>\n",
       "<style scoped>\n",
       "    .dataframe tbody tr th:only-of-type {\n",
       "        vertical-align: middle;\n",
       "    }\n",
       "\n",
       "    .dataframe tbody tr th {\n",
       "        vertical-align: top;\n",
       "    }\n",
       "\n",
       "    .dataframe thead th {\n",
       "        text-align: right;\n",
       "    }\n",
       "</style>\n",
       "<table border=\"1\" class=\"dataframe\">\n",
       "  <thead>\n",
       "    <tr style=\"text-align: right;\">\n",
       "      <th></th>\n",
       "      <th>India</th>\n",
       "      <th>pakisthan</th>\n",
       "      <th>shrilanka</th>\n",
       "      <th>USA</th>\n",
       "    </tr>\n",
       "  </thead>\n",
       "  <tbody>\n",
       "    <tr>\n",
       "      <th>a</th>\n",
       "      <td>0</td>\n",
       "      <td>1</td>\n",
       "      <td>2</td>\n",
       "      <td>3</td>\n",
       "    </tr>\n",
       "    <tr>\n",
       "      <th>c</th>\n",
       "      <td>4</td>\n",
       "      <td>5</td>\n",
       "      <td>6</td>\n",
       "      <td>7</td>\n",
       "    </tr>\n",
       "    <tr>\n",
       "      <th>d</th>\n",
       "      <td>8</td>\n",
       "      <td>9</td>\n",
       "      <td>10</td>\n",
       "      <td>11</td>\n",
       "    </tr>\n",
       "    <tr>\n",
       "      <th>e</th>\n",
       "      <td>12</td>\n",
       "      <td>13</td>\n",
       "      <td>14</td>\n",
       "      <td>15</td>\n",
       "    </tr>\n",
       "  </tbody>\n",
       "</table>\n",
       "</div>"
      ],
      "text/plain": [
       "   India  pakisthan  shrilanka  USA\n",
       "a      0          1          2    3\n",
       "c      4          5          6    7\n",
       "d      8          9         10   11\n",
       "e     12         13         14   15"
      ]
     },
     "execution_count": 112,
     "metadata": {},
     "output_type": "execute_result"
    }
   ],
   "source": [
    "#like wise can change the column also\n",
    "df=pd.DataFrame(np.arange(16).reshape(4,4),index=[\"a\",\"c\",\"d\",\"e\"],columns=[\"India\",\"pakisthan\",\"shrilanka\",\"USA\"])\n",
    "df"
   ]
  },
  {
   "cell_type": "code",
   "execution_count": 115,
   "id": "221f16ad",
   "metadata": {},
   "outputs": [
    {
     "data": {
      "text/html": [
       "<div>\n",
       "<style scoped>\n",
       "    .dataframe tbody tr th:only-of-type {\n",
       "        vertical-align: middle;\n",
       "    }\n",
       "\n",
       "    .dataframe tbody tr th {\n",
       "        vertical-align: top;\n",
       "    }\n",
       "\n",
       "    .dataframe thead th {\n",
       "        text-align: right;\n",
       "    }\n",
       "</style>\n",
       "<table border=\"1\" class=\"dataframe\">\n",
       "  <thead>\n",
       "    <tr style=\"text-align: right;\">\n",
       "      <th></th>\n",
       "      <th>India</th>\n",
       "      <th>UK</th>\n",
       "      <th>shrilanka</th>\n",
       "      <th>USA</th>\n",
       "    </tr>\n",
       "  </thead>\n",
       "  <tbody>\n",
       "    <tr>\n",
       "      <th>a</th>\n",
       "      <td>0.0</td>\n",
       "      <td>NaN</td>\n",
       "      <td>2.0</td>\n",
       "      <td>3.0</td>\n",
       "    </tr>\n",
       "    <tr>\n",
       "      <th>b</th>\n",
       "      <td>NaN</td>\n",
       "      <td>NaN</td>\n",
       "      <td>NaN</td>\n",
       "      <td>NaN</td>\n",
       "    </tr>\n",
       "    <tr>\n",
       "      <th>c</th>\n",
       "      <td>4.0</td>\n",
       "      <td>NaN</td>\n",
       "      <td>6.0</td>\n",
       "      <td>7.0</td>\n",
       "    </tr>\n",
       "    <tr>\n",
       "      <th>d</th>\n",
       "      <td>8.0</td>\n",
       "      <td>NaN</td>\n",
       "      <td>10.0</td>\n",
       "      <td>11.0</td>\n",
       "    </tr>\n",
       "    <tr>\n",
       "      <th>e</th>\n",
       "      <td>12.0</td>\n",
       "      <td>NaN</td>\n",
       "      <td>14.0</td>\n",
       "      <td>15.0</td>\n",
       "    </tr>\n",
       "  </tbody>\n",
       "</table>\n",
       "</div>"
      ],
      "text/plain": [
       "   India  UK  shrilanka   USA\n",
       "a    0.0 NaN        2.0   3.0\n",
       "b    NaN NaN        NaN   NaN\n",
       "c    4.0 NaN        6.0   7.0\n",
       "d    8.0 NaN       10.0  11.0\n",
       "e   12.0 NaN       14.0  15.0"
      ]
     },
     "execution_count": 115,
     "metadata": {},
     "output_type": "execute_result"
    }
   ],
   "source": [
    "df1=df.reindex(index=[\"a\",\"b\",\"c\",\"d\",\"e\"],columns=[\"India\",\"UK\",\"shrilanka\",\"USA\"])\n",
    "df1"
   ]
  },
  {
   "cell_type": "code",
   "execution_count": 118,
   "id": "b65b986e",
   "metadata": {},
   "outputs": [
    {
     "data": {
      "text/html": [
       "<div>\n",
       "<style scoped>\n",
       "    .dataframe tbody tr th:only-of-type {\n",
       "        vertical-align: middle;\n",
       "    }\n",
       "\n",
       "    .dataframe tbody tr th {\n",
       "        vertical-align: top;\n",
       "    }\n",
       "\n",
       "    .dataframe thead th {\n",
       "        text-align: right;\n",
       "    }\n",
       "</style>\n",
       "<table border=\"1\" class=\"dataframe\">\n",
       "  <thead>\n",
       "    <tr style=\"text-align: right;\">\n",
       "      <th></th>\n",
       "      <th>India</th>\n",
       "      <th>pakisthan</th>\n",
       "      <th>shrilanka</th>\n",
       "      <th>USA</th>\n",
       "    </tr>\n",
       "  </thead>\n",
       "  <tbody>\n",
       "    <tr>\n",
       "      <th>a</th>\n",
       "      <td>0</td>\n",
       "      <td>1</td>\n",
       "      <td>2</td>\n",
       "      <td>3</td>\n",
       "    </tr>\n",
       "    <tr>\n",
       "      <th>c</th>\n",
       "      <td>4</td>\n",
       "      <td>5</td>\n",
       "      <td>6</td>\n",
       "      <td>7</td>\n",
       "    </tr>\n",
       "    <tr>\n",
       "      <th>d</th>\n",
       "      <td>8</td>\n",
       "      <td>9</td>\n",
       "      <td>10</td>\n",
       "      <td>11</td>\n",
       "    </tr>\n",
       "    <tr>\n",
       "      <th>e</th>\n",
       "      <td>12</td>\n",
       "      <td>13</td>\n",
       "      <td>14</td>\n",
       "      <td>15</td>\n",
       "    </tr>\n",
       "  </tbody>\n",
       "</table>\n",
       "</div>"
      ],
      "text/plain": [
       "   India  pakisthan  shrilanka  USA\n",
       "a      0          1          2    3\n",
       "c      4          5          6    7\n",
       "d      8          9         10   11\n",
       "e     12         13         14   15"
      ]
     },
     "execution_count": 118,
     "metadata": {},
     "output_type": "execute_result"
    }
   ],
   "source": [
    "df2=df.loc[[\"a\",\"c\",\"d\",\"e\"]]\n",
    "df2"
   ]
  },
  {
   "cell_type": "markdown",
   "id": "4a4d73fd",
   "metadata": {},
   "source": [
    "### droping the entries"
   ]
  },
  {
   "cell_type": "code",
   "execution_count": 121,
   "id": "14fc99e8",
   "metadata": {},
   "outputs": [
    {
     "data": {
      "text/plain": [
       "a    0\n",
       "b    1\n",
       "c    2\n",
       "d    3\n",
       "dtype: int32"
      ]
     },
     "execution_count": 121,
     "metadata": {},
     "output_type": "execute_result"
    }
   ],
   "source": [
    "s1=pd.Series(np.arange(4),index=[\"a\",\"b\",\"c\",\"d\"])\n",
    "s1"
   ]
  },
  {
   "cell_type": "code",
   "execution_count": 125,
   "id": "7f094690",
   "metadata": {},
   "outputs": [
    {
     "data": {
      "text/plain": [
       "a    0\n",
       "b    1\n",
       "d    3\n",
       "dtype: int32"
      ]
     },
     "execution_count": 125,
     "metadata": {},
     "output_type": "execute_result"
    }
   ],
   "source": [
    "s2=s1.drop(\"c\")\n",
    "s2"
   ]
  },
  {
   "cell_type": "code",
   "execution_count": 127,
   "id": "bc3f9599",
   "metadata": {},
   "outputs": [
    {
     "data": {
      "text/plain": [
       "a    0\n",
       "b    1\n",
       "dtype: int32"
      ]
     },
     "execution_count": 127,
     "metadata": {},
     "output_type": "execute_result"
    }
   ],
   "source": [
    "s3=s1.drop([\"c\",\"d\"])\n",
    "s3"
   ]
  },
  {
   "cell_type": "code",
   "execution_count": 128,
   "id": "432c2030",
   "metadata": {},
   "outputs": [
    {
     "data": {
      "text/html": [
       "<div>\n",
       "<style scoped>\n",
       "    .dataframe tbody tr th:only-of-type {\n",
       "        vertical-align: middle;\n",
       "    }\n",
       "\n",
       "    .dataframe tbody tr th {\n",
       "        vertical-align: top;\n",
       "    }\n",
       "\n",
       "    .dataframe thead th {\n",
       "        text-align: right;\n",
       "    }\n",
       "</style>\n",
       "<table border=\"1\" class=\"dataframe\">\n",
       "  <thead>\n",
       "    <tr style=\"text-align: right;\">\n",
       "      <th></th>\n",
       "      <th>India</th>\n",
       "      <th>UK</th>\n",
       "      <th>shrilanka</th>\n",
       "      <th>USA</th>\n",
       "    </tr>\n",
       "  </thead>\n",
       "  <tbody>\n",
       "    <tr>\n",
       "      <th>a</th>\n",
       "      <td>0</td>\n",
       "      <td>1</td>\n",
       "      <td>2</td>\n",
       "      <td>3</td>\n",
       "    </tr>\n",
       "    <tr>\n",
       "      <th>b</th>\n",
       "      <td>4</td>\n",
       "      <td>5</td>\n",
       "      <td>6</td>\n",
       "      <td>7</td>\n",
       "    </tr>\n",
       "    <tr>\n",
       "      <th>c</th>\n",
       "      <td>8</td>\n",
       "      <td>9</td>\n",
       "      <td>10</td>\n",
       "      <td>11</td>\n",
       "    </tr>\n",
       "    <tr>\n",
       "      <th>d</th>\n",
       "      <td>12</td>\n",
       "      <td>13</td>\n",
       "      <td>14</td>\n",
       "      <td>15</td>\n",
       "    </tr>\n",
       "  </tbody>\n",
       "</table>\n",
       "</div>"
      ],
      "text/plain": [
       "   India  UK  shrilanka  USA\n",
       "a      0   1          2    3\n",
       "b      4   5          6    7\n",
       "c      8   9         10   11\n",
       "d     12  13         14   15"
      ]
     },
     "execution_count": 128,
     "metadata": {},
     "output_type": "execute_result"
    }
   ],
   "source": [
    "df=pd.DataFrame(np.arange(16).reshape(4,4),index=[\"a\",\"b\",\"c\",\"d\"], columns=[\"India\",\"UK\",\"shrilanka\",\"USA\"])\n",
    "df"
   ]
  },
  {
   "cell_type": "code",
   "execution_count": 135,
   "id": "9e0acda2",
   "metadata": {},
   "outputs": [
    {
     "data": {
      "text/html": [
       "<div>\n",
       "<style scoped>\n",
       "    .dataframe tbody tr th:only-of-type {\n",
       "        vertical-align: middle;\n",
       "    }\n",
       "\n",
       "    .dataframe tbody tr th {\n",
       "        vertical-align: top;\n",
       "    }\n",
       "\n",
       "    .dataframe thead th {\n",
       "        text-align: right;\n",
       "    }\n",
       "</style>\n",
       "<table border=\"1\" class=\"dataframe\">\n",
       "  <thead>\n",
       "    <tr style=\"text-align: right;\">\n",
       "      <th></th>\n",
       "      <th>India</th>\n",
       "      <th>UK</th>\n",
       "      <th>USA</th>\n",
       "    </tr>\n",
       "  </thead>\n",
       "  <tbody>\n",
       "    <tr>\n",
       "      <th>a</th>\n",
       "      <td>0</td>\n",
       "      <td>1</td>\n",
       "      <td>3</td>\n",
       "    </tr>\n",
       "    <tr>\n",
       "      <th>b</th>\n",
       "      <td>4</td>\n",
       "      <td>5</td>\n",
       "      <td>7</td>\n",
       "    </tr>\n",
       "    <tr>\n",
       "      <th>c</th>\n",
       "      <td>8</td>\n",
       "      <td>9</td>\n",
       "      <td>11</td>\n",
       "    </tr>\n",
       "    <tr>\n",
       "      <th>d</th>\n",
       "      <td>12</td>\n",
       "      <td>13</td>\n",
       "      <td>15</td>\n",
       "    </tr>\n",
       "  </tbody>\n",
       "</table>\n",
       "</div>"
      ],
      "text/plain": [
       "   India  UK  USA\n",
       "a      0   1    3\n",
       "b      4   5    7\n",
       "c      8   9   11\n",
       "d     12  13   15"
      ]
     },
     "execution_count": 135,
     "metadata": {},
     "output_type": "execute_result"
    }
   ],
   "source": [
    "#droping the single column\n",
    "droped_df=df.drop(columns=[\"shrilanka\"])\n",
    "droped_df"
   ]
  },
  {
   "cell_type": "code",
   "execution_count": 137,
   "id": "6e7eb109",
   "metadata": {},
   "outputs": [
    {
     "data": {
      "text/html": [
       "<div>\n",
       "<style scoped>\n",
       "    .dataframe tbody tr th:only-of-type {\n",
       "        vertical-align: middle;\n",
       "    }\n",
       "\n",
       "    .dataframe tbody tr th {\n",
       "        vertical-align: top;\n",
       "    }\n",
       "\n",
       "    .dataframe thead th {\n",
       "        text-align: right;\n",
       "    }\n",
       "</style>\n",
       "<table border=\"1\" class=\"dataframe\">\n",
       "  <thead>\n",
       "    <tr style=\"text-align: right;\">\n",
       "      <th></th>\n",
       "      <th>India</th>\n",
       "      <th>shrilanka</th>\n",
       "    </tr>\n",
       "  </thead>\n",
       "  <tbody>\n",
       "    <tr>\n",
       "      <th>a</th>\n",
       "      <td>0</td>\n",
       "      <td>2</td>\n",
       "    </tr>\n",
       "    <tr>\n",
       "      <th>b</th>\n",
       "      <td>4</td>\n",
       "      <td>6</td>\n",
       "    </tr>\n",
       "    <tr>\n",
       "      <th>c</th>\n",
       "      <td>8</td>\n",
       "      <td>10</td>\n",
       "    </tr>\n",
       "    <tr>\n",
       "      <th>d</th>\n",
       "      <td>12</td>\n",
       "      <td>14</td>\n",
       "    </tr>\n",
       "  </tbody>\n",
       "</table>\n",
       "</div>"
      ],
      "text/plain": [
       "   India  shrilanka\n",
       "a      0          2\n",
       "b      4          6\n",
       "c      8         10\n",
       "d     12         14"
      ]
     },
     "execution_count": 137,
     "metadata": {},
     "output_type": "execute_result"
    }
   ],
   "source": [
    "# droping the multiple column\n",
    "drop_df=df.drop(columns=[\"USA\",\"UK\"])\n",
    "drop_df"
   ]
  },
  {
   "cell_type": "code",
   "execution_count": 139,
   "id": "0f1da407",
   "metadata": {},
   "outputs": [
    {
     "data": {
      "text/html": [
       "<div>\n",
       "<style scoped>\n",
       "    .dataframe tbody tr th:only-of-type {\n",
       "        vertical-align: middle;\n",
       "    }\n",
       "\n",
       "    .dataframe tbody tr th {\n",
       "        vertical-align: top;\n",
       "    }\n",
       "\n",
       "    .dataframe thead th {\n",
       "        text-align: right;\n",
       "    }\n",
       "</style>\n",
       "<table border=\"1\" class=\"dataframe\">\n",
       "  <thead>\n",
       "    <tr style=\"text-align: right;\">\n",
       "      <th></th>\n",
       "      <th>India</th>\n",
       "      <th>UK</th>\n",
       "      <th>shrilanka</th>\n",
       "      <th>USA</th>\n",
       "    </tr>\n",
       "  </thead>\n",
       "  <tbody>\n",
       "    <tr>\n",
       "      <th>b</th>\n",
       "      <td>4</td>\n",
       "      <td>5</td>\n",
       "      <td>6</td>\n",
       "      <td>7</td>\n",
       "    </tr>\n",
       "    <tr>\n",
       "      <th>d</th>\n",
       "      <td>12</td>\n",
       "      <td>13</td>\n",
       "      <td>14</td>\n",
       "      <td>15</td>\n",
       "    </tr>\n",
       "  </tbody>\n",
       "</table>\n",
       "</div>"
      ],
      "text/plain": [
       "   India  UK  shrilanka  USA\n",
       "b      4   5          6    7\n",
       "d     12  13         14   15"
      ]
     },
     "execution_count": 139,
     "metadata": {},
     "output_type": "execute_result"
    }
   ],
   "source": [
    "#drop the multiplr row\n",
    "drop_rows=df.drop(index=[\"a\",\"c\"])\n",
    "drop_rows"
   ]
  },
  {
   "cell_type": "code",
   "execution_count": 140,
   "id": "eda9811c",
   "metadata": {},
   "outputs": [
    {
     "data": {
      "text/html": [
       "<div>\n",
       "<style scoped>\n",
       "    .dataframe tbody tr th:only-of-type {\n",
       "        vertical-align: middle;\n",
       "    }\n",
       "\n",
       "    .dataframe tbody tr th {\n",
       "        vertical-align: top;\n",
       "    }\n",
       "\n",
       "    .dataframe thead th {\n",
       "        text-align: right;\n",
       "    }\n",
       "</style>\n",
       "<table border=\"1\" class=\"dataframe\">\n",
       "  <thead>\n",
       "    <tr style=\"text-align: right;\">\n",
       "      <th></th>\n",
       "      <th>India</th>\n",
       "      <th>UK</th>\n",
       "      <th>shrilanka</th>\n",
       "      <th>USA</th>\n",
       "    </tr>\n",
       "  </thead>\n",
       "  <tbody>\n",
       "    <tr>\n",
       "      <th>b</th>\n",
       "      <td>4</td>\n",
       "      <td>5</td>\n",
       "      <td>6</td>\n",
       "      <td>7</td>\n",
       "    </tr>\n",
       "    <tr>\n",
       "      <th>d</th>\n",
       "      <td>12</td>\n",
       "      <td>13</td>\n",
       "      <td>14</td>\n",
       "      <td>15</td>\n",
       "    </tr>\n",
       "  </tbody>\n",
       "</table>\n",
       "</div>"
      ],
      "text/plain": [
       "   India  UK  shrilanka  USA\n",
       "b      4   5          6    7\n",
       "d     12  13         14   15"
      ]
     },
     "execution_count": 140,
     "metadata": {},
     "output_type": "execute_result"
    }
   ],
   "source": [
    "# by using the axis\n",
    "drop_row=df.drop([\"c\",\"a\"],axis=0)\n",
    "drop_row"
   ]
  },
  {
   "cell_type": "code",
   "execution_count": 141,
   "id": "54578d28",
   "metadata": {},
   "outputs": [
    {
     "data": {
      "text/html": [
       "<div>\n",
       "<style scoped>\n",
       "    .dataframe tbody tr th:only-of-type {\n",
       "        vertical-align: middle;\n",
       "    }\n",
       "\n",
       "    .dataframe tbody tr th {\n",
       "        vertical-align: top;\n",
       "    }\n",
       "\n",
       "    .dataframe thead th {\n",
       "        text-align: right;\n",
       "    }\n",
       "</style>\n",
       "<table border=\"1\" class=\"dataframe\">\n",
       "  <thead>\n",
       "    <tr style=\"text-align: right;\">\n",
       "      <th></th>\n",
       "      <th>India</th>\n",
       "      <th>UK</th>\n",
       "      <th>shrilanka</th>\n",
       "    </tr>\n",
       "  </thead>\n",
       "  <tbody>\n",
       "    <tr>\n",
       "      <th>a</th>\n",
       "      <td>0</td>\n",
       "      <td>1</td>\n",
       "      <td>2</td>\n",
       "    </tr>\n",
       "    <tr>\n",
       "      <th>b</th>\n",
       "      <td>4</td>\n",
       "      <td>5</td>\n",
       "      <td>6</td>\n",
       "    </tr>\n",
       "    <tr>\n",
       "      <th>c</th>\n",
       "      <td>8</td>\n",
       "      <td>9</td>\n",
       "      <td>10</td>\n",
       "    </tr>\n",
       "    <tr>\n",
       "      <th>d</th>\n",
       "      <td>12</td>\n",
       "      <td>13</td>\n",
       "      <td>14</td>\n",
       "    </tr>\n",
       "  </tbody>\n",
       "</table>\n",
       "</div>"
      ],
      "text/plain": [
       "   India  UK  shrilanka\n",
       "a      0   1          2\n",
       "b      4   5          6\n",
       "c      8   9         10\n",
       "d     12  13         14"
      ]
     },
     "execution_count": 141,
     "metadata": {},
     "output_type": "execute_result"
    }
   ],
   "source": [
    "drop_col=df.drop([\"USA\"],axis=1)\n",
    "drop_col"
   ]
  },
  {
   "cell_type": "markdown",
   "id": "8566d01f",
   "metadata": {},
   "source": [
    "### indexing,selection and filtering"
   ]
  },
  {
   "cell_type": "code",
   "execution_count": null,
   "id": "3ab3dbc1",
   "metadata": {},
   "outputs": [],
   "source": []
  }
 ],
 "metadata": {
  "kernelspec": {
   "display_name": "Python 3 (ipykernel)",
   "language": "python",
   "name": "python3"
  },
  "language_info": {
   "codemirror_mode": {
    "name": "ipython",
    "version": 3
   },
   "file_extension": ".py",
   "mimetype": "text/x-python",
   "name": "python",
   "nbconvert_exporter": "python",
   "pygments_lexer": "ipython3",
   "version": "3.9.12"
  }
 },
 "nbformat": 4,
 "nbformat_minor": 5
}
