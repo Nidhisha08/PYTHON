{
 "cells": [
  {
   "cell_type": "markdown",
   "id": "5488cd7a",
   "metadata": {},
   "source": [
    "# logic"
   ]
  },
  {
   "cell_type": "code",
   "execution_count": 1,
   "id": "b4399a0d",
   "metadata": {},
   "outputs": [
    {
     "name": "stdout",
     "output_type": "stream",
     "text": [
      "120\n"
     ]
    }
   ],
   "source": [
    "a=5\n",
    "output=1\n",
    "for i in range(1,a+1):\n",
    "    output=output*i\n",
    "print(output)"
   ]
  },
  {
   "cell_type": "code",
   "execution_count": 6,
   "id": "2411978e",
   "metadata": {},
   "outputs": [
    {
     "name": "stdout",
     "output_type": "stream",
     "text": [
      "enter the string:gargrsg\n",
      "g\n",
      "r\n",
      "r\n",
      "g\n"
     ]
    }
   ],
   "source": [
    "#Print characters from a string that are present at an even index number\n",
    "strng=input(\"enter the string:\")\n",
    "for i in range(len(strng)):\n",
    "    if(i%2==0):\n",
    "        print(strng[i])"
   ]
  },
  {
   "cell_type": "code",
   "execution_count": 3,
   "id": "f7849786",
   "metadata": {},
   "outputs": [
    {
     "name": "stdout",
     "output_type": "stream",
     "text": [
      "true\n"
     ]
    }
   ],
   "source": [
    "l1=[12,34,45,56,12]\n",
    "if(l1[0]==l1[-1]):\n",
    "    print(\"true\")\n",
    "else:\n",
    "    print(\"false\")"
   ]
  },
  {
   "cell_type": "code",
   "execution_count": 4,
   "id": "b189819c",
   "metadata": {},
   "outputs": [],
   "source": [
    "# Return the count of a given substring from a string\n"
   ]
  },
  {
   "cell_type": "code",
   "execution_count": 5,
   "id": "84a20e92",
   "metadata": {},
   "outputs": [
    {
     "name": "stdout",
     "output_type": "stream",
     "text": [
      "\n",
      "\n",
      "1\n",
      "\n",
      "22\n",
      "\n",
      "333\n",
      "\n",
      "4444\n",
      "\n"
     ]
    }
   ],
   "source": [
    "# print the patterns\n",
    "for i in range(5):\n",
    "    for j in range(i):\n",
    "        print(i,end=\"\")\n",
    "    print(\"\\n\")   "
   ]
  },
  {
   "cell_type": "code",
   "execution_count": 6,
   "id": "4751d204",
   "metadata": {},
   "outputs": [
    {
     "name": "stdout",
     "output_type": "stream",
     "text": [
      "enter the number242\n",
      "palindrome\n"
     ]
    }
   ],
   "source": [
    "# palindrome\n",
    "def palindrome(n):\n",
    "    n1=n\n",
    "    rev=0\n",
    "    while(n>0):\n",
    "        rem=n%10\n",
    "        rev=(rev*10)+rem\n",
    "        n=n//10\n",
    "    if(rev==n1):\n",
    "        print(\"palindrome\")\n",
    "    else:\n",
    "        print(\"Not palindrome\")\n",
    "\n",
    "n=int(input(\"enter the number\"))\n",
    "palindrome(n)\n",
    "    "
   ]
  },
  {
   "cell_type": "code",
   "execution_count": 5,
   "id": "116e3ebf",
   "metadata": {},
   "outputs": [
    {
     "data": {
      "text/plain": [
       "242"
      ]
     },
     "execution_count": 5,
     "metadata": {},
     "output_type": "execute_result"
    }
   ],
   "source": [
    "242"
   ]
  },
  {
   "cell_type": "code",
   "execution_count": null,
   "id": "bcfd2d99",
   "metadata": {},
   "outputs": [],
   "source": [
    "432%10"
   ]
  },
  {
   "cell_type": "code",
   "execution_count": 14,
   "id": "edffe7a3",
   "metadata": {},
   "outputs": [
    {
     "name": "stdout",
     "output_type": "stream",
     "text": [
      "enter the number213\n",
      "3120\n",
      "not palindrome\n"
     ]
    }
   ],
   "source": [
    "def palindrome(n):\n",
    "    n1=n\n",
    "    rem=0\n",
    "    rev=0\n",
    "    while n>0:\n",
    "        rem=n%10\n",
    "        #rev=(rev*10)+rem\n",
    "        print(rem,end=\"\")\n",
    "        n=n//10\n",
    "    print(rev)\n",
    "    if(rev==n1):\n",
    "        print(\"palindrome\")\n",
    "    else:\n",
    "        print(\"not palindrome\")\n",
    "n=int(input(\"enter the number\"))\n",
    "palindrome(n)"
   ]
  },
  {
   "cell_type": "code",
   "execution_count": 9,
   "id": "cd653b66",
   "metadata": {},
   "outputs": [
    {
     "name": "stdout",
     "output_type": "stream",
     "text": [
      "not prime\n"
     ]
    }
   ],
   "source": [
    "# prime\n",
    "\n",
    "def prime(n):\n",
    "    for i in range(2,n-1):\n",
    "        if(n%i==0):\n",
    "            print(\"not prime\")\n",
    "            break\n",
    "    else:\n",
    "        print(\"prime\")\n",
    "prime(9)         "
   ]
  },
  {
   "cell_type": "markdown",
   "id": "0ab87158",
   "metadata": {},
   "source": [
    "# list"
   ]
  },
  {
   "cell_type": "code",
   "execution_count": 6,
   "id": "113bfbef",
   "metadata": {},
   "outputs": [
    {
     "data": {
      "text/plain": [
       "1234"
      ]
     },
     "execution_count": 6,
     "metadata": {},
     "output_type": "execute_result"
    }
   ],
   "source": [
    "a=[1,2,3,4]\n",
    "b=[str(i)for i in a]\n",
    "res=int(\"\".join(b))\n",
    "res"
   ]
  },
  {
   "cell_type": "code",
   "execution_count": 8,
   "id": "9a0ed706",
   "metadata": {},
   "outputs": [
    {
     "name": "stdout",
     "output_type": "stream",
     "text": [
      "1 2 3 4 "
     ]
    }
   ],
   "source": [
    "a=[1,2,3,4]\n",
    "for i in a:\n",
    "    print(i,end=\" \")"
   ]
  },
  {
   "cell_type": "code",
   "execution_count": 13,
   "id": "ab6ec6e3",
   "metadata": {},
   "outputs": [
    {
     "data": {
      "text/plain": [
       "1234"
      ]
     },
     "execution_count": 13,
     "metadata": {},
     "output_type": "execute_result"
    }
   ],
   "source": [
    "a=[1,2,3,4]\n",
    "res=int(\"\".join(map(str,a)))\n",
    "res"
   ]
  },
  {
   "cell_type": "code",
   "execution_count": 14,
   "id": "3e478fe2",
   "metadata": {},
   "outputs": [
    {
     "data": {
      "text/plain": [
       "'1234'"
      ]
     },
     "execution_count": 14,
     "metadata": {},
     "output_type": "execute_result"
    }
   ],
   "source": [
    "a1=\"\".join(map(str,a))\n",
    "a1"
   ]
  },
  {
   "cell_type": "code",
   "execution_count": 2,
   "id": "b9e09516",
   "metadata": {},
   "outputs": [
    {
     "name": "stdout",
     "output_type": "stream",
     "text": [
      "enter the number23 34 56\n"
     ]
    }
   ],
   "source": [
    "a=input(\"enter the number\")\n",
    "b=list(map(int,a.split(\" \")))   # used for string split() function"
   ]
  },
  {
   "cell_type": "code",
   "execution_count": 3,
   "id": "0ab6aa94",
   "metadata": {},
   "outputs": [
    {
     "name": "stdout",
     "output_type": "stream",
     "text": [
      "[23, 34, 56]\n"
     ]
    }
   ],
   "source": [
    "print(b)"
   ]
  },
  {
   "cell_type": "code",
   "execution_count": 4,
   "id": "51f11e33",
   "metadata": {},
   "outputs": [
    {
     "data": {
      "text/plain": [
       "[23, 34, 56]"
      ]
     },
     "execution_count": 4,
     "metadata": {},
     "output_type": "execute_result"
    }
   ],
   "source": [
    "list(map(int,a.split(\" \")))"
   ]
  },
  {
   "cell_type": "code",
   "execution_count": 4,
   "id": "5ce85f3b",
   "metadata": {},
   "outputs": [],
   "source": [
    "a=[1,2,3]\n",
    "b=[2,3,4]\n",
    "c=[3,7,8]"
   ]
  },
  {
   "cell_type": "code",
   "execution_count": 6,
   "id": "b064a879",
   "metadata": {},
   "outputs": [
    {
     "name": "stdout",
     "output_type": "stream",
     "text": [
      "1\n",
      "2\n",
      "3\n",
      "2\n",
      "3\n",
      "4\n",
      "3\n",
      "7\n",
      "8\n"
     ]
    }
   ],
   "source": [
    "for i in a,b,c:\n",
    "    for j in i:\n",
    "        print(j)"
   ]
  },
  {
   "cell_type": "code",
   "execution_count": 5,
   "id": "dcbed3b5",
   "metadata": {
    "scrolled": true
   },
   "outputs": [
    {
     "name": "stdout",
     "output_type": "stream",
     "text": [
      "[1, 2, 3]\n",
      "1\n",
      "2\n",
      "3\n",
      "[2, 3, 4]\n",
      "2\n",
      "3\n",
      "4\n",
      "[3, 7, 8]\n",
      "3\n",
      "7\n",
      "8\n"
     ]
    }
   ],
   "source": [
    "for i in (a,b,c):\n",
    "    print(i)\n",
    "    for j in i:\n",
    "        print(j)"
   ]
  },
  {
   "cell_type": "code",
   "execution_count": 12,
   "id": "dd91ca24",
   "metadata": {},
   "outputs": [
    {
     "name": "stdout",
     "output_type": "stream",
     "text": [
      "1\n",
      "2\n",
      "3\n",
      "4\n"
     ]
    }
   ],
   "source": [
    "for i in range(1,5):\n",
    "    print(i)"
   ]
  },
  {
   "cell_type": "code",
   "execution_count": 29,
   "id": "141be587",
   "metadata": {},
   "outputs": [
    {
     "name": "stdout",
     "output_type": "stream",
     "text": [
      "2\n",
      "5\n",
      "4\n"
     ]
    }
   ],
   "source": [
    "for i in (2,5,4):\n",
    "    print(i)"
   ]
  },
  {
   "cell_type": "code",
   "execution_count": 14,
   "id": "dffb8a9f",
   "metadata": {},
   "outputs": [
    {
     "name": "stdout",
     "output_type": "stream",
     "text": [
      "23\n",
      "45\n",
      "67\n"
     ]
    }
   ],
   "source": [
    "for i in([23,45,67]):\n",
    "    print(i)"
   ]
  },
  {
   "cell_type": "code",
   "execution_count": 11,
   "id": "852e9fa0",
   "metadata": {},
   "outputs": [
    {
     "name": "stdout",
     "output_type": "stream",
     "text": [
      "[12, 56, 67]\n"
     ]
    }
   ],
   "source": [
    "l1=[12,33,56]\n",
    "l2=[67,32,12]\n",
    "def add(l1,l2):\n",
    "    l3=[]\n",
    "    for i in l1:\n",
    "        if(i%2==0):\n",
    "            l3.append(i)\n",
    "    for j in l2:\n",
    "        if(j%2!=0):\n",
    "            l3.append(j)\n",
    "    return l3\n",
    "print(add(l1,l2))\n"
   ]
  },
  {
   "cell_type": "code",
   "execution_count": 15,
   "id": "9d5d9b7e",
   "metadata": {},
   "outputs": [
    {
     "data": {
      "text/plain": [
       "[23, 45, 12, 98, 56]"
      ]
     },
     "execution_count": 15,
     "metadata": {},
     "output_type": "execute_result"
    }
   ],
   "source": [
    "#Given two list of numbers, write a program to create a new list such that the new list should  \n",
    "#contain odd numbers from the first list and even numbers from the second list.\n",
    "\n",
    "def last_first(l1,l2):\n",
    "    l3=[]\n",
    "    for i in l1:\n",
    "        if(i%2!=0):\n",
    "            l3.append(i)\n",
    "    for j in l2:\n",
    "        if(j%2==0):\n",
    "            l3.append(j)\n",
    "    return l3\n",
    "l1=[23,45,12,34]\n",
    "l2=[23,12,98,56,45]\n",
    "last_first(l1,l2)\n"
   ]
  },
  {
   "cell_type": "code",
   "execution_count": 1,
   "id": "e58d606b",
   "metadata": {},
   "outputs": [
    {
     "name": "stdout",
     "output_type": "stream",
     "text": [
      "enter the number253\n",
      "352\n"
     ]
    }
   ],
   "source": [
    "# Write a Program to extract each digit from an integer in the reverse order.\n",
    "\n",
    "def reverse(n):\n",
    "    rev=0\n",
    "    while n>0:\n",
    "        rem=n%10\n",
    "        rev=(rev*10)+rem\n",
    "        n=n//10\n",
    "    print(rev)\n",
    "n=int(input(\"enter the number\"))\n",
    "reverse(n)"
   ]
  },
  {
   "cell_type": "code",
   "execution_count": 31,
   "id": "dbee1f5d",
   "metadata": {},
   "outputs": [],
   "source": [
    "a=[1,2,3]"
   ]
  },
  {
   "cell_type": "code",
   "execution_count": 35,
   "id": "9baed9ab",
   "metadata": {},
   "outputs": [
    {
     "data": {
      "text/plain": [
       "[2, 4, 6]"
      ]
     },
     "execution_count": 35,
     "metadata": {},
     "output_type": "execute_result"
    }
   ],
   "source": [
    "b=[]\n",
    "for i in a:\n",
    "    b.append(i*2)\n",
    "b"
   ]
  },
  {
   "cell_type": "code",
   "execution_count": 17,
   "id": "61e7ad43",
   "metadata": {},
   "outputs": [
    {
     "name": "stdout",
     "output_type": "stream",
     "text": [
      "[4, 9, 16]\n"
     ]
    }
   ],
   "source": [
    "l1=list((2,3,4))\n",
    "l2=[]\n",
    "for i in range(0,len(l1)):\n",
    "    l2.append(l1[i]*l1[i])\n",
    "print(l2)"
   ]
  },
  {
   "cell_type": "code",
   "execution_count": 18,
   "id": "38d4d6bd",
   "metadata": {},
   "outputs": [
    {
     "name": "stdout",
     "output_type": "stream",
     "text": [
      "[1, 4, 9]\n"
     ]
    }
   ],
   "source": [
    "l1=[1,2,3]\n",
    "l2=[]\n",
    "for i in l1:\n",
    "    l2.append(i*i)\n",
    "print(l2)"
   ]
  },
  {
   "cell_type": "code",
   "execution_count": 21,
   "id": "08016d6b",
   "metadata": {},
   "outputs": [
    {
     "name": "stdout",
     "output_type": "stream",
     "text": [
      "[1, 4, 12]\n"
     ]
    }
   ],
   "source": [
    "l1=[1,2,3]\n",
    "l2=[1,2,4]\n",
    "l3=[]\n",
    "for i,j in zip(l1,l2):\n",
    "    l3.append(i*j)\n",
    "print(l3)"
   ]
  },
  {
   "cell_type": "code",
   "execution_count": 14,
   "id": "6f5e2cfc",
   "metadata": {},
   "outputs": [
    {
     "data": {
      "text/plain": [
       "36"
      ]
     },
     "execution_count": 14,
     "metadata": {},
     "output_type": "execute_result"
    }
   ],
   "source": [
    "def matrix_multiplication(l1,l2):\n",
    "    a=0\n",
    "    for i in l2:\n",
    "        for j in l1:\n",
    "            a=a+(i*j)\n",
    "    return a\n",
    "l1=[1,2,3]\n",
    "l2=[2,2,2]\n",
    "matrix_multiplication(l1,l2)"
   ]
  },
  {
   "cell_type": "code",
   "execution_count": 19,
   "id": "e85a3a76",
   "metadata": {},
   "outputs": [],
   "source": [
    "a=[1,2,3]\n",
    "b=a"
   ]
  },
  {
   "cell_type": "code",
   "execution_count": 20,
   "id": "5ecf0063",
   "metadata": {},
   "outputs": [],
   "source": [
    "b[1]=3"
   ]
  },
  {
   "cell_type": "code",
   "execution_count": 21,
   "id": "17f7a39e",
   "metadata": {},
   "outputs": [
    {
     "data": {
      "text/plain": [
       "[1, 3, 3]"
      ]
     },
     "execution_count": 21,
     "metadata": {},
     "output_type": "execute_result"
    }
   ],
   "source": [
    "a"
   ]
  },
  {
   "cell_type": "code",
   "execution_count": 22,
   "id": "1fb49dc9",
   "metadata": {},
   "outputs": [
    {
     "data": {
      "text/plain": [
       "[3, 3, 1]"
      ]
     },
     "execution_count": 22,
     "metadata": {},
     "output_type": "execute_result"
    }
   ],
   "source": [
    "a[::-1]"
   ]
  },
  {
   "cell_type": "code",
   "execution_count": 23,
   "id": "0f6ea30b",
   "metadata": {},
   "outputs": [],
   "source": [
    "a=[\"nivesh\",\"nikhesh\",\"nidhisha\"]\n",
    "b=[\"Jain\",\"Kumar\",\"jain\"]\n",
    "x=zip(a,b)"
   ]
  },
  {
   "cell_type": "code",
   "execution_count": 24,
   "id": "74d54983",
   "metadata": {},
   "outputs": [
    {
     "name": "stdout",
     "output_type": "stream",
     "text": [
      "[('nivesh', 'Jain'), ('nikhesh', 'Kumar'), ('nidhisha', 'jain')]\n"
     ]
    }
   ],
   "source": [
    "print(list(x))"
   ]
  },
  {
   "cell_type": "code",
   "execution_count": 25,
   "id": "228052fb",
   "metadata": {},
   "outputs": [],
   "source": [
    "# zip() function -which is an iterator of tuples where the first item in each passed iterator is paired together, \n",
    "# and then the second item in each passed iterator are paired together etc."
   ]
  },
  {
   "cell_type": "code",
   "execution_count": 26,
   "id": "f8ef1f79",
   "metadata": {},
   "outputs": [
    {
     "name": "stdout",
     "output_type": "stream",
     "text": [
      "['niveshJain', 'nikheshKumar', 'nidhishajain']\n"
     ]
    }
   ],
   "source": [
    "l1=[i+j for i,j in zip(a,b)]\n",
    "print(l1)"
   ]
  },
  {
   "cell_type": "code",
   "execution_count": 27,
   "id": "6dcc12c6",
   "metadata": {},
   "outputs": [
    {
     "name": "stdout",
     "output_type": "stream",
     "text": [
      "[4, 16, 36, 64]\n"
     ]
    }
   ],
   "source": [
    "# square the list\n",
    "l1=[1,2,3,4,5,6,7,8]\n",
    "square=[i*i for i in l1 if i%2==0]\n",
    "print(square)"
   ]
  },
  {
   "cell_type": "code",
   "execution_count": 28,
   "id": "c096ff7d",
   "metadata": {},
   "outputs": [
    {
     "name": "stdout",
     "output_type": "stream",
     "text": [
      "gtfg\n",
      "gtrgr\n",
      "fvedfg\n",
      "fvedrgr\n"
     ]
    }
   ],
   "source": [
    "a=[\"gt\",\"fved\"]\n",
    "b=[\"fg\",\"rgr\"]\n",
    "for i in a:\n",
    "    for j in b:\n",
    "        print(i+j)\n"
   ]
  },
  {
   "cell_type": "code",
   "execution_count": 29,
   "id": "b53824b0",
   "metadata": {},
   "outputs": [
    {
     "name": "stdout",
     "output_type": "stream",
     "text": [
      "10 100\n",
      "20 200\n",
      "30 300\n",
      "40 400\n"
     ]
    }
   ],
   "source": [
    "#Iterate both lists simultaneously\n",
    "list1 = [10, 20, 30, 40]\n",
    "list2 = [100, 200, 300, 400]\n",
    "for i,j in (zip(list1,list2)):\n",
    "    print(i,j)"
   ]
  },
  {
   "cell_type": "code",
   "execution_count": 30,
   "id": "ef648b4f",
   "metadata": {},
   "outputs": [
    {
     "name": "stdout",
     "output_type": "stream",
     "text": [
      "10 400\n",
      "20 300\n",
      "30 200\n",
      "40 100\n"
     ]
    }
   ],
   "source": [
    "list1 = [10, 20, 30, 40]\n",
    "list2 = [100, 200, 300, 400]\n",
    "for i,j in (zip(list1,list2[::-1])):\n",
    "    print(i,j)\n",
    "    "
   ]
  },
  {
   "cell_type": "code",
   "execution_count": 31,
   "id": "23ad43d4",
   "metadata": {},
   "outputs": [],
   "source": [
    "#Remove empty strings from the list of strings\n",
    "l1=[\"ddgd\",\"\",\"vsz\",\"fgdf\",\"\"]\n",
    "#l1.remove(\"\")"
   ]
  },
  {
   "cell_type": "code",
   "execution_count": 32,
   "id": "af62cf4b",
   "metadata": {},
   "outputs": [],
   "source": [
    "# filter function - it is a iterate function. it check the function if it is true then it returns or else not."
   ]
  },
  {
   "cell_type": "code",
   "execution_count": 33,
   "id": "b843667c",
   "metadata": {},
   "outputs": [
    {
     "name": "stdout",
     "output_type": "stream",
     "text": [
      "['ddgd', 'vsz', 'fgdf']\n"
     ]
    }
   ],
   "source": [
    "l2=list(filter(None,l1))\n",
    "print(l2)"
   ]
  },
  {
   "cell_type": "code",
   "execution_count": 34,
   "id": "5c300ef0",
   "metadata": {},
   "outputs": [],
   "source": [
    "def agefn(age):\n",
    "    if(age>18 and age<60):\n",
    "        return True\n",
    "    else:\n",
    "        return False     "
   ]
  },
  {
   "cell_type": "code",
   "execution_count": 35,
   "id": "81d8bd36",
   "metadata": {},
   "outputs": [
    {
     "name": "stdout",
     "output_type": "stream",
     "text": [
      "[34, 56]\n"
     ]
    }
   ],
   "source": [
    "age=[12,34,16,78,12,56]\n",
    "age2=list(filter(agefn,age))\n",
    "print(age2)"
   ]
  },
  {
   "cell_type": "code",
   "execution_count": 36,
   "id": "41929822",
   "metadata": {},
   "outputs": [],
   "source": [
    "list1=[10,20,[40,60,[100,400,600],70,80],30]"
   ]
  },
  {
   "cell_type": "code",
   "execution_count": 37,
   "id": "873ec484",
   "metadata": {},
   "outputs": [],
   "source": [
    "list1[2][2].append(700)"
   ]
  },
  {
   "cell_type": "code",
   "execution_count": 38,
   "id": "205fbac7",
   "metadata": {},
   "outputs": [
    {
     "data": {
      "text/plain": [
       "[10, 20, [40, 60, [100, 400, 600, 700], 70, 80], 30]"
      ]
     },
     "execution_count": 38,
     "metadata": {},
     "output_type": "execute_result"
    }
   ],
   "source": [
    "list1"
   ]
  },
  {
   "cell_type": "code",
   "execution_count": 19,
   "id": "ebde392c",
   "metadata": {},
   "outputs": [],
   "source": [
    "list1 = [\"a\", \"b\", [\"c\", [\"d\", \"e\", [\"f\", \"g\"], \"k\"], \"l\"], \"m\", \"n\"]\n",
    "\n",
    "# sub list to add\n",
    "sub_list = [\"h\", \"i\", \"j\"]"
   ]
  },
  {
   "cell_type": "code",
   "execution_count": 20,
   "id": "148c0f9e",
   "metadata": {},
   "outputs": [],
   "source": [
    "#list1[2][1][2].append(sub_list)\n",
    "list1[2][1][2].extend(sub_list)"
   ]
  },
  {
   "cell_type": "code",
   "execution_count": 21,
   "id": "05bd3ba3",
   "metadata": {},
   "outputs": [
    {
     "data": {
      "text/plain": [
       "['a', 'b', ['c', ['d', 'e', ['f', 'g', 'h', 'i', 'j'], 'k'], 'l'], 'm', 'n']"
      ]
     },
     "execution_count": 21,
     "metadata": {},
     "output_type": "execute_result"
    }
   ],
   "source": [
    "list1"
   ]
  },
  {
   "cell_type": "code",
   "execution_count": 45,
   "id": "ee5f8551",
   "metadata": {},
   "outputs": [
    {
     "data": {
      "text/plain": [
       "[12, 200, 34, 200, 200]"
      ]
     },
     "execution_count": 45,
     "metadata": {},
     "output_type": "execute_result"
    }
   ],
   "source": [
    "l1=[12,20,34,20,20]\n",
    "for i in range(0,len(l1)):\n",
    "    if(l1[i]==20):\n",
    "        l1[i]=200\n",
    "l1"
   ]
  },
  {
   "cell_type": "code",
   "execution_count": 42,
   "id": "e06976c2",
   "metadata": {},
   "outputs": [],
   "source": [
    "#Replace list’s item with new value if found"
   ]
  },
  {
   "cell_type": "code",
   "execution_count": 43,
   "id": "a3ce4762",
   "metadata": {},
   "outputs": [
    {
     "name": "stdout",
     "output_type": "stream",
     "text": [
      "[13, 200, 45, 34, 200, 56]\n"
     ]
    }
   ],
   "source": [
    "l1=[13,20,45,34,20,56]\n",
    "l2=[]\n",
    "for i in range(len(l1)):\n",
    "    if(l1[i]==20):\n",
    "        l2.append(200)\n",
    "    else:\n",
    "        l2.append(l1[i])\n",
    "print(l2)"
   ]
  },
  {
   "cell_type": "code",
   "execution_count": 44,
   "id": "6359a402",
   "metadata": {},
   "outputs": [
    {
     "name": "stdout",
     "output_type": "stream",
     "text": [
      "[13, 200, 45, 34, 20, 56]\n"
     ]
    }
   ],
   "source": [
    "l1=[13,20,45,34,20,56]\n",
    "index=l1.index(20)\n",
    "l1[index]=200\n",
    "print(l1)"
   ]
  },
  {
   "cell_type": "code",
   "execution_count": 45,
   "id": "f4d9b272",
   "metadata": {},
   "outputs": [],
   "source": [
    "list1 = [5, 20, 15, 20, 25, 50, 20]\n",
    "for i in list1:\n",
    "    if(i==20):\n",
    "        list1.remove(20)"
   ]
  },
  {
   "cell_type": "code",
   "execution_count": 46,
   "id": "2f0b687e",
   "metadata": {},
   "outputs": [
    {
     "data": {
      "text/plain": [
       "[5, 15, 25, 50]"
      ]
     },
     "execution_count": 46,
     "metadata": {},
     "output_type": "execute_result"
    }
   ],
   "source": [
    "list1"
   ]
  },
  {
   "cell_type": "code",
   "execution_count": 47,
   "id": "05b751d6",
   "metadata": {},
   "outputs": [],
   "source": [
    "list1 = [5, 20, 15, 20, 25, 50, 20]\n",
    "while 20 in list1:\n",
    "    list1.remove(20)"
   ]
  },
  {
   "cell_type": "code",
   "execution_count": 48,
   "id": "eaa21c95",
   "metadata": {},
   "outputs": [
    {
     "data": {
      "text/plain": [
       "65"
      ]
     },
     "execution_count": 48,
     "metadata": {},
     "output_type": "execute_result"
    }
   ],
   "source": [
    "# largest number in a given list\n",
    "def large(l1):\n",
    "    large=0\n",
    "    for i in l1:\n",
    "        if(i>large):\n",
    "            large=i\n",
    "    return large\n",
    "l1=[23,45,12,32,65,22]\n",
    "large(l1)       "
   ]
  },
  {
   "cell_type": "code",
   "execution_count": 49,
   "id": "0af221e7",
   "metadata": {},
   "outputs": [
    {
     "data": {
      "text/plain": [
       "65"
      ]
     },
     "execution_count": 49,
     "metadata": {},
     "output_type": "execute_result"
    }
   ],
   "source": [
    "def large(l1):\n",
    "    large=0\n",
    "    i=0\n",
    "    while i < len(l1):\n",
    "        if(l1[i]>large):\n",
    "            large=l1[i]\n",
    "        i+=1\n",
    "    return large\n",
    "l1=[23,45,12,32,65,22]\n",
    "large(l1)"
   ]
  },
  {
   "cell_type": "code",
   "execution_count": 50,
   "id": "98d9d86e",
   "metadata": {},
   "outputs": [
    {
     "data": {
      "text/plain": [
       "[32, 12, 34, 45, 89, 12]"
      ]
     },
     "execution_count": 50,
     "metadata": {},
     "output_type": "execute_result"
    }
   ],
   "source": [
    "def rotate(l1):\n",
    "    b=l1[0]\n",
    "    for i in range(len(l1)-1):\n",
    "        l1[i]=l1[i+1]\n",
    "    l1[-1]=b\n",
    "    return l1\n",
    "l1=[12,32,12,34,45,89]\n",
    "rotate(l1)"
   ]
  },
  {
   "cell_type": "code",
   "execution_count": null,
   "id": "c92b268e",
   "metadata": {},
   "outputs": [],
   "source": []
  },
  {
   "cell_type": "code",
   "execution_count": 30,
   "id": "4f7babcf",
   "metadata": {},
   "outputs": [
    {
     "data": {
      "text/plain": [
       "[34, 45, 67, 12, 12]"
      ]
     },
     "execution_count": 30,
     "metadata": {},
     "output_type": "execute_result"
    }
   ],
   "source": [
    "l1=[12,34,45,67,12]\n",
    "b=l1[0]\n",
    "for i in range(len(l1)-1):\n",
    "    l1[i]=l1[i+1]\n",
    "l1[-1]=b\n",
    "l1"
   ]
  },
  {
   "cell_type": "code",
   "execution_count": 51,
   "id": "a99b2422",
   "metadata": {},
   "outputs": [],
   "source": [
    "l1=[12,45,43]"
   ]
  },
  {
   "cell_type": "code",
   "execution_count": 52,
   "id": "36e7c687",
   "metadata": {},
   "outputs": [
    {
     "name": "stdout",
     "output_type": "stream",
     "text": [
      "40\n",
      "[20, 30, 40]\n"
     ]
    }
   ],
   "source": [
    "sampleList = [10, 20, 30, 40, 50]\n",
    "print(sampleList[-2])\n",
    "print(sampleList[-4:-1])"
   ]
  },
  {
   "cell_type": "code",
   "execution_count": 53,
   "id": "e713f13c",
   "metadata": {},
   "outputs": [
    {
     "name": "stdout",
     "output_type": "stream",
     "text": [
      "10\n"
     ]
    }
   ],
   "source": [
    "l = [None] * 10\n",
    "print(len(l))"
   ]
  },
  {
   "cell_type": "code",
   "execution_count": 54,
   "id": "fcd468a0",
   "metadata": {},
   "outputs": [
    {
     "name": "stdout",
     "output_type": "stream",
     "text": [
      "[4, 20, 24, 28]\n"
     ]
    }
   ],
   "source": [
    "aList = [4, 8, 12, 16]\n",
    "aList[1:4] = [20, 24, 28]\n",
    "print(aList)"
   ]
  },
  {
   "cell_type": "code",
   "execution_count": 55,
   "id": "da942010",
   "metadata": {},
   "outputs": [
    {
     "name": "stdout",
     "output_type": "stream",
     "text": [
      "[]\n"
     ]
    }
   ],
   "source": [
    "sampleList = [10, 20, 30, 40]\n",
    "del sampleList[0:6]\n",
    "print(sampleList)"
   ]
  },
  {
   "cell_type": "code",
   "execution_count": 56,
   "id": "f57571be",
   "metadata": {},
   "outputs": [
    {
     "data": {
      "text/plain": [
       "[10, 20, 30, 40]"
      ]
     },
     "execution_count": 56,
     "metadata": {},
     "output_type": "execute_result"
    }
   ],
   "source": [
    "sampleList = [10, 20, 30, 40]\n",
    "sampleList[0:6]"
   ]
  },
  {
   "cell_type": "code",
   "execution_count": null,
   "id": "50b9d0e1",
   "metadata": {},
   "outputs": [],
   "source": []
  },
  {
   "cell_type": "code",
   "execution_count": 27,
   "id": "ba5bc466",
   "metadata": {},
   "outputs": [
    {
     "name": "stdout",
     "output_type": "stream",
     "text": [
      "zara\n"
     ]
    }
   ],
   "source": [
    "list1 = ['xyz', 'zara', 'PYnative']\n",
    "print (max(list1))"
   ]
  },
  {
   "cell_type": "code",
   "execution_count": 59,
   "id": "c867c748",
   "metadata": {},
   "outputs": [
    {
     "data": {
      "text/plain": [
       "'z'"
      ]
     },
     "execution_count": 59,
     "metadata": {},
     "output_type": "execute_result"
    }
   ],
   "source": [
    "max(\"xyz\")"
   ]
  },
  {
   "cell_type": "code",
   "execution_count": 60,
   "id": "d1f68607",
   "metadata": {},
   "outputs": [
    {
     "data": {
      "text/plain": [
       "'z'"
      ]
     },
     "execution_count": 60,
     "metadata": {},
     "output_type": "execute_result"
    }
   ],
   "source": [
    "max(\"zara\")"
   ]
  },
  {
   "cell_type": "code",
   "execution_count": 1,
   "id": "72d67f3e",
   "metadata": {},
   "outputs": [
    {
     "data": {
      "text/plain": [
       "2"
      ]
     },
     "execution_count": 1,
     "metadata": {},
     "output_type": "execute_result"
    }
   ],
   "source": [
    "# most frequent value in list\n",
    "def repeated(l1):\n",
    "    counter=0\n",
    "    n=[]\n",
    "    for i in l1:\n",
    "        current=l1.count(i)\n",
    "        if(current>counter):\n",
    "            counter=current\n",
    "            n=i\n",
    "    return n\n",
    "l1=[1,2,2,3,3,2,3,2,1,4]   \n",
    "repeated(l1)"
   ]
  },
  {
   "cell_type": "code",
   "execution_count": 68,
   "id": "ecbebc91",
   "metadata": {},
   "outputs": [
    {
     "data": {
      "text/plain": [
       "78"
      ]
     },
     "execution_count": 68,
     "metadata": {},
     "output_type": "execute_result"
    }
   ],
   "source": [
    "def most_frequent(l1):\n",
    "    n=0\n",
    "    large=0\n",
    "    val=[]\n",
    "    for i in l1:\n",
    "        n=l1.count(i)\n",
    "        if(n>large):\n",
    "            large=n\n",
    "            val=i\n",
    "    return val\n",
    "l1=[12,56,56,78,71,56,78,78,78]\n",
    "most_frequent(l1)"
   ]
  },
  {
   "cell_type": "code",
   "execution_count": 66,
   "id": "ee379f4c",
   "metadata": {},
   "outputs": [
    {
     "data": {
      "text/plain": [
       "3"
      ]
     },
     "execution_count": 66,
     "metadata": {},
     "output_type": "execute_result"
    }
   ],
   "source": [
    "l1=[12,56,56,78,71,56]\n",
    "l1.count(l1[2])"
   ]
  },
  {
   "cell_type": "code",
   "execution_count": 41,
   "id": "a1f397fb",
   "metadata": {},
   "outputs": [
    {
     "name": "stdout",
     "output_type": "stream",
     "text": [
      "[34, 54, 12]\n"
     ]
    },
    {
     "data": {
      "text/plain": [
       "34"
      ]
     },
     "execution_count": 41,
     "metadata": {},
     "output_type": "execute_result"
    }
   ],
   "source": [
    "# count the repeated value\n",
    "def counts(l1):\n",
    "    unique=[]\n",
    "    for i in l1:\n",
    "        if i not in unique:\n",
    "            unique.append(i)\n",
    "    print(unique) \n",
    "    \n",
    "    l2=[]\n",
    "    counter=0\n",
    "    mode=0\n",
    "    for i in unique:    #[34, 54, 12]\n",
    "        counts=0\n",
    "        for j in l1:    #[34,54,34,12,34,12]\n",
    "            if(i==j):\n",
    "                counts+=1\n",
    "        #l2.append(counts)\n",
    "        if(counts>counter):\n",
    "            counter=counts\n",
    "            mode=i            \n",
    "    return mode  \n",
    "\n",
    "l1=[34,54,34,12,34,12]\n",
    "counts(l1)"
   ]
  },
  {
   "cell_type": "code",
   "execution_count": 42,
   "id": "1dd5ff03",
   "metadata": {},
   "outputs": [
    {
     "name": "stdout",
     "output_type": "stream",
     "text": [
      "{8, 2, 4, 5}\n"
     ]
    }
   ],
   "source": [
    "# using the set method\n",
    "number_list = [1, 2, 2, 3, 4, 4, 5, 5, 6, 7, 8, 8, 8]\n",
    "uniq_values = []\n",
    "mode_values = []\n",
    "for i in number_list:\n",
    "    if i not in uniq_values:\n",
    "        uniq_values.append(i)\n",
    "    else:\n",
    "        mode_values.append(i)\n",
    "print(set(mode_values))            "
   ]
  },
  {
   "cell_type": "code",
   "execution_count": 2,
   "id": "fd00a83d",
   "metadata": {},
   "outputs": [
    {
     "data": {
      "text/plain": [
       "2.0"
      ]
     },
     "execution_count": 2,
     "metadata": {},
     "output_type": "execute_result"
    }
   ],
   "source": [
    "# average of the list\n",
    "def avg(l1):\n",
    "    add=0\n",
    "    avg=0\n",
    "    for i in l1:\n",
    "        add+=i\n",
    "        avg=add/len(l1)\n",
    "    return avg\n",
    "l1=[1,2,2,3,2,2]\n",
    "avg(l1)"
   ]
  },
  {
   "cell_type": "code",
   "execution_count": 3,
   "id": "7ea5e6b9",
   "metadata": {},
   "outputs": [
    {
     "data": {
      "text/plain": [
       "2.0"
      ]
     },
     "execution_count": 3,
     "metadata": {},
     "output_type": "execute_result"
    }
   ],
   "source": [
    "sum(l1)/len(l1)"
   ]
  },
  {
   "cell_type": "code",
   "execution_count": 4,
   "id": "8a6994e5",
   "metadata": {},
   "outputs": [
    {
     "data": {
      "text/plain": [
       "[4, 12, 14, 23, 56]"
      ]
     },
     "execution_count": 4,
     "metadata": {},
     "output_type": "execute_result"
    }
   ],
   "source": [
    "# sort the list without using built in function\n",
    "def sort(l1):\n",
    "    for i in range (0,len(l1)):\n",
    "        for j in range(i+1,len(l1)):\n",
    "            if(l1[i]>=l1[j]):\n",
    "                l1[i],l1[j]=l1[j],l1[i]\n",
    "    return l1\n",
    "l1=[23,12,4,14,56]\n",
    "sort(l1)"
   ]
  },
  {
   "cell_type": "code",
   "execution_count": 10,
   "id": "d47e2a03",
   "metadata": {},
   "outputs": [
    {
     "data": {
      "text/plain": [
       "[11, 12, 31, 31, 34, 67]"
      ]
     },
     "execution_count": 10,
     "metadata": {},
     "output_type": "execute_result"
    }
   ],
   "source": [
    "# sort the list using other method\n",
    "def sort(l1):\n",
    "    l2=[]\n",
    "    for i in range(0,len(l1)):\n",
    "        small=l1[0]\n",
    "        for j in l1:\n",
    "            if(small>j):\n",
    "                small=j\n",
    "        l2.append(small)\n",
    "        l1.remove(small)\n",
    "    return l2\n",
    "l1=[31,12,34,11,31,67]\n",
    "sort(l1)        "
   ]
  },
  {
   "cell_type": "code",
   "execution_count": 6,
   "id": "0408a830",
   "metadata": {},
   "outputs": [
    {
     "data": {
      "text/plain": [
       "56"
      ]
     },
     "execution_count": 6,
     "metadata": {},
     "output_type": "execute_result"
    }
   ],
   "source": [
    "# large value in the list\n",
    "def large(l1):\n",
    "    large=0\n",
    "    for i in l1:\n",
    "        if(large<i):\n",
    "            large=i\n",
    "    return large\n",
    "l1=[34,12,56,12]\n",
    "large(l1)"
   ]
  },
  {
   "cell_type": "code",
   "execution_count": 7,
   "id": "24f490c0",
   "metadata": {},
   "outputs": [
    {
     "data": {
      "text/plain": [
       "2"
      ]
     },
     "execution_count": 7,
     "metadata": {},
     "output_type": "execute_result"
    }
   ],
   "source": [
    "# small value in the list\n",
    "def small(l1):\n",
    "    small=l1[0]\n",
    "    for i in l1:\n",
    "        if(small>i):\n",
    "            small=i\n",
    "    return small\n",
    "l1=[11,23,12,54,2,3]\n",
    "small(l1)"
   ]
  },
  {
   "cell_type": "code",
   "execution_count": null,
   "id": "df03fc59",
   "metadata": {},
   "outputs": [],
   "source": [
    "# median of the list\n",
    "def median(l1):\n",
    "    m=[]\n",
    "    for i in l1:\n",
    "        if(len(l1)%2==0): "
   ]
  },
  {
   "cell_type": "code",
   "execution_count": 56,
   "id": "f24464e1",
   "metadata": {},
   "outputs": [
    {
     "data": {
      "text/plain": [
       "[34, 11, 42, 23, 12]"
      ]
     },
     "execution_count": 56,
     "metadata": {},
     "output_type": "execute_result"
    }
   ],
   "source": [
    "# reverse\n",
    "l1=[12,23,42,11,34]\n",
    "l1[::-1]           "
   ]
  },
  {
   "cell_type": "code",
   "execution_count": 65,
   "id": "6ba47538",
   "metadata": {},
   "outputs": [
    {
     "data": {
      "text/plain": [
       "[34, 11, 42, 23, 12]"
      ]
     },
     "execution_count": 65,
     "metadata": {},
     "output_type": "execute_result"
    }
   ],
   "source": [
    "# reverse\n",
    "l1=[12,23,42,11,34]\n",
    "l2=[]\n",
    "for i in range(1,len(l1)+1):\n",
    "    l2.append(l1[-i])\n",
    "l2"
   ]
  },
  {
   "cell_type": "code",
   "execution_count": null,
   "id": "067caf0a",
   "metadata": {},
   "outputs": [],
   "source": [
    "0,1,1,2,3,5,8"
   ]
  },
  {
   "cell_type": "code",
   "execution_count": 17,
   "id": "60befabd",
   "metadata": {},
   "outputs": [
    {
     "name": "stdout",
     "output_type": "stream",
     "text": [
      "0 1 1 2 3 5 8 "
     ]
    }
   ],
   "source": [
    "#fibonocci\n",
    "def fibonocci(n):                                \n",
    "    num1=0\n",
    "    num2=1\n",
    "    print(num1,num2,end=\" \")\n",
    "    next_no=num2\n",
    "    print(next_no,end=\" \")\n",
    "    count=1\n",
    "    while count<n-2:\n",
    "        num1,num2=num2,next_no\n",
    "        next_no=num1+num2\n",
    "        count+=1\n",
    "        print(next_no,end=\" \")\n",
    "        \n",
    "fibonocci(7)"
   ]
  },
  {
   "cell_type": "code",
   "execution_count": 8,
   "id": "f17d6840",
   "metadata": {},
   "outputs": [
    {
     "data": {
      "text/plain": [
       "[0, 1, 1, 2, 3, 5, 8, 13, 21]"
      ]
     },
     "execution_count": 8,
     "metadata": {},
     "output_type": "execute_result"
    }
   ],
   "source": [
    "l1=[]\n",
    "l1.append(0)\n",
    "l1.append(1)\n",
    "b=0\n",
    "for i in range(0,7):\n",
    "    if(i<2):\n",
    "        l1.append(i+1)\n",
    "    else:\n",
    "        b=l1[i]+l1[i+1]\n",
    "        l1.append(b)\n",
    "l1"
   ]
  },
  {
   "cell_type": "code",
   "execution_count": null,
   "id": "b5c82103",
   "metadata": {},
   "outputs": [],
   "source": []
  },
  {
   "cell_type": "code",
   "execution_count": null,
   "id": "cf720289",
   "metadata": {},
   "outputs": [],
   "source": [
    "n= int(input(\"enter the number of student details\"))\n",
    "l1=[]\n",
    "l2=[]\n",
    "for i in range(0,n):\n",
    "    name=input(\"enter the name\")\n",
    "    score=int(input(\"enter the score\"))\n",
    "    l1.append(name)\n",
    "    l2.append(score)\n",
    "result=[[i,j] for i,j in zip(l1,l2)]\n"
   ]
  },
  {
   "cell_type": "code",
   "execution_count": 182,
   "id": "9f2d21ac",
   "metadata": {},
   "outputs": [],
   "source": [
    "def counts(l1):\n",
    "    global unique\n",
    "    unique=[]\n",
    "    for x in l1:\n",
    "        if x not in unique: \n",
    "            unique.append(x)\n",
    "    global count\n",
    "    count=[]\n",
    "    for i in unique:\n",
    "        counter=0\n",
    "        for j in l1:\n",
    "            if(i==j):\n",
    "                counter=counter+1\n",
    "        count.append(counter)\n",
    "    return count,unique"
   ]
  },
  {
   "cell_type": "code",
   "execution_count": 34,
   "id": "62e50cd0",
   "metadata": {},
   "outputs": [
    {
     "data": {
      "text/plain": [
       "True"
      ]
     },
     "execution_count": 34,
     "metadata": {},
     "output_type": "execute_result"
    }
   ],
   "source": [
    "# monotone or not\n",
    "def monotone(l1):\n",
    "    sum1=0\n",
    "    for i in range(len(l1)-1):\n",
    "        sum1+=l1[i]<=l1[i+1]\n",
    "    sum2=0\n",
    "    for i in range(len(l1)-1):\n",
    "        sum2+=l1[i]>=l1[i+1]\n",
    "    return sum1==len(l1)-1 or sum2==len(l1)-1\n",
    "l1=[5,10,15,20]\n",
    "monotone(l1)"
   ]
  },
  {
   "cell_type": "code",
   "execution_count": 35,
   "id": "81775a44",
   "metadata": {},
   "outputs": [
    {
     "name": "stdout",
     "output_type": "stream",
     "text": [
      "not\n"
     ]
    }
   ],
   "source": [
    "# how it works\n",
    "sum1=0\n",
    "l1=[5,2,20,22,22,22]\n",
    "for i in range(len(l1)-1):\n",
    "    if(l1[i]<=l1[i+1]):\n",
    "        sum1=sum1+1\n",
    "if(sum1==len(l1)-1):\n",
    "    print(\"monoton\")\n",
    "else:\n",
    "    print(\"not\")"
   ]
  },
  {
   "cell_type": "code",
   "execution_count": 38,
   "id": "8ab1e30e",
   "metadata": {},
   "outputs": [
    {
     "name": "stdout",
     "output_type": "stream",
     "text": [
      "True\n",
      "True\n"
     ]
    }
   ],
   "source": [
    "# by all method\n",
    "def monotone(l1):\n",
    "    return all(l1[i]<=l1[i+1] for i in range(len(l1)-1)) or all(l1[i]>=l1[i+1] for i in range(len(l1)-1))\n",
    "l1=[12,23,34,45]\n",
    "print(monotone(l1))\n",
    "\n",
    "l2=[23,22,21,20,10]\n",
    "print(monotone(l2))"
   ]
  },
  {
   "cell_type": "code",
   "execution_count": 39,
   "id": "f8524bcf",
   "metadata": {},
   "outputs": [
    {
     "data": {
      "text/plain": [
       "[23, 45, 34, 23, 1, 76, 13, 2, 34, 89]"
      ]
     },
     "execution_count": 39,
     "metadata": {},
     "output_type": "execute_result"
    }
   ],
   "source": [
    "# swap the two value \n",
    "def swap_two(l1,a,b):\n",
    "    l1[a-1],l1[b-1]=l1[b-1],l1[a-1]\n",
    "    return l1\n",
    "l1=[23,45,34,23,1,2,13,76,34,89]\n",
    "swap_two(l1,6,8)"
   ]
  },
  {
   "cell_type": "code",
   "execution_count": 50,
   "id": "3762d342",
   "metadata": {},
   "outputs": [
    {
     "name": "stdout",
     "output_type": "stream",
     "text": [
      "34\n",
      "56\n"
     ]
    },
    {
     "data": {
      "text/plain": [
       "[23, 56, 45, 96, 34, 67]"
      ]
     },
     "execution_count": 50,
     "metadata": {},
     "output_type": "execute_result"
    }
   ],
   "source": [
    "# other method\n",
    "def swap_two(l1,a,b):\n",
    "    first=l1.pop(a-1)\n",
    "    print(first)\n",
    "    second=l1.pop(b-2)\n",
    "    print(second)\n",
    "    l1.insert(a-1,second)\n",
    "    l1.insert(b-1,first)\n",
    "    return l1\n",
    "l1=[23,34,45,96,56,67]\n",
    "swap_two(l1,2,5)\n"
   ]
  },
  {
   "cell_type": "code",
   "execution_count": 2,
   "id": "49da5a2d",
   "metadata": {},
   "outputs": [
    {
     "data": {
      "text/plain": [
       "[4, 3, 2, 1]"
      ]
     },
     "execution_count": 2,
     "metadata": {},
     "output_type": "execute_result"
    }
   ],
   "source": [
    "l1=[1,2,3,4]\n",
    "l2=[]\n",
    "for i in l1:\n",
    "    l2.insert(0,i)\n",
    "l2"
   ]
  },
  {
   "cell_type": "code",
   "execution_count": 19,
   "id": "4947cd15",
   "metadata": {},
   "outputs": [
    {
     "name": "stdout",
     "output_type": "stream",
     "text": [
      "[5, 4, 3, 2, 1]\n"
     ]
    }
   ],
   "source": [
    "l1=[1,2,3,4,5]\n",
    "l2=[]\n",
    "for i in range(1,len(l1)+1):\n",
    "    l2.append(l1[-i])\n",
    "print(l2)"
   ]
  },
  {
   "cell_type": "code",
   "execution_count": 22,
   "id": "f55cbbc6",
   "metadata": {},
   "outputs": [
    {
     "data": {
      "text/plain": [
       "[5, 4, 3, 2, 1]"
      ]
     },
     "execution_count": 22,
     "metadata": {},
     "output_type": "execute_result"
    }
   ],
   "source": [
    "[l1[-i] for i in range(1,len(l1)+1)]"
   ]
  },
  {
   "cell_type": "code",
   "execution_count": 15,
   "id": "e9efde6f",
   "metadata": {},
   "outputs": [
    {
     "data": {
      "text/plain": [
       "240"
      ]
     },
     "execution_count": 15,
     "metadata": {},
     "output_type": "execute_result"
    }
   ],
   "source": [
    "# prdouct of the list\n",
    "def product(l1):\n",
    "    a=0\n",
    "    for i in range(0,1):\n",
    "        for j in range(i+1,len(l1)):\n",
    "            a=l1[i]*l1[j]\n",
    "            l1[i]=a\n",
    "    return a\n",
    "l1=[2,2,3,4,5]\n",
    "product(l1)        "
   ]
  },
  {
   "cell_type": "code",
   "execution_count": 16,
   "id": "fcad79d5",
   "metadata": {},
   "outputs": [
    {
     "data": {
      "text/plain": [
       "240"
      ]
     },
     "execution_count": 16,
     "metadata": {},
     "output_type": "execute_result"
    }
   ],
   "source": []
  },
  {
   "cell_type": "code",
   "execution_count": 33,
   "id": "7f46ffe3",
   "metadata": {},
   "outputs": [
    {
     "data": {
      "text/plain": [
       "15"
      ]
     },
     "execution_count": 33,
     "metadata": {},
     "output_type": "execute_result"
    }
   ],
   "source": [
    "def sums(l1):\n",
    "    a=0\n",
    "    for i in range(0,1):\n",
    "        for j in range(i+1,len(l1)):\n",
    "            a=l1[i]+l1[j]\n",
    "            l1[i]=a\n",
    "    return a\n",
    "l1=[1,2,3,4,5]\n",
    "sums(l1)        "
   ]
  },
  {
   "cell_type": "code",
   "execution_count": 40,
   "id": "f123a041",
   "metadata": {},
   "outputs": [
    {
     "data": {
      "text/plain": [
       "10"
      ]
     },
     "execution_count": 40,
     "metadata": {},
     "output_type": "execute_result"
    }
   ],
   "source": [
    "# other method\n",
    "def sums(l1):\n",
    "    i=0\n",
    "    while i<1:\n",
    "        j=1\n",
    "        a=0\n",
    "        while j<=len(l1)-1:\n",
    "            a=l1[i]+l1[j]\n",
    "            l1[i]=a\n",
    "            j+=1\n",
    "        i+=1\n",
    "    return a\n",
    "l1=[1,2,3,4]\n",
    "sums(l1)"
   ]
  },
  {
   "cell_type": "code",
   "execution_count": 147,
   "id": "48831782",
   "metadata": {},
   "outputs": [],
   "source": [
    "# def product(l1):\n",
    "#     return reduce(lambda a,b:a*b,l1)\n",
    "# l1=[1,2,3]\n",
    "# product(l1)"
   ]
  },
  {
   "cell_type": "code",
   "execution_count": 54,
   "id": "a8e4509a",
   "metadata": {},
   "outputs": [
    {
     "data": {
      "text/plain": [
       "4"
      ]
     },
     "execution_count": 54,
     "metadata": {},
     "output_type": "execute_result"
    }
   ],
   "source": [
    "a=[10,20,4,11,24]\n",
    "a.sort()\n",
    "a[0]"
   ]
  },
  {
   "cell_type": "code",
   "execution_count": 79,
   "id": "99eb9ae5",
   "metadata": {},
   "outputs": [
    {
     "name": "stdout",
     "output_type": "stream",
     "text": [
      "23\n"
     ]
    },
    {
     "data": {
      "text/plain": [
       "[54, 23, 21, 18, 11]"
      ]
     },
     "execution_count": 79,
     "metadata": {},
     "output_type": "execute_result"
    }
   ],
   "source": [
    "#second largest number\n",
    "def second_large(l1):\n",
    "    large=0\n",
    "    if(len(l1)==1):\n",
    "        large=l1[0]\n",
    "    elif(len(l1)==2):\n",
    "        large=max(l1)\n",
    "    else:\n",
    "        l2=[]\n",
    "        for i in range(len(l1)):\n",
    "            lar=0\n",
    "            for j in l1:\n",
    "                if(lar<j):\n",
    "                    lar=j\n",
    "            l2.append(lar)\n",
    "            l1.remove(lar)\n",
    "        large=l2[1]\n",
    "        print(l2[1])\n",
    "    return l2\n",
    "l1=[21,11,54,23,18]\n",
    "second_large(l1)    "
   ]
  },
  {
   "cell_type": "code",
   "execution_count": 85,
   "id": "be9157f6",
   "metadata": {},
   "outputs": [
    {
     "name": "stdout",
     "output_type": "stream",
     "text": [
      "[12, 33, 54, 11, 3, 28]\n"
     ]
    },
    {
     "data": {
      "text/plain": [
       "54"
      ]
     },
     "execution_count": 85,
     "metadata": {},
     "output_type": "execute_result"
    }
   ],
   "source": [
    "#second largest number\n",
    "l1=[12,33,54,11,3,28,66]\n",
    "a=[i for i in l1 if(i<max(l1))]\n",
    "print(a)\n",
    "max(a)"
   ]
  },
  {
   "cell_type": "code",
   "execution_count": 91,
   "id": "85d10d4c",
   "metadata": {},
   "outputs": [
    {
     "data": {
      "text/plain": [
       "[34, 34, 23, 12]"
      ]
     },
     "execution_count": 91,
     "metadata": {},
     "output_type": "execute_result"
    }
   ],
   "source": [
    "# find the n largest number\n",
    "def large_n(l1,n):\n",
    "    l2=[]\n",
    "    l3=[]\n",
    "    for i in range(len(l1)):\n",
    "        lar=0\n",
    "        for j in l1:\n",
    "            if(lar<j):\n",
    "                lar=j\n",
    "        l2.append(lar)\n",
    "        l1.remove(lar)\n",
    "    l3=l2[-n:]\n",
    "    return l3\n",
    "l1=[34,12,34,87,56,23]\n",
    "large_n(l1,4)"
   ]
  },
  {
   "cell_type": "code",
   "execution_count": 92,
   "id": "cdf32411",
   "metadata": {},
   "outputs": [
    {
     "name": "stdout",
     "output_type": "stream",
     "text": [
      "enter the first and last number with space12 20\n",
      "12 20\n",
      "13 15 17 19 "
     ]
    }
   ],
   "source": [
    "value=input(\"enter the first and last number with space\")\n",
    "start,end=map(int,value.split(\" \"))\n",
    "print(start,end)\n",
    "for i in range(start,end):\n",
    "    print(i,end=\" \") if(i%2!=0) else None"
   ]
  },
  {
   "cell_type": "code",
   "execution_count": 96,
   "id": "fc1983ef",
   "metadata": {},
   "outputs": [
    {
     "name": "stdout",
     "output_type": "stream",
     "text": [
      "1.2 8 6 "
     ]
    }
   ],
   "source": [
    "# positive number\n",
    "def positive(l1):\n",
    "    for i in l1:\n",
    "        print(i,end=\" \") if(i>0) else None\n",
    "l1=[1.2,8,6,-8.23,-8,-34]\n",
    "positive(l1)"
   ]
  },
  {
   "cell_type": "code",
   "execution_count": 101,
   "id": "4ae051be",
   "metadata": {},
   "outputs": [
    {
     "data": {
      "text/plain": [
       "[12, 2, 3]"
      ]
     },
     "execution_count": 101,
     "metadata": {},
     "output_type": "execute_result"
    }
   ],
   "source": [
    "# using filter method\n",
    "l1=[12,2,3,-9,-45,-7-66]\n",
    "a=list(filter(lambda i:(i>0),l1))\n",
    "a"
   ]
  },
  {
   "cell_type": "code",
   "execution_count": 106,
   "id": "a0cf2e58",
   "metadata": {},
   "outputs": [
    {
     "data": {
      "text/plain": [
       "array([1, 9, 7, 6])"
      ]
     },
     "execution_count": 106,
     "metadata": {},
     "output_type": "execute_result"
    }
   ],
   "source": [
    "import numpy as np\n",
    "l1=np.array([1,-8,9,7,6,-8,-9])\n",
    "l1[l1>0]"
   ]
  },
  {
   "cell_type": "code",
   "execution_count": 112,
   "id": "b768533f",
   "metadata": {},
   "outputs": [
    {
     "name": "stdout",
     "output_type": "stream",
     "text": [
      "12 2 3 "
     ]
    }
   ],
   "source": [
    "l1=[12,2,3,-9,-45,-7-66]\n",
    "a=list(map(str,l1))\n",
    "for i in a: print(i,end=\" \") if(not i.startswith(\"-\")) else None"
   ]
  },
  {
   "cell_type": "code",
   "execution_count": 116,
   "id": "833a3200",
   "metadata": {},
   "outputs": [
    {
     "data": {
      "text/plain": [
       "[12, 4, 5, 12]"
      ]
     },
     "execution_count": 116,
     "metadata": {},
     "output_type": "execute_result"
    }
   ],
   "source": [
    "l1=[12,4,5,-45,-65,12]\n",
    "a=list(filter(lambda x:x>0,l1))\n",
    "a"
   ]
  },
  {
   "cell_type": "code",
   "execution_count": 132,
   "id": "fd0c8605",
   "metadata": {},
   "outputs": [
    {
     "data": {
      "text/plain": [
       "[12, 3, 5]"
      ]
     },
     "execution_count": 132,
     "metadata": {},
     "output_type": "execute_result"
    }
   ],
   "source": [
    "#remove the desired element\n",
    "l1=[12,3,4,5,67,8]\n",
    "unwanted=[4,67,8]\n",
    "for i in unwanted:\n",
    "    l1.remove(i)\n",
    "l1"
   ]
  },
  {
   "cell_type": "code",
   "execution_count": 141,
   "id": "71f45d87",
   "metadata": {},
   "outputs": [
    {
     "data": {
      "text/plain": [
       "2"
      ]
     },
     "execution_count": 141,
     "metadata": {},
     "output_type": "execute_result"
    }
   ],
   "source": [
    "def count_no(l1,n):\n",
    "    x=0\n",
    "    for i in l1:\n",
    "        if(i==n):\n",
    "            x+=1\n",
    "    return x\n",
    "l1=[1,2,3,6,4,3,2,1,2]\n",
    "count_no(l1,3)"
   ]
  },
  {
   "cell_type": "code",
   "execution_count": null,
   "id": "781cd1fa",
   "metadata": {},
   "outputs": [],
   "source": [
    "l1=[56,34,23,87]"
   ]
  },
  {
   "cell_type": "code",
   "execution_count": null,
   "id": "f139b6f6",
   "metadata": {},
   "outputs": [],
   "source": [
    "n=int(input(\"enter the student: \"))\n",
    "name=[]\n",
    "score=[]\n",
    "for i in range(n):\n",
    "    name1=input(\"enter the name: \")\n",
    "    score1=int(input(\"enter the score: \"))\n",
    "    name.append(name1)\n",
    "    score.append(score1)\n",
    "least=[]\n",
    "print(score)\n",
    "print(name)\n",
    "for i in range(len(score)):\n",
    "    small=score[0]\n",
    "    for j in score:\n",
    "        if(small>j):\n",
    "            small=j\n",
    "    least.append(small)\n",
    "    score.remove(small)"
   ]
  },
  {
   "cell_type": "code",
   "execution_count": 5,
   "id": "0e0369e7",
   "metadata": {},
   "outputs": [],
   "source": [
    "# import numpy as np\n",
    "# n=int(input(\"enter the student: \"))\n",
    "# name=[]\n",
    "# score=[]\n",
    "# for i in range(n):\n",
    "#     name1=input(\"enter the name: \")\n",
    "#     score1=int(input(\"enter the score: \"))\n",
    "#     name.append(name1)\n",
    "#     score.append(score1)\n",
    "# index=np.argsort(score)\n",
    "# print(index)\n",
    "# for i in index:\n",
    "#     print(name[i])"
   ]
  },
  {
   "cell_type": "code",
   "execution_count": null,
   "id": "09d363ba",
   "metadata": {},
   "outputs": [],
   "source": [
    "5\n",
    "Harry\n",
    "37.21\n",
    "Berry\n",
    "37.21\n",
    "Tina\n",
    "37.2\n",
    "Akriti\n",
    "41\n",
    "Harsh\n",
    "39"
   ]
  },
  {
   "cell_type": "code",
   "execution_count": null,
   "id": "91da1343",
   "metadata": {},
   "outputs": [],
   "source": []
  },
  {
   "cell_type": "code",
   "execution_count": 21,
   "id": "31d15360",
   "metadata": {},
   "outputs": [
    {
     "name": "stdout",
     "output_type": "stream",
     "text": [
      "abdt\n",
      "bsdg\n"
     ]
    }
   ],
   "source": [
    "# sort the score and return the second lowest value.\n",
    "# if the two student took same second lowest value then sort by thier name.\n",
    "\n",
    "a=[['sgv', 45.0], ['abdt', 56.0], ['bsdg', 56.0]]\n",
    "second_lowest=sorted(set([score for name,score in a]))[1]\n",
    "print(\"\\n\".join(sorted([name for name,score in a if(score==second_lowest)])))"
   ]
  },
  {
   "cell_type": "code",
   "execution_count": 3,
   "id": "e3b12242",
   "metadata": {},
   "outputs": [
    {
     "name": "stdout",
     "output_type": "stream",
     "text": [
      "enter the number of person5\n",
      "harry\n",
      "37\n",
      "gs\n",
      "67\n",
      "berry\n",
      "37\n",
      "gdg\n",
      "12\n",
      "tina\n",
      "37\n",
      "berry\n",
      "harry\n",
      "tina\n"
     ]
    }
   ],
   "source": [
    "alist = []\n",
    "for i in range(int(input(\"enter the number of person\"))):\n",
    "    name = input()\n",
    "    score = float(input())\n",
    "    alist.append([name, score])\n",
    "second_highest = sorted(set([score for name, score in alist]))[1]\n",
    "print('\\n'.join(sorted([name for name, score in alist if score == second_highest])))"
   ]
  },
  {
   "cell_type": "code",
   "execution_count": null,
   "id": "9d1d90bf",
   "metadata": {},
   "outputs": [],
   "source": [
    "# other method\n",
    "l1=[]\n",
    "for i in range (int(input())):\n",
    "    name=input()\n",
    "    score=float(input())\n",
    "    l1+=[[name,score]]\n",
    "    \n",
    "s1=[]\n",
    "for name,score in l1:\n",
    "    s1.append(score)\n",
    "second_score=sorted(set(s1))[1]\n",
    "\n",
    "name_second_lowest=sorted([name for name,score in l1 if(score==second_score)])\n",
    "print(\"\\n\".join(name_second_lowest))\n",
    "    "
   ]
  },
  {
   "cell_type": "code",
   "execution_count": null,
   "id": "ce7f0936",
   "metadata": {},
   "outputs": [],
   "source": []
  },
  {
   "cell_type": "code",
   "execution_count": 30,
   "id": "28519259",
   "metadata": {},
   "outputs": [
    {
     "data": {
      "text/plain": [
       "[[23, 45], [45, 67]]"
      ]
     },
     "execution_count": 30,
     "metadata": {},
     "output_type": "execute_result"
    }
   ],
   "source": [
    "a=[23,45]\n",
    "b=[45,67]\n",
    "[a]+[b]"
   ]
  },
  {
   "cell_type": "code",
   "execution_count": null,
   "id": "941a3fea",
   "metadata": {},
   "outputs": [],
   "source": [
    "l1=[2,3,4,4,4,5,1,2,11,4,4]"
   ]
  },
  {
   "cell_type": "code",
   "execution_count": 1,
   "id": "32cd4769",
   "metadata": {},
   "outputs": [
    {
     "name": "stdout",
     "output_type": "stream",
     "text": [
      "[2, 3, 4, 5, 1, 11, 42]\n",
      "[4, 1, 5, 1, 1, 1, 1]\n"
     ]
    },
    {
     "data": {
      "text/plain": [
       "4"
      ]
     },
     "execution_count": 1,
     "metadata": {},
     "output_type": "execute_result"
    }
   ],
   "source": [
    "def most_frequent(l1):\n",
    "    unique=[]\n",
    "    for x in l1:\n",
    "        if x not in unique:\n",
    "            unique.append(x)\n",
    "    print(unique)\n",
    "    count=[]\n",
    "    for i in unique:\n",
    "        counter=0\n",
    "        for j in l1:\n",
    "            if(i==j):\n",
    "                counter=counter+1\n",
    "        count.append(counter)\n",
    "    print(count)\n",
    "    most_value=count.index(max(count))\n",
    "    return unique[most_value]\n",
    "    \n",
    "l1=[2,3,4,4,4,5,1,2,11,4,42,2,2,4]\n",
    "most_frequent(l1)"
   ]
  },
  {
   "cell_type": "code",
   "execution_count": 24,
   "id": "0a7bba87",
   "metadata": {},
   "outputs": [
    {
     "name": "stdout",
     "output_type": "stream",
     "text": [
      "Kevin 12\n"
     ]
    }
   ],
   "source": [
    "def minion_game(string):\n",
    "    s=len(string)\n",
    "    vowel = 0\n",
    "    consonant = 0\n",
    "     \n",
    "    for i in range(s):\n",
    "        if string[i] in 'AEIOU':    #0\n",
    "            vowel+=(s-i)      #5 3\n",
    "        else:\n",
    "            consonant+=(s-i)     #6 4 2\n",
    "                \n",
    "    if vowel < consonant:\n",
    "        print('Stuart ' + str(consonant))\n",
    "    elif vowel > consonant:\n",
    "        print('Kevin ' + str(vowel))\n",
    "    else:\n",
    "        print('Draw')\n",
    "minion_game(\"ANANAS\")"
   ]
  },
  {
   "cell_type": "code",
   "execution_count": 26,
   "id": "0999e4b7",
   "metadata": {},
   "outputs": [
    {
     "name": "stdout",
     "output_type": "stream",
     "text": [
      "Kevin 12\n"
     ]
    }
   ],
   "source": [
    "def minion_game(string):\n",
    "    l1=[]\n",
    "    l2=[]\n",
    "    vow=[]\n",
    "    con=[]\n",
    "    for i in string:\n",
    "        l1.append(i)\n",
    "    for k in range(2,len(string)):\n",
    "        for j in range(len(string)-1):\n",
    "            l1.append(string[j:j+k])\n",
    "    l1.append(l1[0])\n",
    "    for m in range(len(l1)-1):\n",
    "        if len(l1[m])<=len(l1[m+1]):\n",
    "            l2.append(l1[m+1])\n",
    "    l2.append(l1[0])\n",
    "    l2.append(string)\n",
    "    for i in l2:\n",
    "        if(i[0] in \"AEIOU\"):\n",
    "            vow.append(i)\n",
    "        else:\n",
    "            con.append(i)\n",
    "    if(len(vow)<len(con)):\n",
    "        print(\"Starut\",len(con))\n",
    "    elif(len(vow)>len(con)):\n",
    "        print(\"Kevin\",len(vow))\n",
    "    else:\n",
    "        print(\"Draw\")\n",
    "minion_game(\"ANANAS\")"
   ]
  },
  {
   "cell_type": "code",
   "execution_count": 4,
   "id": "d6384c84",
   "metadata": {},
   "outputs": [
    {
     "name": "stdout",
     "output_type": "stream",
     "text": [
      "[12, 23, 34, 43]\n"
     ]
    },
    {
     "data": {
      "text/plain": [
       "34"
      ]
     },
     "execution_count": 4,
     "metadata": {},
     "output_type": "execute_result"
    }
   ],
   "source": [
    "def second_large(l1):\n",
    "    l1.sort()\n",
    "    print(l1)\n",
    "    second_value=l1[-2]\n",
    "    return second_value\n",
    "l1=[34,23,12,43]\n",
    "second_large(l1)"
   ]
  },
  {
   "cell_type": "code",
   "execution_count": 2,
   "id": "6fe2ea04",
   "metadata": {},
   "outputs": [
    {
     "data": {
      "text/plain": [
       "4"
      ]
     },
     "execution_count": 2,
     "metadata": {},
     "output_type": "execute_result"
    }
   ],
   "source": [
    "# count the unique value in the given list\n",
    "def unique_value(l1):\n",
    "    unique=[]\n",
    "    for i in l1:\n",
    "        if i not in unique:\n",
    "            unique.append(i)\n",
    "    return len(unique)\n",
    "unique_value([1,4,2,3,4,1,2,1,4])"
   ]
  },
  {
   "cell_type": "code",
   "execution_count": 3,
   "id": "8542b3b2",
   "metadata": {},
   "outputs": [
    {
     "data": {
      "text/plain": [
       "4"
      ]
     },
     "execution_count": 3,
     "metadata": {},
     "output_type": "execute_result"
    }
   ],
   "source": [
    "def unique_value(l1):\n",
    "    return len(list(set(l1)))\n",
    "unique_value([1,4,2,3,4,1,2,1,4])"
   ]
  },
  {
   "cell_type": "code",
   "execution_count": 10,
   "id": "1d2fd84d",
   "metadata": {},
   "outputs": [
    {
     "data": {
      "text/plain": [
       "4"
      ]
     },
     "execution_count": 10,
     "metadata": {},
     "output_type": "execute_result"
    }
   ],
   "source": [
    "from collections import Counter\n",
    "value=[1,4,2,3,4,1,2,1,4]\n",
    "a=Counter(value).keys()\n",
    "len(a)"
   ]
  },
  {
   "cell_type": "code",
   "execution_count": 2,
   "id": "6959ad8a",
   "metadata": {},
   "outputs": [
    {
     "data": {
      "text/plain": [
       "4"
      ]
     },
     "execution_count": 2,
     "metadata": {},
     "output_type": "execute_result"
    }
   ],
   "source": [
    "def unique_value(l1):\n",
    "    d1={}\n",
    "    for i in l1:\n",
    "        d1[i]=l1.count(i)\n",
    "    return len(d1)\n",
    "unique_value([1,4,2,3,4,1,2,1,4])"
   ]
  },
  {
   "cell_type": "code",
   "execution_count": 14,
   "id": "ffcf4a70",
   "metadata": {},
   "outputs": [
    {
     "data": {
      "text/plain": [
       "4"
      ]
     },
     "execution_count": 14,
     "metadata": {},
     "output_type": "execute_result"
    }
   ],
   "source": [
    "def unique_value(l1):\n",
    "    a=[x for i,x in enumerate(l1) if x not in l1[:i]]\n",
    "    return len(a)\n",
    "unique_value([1,4,2,3,4,1,2,1,4])"
   ]
  },
  {
   "cell_type": "code",
   "execution_count": 18,
   "id": "15f55c8a",
   "metadata": {},
   "outputs": [
    {
     "data": {
      "text/plain": [
       "24"
      ]
     },
     "execution_count": 18,
     "metadata": {},
     "output_type": "execute_result"
    }
   ],
   "source": [
    "# list the product excluding the duplicates\n",
    "def list_prod(l1):\n",
    "    l2=[]\n",
    "    for i in l1:\n",
    "        if i not in l2:\n",
    "            l2.append(i)\n",
    "    a=0\n",
    "    for i in range(0,1):\n",
    "        for j in range(i+1,len(l2)):\n",
    "            a=l2[i]*l2[j]\n",
    "            l2[i]=a\n",
    "    return a\n",
    "list_prod([1,4,2,3,4,1,2,1,4])       "
   ]
  },
  {
   "cell_type": "code",
   "execution_count": 26,
   "id": "cc216c25",
   "metadata": {},
   "outputs": [
    {
     "data": {
      "text/plain": [
       "24"
      ]
     },
     "execution_count": 26,
     "metadata": {},
     "output_type": "execute_result"
    }
   ],
   "source": [
    "def list_prod(l1):\n",
    "    l2=[x for i,x in enumerate(l1) if x not in l1[:i]]\n",
    "    for i in range(0,1):\n",
    "        for j in range(i+1,len(l2)):\n",
    "            a=l2[i]*l2[j]\n",
    "            l2[i]=a\n",
    "    return a\n",
    "list_prod([1,4,2,3,4,1,2,1,4]) "
   ]
  },
  {
   "cell_type": "code",
   "execution_count": 32,
   "id": "522d931b",
   "metadata": {},
   "outputs": [
    {
     "data": {
      "text/plain": [
       "24"
      ]
     },
     "execution_count": 32,
     "metadata": {},
     "output_type": "execute_result"
    }
   ],
   "source": [
    "def list_prod(l1):\n",
    "    d1={}\n",
    "    for i in l1:\n",
    "        d1[i]=l1.count(i)\n",
    "    a=1\n",
    "    for key,val in d1.items():\n",
    "        a*=key\n",
    "    return a\n",
    "list_prod([1,4,2,3,4,1,2,1,4]) "
   ]
  },
  {
   "cell_type": "code",
   "execution_count": 33,
   "id": "ee1f91f3",
   "metadata": {},
   "outputs": [
    {
     "data": {
      "text/plain": [
       "24"
      ]
     },
     "execution_count": 33,
     "metadata": {},
     "output_type": "execute_result"
    }
   ],
   "source": [
    "l1=[1,4,2,3,4,1,2,1,4]\n",
    "a=list(set(l1))\n",
    "product(a)"
   ]
  },
  {
   "cell_type": "code",
   "execution_count": 36,
   "id": "167abe5f",
   "metadata": {},
   "outputs": [
    {
     "name": "stdout",
     "output_type": "stream",
     "text": [
      "24\n"
     ]
    }
   ],
   "source": [
    "from collections import Counter\n",
    "l1=[1,4,2,3,4,1,2,1,4]\n",
    "a=Counter(l1).keys()\n",
    "b=1\n",
    "for i in a:\n",
    "    b*=i\n",
    "print(b)"
   ]
  },
  {
   "cell_type": "code",
   "execution_count": 37,
   "id": "cdbf14a0",
   "metadata": {},
   "outputs": [
    {
     "data": {
      "text/plain": [
       "24"
      ]
     },
     "execution_count": 37,
     "metadata": {},
     "output_type": "execute_result"
    }
   ],
   "source": [
    "def prod(l1):\n",
    "    a=1\n",
    "    for i in l1:\n",
    "        a*=i\n",
    "    return a\n",
    "l1=[1,4,2,3,4,1,2,1,4]\n",
    "uni=[]\n",
    "for i in l1:\n",
    "    if i not in uni:\n",
    "        uni.append(i)\n",
    "prod(uni)"
   ]
  },
  {
   "cell_type": "code",
   "execution_count": 42,
   "id": "66efe995",
   "metadata": {},
   "outputs": [
    {
     "data": {
      "text/plain": [
       "24"
      ]
     },
     "execution_count": 42,
     "metadata": {},
     "output_type": "execute_result"
    }
   ],
   "source": [
    "from functools import reduce\n",
    "l1=[1,4,2,3,4,1,2,1,4]\n",
    "reduce(lambda x,y:x*y,set(l1),1)"
   ]
  },
  {
   "cell_type": "code",
   "execution_count": 43,
   "id": "88b00f9b",
   "metadata": {},
   "outputs": [
    {
     "name": "stdout",
     "output_type": "stream",
     "text": [
      "24\n"
     ]
    }
   ],
   "source": [
    "import numpy as np\n",
    "l1=[1,4,2,3,4,1,2,1,4]\n",
    "unique=np.unique(l1)\n",
    "a=np.prod(unique)\n",
    "print(a)"
   ]
  },
  {
   "cell_type": "code",
   "execution_count": 49,
   "id": "8fd0749c",
   "metadata": {},
   "outputs": [
    {
     "name": "stdout",
     "output_type": "stream",
     "text": [
      "4 3 "
     ]
    }
   ],
   "source": [
    "#Extract elements with Frequency greater than K\n",
    "def greater_frequency(l1,k):\n",
    "    d1={}\n",
    "    for i in l1:\n",
    "        d1[i]=l1.count(i)\n",
    "    for i,j in d1.items():\n",
    "        if(j>k):\n",
    "            print(i,end=\" \")\n",
    "greater_frequency([4, 6, 4, 3, 3, 4, 3, 4, 3, 8],3)"
   ]
  },
  {
   "cell_type": "code",
   "execution_count": 55,
   "id": "f490aa9b",
   "metadata": {},
   "outputs": [
    {
     "data": {
      "text/plain": [
       "[4, 3]"
      ]
     },
     "execution_count": 55,
     "metadata": {},
     "output_type": "execute_result"
    }
   ],
   "source": [
    "def greater_frequency(l1,k):\n",
    "    unique=[]\n",
    "    for i in l1:\n",
    "        if i not in unique:\n",
    "            unique.append(i)\n",
    "    l2=[]\n",
    "    for j in unique:\n",
    "        l2.append(l1.count(j))\n",
    "        \n",
    "    freq=[unique[i] for i in range(len(l2)) if l2[i]>k]\n",
    "    return freq\n",
    "greater_frequency([4, 6, 4, 3, 3, 4, 3, 4, 3, 8],3)"
   ]
  },
  {
   "cell_type": "code",
   "execution_count": 60,
   "id": "90c28180",
   "metadata": {},
   "outputs": [
    {
     "name": "stdout",
     "output_type": "stream",
     "text": [
      "enter the number4 6 4 3 3 4 3 4 3 8\n",
      "enter the k vallue3\n",
      "[4, 3]\n"
     ]
    }
   ],
   "source": [
    "from collections import Counter\n",
    "a=input(\"enter the number\")\n",
    "b=int(input(\"enter the k vallue\"))\n",
    "l1=list(map(int,a.split(\" \")))\n",
    "l2=[key for key,val in Counter(l1).items() if(val>b)]\n",
    "print(l2)"
   ]
  },
  {
   "cell_type": "code",
   "execution_count": 66,
   "id": "cbb8c5d3",
   "metadata": {},
   "outputs": [
    {
     "data": {
      "text/plain": [
       "[3, 4]"
      ]
     },
     "execution_count": 66,
     "metadata": {},
     "output_type": "execute_result"
    }
   ],
   "source": [
    "import numpy as np\n",
    "l1=[4, 6, 4, 3, 3, 4, 3, 4, 3, 8]\n",
    "k=3\n",
    "unique,count=np.unique(l1,return_counts=True)\n",
    "res=unique[count>k].tolist()\n",
    "res"
   ]
  },
  {
   "cell_type": "code",
   "execution_count": 67,
   "id": "7320d10f",
   "metadata": {},
   "outputs": [
    {
     "data": {
      "text/plain": [
       "Counter({4: 4, 6: 1, 3: 4, 8: 1})"
      ]
     },
     "execution_count": 67,
     "metadata": {},
     "output_type": "execute_result"
    }
   ],
   "source": [
    "l1=[4, 6, 4, 3, 3, 4, 3, 4, 3, 8]\n"
   ]
  },
  {
   "cell_type": "code",
   "execution_count": 69,
   "id": "69625e4f",
   "metadata": {},
   "outputs": [
    {
     "name": "stdout",
     "output_type": "stream",
     "text": [
      "Counter({4: 3, 3: 3, 8: 2, 6: 1, 7: 1})\n",
      "The required elements : [4, 3]\n"
     ]
    }
   ],
   "source": [
    "from collections import Counter\n",
    " \n",
    "test_list = [4, 6, 4, 3, 3, 4, 3, 7, 8, 8]\n",
    "K = 2\n",
    "freq_dict = Counter(test_list)\n",
    "print(freq_dict)\n",
    "res = list(filter(lambda ele: freq_dict[ele] > K, freq_dict))\n",
    "\n",
    "print(\"The required elements : \" + str(res))"
   ]
  },
  {
   "cell_type": "code",
   "execution_count": 72,
   "id": "b4bd8932",
   "metadata": {},
   "outputs": [
    {
     "data": {
      "text/plain": [
       "True"
      ]
     },
     "execution_count": 72,
     "metadata": {},
     "output_type": "execute_result"
    }
   ],
   "source": [
    "#Test if List contains elements in Range\n",
    "def list_of_range(l1,b,e):\n",
    "    count=0\n",
    "    for i in l1:\n",
    "        if(i>b and i<e):\n",
    "            count+=1\n",
    "    if(len(l1)==count):\n",
    "        return True\n",
    "    else:\n",
    "        return False\n",
    "list_of_range([2,4,5,3,7,8],1,10)"
   ]
  },
  {
   "cell_type": "code",
   "execution_count": 80,
   "id": "a3b6bd57",
   "metadata": {},
   "outputs": [
    {
     "data": {
      "text/plain": [
       "True"
      ]
     },
     "execution_count": 80,
     "metadata": {},
     "output_type": "execute_result"
    }
   ],
   "source": [
    "def list_of_range(l1,b,e):\n",
    "    return all((i>b and i<e) for i in l1)\n",
    "list_of_range([2,4,5,3,7,8],1,10)"
   ]
  },
  {
   "cell_type": "code",
   "execution_count": 87,
   "id": "74c8827c",
   "metadata": {},
   "outputs": [
    {
     "name": "stdout",
     "output_type": "stream",
     "text": [
      "True\n"
     ]
    }
   ],
   "source": [
    "l1=[2,4,5,3,7,8]\n",
    "e=10\n",
    "b=1\n",
    "count=0\n",
    "a=[i for i in l1 if(i>b and i<e)]\n",
    "if(len(a)==len(l1)):\n",
    "    print(True)\n",
    "else:\n",
    "    print(False)"
   ]
  },
  {
   "cell_type": "code",
   "execution_count": 94,
   "id": "02b94995",
   "metadata": {},
   "outputs": [
    {
     "data": {
      "text/plain": [
       "True"
      ]
     },
     "execution_count": 94,
     "metadata": {},
     "output_type": "execute_result"
    }
   ],
   "source": [
    "l1=[2,14,5,3,7,8]\n",
    "b=1\n",
    "e=10\n",
    "def condition(x,b,e):\n",
    "    return b>x<e\n",
    "res=filter(condition,l1)\n",
    "bool(res)  "
   ]
  },
  {
   "cell_type": "code",
   "execution_count": null,
   "id": "2aec3ab7",
   "metadata": {},
   "outputs": [],
   "source": []
  },
  {
   "cell_type": "code",
   "execution_count": null,
   "id": "82215851",
   "metadata": {},
   "outputs": [],
   "source": []
  },
  {
   "cell_type": "code",
   "execution_count": null,
   "id": "e917e695",
   "metadata": {},
   "outputs": [],
   "source": []
  },
  {
   "cell_type": "code",
   "execution_count": null,
   "id": "1d036304",
   "metadata": {},
   "outputs": [],
   "source": []
  },
  {
   "cell_type": "code",
   "execution_count": null,
   "id": "3936639f",
   "metadata": {},
   "outputs": [],
   "source": []
  },
  {
   "cell_type": "code",
   "execution_count": null,
   "id": "61f27609",
   "metadata": {},
   "outputs": [],
   "source": []
  },
  {
   "cell_type": "code",
   "execution_count": null,
   "id": "e065bea3",
   "metadata": {},
   "outputs": [],
   "source": []
  },
  {
   "cell_type": "code",
   "execution_count": null,
   "id": "b020bb61",
   "metadata": {},
   "outputs": [],
   "source": []
  },
  {
   "cell_type": "code",
   "execution_count": null,
   "id": "9a1d1670",
   "metadata": {},
   "outputs": [],
   "source": []
  },
  {
   "cell_type": "code",
   "execution_count": null,
   "id": "909a873e",
   "metadata": {},
   "outputs": [],
   "source": []
  },
  {
   "cell_type": "code",
   "execution_count": null,
   "id": "1887a1ea",
   "metadata": {},
   "outputs": [],
   "source": []
  },
  {
   "cell_type": "code",
   "execution_count": null,
   "id": "365fb7f6",
   "metadata": {},
   "outputs": [],
   "source": []
  },
  {
   "cell_type": "markdown",
   "id": "7b3c36b5",
   "metadata": {},
   "source": [
    "# dictionaries"
   ]
  },
  {
   "cell_type": "code",
   "execution_count": 124,
   "id": "560c11eb",
   "metadata": {},
   "outputs": [],
   "source": [
    "d1={\"name\":\"Nidhisha\",\"age\":23,\"cast\":\"jain\",\"cast\":\"V\"}"
   ]
  },
  {
   "cell_type": "code",
   "execution_count": 125,
   "id": "b87333ac",
   "metadata": {},
   "outputs": [
    {
     "data": {
      "text/plain": [
       "{'name': 'Nidhisha', 'age': 23, 'cast': 'V'}"
      ]
     },
     "execution_count": 125,
     "metadata": {},
     "output_type": "execute_result"
    }
   ],
   "source": [
    "d1"
   ]
  },
  {
   "cell_type": "code",
   "execution_count": 126,
   "id": "1a6ca2fe",
   "metadata": {},
   "outputs": [],
   "source": [
    "d2=dict({\"name\":\"Nidhisha\",\"age\":23,\"cast\":\"jain\"})"
   ]
  },
  {
   "cell_type": "code",
   "execution_count": 127,
   "id": "51716e96",
   "metadata": {},
   "outputs": [
    {
     "data": {
      "text/plain": [
       "{'name': 'Nidhisha', 'age': 23, 'cast': 'jain'}"
      ]
     },
     "execution_count": 127,
     "metadata": {},
     "output_type": "execute_result"
    }
   ],
   "source": [
    "d2"
   ]
  },
  {
   "cell_type": "code",
   "execution_count": 129,
   "id": "d6638cf1",
   "metadata": {},
   "outputs": [],
   "source": [
    "d3=dict({(\"name\",\"nidhi\"),(\"class\",\"Msc\"),(\"age\",23)})"
   ]
  },
  {
   "cell_type": "code",
   "execution_count": 130,
   "id": "818fa679",
   "metadata": {},
   "outputs": [
    {
     "data": {
      "text/plain": [
       "{'class': 'Msc', 'name': 'nidhi', 'age': 23}"
      ]
     },
     "execution_count": 130,
     "metadata": {},
     "output_type": "execute_result"
    }
   ],
   "source": [
    "d3"
   ]
  },
  {
   "cell_type": "code",
   "execution_count": 1,
   "id": "af1b1fb0",
   "metadata": {},
   "outputs": [],
   "source": [
    "d4=dict([(\"name\",\"nidhi\"),(\"class\",\"msc\"),(\"age\",23)])"
   ]
  },
  {
   "cell_type": "code",
   "execution_count": 2,
   "id": "8c1a3527",
   "metadata": {},
   "outputs": [
    {
     "data": {
      "text/plain": [
       "{'name': 'nidhi', 'class': 'msc', 'age': 23}"
      ]
     },
     "execution_count": 2,
     "metadata": {},
     "output_type": "execute_result"
    }
   ],
   "source": [
    "d4"
   ]
  },
  {
   "cell_type": "code",
   "execution_count": null,
   "id": "7d0fe6d4",
   "metadata": {},
   "outputs": [],
   "source": []
  },
  {
   "cell_type": "code",
   "execution_count": 131,
   "id": "f2c7bc94",
   "metadata": {},
   "outputs": [
    {
     "name": "stdout",
     "output_type": "stream",
     "text": [
      "{'name': 'Jessa', 'telephones': [1178, 2563, 4569]}\n"
     ]
    }
   ],
   "source": [
    "person = {\"name\": \"Jessa\", \"telephones\": [1178, 2563, 4569]}\n",
    "print(person)"
   ]
  },
  {
   "cell_type": "code",
   "execution_count": 4,
   "id": "66e5e458",
   "metadata": {},
   "outputs": [],
   "source": [
    "person1=dict({\"name\":\"shraj\",\"age\":22,\"dob\":\"05/11/2000\",\"class\":\"msc\"})"
   ]
  },
  {
   "cell_type": "code",
   "execution_count": 7,
   "id": "63efe3cb",
   "metadata": {},
   "outputs": [
    {
     "data": {
      "text/plain": [
       "'shraj'"
      ]
     },
     "execution_count": 7,
     "metadata": {},
     "output_type": "execute_result"
    }
   ],
   "source": [
    "# accesing the values using [] method and get method\n",
    "person1[\"name\"]"
   ]
  },
  {
   "cell_type": "code",
   "execution_count": 8,
   "id": "24283561",
   "metadata": {},
   "outputs": [
    {
     "data": {
      "text/plain": [
       "22"
      ]
     },
     "execution_count": 8,
     "metadata": {},
     "output_type": "execute_result"
    }
   ],
   "source": [
    "person1.get(\"age\")"
   ]
  },
  {
   "cell_type": "code",
   "execution_count": 14,
   "id": "a54952e4",
   "metadata": {},
   "outputs": [
    {
     "name": "stdout",
     "output_type": "stream",
     "text": [
      "name : shraj\n",
      "age : 22\n",
      "dob : 05/11/2000\n",
      "class : msc\n"
     ]
    }
   ],
   "source": [
    "for key in person1.keys():\n",
    "    print(key,\":\",person1[key])"
   ]
  },
  {
   "cell_type": "code",
   "execution_count": 15,
   "id": "db19d6b8",
   "metadata": {},
   "outputs": [],
   "source": [
    "person1.update({\"caste\":\"jain\",\"sub_caste\":\"3B\"})"
   ]
  },
  {
   "cell_type": "code",
   "execution_count": 16,
   "id": "3e03232e",
   "metadata": {},
   "outputs": [
    {
     "data": {
      "text/plain": [
       "{'name': 'shraj',\n",
       " 'age': 22,\n",
       " 'dob': '05/11/2000',\n",
       " 'class': 'msc',\n",
       " 'caste': 'jain',\n",
       " 'sub_caste': '3B'}"
      ]
     },
     "execution_count": 16,
     "metadata": {},
     "output_type": "execute_result"
    }
   ],
   "source": [
    "person1"
   ]
  },
  {
   "cell_type": "code",
   "execution_count": 18,
   "id": "29877bea",
   "metadata": {},
   "outputs": [],
   "source": [
    "person2=dict([(\"name\",\"abc\"),(\"class\",\"xyz\")])"
   ]
  },
  {
   "cell_type": "code",
   "execution_count": 19,
   "id": "05555c19",
   "metadata": {},
   "outputs": [
    {
     "data": {
      "text/plain": [
       "'london'"
      ]
     },
     "execution_count": 19,
     "metadata": {},
     "output_type": "execute_result"
    }
   ],
   "source": [
    "person2.setdefault(\"country\",\"london\")"
   ]
  },
  {
   "cell_type": "code",
   "execution_count": 20,
   "id": "6ae89690",
   "metadata": {},
   "outputs": [
    {
     "data": {
      "text/plain": [
       "{'name': 'abc', 'class': 'xyz', 'country': 'london'}"
      ]
     },
     "execution_count": 20,
     "metadata": {},
     "output_type": "execute_result"
    }
   ],
   "source": [
    "person2"
   ]
  },
  {
   "cell_type": "code",
   "execution_count": 22,
   "id": "497317d0",
   "metadata": {},
   "outputs": [],
   "source": [
    "person2[\"country\"]=\"mysoru\""
   ]
  },
  {
   "cell_type": "code",
   "execution_count": 23,
   "id": "d207e1f8",
   "metadata": {},
   "outputs": [
    {
     "data": {
      "text/plain": [
       "{'name': 'abc', 'class': 'xyz', 'country': 'mysoru'}"
      ]
     },
     "execution_count": 23,
     "metadata": {},
     "output_type": "execute_result"
    }
   ],
   "source": [
    "person2"
   ]
  },
  {
   "cell_type": "code",
   "execution_count": 72,
   "id": "8d298ef2",
   "metadata": {},
   "outputs": [
    {
     "name": "stdout",
     "output_type": "stream",
     "text": [
      "name : shraj\n",
      "age : 22\n",
      "dob : 05/11/2000\n",
      "class : msc\n"
     ]
    }
   ],
   "source": [
    "for i,j in person1.items():\n",
    "    print(i,\":\",j)"
   ]
  },
  {
   "cell_type": "code",
   "execution_count": 74,
   "id": "16cea6a3",
   "metadata": {},
   "outputs": [
    {
     "data": {
      "text/plain": [
       "{'name': 'shraj',\n",
       " 'age': 22,\n",
       " 'dob': '05/11/2000',\n",
       " 'class': 'msc',\n",
       " 'dept': 'stat'}"
      ]
     },
     "execution_count": 74,
     "metadata": {},
     "output_type": "execute_result"
    }
   ],
   "source": [
    "person1[\"dept\"]=\"stat\"\n",
    "person1"
   ]
  },
  {
   "cell_type": "code",
   "execution_count": 28,
   "id": "8f375cd8",
   "metadata": {},
   "outputs": [
    {
     "data": {
      "text/plain": [
       "'shraj'"
      ]
     },
     "execution_count": 28,
     "metadata": {},
     "output_type": "execute_result"
    }
   ],
   "source": [
    "person1.pop(\"name\")"
   ]
  },
  {
   "cell_type": "code",
   "execution_count": 29,
   "id": "7ac50919",
   "metadata": {},
   "outputs": [
    {
     "data": {
      "text/plain": [
       "{'age': 22,\n",
       " 'dob': '05/11/2000',\n",
       " 'class': 'msc',\n",
       " 'caste': 'jain',\n",
       " 'sub_caste': '3B'}"
      ]
     },
     "execution_count": 29,
     "metadata": {},
     "output_type": "execute_result"
    }
   ],
   "source": [
    "person1"
   ]
  },
  {
   "cell_type": "code",
   "execution_count": 30,
   "id": "3e821c14",
   "metadata": {},
   "outputs": [
    {
     "data": {
      "text/plain": [
       "('sub_caste', '3B')"
      ]
     },
     "execution_count": 30,
     "metadata": {},
     "output_type": "execute_result"
    }
   ],
   "source": [
    "person1.popitem()"
   ]
  },
  {
   "cell_type": "code",
   "execution_count": 31,
   "id": "a47fa17f",
   "metadata": {},
   "outputs": [
    {
     "data": {
      "text/plain": [
       "{'age': 22, 'dob': '05/11/2000', 'class': 'msc', 'caste': 'jain'}"
      ]
     },
     "execution_count": 31,
     "metadata": {},
     "output_type": "execute_result"
    }
   ],
   "source": [
    "person1"
   ]
  },
  {
   "cell_type": "code",
   "execution_count": 34,
   "id": "9893792f",
   "metadata": {},
   "outputs": [],
   "source": [
    "person1.update({\"name\":\"shraj\"})"
   ]
  },
  {
   "cell_type": "code",
   "execution_count": 35,
   "id": "e19bed82",
   "metadata": {},
   "outputs": [],
   "source": [
    "person2.clear()"
   ]
  },
  {
   "cell_type": "code",
   "execution_count": 36,
   "id": "adf6c746",
   "metadata": {},
   "outputs": [
    {
     "data": {
      "text/plain": [
       "{}"
      ]
     },
     "execution_count": 36,
     "metadata": {},
     "output_type": "execute_result"
    }
   ],
   "source": [
    "person2"
   ]
  },
  {
   "cell_type": "code",
   "execution_count": 37,
   "id": "c5210540",
   "metadata": {},
   "outputs": [],
   "source": [
    "p3={\"name\":\"niks\",\"dept\":\"it\",\"age\":26}"
   ]
  },
  {
   "cell_type": "code",
   "execution_count": 39,
   "id": "61a7944b",
   "metadata": {},
   "outputs": [
    {
     "name": "stdout",
     "output_type": "stream",
     "text": [
      "26\n"
     ]
    }
   ],
   "source": [
    "check_age=\"age\"\n",
    "if check_age in p3.keys():\n",
    "    print(p3[check_age])\n",
    "else:\n",
    "    print(\"keys is not found\")"
   ]
  },
  {
   "cell_type": "code",
   "execution_count": null,
   "id": "4989127d",
   "metadata": {},
   "outputs": [],
   "source": [
    "d1={\"name\":\"nidhi\",\"age\":23,\"class\":\"msc\",\"caste\":\"jain\"}\n",
    "s=[\"name\",\"caste\"]\n",
    "for i in d1:\n",
    "    "
   ]
  },
  {
   "cell_type": "code",
   "execution_count": 134,
   "id": "ecb1f417",
   "metadata": {},
   "outputs": [
    {
     "data": {
      "text/plain": [
       "'Nidhisha'"
      ]
     },
     "execution_count": 134,
     "metadata": {},
     "output_type": "execute_result"
    }
   ],
   "source": [
    "d2[\"name\"]"
   ]
  },
  {
   "cell_type": "code",
   "execution_count": 135,
   "id": "bd1c643a",
   "metadata": {},
   "outputs": [
    {
     "data": {
      "text/plain": [
       "'Nidhisha'"
      ]
     },
     "execution_count": 135,
     "metadata": {},
     "output_type": "execute_result"
    }
   ],
   "source": [
    "d2.get(\"name\")"
   ]
  },
  {
   "cell_type": "code",
   "execution_count": 137,
   "id": "089f7ca5",
   "metadata": {},
   "outputs": [
    {
     "name": "stdout",
     "output_type": "stream",
     "text": [
      "name : Nidhisha\n",
      "age : 23\n",
      "cast : jain\n"
     ]
    }
   ],
   "source": [
    "for i in d2:\n",
    "    print(i,\":\",d2[i])"
   ]
  },
  {
   "cell_type": "code",
   "execution_count": 140,
   "id": "37bae578",
   "metadata": {},
   "outputs": [],
   "source": [
    "d2[\"class\"]=\"msc\"\n",
    "d2.update({\"sub_caste\":\"3b\"})"
   ]
  },
  {
   "cell_type": "code",
   "execution_count": 141,
   "id": "180c97a4",
   "metadata": {},
   "outputs": [
    {
     "data": {
      "text/plain": [
       "{'name': 'Nidhisha',\n",
       " 'age': 23,\n",
       " 'cast': 'jain',\n",
       " 'class': 'msc',\n",
       " 'sub_caste': '3b'}"
      ]
     },
     "execution_count": 141,
     "metadata": {},
     "output_type": "execute_result"
    }
   ],
   "source": [
    "d2"
   ]
  },
  {
   "cell_type": "code",
   "execution_count": 142,
   "id": "86244478",
   "metadata": {},
   "outputs": [],
   "source": [
    "# add multiple data at once\n",
    "d2.update({\"wieght\":53,\"height\":166})"
   ]
  },
  {
   "cell_type": "code",
   "execution_count": 143,
   "id": "7cbbe61c",
   "metadata": {},
   "outputs": [
    {
     "data": {
      "text/plain": [
       "{'name': 'Nidhisha',\n",
       " 'age': 23,\n",
       " 'cast': 'jain',\n",
       " 'class': 'msc',\n",
       " 'sub_caste': '3b',\n",
       " 'wieght': 53,\n",
       " 'height': 166}"
      ]
     },
     "execution_count": 143,
     "metadata": {},
     "output_type": "execute_result"
    }
   ],
   "source": [
    "d2"
   ]
  },
  {
   "cell_type": "code",
   "execution_count": 153,
   "id": "d76b0bd7",
   "metadata": {},
   "outputs": [
    {
     "data": {
      "text/plain": [
       "'dml'"
      ]
     },
     "execution_count": 153,
     "metadata": {},
     "output_type": "execute_result"
    }
   ],
   "source": [
    "d2.setdefault(\"area\",\"dml\")"
   ]
  },
  {
   "cell_type": "code",
   "execution_count": 156,
   "id": "2db61629",
   "metadata": {},
   "outputs": [
    {
     "data": {
      "text/plain": [
       "'3b'"
      ]
     },
     "execution_count": 156,
     "metadata": {},
     "output_type": "execute_result"
    }
   ],
   "source": [
    "d2.pop(\"sub_caste\")"
   ]
  },
  {
   "cell_type": "code",
   "execution_count": 157,
   "id": "a7900c06",
   "metadata": {},
   "outputs": [
    {
     "data": {
      "text/plain": [
       "{'name': 'Nidhisha',\n",
       " 'age': 23,\n",
       " 'cast': 'jain',\n",
       " 'class': 'msc',\n",
       " 'wieght': 53,\n",
       " 'height': 166,\n",
       " 'area': 'dml'}"
      ]
     },
     "execution_count": 157,
     "metadata": {},
     "output_type": "execute_result"
    }
   ],
   "source": [
    "d2"
   ]
  },
  {
   "cell_type": "code",
   "execution_count": 80,
   "id": "8bb08f23",
   "metadata": {},
   "outputs": [],
   "source": [
    "#Join two dictionary\n",
    "d1={\"name\":\"nidhi\",\"class\":\"Msc\",\"age\":23}\n",
    "d2={\"name\":\"shraj\",\"class\":\"Msc\",\"age\":22}"
   ]
  },
  {
   "cell_type": "code",
   "execution_count": null,
   "id": "4cf8cfe7",
   "metadata": {},
   "outputs": [],
   "source": []
  },
  {
   "cell_type": "code",
   "execution_count": 159,
   "id": "3b1fbb10",
   "metadata": {},
   "outputs": [],
   "source": [
    "d1.update(d2)"
   ]
  },
  {
   "cell_type": "code",
   "execution_count": null,
   "id": "59e2e2c1",
   "metadata": {},
   "outputs": [],
   "source": []
  },
  {
   "cell_type": "code",
   "execution_count": 160,
   "id": "3bdb8012",
   "metadata": {},
   "outputs": [
    {
     "data": {
      "text/plain": [
       "{'name': 'shraj', 'class': 'Msc', 'age': 22}"
      ]
     },
     "execution_count": 160,
     "metadata": {},
     "output_type": "execute_result"
    }
   ],
   "source": [
    "d1"
   ]
  },
  {
   "cell_type": "code",
   "execution_count": 162,
   "id": "38c8a7ed",
   "metadata": {},
   "outputs": [],
   "source": [
    "# **kwargs\n",
    "d1={\"sr\":12,\"gs\":34,\"fe\":21}\n",
    "d2={\"jk\":65,\"gs\":12,\"ae\":44}\n",
    "d3={\"gkm\":66,\"dg\":87,\"sdca\":11}\n",
    "d4={**d1,**d2,**d3}"
   ]
  },
  {
   "cell_type": "code",
   "execution_count": 163,
   "id": "2da37129",
   "metadata": {},
   "outputs": [
    {
     "data": {
      "text/plain": [
       "{'sr': 12,\n",
       " 'gs': 12,\n",
       " 'fe': 21,\n",
       " 'jk': 65,\n",
       " 'ae': 44,\n",
       " 'gkm': 66,\n",
       " 'dg': 87,\n",
       " 'sdca': 11}"
      ]
     },
     "execution_count": 163,
     "metadata": {},
     "output_type": "execute_result"
    }
   ],
   "source": [
    "d4"
   ]
  },
  {
   "cell_type": "code",
   "execution_count": 83,
   "id": "3d0df76e",
   "metadata": {},
   "outputs": [],
   "source": [
    "# creating the nested dictionaries\n",
    "address={\"nation\":\"India\",\"state\":\"karnataka\"}\n",
    "person={\"name\":\"Nidhisha\",\"age\":23,\"address\":address}"
   ]
  },
  {
   "cell_type": "code",
   "execution_count": 84,
   "id": "90587f01",
   "metadata": {},
   "outputs": [
    {
     "data": {
      "text/plain": [
       "'karnataka'"
      ]
     },
     "execution_count": 84,
     "metadata": {},
     "output_type": "execute_result"
    }
   ],
   "source": [
    "person[\"address\"][\"state\"]"
   ]
  },
  {
   "cell_type": "code",
   "execution_count": 85,
   "id": "07d11972",
   "metadata": {},
   "outputs": [
    {
     "data": {
      "text/plain": [
       "{'name': 'Nidhisha',\n",
       " 'age': 23,\n",
       " 'address': {'nation': 'India', 'state': 'karnataka'}}"
      ]
     },
     "execution_count": 85,
     "metadata": {},
     "output_type": "execute_result"
    }
   ],
   "source": [
    "person"
   ]
  },
  {
   "cell_type": "code",
   "execution_count": 86,
   "id": "fe9d7f5b",
   "metadata": {},
   "outputs": [
    {
     "data": {
      "text/plain": [
       "dict_items([('name', 'Nidhisha'), ('age', 23), ('address', {'nation': 'India', 'state': 'karnataka'})])"
      ]
     },
     "execution_count": 86,
     "metadata": {},
     "output_type": "execute_result"
    }
   ],
   "source": [
    "person.items()"
   ]
  },
  {
   "cell_type": "code",
   "execution_count": 88,
   "id": "60634e27",
   "metadata": {},
   "outputs": [
    {
     "name": "stdout",
     "output_type": "stream",
     "text": [
      "name : Nidhisha\n",
      "age : 23\n",
      "nation : India\n",
      "state : karnataka\n"
     ]
    }
   ],
   "source": [
    "for key,value in person.items():\n",
    "    if key==\"address\":\n",
    "        for nested_key, nested_value in value.items():\n",
    "            print(nested_key, ':', nested_value)\n",
    "    else:\n",
    "        print(key,\":\",value)"
   ]
  },
  {
   "cell_type": "code",
   "execution_count": 183,
   "id": "b5d225f1",
   "metadata": {},
   "outputs": [
    {
     "data": {
      "text/plain": [
       "dict_items([('nation', 'India'), ('state', 'karnataka')])"
      ]
     },
     "execution_count": 183,
     "metadata": {},
     "output_type": "execute_result"
    }
   ],
   "source": [
    "val.items()"
   ]
  },
  {
   "cell_type": "code",
   "execution_count": 67,
   "id": "8da1fe8f",
   "metadata": {},
   "outputs": [
    {
     "name": "stdout",
     "output_type": "stream",
     "text": [
      "dict_items([('name', 'Jessa'), ('company', 'Google'), ('address', {'state': 'Texas', 'city': 'Houston'})])\n",
      "person: {'name': 'Jessa', 'company': 'Google', 'address': {'state': 'Texas', 'city': 'Houston'}}\n",
      "City: Houston\n",
      "Person details\n",
      "name : Jessa\n",
      "company : Google\n",
      "Person Address\n",
      "state : Texas\n",
      "city : Houston\n"
     ]
    }
   ],
   "source": [
    "address = {\"state\": \"Texas\", 'city': 'Houston'}\n",
    "\n",
    "# dictionary to store person details with address as a nested dictionary\n",
    "person = {'name': 'Jessa', 'company': 'Google', 'address': address}\n",
    "\n",
    "# Display dictionary\n",
    "print(\"person:\", person)\n",
    "\n",
    "# Get nested dictionary key 'city'\n",
    "print(\"City:\", person['address']['city'])\n",
    "\n",
    "# Iterating outer dictionary\n",
    "print(\"Person details\")\n",
    "for key, value in person.items():\n",
    "    if key == 'address':\n",
    "        # Iterating through nested dictionary\n",
    "        print(\"Person Address\")\n",
    "        for nested_key, nested_value in value.items():\n",
    "            print(nested_key, ':', nested_value)\n",
    "    else:\n",
    "        print(key, ':', value)"
   ]
  },
  {
   "cell_type": "code",
   "execution_count": 97,
   "id": "df08acdc",
   "metadata": {},
   "outputs": [
    {
     "data": {
      "text/plain": [
       "{'nidhisha': {'class': 'Msc', 'age': 23, 'place': 'dml'},\n",
       " 'madhura': {'class': 'mcom', 'age': 21, 'place': 'ujire'},\n",
       " 'geetha': {'class': 'bsc', 'age': 20, 'place': 'dml'}}"
      ]
     },
     "execution_count": 97,
     "metadata": {},
     "output_type": "execute_result"
    }
   ],
   "source": [
    "student_details.setdefault(\"place\",\"dml\")\n",
    "nidhisha={\"class\":\"Msc\",\"age\":23,\"place\":\"dml\"}\n",
    "madhura={\"class\":\"mcom\",\"age\":21,\"place\":\"ujire\"}\n",
    "geetha={\"class\":\"bsc\",\"age\":20,\"place\":\"dml\"}\n",
    "student_details={\"nidhisha\":nidhisha,\"madhura\":madhura,\"geetha\":geetha}\n",
    "student_details"
   ]
  },
  {
   "cell_type": "code",
   "execution_count": 99,
   "id": "d91f7324",
   "metadata": {},
   "outputs": [
    {
     "data": {
      "text/plain": [
       "{'class': 'bsc', 'age': 20, 'place': 'dml'}"
      ]
     },
     "execution_count": 99,
     "metadata": {},
     "output_type": "execute_result"
    }
   ],
   "source": [
    "student_details[\"geetha\"]"
   ]
  },
  {
   "cell_type": "code",
   "execution_count": 104,
   "id": "c1adba13",
   "metadata": {},
   "outputs": [
    {
     "name": "stdout",
     "output_type": "stream",
     "text": [
      "student detsils\n",
      "\n",
      "nidhisha\n",
      "class : Msc\n",
      "age : 23\n",
      "place : dml\n",
      "madhura\n",
      "class : mcom\n",
      "age : 21\n",
      "place : ujire\n",
      "geetha\n",
      "class : bsc\n",
      "age : 20\n",
      "place : dml\n"
     ]
    }
   ],
   "source": [
    "print(\"student detsils\")\n",
    "print()\n",
    "for key, val in student_details.items():\n",
    "    print(key)\n",
    "    for i,j in val.items():\n",
    "        print(i,\":\",j)\n",
    "    "
   ]
  },
  {
   "cell_type": "code",
   "execution_count": 105,
   "id": "4fbc6857",
   "metadata": {},
   "outputs": [],
   "source": [
    "# sort in dictionary\n",
    "#sorted() it sort the key value of the dictionary"
   ]
  },
  {
   "cell_type": "code",
   "execution_count": 106,
   "id": "610f45ab",
   "metadata": {},
   "outputs": [
    {
     "data": {
      "text/plain": [
       "['a', 'b', 'd']"
      ]
     },
     "execution_count": 106,
     "metadata": {},
     "output_type": "execute_result"
    }
   ],
   "source": [
    "d1=dict({(\"b\",23),(\"d\",45),(\"a\",12)})\n",
    "sorted(d1)"
   ]
  },
  {
   "cell_type": "code",
   "execution_count": 109,
   "id": "c96ef79c",
   "metadata": {},
   "outputs": [
    {
     "name": "stdout",
     "output_type": "stream",
     "text": [
      "[12, 23, 45]\n"
     ]
    }
   ],
   "source": [
    "print(sorted(d1.values()))"
   ]
  },
  {
   "cell_type": "code",
   "execution_count": 110,
   "id": "d421a82a",
   "metadata": {},
   "outputs": [
    {
     "name": "stdout",
     "output_type": "stream",
     "text": [
      "[('a', 12), ('b', 23), ('d', 45)]\n"
     ]
    }
   ],
   "source": [
    "print(sorted(d1.items()))"
   ]
  },
  {
   "cell_type": "code",
   "execution_count": 112,
   "id": "be67a241",
   "metadata": {},
   "outputs": [
    {
     "name": "stdout",
     "output_type": "stream",
     "text": [
      "{2: 4, 4: 16, 6: 36}\n"
     ]
    }
   ],
   "source": [
    "#print square of the even number in the list and sotre it to dictionary\n",
    "l1=[1,2,3,4,5,6]\n",
    "square_even={x:x**2 for x in l1 if x%2==0}\n",
    "print(square_even)"
   ]
  },
  {
   "cell_type": "code",
   "execution_count": 114,
   "id": "5d7fb6d0",
   "metadata": {},
   "outputs": [
    {
     "name": "stdout",
     "output_type": "stream",
     "text": [
      "{'nidhi': 23, 'shraj': 45, 'geetha': 45}\n"
     ]
    }
   ],
   "source": [
    "name=[\"nidhi\",\"shraj\",\"geetha\"]\n",
    "age=[23,45,45]\n",
    "details={key:val for key,val in zip(name,age)}\n",
    "print(details)"
   ]
  },
  {
   "cell_type": "code",
   "execution_count": 116,
   "id": "77e4a75e",
   "metadata": {},
   "outputs": [
    {
     "name": "stdout",
     "output_type": "stream",
     "text": [
      "{'nidhi': 23, 'shraj': 45, 'geetha': 45}\n"
     ]
    }
   ],
   "source": [
    "#Convert two lists into a dictionary\n",
    "name=[\"nidhi\",\"shraj\",\"geetha\"]\n",
    "age=[23,45,45]\n",
    "details={key:value for key, value in zip(name,age)}\n",
    "print(details)"
   ]
  },
  {
   "cell_type": "code",
   "execution_count": 120,
   "id": "7f9948ff",
   "metadata": {},
   "outputs": [
    {
     "name": "stdout",
     "output_type": "stream",
     "text": [
      "{'nidhi': 23, 'shraj': 45, 'geetha': 45}\n"
     ]
    }
   ],
   "source": [
    "# other method\n",
    "name=[\"nidhi\",\"shraj\",\"geetha\"]\n",
    "age=[23,45,45]\n",
    "d1=dict(zip(name,age))\n",
    "print(d1)"
   ]
  },
  {
   "cell_type": "code",
   "execution_count": 126,
   "id": "0439c541",
   "metadata": {},
   "outputs": [
    {
     "name": "stdout",
     "output_type": "stream",
     "text": [
      "{'Ten': 10, 'Twenty': 20, 'Thirty': 30, 'Fourty': 40, 'Fifty': 50}\n",
      "{'Ten': 10, 'Twenty': 20, 'Thirty': 30, 'Fourty': 40, 'Fifty': 50}\n"
     ]
    }
   ],
   "source": [
    "# Merge two Python dictionaries into one\n",
    "dict1 = {'Ten': 10, 'Twenty': 20, 'Thirty': 30}\n",
    "dict2 = {'Thirty': 30, 'Fourty': 40, 'Fifty': 50}\n",
    "#1\n",
    "dict1.update(dict2)\n",
    "print(dict1)\n",
    "#2\n",
    "d4=dict({**dict1,**dict2})\n",
    "print(d4)"
   ]
  },
  {
   "cell_type": "code",
   "execution_count": 131,
   "id": "b41b17f0",
   "metadata": {},
   "outputs": [
    {
     "data": {
      "text/plain": [
       "80"
      ]
     },
     "execution_count": 131,
     "metadata": {},
     "output_type": "execute_result"
    }
   ],
   "source": [
    "sampleDict = { \"class\": {\"student\": {\"name\": \"Mike\",\"marks\": {\"physics\": 70,\"history\": 80}}}}\n",
    "\n",
    "#call history value 80\n",
    "sampleDict[\"class\"][\"student\"][\"marks\"][\"history\"]"
   ]
  },
  {
   "cell_type": "code",
   "execution_count": 137,
   "id": "14bbd75d",
   "metadata": {},
   "outputs": [
    {
     "name": "stdout",
     "output_type": "stream",
     "text": [
      "{'Kelly': {'designation': 'Developer', 'salary': 8000}, 'Emma': {'designation': 'Developer', 'salary': 8000}}\n"
     ]
    }
   ],
   "source": [
    "employees = ['Kelly', 'Emma']\n",
    "defaults = {\"designation\": 'Developer', \"salary\": 8000}\n",
    "res = dict.fromkeys(employees, defaults)\n",
    "print(res)"
   ]
  },
  {
   "cell_type": "code",
   "execution_count": null,
   "id": "40fbe4a0",
   "metadata": {},
   "outputs": [],
   "source": []
  },
  {
   "cell_type": "code",
   "execution_count": 61,
   "id": "26ac6af1",
   "metadata": {},
   "outputs": [],
   "source": [
    "employees = ['Kelly', 'Emma']\n",
    "dept=[\"hr\",\"sales\"]\n",
    "defaults = {\"dept\":dept,\"designation\": 'Developer', \"salary\": 8000}\n"
   ]
  },
  {
   "cell_type": "code",
   "execution_count": 66,
   "id": "e65657b7",
   "metadata": {},
   "outputs": [
    {
     "name": "stdout",
     "output_type": "stream",
     "text": [
      "{'Kelly': {'dept': ['hr', 'sales'], 'designation': 'Developer', 'salary': 8000}, 'Emma': {'dept': ['hr', 'sales'], 'designation': 'Developer', 'salary': 8000}}\n"
     ]
    }
   ],
   "source": [
    "for i in defaults:\n",
    "    if(\"dept\"==dept):\n",
    "        dept.update(dept)\n",
    "res=dict.fromkeys(employees, defaults)\n",
    "print(res)"
   ]
  },
  {
   "cell_type": "code",
   "execution_count": 82,
   "id": "a2afbdc2",
   "metadata": {},
   "outputs": [],
   "source": [
    "#Create a dictionary by extracting the keys from a given dictionary\n",
    "sample_dict = {\n",
    "    \"name\": \"Kelly\",\n",
    "    \"age\": 25,\n",
    "    \"salary\": 8000,\n",
    "    \"city\": \"New york\"}\n",
    "keys=[\"name\",\"salary\"]\n"
   ]
  },
  {
   "cell_type": "code",
   "execution_count": 91,
   "id": "43327c51",
   "metadata": {},
   "outputs": [
    {
     "name": "stdout",
     "output_type": "stream",
     "text": [
      "{'name': 'Kelly', 'salary': 8000}\n"
     ]
    }
   ],
   "source": [
    "d1={}\n",
    "for i in keys:\n",
    "    d1.update(dict({i:sample_dict[i]}))\n",
    "print(d1)"
   ]
  },
  {
   "cell_type": "code",
   "execution_count": 88,
   "id": "8105a58b",
   "metadata": {},
   "outputs": [
    {
     "name": "stdout",
     "output_type": "stream",
     "text": [
      "{'name': 'Kelly', 'salary': 8000}\n"
     ]
    }
   ],
   "source": [
    "d1={i:sample_dict[i] for i in keys}\n",
    "print(d1)"
   ]
  },
  {
   "cell_type": "code",
   "execution_count": 134,
   "id": "e319d54b",
   "metadata": {},
   "outputs": [],
   "source": [
    "#Delete a list of keys from a dictionary\n",
    "sample_dict = {\n",
    "    \"name\": \"Kelly\",\n",
    "    \"age\": 25,\n",
    "    \"salary\": 8000,\n",
    "    \"city\": \"New york\"\n",
    "}\n",
    "\n",
    "# Keys to remove\n",
    "keys = [\"name\", \"salary\"]"
   ]
  },
  {
   "cell_type": "code",
   "execution_count": 135,
   "id": "dd5d6453",
   "metadata": {},
   "outputs": [
    {
     "name": "stdout",
     "output_type": "stream",
     "text": [
      "{'age': 25, 'city': 'New york'}\n"
     ]
    }
   ],
   "source": [
    "for i in keys:\n",
    "    sample_dict.pop(i)\n",
    "print(sample_dict)"
   ]
  },
  {
   "cell_type": "code",
   "execution_count": 42,
   "id": "1f268e3f",
   "metadata": {},
   "outputs": [],
   "source": [
    "fav=dict({\"food\":\"burger\",\"snacks\":\"momos\",\"sub\":\"stat\"})\n",
    "d1=dict({\"roll_no\":\"214006\",\"class\":\"msc\",\"dob\":\"24-08-2000\",\"fav\":fav})"
   ]
  },
  {
   "cell_type": "code",
   "execution_count": 43,
   "id": "479a196e",
   "metadata": {},
   "outputs": [
    {
     "data": {
      "text/plain": [
       "{'roll_no': '214006',\n",
       " 'class': 'msc',\n",
       " 'dob': '24-08-2000',\n",
       " 'fav': {'food': 'burger', 'snacks': 'momos', 'sub': 'stat'}}"
      ]
     },
     "execution_count": 43,
     "metadata": {},
     "output_type": "execute_result"
    }
   ],
   "source": [
    "d1"
   ]
  },
  {
   "cell_type": "code",
   "execution_count": 50,
   "id": "3aee8097",
   "metadata": {},
   "outputs": [
    {
     "name": "stdout",
     "output_type": "stream",
     "text": [
      "roll_no : 214006\n",
      "class : msc\n",
      "dob : 24-08-2000\n",
      "food : burger\n",
      "snacks : momos\n",
      "sub : stat\n"
     ]
    }
   ],
   "source": [
    "for key,val in d1.items():\n",
    "    if(key==\"fav\"):\n",
    "        for i,j in val.items():\n",
    "            print(i,\":\",j)\n",
    "    else:\n",
    "        print(key,\":\",val)"
   ]
  },
  {
   "cell_type": "code",
   "execution_count": 52,
   "id": "37113ab2",
   "metadata": {},
   "outputs": [
    {
     "data": {
      "text/plain": [
       "{'name': 'nidhi', 'class': 'th', 'age': 23}"
      ]
     },
     "execution_count": 52,
     "metadata": {},
     "output_type": "execute_result"
    }
   ],
   "source": [
    "l1=[\"name\",\"class\",\"age\"]\n",
    "l2=[\"nidhi\",\"th\",23]\n",
    "d4=dict(zip(l1,l2))\n",
    "d4"
   ]
  },
  {
   "cell_type": "code",
   "execution_count": 54,
   "id": "fd8598b6",
   "metadata": {},
   "outputs": [
    {
     "data": {
      "text/plain": [
       "['age', 'class', 'name']"
      ]
     },
     "execution_count": 54,
     "metadata": {},
     "output_type": "execute_result"
    }
   ],
   "source": [
    "l1.sort()\n",
    "l1"
   ]
  },
  {
   "cell_type": "code",
   "execution_count": 57,
   "id": "ad13ce1e",
   "metadata": {},
   "outputs": [
    {
     "data": {
      "text/plain": [
       "{1: 'one', 2: 'two', 3: 'three'}"
      ]
     },
     "execution_count": 57,
     "metadata": {},
     "output_type": "execute_result"
    }
   ],
   "source": [
    "d5=dict([(1,\"one\"),(2,\"two\"),(3,\"three\")])\n",
    "d5"
   ]
  },
  {
   "cell_type": "code",
   "execution_count": 63,
   "id": "743c110c",
   "metadata": {},
   "outputs": [
    {
     "data": {
      "text/plain": [
       "['one', 'three', 'two']"
      ]
     },
     "execution_count": 63,
     "metadata": {},
     "output_type": "execute_result"
    }
   ],
   "source": [
    "sorted(d5.values())\n"
   ]
  },
  {
   "cell_type": "code",
   "execution_count": 19,
   "id": "919450c7",
   "metadata": {},
   "outputs": [
    {
     "data": {
      "text/plain": [
       "{'name': 'nidhi', 'class': 'msc', 'section': 'a'}"
      ]
     },
     "execution_count": 19,
     "metadata": {},
     "output_type": "execute_result"
    }
   ],
   "source": [
    "d1=dict([(\"name\",\"nidhi\"),(\"class\",\"msc\"),(\"section\",\"a\")])\n",
    "d1"
   ]
  },
  {
   "cell_type": "code",
   "execution_count": 21,
   "id": "f8365967",
   "metadata": {},
   "outputs": [
    {
     "data": {
      "text/plain": [
       "['a', 'msc', 'nidhi']"
      ]
     },
     "execution_count": 21,
     "metadata": {},
     "output_type": "execute_result"
    }
   ],
   "source": [
    "sorted(d1.values())"
   ]
  },
  {
   "cell_type": "code",
   "execution_count": 23,
   "id": "4b5f7313",
   "metadata": {},
   "outputs": [
    {
     "data": {
      "text/plain": [
       "{'name': 'nidhisha', 'class': 'msc', 'age': '23'}"
      ]
     },
     "execution_count": 23,
     "metadata": {},
     "output_type": "execute_result"
    }
   ],
   "source": [
    "l1=[\"name\",\"class\",\"age\"]\n",
    "l2=[\"nidhisha\",\"msc\",\"23\"]\n",
    "d1={key:val for key,val in zip(l1,l2)}\n",
    "d1"
   ]
  },
  {
   "cell_type": "code",
   "execution_count": 25,
   "id": "e66fabc8",
   "metadata": {},
   "outputs": [
    {
     "data": {
      "text/plain": [
       "{2: 4, 4: 16, 11: 121, 23: 529}"
      ]
     },
     "execution_count": 25,
     "metadata": {},
     "output_type": "execute_result"
    }
   ],
   "source": [
    "l1=[2,4,11,23]\n",
    "d1={i:i*i for i in l1}\n",
    "d1"
   ]
  },
  {
   "cell_type": "code",
   "execution_count": 26,
   "id": "27c1c1a3",
   "metadata": {},
   "outputs": [
    {
     "data": {
      "text/plain": [
       "{'name': 'nidhi', 'class': 'msc'}"
      ]
     },
     "execution_count": 26,
     "metadata": {},
     "output_type": "execute_result"
    }
   ],
   "source": [
    "# convert the list in dict\n",
    "l1=[\"name\",\"class\"]\n",
    "l2=[\"nidhi\",\"msc\"]\n",
    "d1={key:val for key,val in zip(l1,l2)}\n",
    "d1"
   ]
  },
  {
   "cell_type": "code",
   "execution_count": 28,
   "id": "f31c284e",
   "metadata": {},
   "outputs": [
    {
     "data": {
      "text/plain": [
       "{'name': 'nidhi', 'class': 'msc'}"
      ]
     },
     "execution_count": 28,
     "metadata": {},
     "output_type": "execute_result"
    }
   ],
   "source": [
    "d2=dict(zip(l1,l2))\n",
    "d2"
   ]
  },
  {
   "cell_type": "code",
   "execution_count": 31,
   "id": "88c36f97",
   "metadata": {},
   "outputs": [
    {
     "data": {
      "text/plain": [
       "{'name': 'nidhi', 'class': 'msc'}"
      ]
     },
     "execution_count": 31,
     "metadata": {},
     "output_type": "execute_result"
    }
   ],
   "source": [
    "l1=[\"name\",\"class\"]\n",
    "l2=[\"nidhi\",\"msc\"]\n",
    "d3={}\n",
    "for i in range(len(l1)):\n",
    "    d3.update({l1[i]:l2[i]})\n",
    "d3"
   ]
  },
  {
   "cell_type": "code",
   "execution_count": 40,
   "id": "09e2d989",
   "metadata": {},
   "outputs": [
    {
     "data": {
      "text/plain": [
       "{'Ten': 10, 'Twenty': 20, 'Thirty': 30, 'Fourty': 40, 'Fifty': 50}"
      ]
     },
     "execution_count": 40,
     "metadata": {},
     "output_type": "execute_result"
    }
   ],
   "source": [
    "# merging the two dictionaries\n",
    "dict1 = {'Ten': 10, 'Twenty': 20, 'Thirty': 30}\n",
    "dict2 = {'Thirty': 30, 'Fourty': 40, 'Fifty': 50}\n",
    "dict1.update(dict2)\n",
    "dict1"
   ]
  },
  {
   "cell_type": "code",
   "execution_count": 41,
   "id": "1861d785",
   "metadata": {},
   "outputs": [
    {
     "data": {
      "text/plain": [
       "{'Ten': 10, 'Twenty': 20, 'Thirty': 30, 'Fourty': 40, 'Fifty': 50}"
      ]
     },
     "execution_count": 41,
     "metadata": {},
     "output_type": "execute_result"
    }
   ],
   "source": [
    "dict1 = {'Ten': 10, 'Twenty': 20, 'Thirty': 30}\n",
    "dict2 = {'Thirty': 30, 'Fourty': 40, 'Fifty': 50}\n",
    "dict3=dict1.copy()\n",
    "dict3.update(dict2)\n",
    "dict3"
   ]
  },
  {
   "cell_type": "code",
   "execution_count": 43,
   "id": "41d3b33d",
   "metadata": {},
   "outputs": [
    {
     "data": {
      "text/plain": [
       "{'Ten': 10, 'Twenty': 20, 'Thirty': 30, 'Fourty': 40, 'Fifty': 50}"
      ]
     },
     "execution_count": 43,
     "metadata": {},
     "output_type": "execute_result"
    }
   ],
   "source": [
    "dict4={**dict1,**dict2}\n",
    "dict4"
   ]
  },
  {
   "cell_type": "code",
   "execution_count": null,
   "id": "719f1223",
   "metadata": {},
   "outputs": [],
   "source": [
    "# merging the dicts"
   ]
  },
  {
   "cell_type": "code",
   "execution_count": 27,
   "id": "fc34366d",
   "metadata": {},
   "outputs": [
    {
     "data": {
      "text/plain": [
       "{'x': 10, 'y': 20, 'a': 30, 'b': 40}"
      ]
     },
     "execution_count": 27,
     "metadata": {},
     "output_type": "execute_result"
    }
   ],
   "source": [
    "def merge(d1,d2):\n",
    "    for i in d2.keys():\n",
    "        d1[i]=d2[i]\n",
    "    return d1\n",
    "d1={\"x\":10,\"y\":20}\n",
    "d2={\"a\":30,\"b\":40}\n",
    "merge(d1,d2)"
   ]
  },
  {
   "cell_type": "code",
   "execution_count": null,
   "id": "7f212dad",
   "metadata": {},
   "outputs": [],
   "source": []
  },
  {
   "cell_type": "code",
   "execution_count": 45,
   "id": "5df15a17",
   "metadata": {},
   "outputs": [],
   "source": [
    "sampleDict = {\"class\": {\"student\": {\"name\": \"Mike\",\"marks\": {\"physics\": 70,\"history\": 80}}} }"
   ]
  },
  {
   "cell_type": "code",
   "execution_count": 46,
   "id": "62bc7d67",
   "metadata": {},
   "outputs": [
    {
     "data": {
      "text/plain": [
       "80"
      ]
     },
     "execution_count": 46,
     "metadata": {},
     "output_type": "execute_result"
    }
   ],
   "source": [
    "sampleDict[\"class\"][\"student\"][\"marks\"][\"history\"]"
   ]
  },
  {
   "cell_type": "code",
   "execution_count": 51,
   "id": "8bfa6a88",
   "metadata": {},
   "outputs": [
    {
     "data": {
      "text/plain": [
       "{'Kelly': {'designation': 'Developer', 'salary': 8000},\n",
       " 'Emma': {'designation': 'Developer', 'salary': 8000}}"
      ]
     },
     "execution_count": 51,
     "metadata": {},
     "output_type": "execute_result"
    }
   ],
   "source": [
    "employees = ['Kelly', 'Emma']\n",
    "defaults = {\"designation\": 'Developer', \"salary\": 8000}\n",
    "\n",
    "res=dict.fromkeys(employees,defaults)\n",
    "res"
   ]
  },
  {
   "cell_type": "code",
   "execution_count": 52,
   "id": "5a1d1525",
   "metadata": {},
   "outputs": [],
   "source": [
    "sample_dict = {\n",
    "    \"name\": \"Kelly\",\n",
    "    \"age\": 25,\n",
    "    \"salary\": 8000,\n",
    "    \"city\": \"New york\"}\n",
    "\n",
    "# Keys to extract\n",
    "keys = [\"name\", \"salary\"]"
   ]
  },
  {
   "cell_type": "code",
   "execution_count": 65,
   "id": "58db552b",
   "metadata": {},
   "outputs": [
    {
     "data": {
      "text/plain": [
       "{'name': 'Kelly', 'salary': 8000}"
      ]
     },
     "execution_count": 65,
     "metadata": {},
     "output_type": "execute_result"
    }
   ],
   "source": [
    "dict1={}\n",
    "for i in keys:\n",
    "    dict1.update({i:sample_dict[i]})\n",
    "dict1"
   ]
  },
  {
   "cell_type": "code",
   "execution_count": 67,
   "id": "cb3ae08d",
   "metadata": {},
   "outputs": [
    {
     "data": {
      "text/plain": [
       "{'name': 'Kelly', 'salary': 8000}"
      ]
     },
     "execution_count": 67,
     "metadata": {},
     "output_type": "execute_result"
    }
   ],
   "source": [
    "# list comprehesion\n",
    "dict2={i:sample_dict[i] for i in keys}\n",
    "dict2"
   ]
  },
  {
   "cell_type": "code",
   "execution_count": 72,
   "id": "e0f1e695",
   "metadata": {},
   "outputs": [
    {
     "name": "stdout",
     "output_type": "stream",
     "text": [
      "200 is present in dict\n"
     ]
    }
   ],
   "source": [
    "# to check the value in the dict\n",
    "sample_dict = {'a': 100, 'b': 200, 'c': 300}\n",
    "for i,j in sample_dict.items():\n",
    "    if(j==200):\n",
    "        print(\"200 is present in dict\")\n",
    "    else:\n",
    "        None"
   ]
  },
  {
   "cell_type": "code",
   "execution_count": 73,
   "id": "f21a6610",
   "metadata": {},
   "outputs": [
    {
     "name": "stdout",
     "output_type": "stream",
     "text": [
      "200 is present in dict\n"
     ]
    }
   ],
   "source": [
    "sample_dict = {'a': 100, 'b': 200, 'c': 300}\n",
    "for i in sample_dict.values():\n",
    "    print(\"200 is present in dict\") if (i==200) else None"
   ]
  },
  {
   "cell_type": "code",
   "execution_count": 76,
   "id": "c6b97ee4",
   "metadata": {},
   "outputs": [
    {
     "name": "stdout",
     "output_type": "stream",
     "text": [
      "200 is present in dict\n"
     ]
    }
   ],
   "source": [
    "sample_dict = {'a': 100, 'b': 200, 'c': 300}\n",
    "if 200 in sample_dict.values():\n",
    "    print(\"200 is present in dict\") \n",
    "    "
   ]
  },
  {
   "cell_type": "code",
   "execution_count": 85,
   "id": "427a7f0b",
   "metadata": {},
   "outputs": [
    {
     "data": {
      "text/plain": [
       "'dml'"
      ]
     },
     "execution_count": 85,
     "metadata": {},
     "output_type": "execute_result"
    }
   ],
   "source": [
    "sample_dict=dict({\"name\":\"madhura\",\"age\":20,\"city\":\"dml\"})\n",
    "sample_dict.pop(\"city\")"
   ]
  },
  {
   "cell_type": "code",
   "execution_count": 88,
   "id": "5ba1dfdd",
   "metadata": {},
   "outputs": [
    {
     "data": {
      "text/plain": [
       "{'name': 'madhura', 'age': 20, 'location': 'dml'}"
      ]
     },
     "execution_count": 88,
     "metadata": {},
     "output_type": "execute_result"
    }
   ],
   "source": [
    "sample_dict\n",
    "sample_dict[\"location\"]=\"dml\"\n",
    "sample_dict"
   ]
  },
  {
   "cell_type": "code",
   "execution_count": 89,
   "id": "2499f278",
   "metadata": {},
   "outputs": [],
   "source": [
    "sample_dict = {\"name\": \"Kelly\",\"age\": 25,\"salary\": 8000,\"city\": \"New york\"}\n",
    "sample_dict[\"location\"]=sample_dict.pop(\"city\")"
   ]
  },
  {
   "cell_type": "code",
   "execution_count": 95,
   "id": "3a994d4a",
   "metadata": {},
   "outputs": [
    {
     "data": {
      "text/plain": [
       "24"
      ]
     },
     "execution_count": 95,
     "metadata": {},
     "output_type": "execute_result"
    }
   ],
   "source": [
    "# get the minimum value in the given dict\n",
    "dict1={\"maths\":95,\"Stat\":24,\"cs\":64}\n",
    "min(dict1.values())"
   ]
  },
  {
   "cell_type": "code",
   "execution_count": 96,
   "id": "3f9d3f5e",
   "metadata": {},
   "outputs": [],
   "source": [
    "sample_dict={\"nidhi\":{\"age\":23,\"caste\":\"jain\"},\n",
    "            \"niks\":{\"age\":26,\"caste\":\"jain\"},\n",
    "            \"veer\":{\"age\":29,\"caste\":\"gowda\"}}"
   ]
  },
  {
   "cell_type": "code",
   "execution_count": 97,
   "id": "b127ffc7",
   "metadata": {},
   "outputs": [],
   "source": [
    "sample_dict[\"veer\"][\"age\"]=26"
   ]
  },
  {
   "cell_type": "code",
   "execution_count": 98,
   "id": "b4c840e2",
   "metadata": {},
   "outputs": [
    {
     "data": {
      "text/plain": [
       "{'nidhi': {'age': 23, 'caste': 'jain'},\n",
       " 'niks': {'age': 26, 'caste': 'jain'},\n",
       " 'veer': {'age': 26, 'caste': 'gowda'}}"
      ]
     },
     "execution_count": 98,
     "metadata": {},
     "output_type": "execute_result"
    }
   ],
   "source": [
    "sample_dict"
   ]
  },
  {
   "cell_type": "code",
   "execution_count": 107,
   "id": "f26241fb",
   "metadata": {},
   "outputs": [],
   "source": [
    "# geeksofgeeks\n",
    "#sort the dict\n",
    "dict1={\"three\":3,\"two\":2,\"one\":1}"
   ]
  },
  {
   "cell_type": "code",
   "execution_count": 101,
   "id": "27526c32",
   "metadata": {},
   "outputs": [
    {
     "data": {
      "text/plain": [
       "['one', 'three', 'two']"
      ]
     },
     "execution_count": 101,
     "metadata": {},
     "output_type": "execute_result"
    }
   ],
   "source": [
    "sorted(dict1)"
   ]
  },
  {
   "cell_type": "code",
   "execution_count": 138,
   "id": "15991e42",
   "metadata": {},
   "outputs": [
    {
     "data": {
      "text/plain": [
       "{'age': 23, 'class': 'msc', 'name': 'nidhi'}"
      ]
     },
     "execution_count": 138,
     "metadata": {},
     "output_type": "execute_result"
    }
   ],
   "source": [
    "dict1={\"name\":\"nidhi\",\"class\":\"msc\",\"age\":23}\n",
    "key=list(sorted(dict1.keys()))\n",
    "dict2={i:dict1[i] for i in key}\n",
    "dict2"
   ]
  },
  {
   "cell_type": "code",
   "execution_count": 140,
   "id": "84efffa8",
   "metadata": {},
   "outputs": [],
   "source": [
    "dict2={\"name\":\"nidhi\",\"class\":\"msc\",\"age\":23}\n"
   ]
  },
  {
   "cell_type": "code",
   "execution_count": 144,
   "id": "4abd079e",
   "metadata": {},
   "outputs": [
    {
     "data": {
      "text/plain": [
       "{2: '56', 1: '2', 4: '12', 5: '24', 6: '18', 3: '323'}"
      ]
     },
     "execution_count": 144,
     "metadata": {},
     "output_type": "execute_result"
    }
   ],
   "source": [
    "key_value={}\n",
    "key_value[2] = '56'       \n",
    "key_value[1] = '2'\n",
    "key_value[4] = '12'\n",
    "key_value[5] = '24'\n",
    "key_value[6] = '18'\n",
    "key_value[3] = '323'\n",
    "key_value"
   ]
  },
  {
   "cell_type": "code",
   "execution_count": 145,
   "id": "1173472f",
   "metadata": {},
   "outputs": [
    {
     "data": {
      "text/plain": [
       "[1, 2, 3, 4, 5, 6]"
      ]
     },
     "execution_count": 145,
     "metadata": {},
     "output_type": "execute_result"
    }
   ],
   "source": [
    "# sort the key\n",
    "sorted(key_value.keys())"
   ]
  },
  {
   "cell_type": "code",
   "execution_count": 157,
   "id": "56c503df",
   "metadata": {},
   "outputs": [
    {
     "data": {
      "text/plain": [
       "['10', '15', '2', '32', '9']"
      ]
     },
     "execution_count": 157,
     "metadata": {},
     "output_type": "execute_result"
    }
   ],
   "source": [
    "key_value={}\n",
    "key_value['ravi'] = '10'       \n",
    "key_value['rajnish'] = '9'\n",
    "key_value['sanjeev'] = '15'\n",
    "key_value['yash'] = '2'\n",
    "key_value['suraj'] = '32'\n",
    "key_value\n",
    "sorted(key_value.values())"
   ]
  },
  {
   "cell_type": "code",
   "execution_count": 5,
   "id": "a290ea8b",
   "metadata": {},
   "outputs": [
    {
     "name": "stdout",
     "output_type": "stream",
     "text": [
      "{2: 56, 1: 2, 5: 12, 4: 24, 6: 18, 3: 323}\n",
      "[(1, 2), (2, 56), (3, 323), (4, 24), (5, 12), (6, 18)]\n"
     ]
    }
   ],
   "source": [
    "key_value={}\n",
    "key_value[2] = 56\n",
    "key_value[1] = 2\n",
    "key_value[5] = 12\n",
    "key_value[4] = 24\n",
    "key_value[6] = 18\n",
    "key_value[3] = 323\n",
    "\n",
    "print(key_value)\n",
    "\n",
    " # Note that it will sort in lexicographical order\n",
    " # For mathematical way, change it to float\n",
    "print(sorted(key_value.items()))\n",
    "#print(sorted(key_value.items(), key=lambda kv:(kv[1], kv[0])))"
   ]
  },
  {
   "cell_type": "code",
   "execution_count": 4,
   "id": "0cd1161d",
   "metadata": {},
   "outputs": [
    {
     "data": {
      "text/plain": [
       "{'rajnish': 9, 'ravi': 10, 'sanjeev': 15, 'suraj': 32, 'yash': 2}"
      ]
     },
     "execution_count": 4,
     "metadata": {},
     "output_type": "execute_result"
    }
   ],
   "source": [
    "# sort the based on the key values\n",
    "import numpy as np\n",
    "key_value={}\n",
    "key_value['ravi'] = 10       \n",
    "key_value['rajnish'] = 9\n",
    "key_value['sanjeev'] =15\n",
    "key_value['yash'] = 2\n",
    "key_value['suraj'] = 32\n",
    "\n",
    "key=list(key_value.keys())\n",
    "val=list(key_value.values())\n",
    "sorted_val=np.argsort(key)\n",
    "dict1={key[i]:val[i] for i in sorted_val}\n",
    "dict1"
   ]
  },
  {
   "cell_type": "code",
   "execution_count": null,
   "id": "85754fd6",
   "metadata": {},
   "outputs": [],
   "source": []
  },
  {
   "cell_type": "code",
   "execution_count": 1,
   "id": "64c26204",
   "metadata": {},
   "outputs": [
    {
     "data": {
      "text/plain": [
       "{'yash': 2, 'rajnish': 9, 'ravi': 10, 'sanjeev': 15, 'suraj': 32}"
      ]
     },
     "execution_count": 1,
     "metadata": {},
     "output_type": "execute_result"
    }
   ],
   "source": [
    "# based on the values sort\n",
    "import numpy as np\n",
    "key_value={}\n",
    "key_value['ravi'] = 10       \n",
    "key_value['rajnish'] = 9\n",
    "key_value['sanjeev'] =15\n",
    "key_value['yash'] = 2\n",
    "key_value['suraj'] = 32\n",
    "\n",
    "key=list(key_value.keys())\n",
    "val=list(key_value.values())\n",
    "\n",
    "sorted_val=np.argsort(val)\n",
    "dict2={key[i]:val[i] for i in sorted_val}\n",
    "dict2"
   ]
  },
  {
   "cell_type": "code",
   "execution_count": 1,
   "id": "e587ba15",
   "metadata": {},
   "outputs": [
    {
     "name": "stdout",
     "output_type": "stream",
     "text": [
      "msc\n"
     ]
    }
   ],
   "source": [
    "# to know the key is present in the dict\n",
    "d1={\"name\":\"nidhi\",\"class\":\"msc\"}\n",
    "if \"class\" in d1:\n",
    "    print(d1[\"class\"])\n",
    "else:\n",
    "    print(\"key is not found\")"
   ]
  },
  {
   "cell_type": "code",
   "execution_count": 24,
   "id": "a37ba20d",
   "metadata": {},
   "outputs": [
    {
     "data": {
      "text/plain": [
       "3"
      ]
     },
     "execution_count": 24,
     "metadata": {},
     "output_type": "execute_result"
    }
   ],
   "source": [
    "dict1={\"a\":100,\"b\":200,\"c\":120}\n",
    "len(dict1)"
   ]
  },
  {
   "cell_type": "code",
   "execution_count": 1,
   "id": "72a19af7",
   "metadata": {},
   "outputs": [
    {
     "data": {
      "text/plain": [
       "{'nidhi': 1234, 'frdf': 4534, 'gd': 6745645}"
      ]
     },
     "execution_count": 1,
     "metadata": {},
     "output_type": "execute_result"
    }
   ],
   "source": [
    "d1={\"nidhi\":1234,\"gd\":6745645,\"frdf\":4534}\n",
    "key=list(d1.keys())\n",
    "value=list(d1.values())\n",
    "l2=[]\n",
    "for i in list(sorted(d1.values())):\n",
    "    l2.append(value.index(i))\n",
    "d1={}\n",
    "for i in l2:\n",
    "    d1.update({key[i]:value[i]})\n",
    "d1"
   ]
  },
  {
   "cell_type": "code",
   "execution_count": 2,
   "id": "ddfacb59",
   "metadata": {},
   "outputs": [
    {
     "data": {
      "text/plain": [
       "[0, 2, 3, 1, 5, 4]"
      ]
     },
     "execution_count": 2,
     "metadata": {},
     "output_type": "execute_result"
    }
   ],
   "source": [
    "l1=[1,4,2,3,11,8]\n",
    "l2=[]             #0,2,3,1,5,4\n",
    "for i in sorted(l1):\n",
    "    l2.append(l1.index(i))\n",
    "l2"
   ]
  },
  {
   "cell_type": "code",
   "execution_count": null,
   "id": "ecbee317",
   "metadata": {},
   "outputs": [],
   "source": []
  },
  {
   "cell_type": "code",
   "execution_count": 4,
   "id": "e1dde972",
   "metadata": {},
   "outputs": [
    {
     "name": "stdout",
     "output_type": "stream",
     "text": [
      "not found \n",
      "\n",
      "0091\n"
     ]
    }
   ],
   "source": [
    "# using thedia' : '0091','Australia' : '0025','Nepal' : '00977'}\n",
    "print(country_code.get(\"USA\",\"not found \\n\"))\n",
    "\n",
    "print(country_code.get(\"India\",\"not found\"))"
   ]
  },
  {
   "cell_type": "code",
   "execution_count": 6,
   "id": "b51f5c67",
   "metadata": {},
   "outputs": [
    {
     "name": "stdout",
     "output_type": "stream",
     "text": [
      "0091\n",
      "key is not found\n"
     ]
    }
   ],
   "source": [
    "# using the try and except block\n",
    "country_code = {'India' : '0091','Australia' : '0025','Nepal' : '00977'}\n",
    "try:\n",
    "    print(country_code[\"India\"])\n",
    "    print(country_code[\"japan\"])\n",
    "except:\n",
    "    print(\"key is not found\")"
   ]
  },
  {
   "cell_type": "code",
   "execution_count": 9,
   "id": "0a1c6fe7",
   "metadata": {},
   "outputs": [
    {
     "data": {
      "text/plain": [
       "{('a', 'b', 'c'): {'dept': 'hr', 'floor': 'a', 'sal': 23400},\n",
       " ('d', 'e', 'f'): {'dept': 'sales', 'floor': 'b', 'sal': 34000}}"
      ]
     },
     "execution_count": 9,
     "metadata": {},
     "output_type": "execute_result"
    }
   ],
   "source": [
    "data={(\"a\",\"b\",\"c\"):{\"dept\":\"hr\",\"floor\":\"a\",\"sal\":23400},\n",
    "     (\"d\",\"e\",\"f\"):{\"dept\":\"sales\",\"floor\":\"b\",\"sal\":34000}}\n",
    "data"
   ]
  },
  {
   "cell_type": "code",
   "execution_count": 10,
   "id": "fc92ef29",
   "metadata": {},
   "outputs": [
    {
     "data": {
      "text/plain": [
       "dict_keys([('a', 'b', 'c'), ('d', 'e', 'f')])"
      ]
     },
     "execution_count": 10,
     "metadata": {},
     "output_type": "execute_result"
    }
   ],
   "source": [
    "data.keys()"
   ]
  },
  {
   "cell_type": "code",
   "execution_count": 37,
   "id": "495b46e6",
   "metadata": {},
   "outputs": [
    {
     "data": {
      "text/plain": [
       "513"
      ]
     },
     "execution_count": 37,
     "metadata": {},
     "output_type": "execute_result"
    }
   ],
   "source": [
    "# sum of the items in all dict\n",
    "dict1={\"a\":100,\"b\":200,\"c\":213}\n",
    "a=0\n",
    "for i in dict1.values():\n",
    "    a=a+i\n",
    "a"
   ]
  },
  {
   "cell_type": "code",
   "execution_count": 44,
   "id": "4bc9dff2",
   "metadata": {},
   "outputs": [
    {
     "data": {
      "text/plain": [
       "321"
      ]
     },
     "execution_count": 44,
     "metadata": {},
     "output_type": "execute_result"
    }
   ],
   "source": [
    "import numpy as np\n",
    "dict2={\"a\":100,\"b\":200,\"c\":21}\n",
    "\n",
    "l1=[i for i in dict2.values()]\n",
    "np.sum(l1)"
   ]
  },
  {
   "cell_type": "code",
   "execution_count": 50,
   "id": "90c74e00",
   "metadata": {},
   "outputs": [
    {
     "data": {
      "text/plain": [
       "321"
      ]
     },
     "execution_count": 50,
     "metadata": {},
     "output_type": "execute_result"
    }
   ],
   "source": [
    "# without using the method of values\n",
    "dict2={\"a\":100,\"b\":200,\"c\":21}\n",
    "s1=0\n",
    "for i in dict2:\n",
    "    s1=s1+dict2[i]\n",
    "s1    "
   ]
  },
  {
   "cell_type": "code",
   "execution_count": 8,
   "id": "9b33f419",
   "metadata": {},
   "outputs": [
    {
     "data": {
      "text/plain": [
       "420"
      ]
     },
     "execution_count": 8,
     "metadata": {},
     "output_type": "execute_result"
    }
   ],
   "source": [
    "#lambda function\n",
    "from functools import reduce\n",
    "dict1={\"a\":100,\"b\":200,\"c\":120}\n",
    "sum_dict=reduce(lambda s1,k:s1+dict1[k],dict1,0)\n",
    "sum_dict"
   ]
  },
  {
   "cell_type": "code",
   "execution_count": 77,
   "id": "19be647c",
   "metadata": {},
   "outputs": [
    {
     "name": "stdout",
     "output_type": "stream",
     "text": [
      "10\n",
      "20\n",
      "30\n",
      "40\n"
     ]
    }
   ],
   "source": [
    "multi=[lambda arg=x:arg*10 for x in range(1,5)]\n",
    "for i in multi:\n",
    "    print(i())"
   ]
  },
  {
   "cell_type": "code",
   "execution_count": 11,
   "id": "99682e6a",
   "metadata": {},
   "outputs": [
    {
     "data": {
      "text/plain": [
       "3"
      ]
     },
     "execution_count": 11,
     "metadata": {},
     "output_type": "execute_result"
    }
   ],
   "source": [
    "#find the size of the dict\n",
    "dict1={\"a\":100,\"b\":200,\"c\":120}\n",
    "len(dict1)"
   ]
  },
  {
   "cell_type": "code",
   "execution_count": 20,
   "id": "8891aebd",
   "metadata": {},
   "outputs": [
    {
     "name": "stdout",
     "output_type": "stream",
     "text": [
      "{'a': 100, 'b': 200, 'c': 120}\n"
     ]
    }
   ],
   "source": [
    "   "
   ]
  },
  {
   "cell_type": "code",
   "execution_count": null,
   "id": "7603249b",
   "metadata": {},
   "outputs": [],
   "source": []
  },
  {
   "cell_type": "code",
   "execution_count": 82,
   "id": "e7f89cc7",
   "metadata": {},
   "outputs": [
    {
     "data": {
      "text/plain": [
       "[{'name': 'Nandini', 'age': 20},\n",
       " {'name': 'Manjeet', 'age': 20},\n",
       " {'name': 'Nikhil', 'age': 19}]"
      ]
     },
     "execution_count": 82,
     "metadata": {},
     "output_type": "execute_result"
    }
   ],
   "source": [
    "# sort the list of dict\n",
    "list1 = [{\"name\": \"Nandini\", \"age\": 20},\n",
    "       {\"name\": \"Manjeet\", \"age\": 20},\n",
    "       {\"name\": \"Nikhil\", \"age\": 19}]\n",
    "list1"
   ]
  },
  {
   "cell_type": "code",
   "execution_count": 92,
   "id": "fbf45c99",
   "metadata": {},
   "outputs": [],
   "source": [
    "# sort by age using lambda  "
   ]
  },
  {
   "cell_type": "code",
   "execution_count": 28,
   "id": "4aee5a90",
   "metadata": {},
   "outputs": [
    {
     "data": {
      "text/plain": [
       "['gs', 'fae', 'gw', 'nidghi', 'gvae']"
      ]
     },
     "execution_count": 28,
     "metadata": {},
     "output_type": "execute_result"
    }
   ],
   "source": [
    "a=\"gs fae gw jtdegaw gvae\"\n",
    "z=a.split(\" \")\n",
    "z[3]=\"nidghi\"\n",
    "z"
   ]
  },
  {
   "cell_type": "code",
   "execution_count": 22,
   "id": "ce076cd8",
   "metadata": {},
   "outputs": [],
   "source": [
    "   "
   ]
  },
  {
   "cell_type": "code",
   "execution_count": null,
   "id": "91d833d1",
   "metadata": {},
   "outputs": [],
   "source": []
  },
  {
   "cell_type": "code",
   "execution_count": null,
   "id": "5aa0d959",
   "metadata": {},
   "outputs": [],
   "source": []
  },
  {
   "cell_type": "code",
   "execution_count": 35,
   "id": "b911a0f9",
   "metadata": {},
   "outputs": [
    {
     "name": "stdout",
     "output_type": "stream",
     "text": [
      "Nidhisha\n",
      "**************************************\n",
      "percentage : 68.03 \n",
      "Grade B and passed with first class\n",
      "\n",
      "geetha\n",
      "**************************************\n",
      "percentage : 79.9 \n",
      "Grade B and passed with first class\n",
      "\n"
     ]
    }
   ],
   "source": [
    "student1={\"name\":\"Nidhisha\",\n",
    "         \"assignment\":[60,70,58],\n",
    "         \"test\":[70,69,70],\n",
    "         \"lab\":[59,66,70]}\n",
    "\n",
    "student2={\"name\":\"geetha\",\n",
    "         \"assignment\":[40,50,60],\n",
    "         \"test\":[80,77,90],\n",
    "         \"lab\":[80,99,80]}\n",
    "\n",
    "def percentage(assignment,test,lab):\n",
    "    a1=sum(assignment)/3\n",
    "    a2=sum(test)/3\n",
    "    a3=sum(lab)/3\n",
    "    per=(a1*0.1)+(a2*0.7)+(a3*0.2)\n",
    "    \n",
    "    if(per>=85):\n",
    "        print(\"percentage :\",round(per,2),\"\\nGrade A and passed with distinction\")\n",
    "    elif(per>=60 and per<85):\n",
    "        print(\"percentage :\",round(per,2),\"\\nGrade B and passed with first class\")\n",
    "    elif(per>=40 and per <60):\n",
    "        print(\"percentage :\",round(per,2),\"\\nGrade C and passed with second class\")\n",
    "    else:\n",
    "        print(\"percentage :\",round(per,2),\"\\nGrade D and fail\")\n",
    "\n",
    "name=[student1,student2]\n",
    "\n",
    "for i in name:\n",
    "    print(i[\"name\"])\n",
    "    print(\"**************************************\")\n",
    "    percentage(i[\"assignment\"],i[\"test\"],i[\"lab\"])  \n",
    "    print()"
   ]
  },
  {
   "cell_type": "code",
   "execution_count": 37,
   "id": "c787f23c",
   "metadata": {},
   "outputs": [
    {
     "name": "stdout",
     "output_type": "stream",
     "text": [
      "Nidhisha\n",
      "**************************************\n",
      "percentage : 68.03 \n",
      "Grade B and passed with first class\n",
      "\n",
      "geetha\n",
      "**************************************\n",
      "percentage : 79.9 \n",
      "Grade B and passed with first class\n",
      "\n"
     ]
    }
   ],
   "source": [
    "student1={\"name\":\"Nidhisha\",\n",
    "         \"assignment\":[60,70,58],\n",
    "         \"test\":[70,69,70],\n",
    "         \"lab\":[59,66,70]}\n",
    "\n",
    "student2={\"name\":\"geetha\",\n",
    "         \"assignment\":[40,50,60],\n",
    "         \"test\":[80,77,90],\n",
    "         \"lab\":[80,99,80]}\n",
    "\n",
    "def percentage(i):\n",
    "    a1=sum(i[\"assignment\"])/3\n",
    "    a2=sum(i[\"test\"])/3\n",
    "    a3=sum(i[\"lab\"])/3\n",
    "    per=(a1*0.1)+(a2*0.7)+(a3*0.2)\n",
    "    \n",
    "    if(per>=85):\n",
    "        print(\"percentage :\",round(per,2),\"\\nGrade A and passed with distinction\")\n",
    "    elif(per>=60 and per<85):\n",
    "        print(\"percentage :\",round(per,2),\"\\nGrade B and passed with first class\")\n",
    "    elif(per>=40 and per <60):\n",
    "        print(\"percentage :\",round(per,2),\"\\nGrade C and passed with second class\")\n",
    "    else:\n",
    "        print(\"percentage :\",round(per,2),\"\\nGrade D and fail\")\n",
    "\n",
    "name=[student1,student2]\n",
    "\n",
    "for i in name:\n",
    "    print(i[\"name\"])\n",
    "    print(\"**************************************\")\n",
    "    percentage(i)  \n",
    "    print()"
   ]
  },
  {
   "cell_type": "code",
   "execution_count": 76,
   "id": "34d48022",
   "metadata": {},
   "outputs": [
    {
     "name": "stdout",
     "output_type": "stream",
     "text": [
      "enter the number of student2\n",
      "enter the namenidhi\n",
      "enter the score in 3 sub with space34 56 78\n",
      "enter the namevedh\n",
      "enter the score in 3 sub with space45 67 89\n",
      "{'nidhi': [34.0, 56.0, 78.0], 'vedh': [45.0, 67.0, 89.0]}\n",
      "enter the namevedh\n",
      "67.00\n"
     ]
    }
   ],
   "source": [
    "n=int(input(\"enter the number of student\"))\n",
    "d1={}\n",
    "for i in range(0,n):\n",
    "    name=input(\"enter the name\")\n",
    "    s=input(\"enter the score in 3 sub with space\")\n",
    "    score=list(map(float,s.split(\" \")))\n",
    "    d1.update({name:score})\n",
    "print(d1)\n",
    "name=input(\"enter the name\")\n",
    "for key,val in d1.items():\n",
    "    if(name==key):\n",
    "        s1=sum(val)/len(val)\n",
    "print(\"%.2f\"%s1)"
   ]
  },
  {
   "cell_type": "code",
   "execution_count": 38,
   "id": "6e79827a",
   "metadata": {},
   "outputs": [],
   "source": [
    "# insert the begining of the order dict\n",
    "from collections import OrderedDict"
   ]
  },
  {
   "cell_type": "code",
   "execution_count": 60,
   "id": "5b19a6cd",
   "metadata": {},
   "outputs": [
    {
     "data": {
      "text/plain": [
       "OrderedDict([('roll_no', 2), ('name', 'nidhi'), ('class', 'msc')])"
      ]
     },
     "execution_count": 60,
     "metadata": {},
     "output_type": "execute_result"
    }
   ],
   "source": [
    "# using the orderdict\n",
    "dict1=OrderedDict([(\"name\",\"nidhi\"),(\"class\",\"msc\")])\n",
    "dict1.update({\"roll_no\":2})\n",
    "dict1.move_to_end(\"roll_no\",last=False)\n",
    "dict1"
   ]
  },
  {
   "cell_type": "code",
   "execution_count": 61,
   "id": "f3b1c429",
   "metadata": {},
   "outputs": [
    {
     "data": {
      "text/plain": [
       "{'roll_no': 2, 'name': 'nidhi', 'class': 'msc'}"
      ]
     },
     "execution_count": 61,
     "metadata": {},
     "output_type": "execute_result"
    }
   ],
   "source": [
    "#without using the orderedDict\n",
    "d1=dict([(\"name\",\"nidhi\"),(\"class\",\"msc\")])\n",
    "d2={\"roll_no\":2}\n",
    "d2.update(d1)\n",
    "d2"
   ]
  },
  {
   "cell_type": "code",
   "execution_count": 72,
   "id": "bf029049",
   "metadata": {},
   "outputs": [
    {
     "data": {
      "text/plain": [
       "[10, 4]"
      ]
     },
     "execution_count": 72,
     "metadata": {},
     "output_type": "execute_result"
    }
   ],
   "source": [
    "# find the common element in the three sorted array\n",
    "def common_in_three(a1,a2,a3):\n",
    "    a4=[]\n",
    "    a5=[]\n",
    "    for i in a1:\n",
    "        for j in a2:\n",
    "            if(i==j):\n",
    "                a4.append(j)\n",
    "    for k in a4:\n",
    "        for l in a3:\n",
    "            if(k==l):\n",
    "                a5.append(l)\n",
    "    return a5\n",
    "a=[10,2,3,4]\n",
    "b=[4,6,7,10,8]\n",
    "c=[9,8,7,10,6,5,4]\n",
    "common_in_three(a,b,c)"
   ]
  },
  {
   "cell_type": "code",
   "execution_count": 74,
   "id": "0bdeba0d",
   "metadata": {},
   "outputs": [
    {
     "data": {
      "text/plain": [
       "[20, 80]"
      ]
     },
     "execution_count": 74,
     "metadata": {},
     "output_type": "execute_result"
    }
   ],
   "source": [
    "def common_element(a1,a2,a3):\n",
    "    a4=[]\n",
    "    for i in a1:\n",
    "        for j in a2:\n",
    "            for k in a3:\n",
    "                if(i==j==k):\n",
    "                    a4.append(k)\n",
    "    return a4\n",
    "ar1 = [1, 5, 10, 20, 40, 80]\n",
    "ar2 = [6, 7, 20, 80, 100]\n",
    "ar3 = [3, 4, 15, 20, 30, 70, 80, 120]\n",
    "common_element(ar1,ar2,ar3)"
   ]
  },
  {
   "cell_type": "code",
   "execution_count": 76,
   "id": "17b45039",
   "metadata": {},
   "outputs": [
    {
     "data": {
      "text/plain": [
       "[20, 80]"
      ]
     },
     "execution_count": 76,
     "metadata": {},
     "output_type": "execute_result"
    }
   ],
   "source": [
    "# In single line\n",
    "a4=[k for i in ar1 for j in ar2 for k in ar3 if(i==j==k)]\n",
    "a4"
   ]
  },
  {
   "cell_type": "code",
   "execution_count": 63,
   "id": "714e9104",
   "metadata": {},
   "outputs": [
    {
     "name": "stdout",
     "output_type": "stream",
     "text": [
      "3 \n",
      "0 10 -10\n",
      "0\n"
     ]
    }
   ],
   "source": [
    "n = int(input())\n",
    "arr = map(int, input().split())\n",
    "l1=sorted(set(list(arr)))[-2]\n",
    "print(l1)"
   ]
  },
  {
   "cell_type": "code",
   "execution_count": 48,
   "id": "cf9de48f",
   "metadata": {},
   "outputs": [
    {
     "data": {
      "text/plain": [
       "{-10, 0, 10}"
      ]
     },
     "execution_count": 48,
     "metadata": {},
     "output_type": "execute_result"
    }
   ],
   "source": [
    "s1={0,10,-10}\n",
    "s1"
   ]
  },
  {
   "cell_type": "code",
   "execution_count": 61,
   "id": "5ab7a602",
   "metadata": {},
   "outputs": [
    {
     "data": {
      "text/plain": [
       "[0, 10, -10]"
      ]
     },
     "execution_count": 61,
     "metadata": {},
     "output_type": "execute_result"
    }
   ],
   "source": [
    "list(s1)"
   ]
  },
  {
   "cell_type": "code",
   "execution_count": null,
   "id": "e2758687",
   "metadata": {},
   "outputs": [],
   "source": []
  },
  {
   "cell_type": "code",
   "execution_count": null,
   "id": "2626a6cc",
   "metadata": {},
   "outputs": [],
   "source": []
  },
  {
   "cell_type": "code",
   "execution_count": null,
   "id": "2a221c7c",
   "metadata": {},
   "outputs": [],
   "source": []
  },
  {
   "cell_type": "code",
   "execution_count": null,
   "id": "529644ba",
   "metadata": {},
   "outputs": [],
   "source": []
  },
  {
   "cell_type": "code",
   "execution_count": null,
   "id": "1913a5b3",
   "metadata": {},
   "outputs": [],
   "source": []
  },
  {
   "cell_type": "code",
   "execution_count": 12,
   "id": "60391772",
   "metadata": {},
   "outputs": [
    {
     "data": {
      "text/plain": [
       "46"
      ]
     },
     "execution_count": 12,
     "metadata": {},
     "output_type": "execute_result"
    }
   ],
   "source": [
    "import numpy as np\n",
    "np.add(12,34)"
   ]
  },
  {
   "cell_type": "code",
   "execution_count": 15,
   "id": "51703c8d",
   "metadata": {},
   "outputs": [
    {
     "data": {
      "text/plain": [
       "259"
      ]
     },
     "execution_count": 15,
     "metadata": {},
     "output_type": "execute_result"
    }
   ],
   "source": [
    "a=[34,56,78]\n",
    "b=[45,12,34]"
   ]
  },
  {
   "cell_type": "code",
   "execution_count": 41,
   "id": "972f3e46",
   "metadata": {},
   "outputs": [
    {
     "data": {
      "text/plain": [
       "7"
      ]
     },
     "execution_count": 41,
     "metadata": {},
     "output_type": "execute_result"
    }
   ],
   "source": [
    "def add(x,y):\n",
    "    for i in range(0,y):\n",
    "        if(y!=0):\n",
    "            x+=1\n",
    "            y=-1\n",
    "    return x\n",
    "add(2,5)"
   ]
  },
  {
   "cell_type": "code",
   "execution_count": null,
   "id": "7f520599",
   "metadata": {},
   "outputs": [],
   "source": [
    "l1=[34,23,12,43]"
   ]
  },
  {
   "cell_type": "code",
   "execution_count": 29,
   "id": "e2a7f083",
   "metadata": {},
   "outputs": [
    {
     "name": "stdout",
     "output_type": "stream",
     "text": [
      "[12, 23, 34, 43]\n"
     ]
    },
    {
     "data": {
      "text/plain": [
       "34"
      ]
     },
     "execution_count": 29,
     "metadata": {},
     "output_type": "execute_result"
    }
   ],
   "source": []
  },
  {
   "cell_type": "code",
   "execution_count": 37,
   "id": "158f261c",
   "metadata": {},
   "outputs": [
    {
     "name": "stdout",
     "output_type": "stream",
     "text": [
      "1\n",
      "2\n",
      "4\n",
      "8\n",
      "16\n",
      "0\n",
      "32\n"
     ]
    }
   ],
   "source": [
    "def Add(x, y):\n",
    "    while (y != 0):\n",
    "        carry = x & y\n",
    "        print(carry)\n",
    "        x = x ^ y\n",
    "        #print(x)\n",
    "        y = carry << 1\n",
    "    return x\n",
    "print(Add(27,5))"
   ]
  },
  {
   "cell_type": "code",
   "execution_count": 111,
   "id": "4c3da270",
   "metadata": {},
   "outputs": [
    {
     "data": {
      "text/plain": [
       "22"
      ]
     },
     "execution_count": 111,
     "metadata": {},
     "output_type": "execute_result"
    }
   ],
   "source": [
    "def add(a,b):\n",
    "    for i in range(0,b):\n",
    "        if(b!=0):\n",
    "            a+=1\n",
    "            b-=1\n",
    "    return a\n",
    "add(12,10)"
   ]
  },
  {
   "cell_type": "code",
   "execution_count": 61,
   "id": "96356e00",
   "metadata": {},
   "outputs": [
    {
     "data": {
      "text/plain": [
       "14"
      ]
     },
     "execution_count": 61,
     "metadata": {},
     "output_type": "execute_result"
    }
   ],
   "source": [
    "# adition of two number\n",
    "a=10\n",
    "b=4\n",
    "l1=[a,b]\n",
    "sum1=[]\n",
    "for i in range(a):\n",
    "    sum1.append(1)\n",
    "for j in range(b):\n",
    "    sum1.append(1)\n",
    "len(sum1)"
   ]
  },
  {
   "cell_type": "code",
   "execution_count": 66,
   "id": "cfb188e5",
   "metadata": {},
   "outputs": [
    {
     "data": {
      "text/plain": [
       "14"
      ]
     },
     "execution_count": 66,
     "metadata": {},
     "output_type": "execute_result"
    }
   ],
   "source": [
    "# addition of two number\n",
    "a=10\n",
    "b=4\n",
    "l1=[a,b]\n",
    "sum1=[]\n",
    "for i in l1:\n",
    "    for j in range(i):\n",
    "        sum1.append(1)\n",
    "sum1.count(1)"
   ]
  },
  {
   "cell_type": "code",
   "execution_count": 119,
   "id": "91537825",
   "metadata": {},
   "outputs": [
    {
     "data": {
      "text/plain": [
       "-4.0"
      ]
     },
     "execution_count": 119,
     "metadata": {},
     "output_type": "execute_result"
    }
   ],
   "source": [
    "def multiply(a,b):\n",
    "    mul=(pow(a+b,2)-pow(a,2)-pow(b,2))/2\n",
    "    return mul\n",
    "multiply(-2,2)"
   ]
  },
  {
   "cell_type": "code",
   "execution_count": 120,
   "id": "8d1ade75",
   "metadata": {},
   "outputs": [
    {
     "name": "stdout",
     "output_type": "stream",
     "text": [
      "None\n",
      "None\n",
      "None\n"
     ]
    }
   ],
   "source": [
    "def multiply(a,b):\n",
    "    if(b>0):\n",
    "        multiply(a+a,b-1)\n",
    "multiply(12,3)   "
   ]
  },
  {
   "cell_type": "code",
   "execution_count": 126,
   "id": "44d02c89",
   "metadata": {},
   "outputs": [
    {
     "data": {
      "text/plain": [
       "36"
      ]
     },
     "execution_count": 126,
     "metadata": {},
     "output_type": "execute_result"
    }
   ],
   "source": [
    "def multiply(a,b):\n",
    "    c=0\n",
    "    d=0\n",
    "    for i in range(0,b):\n",
    "        c=a+d\n",
    "        d=c\n",
    "        b-=1\n",
    "    return c\n",
    "multiply(12,3)"
   ]
  },
  {
   "cell_type": "code",
   "execution_count": 11,
   "id": "86dbe1aa",
   "metadata": {},
   "outputs": [
    {
     "data": {
      "text/plain": [
       "36"
      ]
     },
     "execution_count": 11,
     "metadata": {},
     "output_type": "execute_result"
    }
   ],
   "source": [
    "def multi(a,b):\n",
    "    c=0\n",
    "    multi=0\n",
    "    for i in range(0,b):\n",
    "        multi=a+multi\n",
    "    return multi\n",
    "multi(12,3)"
   ]
  },
  {
   "cell_type": "markdown",
   "id": "9bc369f5",
   "metadata": {},
   "source": [
    "## Tuple"
   ]
  },
  {
   "cell_type": "markdown",
   "id": "b1df8f79",
   "metadata": {},
   "source": [
    "### tuple can be created without using the parathesis using tuple packing\n",
    "\n",
    "### To create a tuple with a single item, you need to add a comma after the item. Otherwise, Python will not recognize the variable as a tuple, and it will treat it as a string type."
   ]
  },
  {
   "cell_type": "code",
   "execution_count": 3,
   "id": "d4374370",
   "metadata": {},
   "outputs": [
    {
     "name": "stdout",
     "output_type": "stream",
     "text": [
      "nidhi\n",
      "23\n",
      "msc\n"
     ]
    }
   ],
   "source": [
    "t1=(\"nidhi\",23,\"msc\")\n",
    "t1\n",
    "for i in t1:\n",
    "    print(i)"
   ]
  },
  {
   "cell_type": "code",
   "execution_count": 40,
   "id": "92027bb9",
   "metadata": {},
   "outputs": [
    {
     "name": "stdout",
     "output_type": "stream",
     "text": [
      "<class 'str'>\n"
     ]
    }
   ],
   "source": [
    "t3=(\"faf\")\n",
    "print(type(t3))"
   ]
  },
  {
   "cell_type": "code",
   "execution_count": 41,
   "id": "bee1144b",
   "metadata": {},
   "outputs": [
    {
     "name": "stdout",
     "output_type": "stream",
     "text": [
      "<class 'tuple'>\n"
     ]
    }
   ],
   "source": [
    "t3=(\"gggrs\",)\n",
    "print(type(t3))"
   ]
  },
  {
   "cell_type": "code",
   "execution_count": 6,
   "id": "9cc38ffc",
   "metadata": {},
   "outputs": [
    {
     "data": {
      "text/plain": [
       "(1, 2, 'dfd')"
      ]
     },
     "execution_count": 6,
     "metadata": {},
     "output_type": "execute_result"
    }
   ],
   "source": [
    "t2=tuple((1,2,\"dfd\"))\n",
    "t2"
   ]
  },
  {
   "cell_type": "code",
   "execution_count": 8,
   "id": "8dc3e694",
   "metadata": {},
   "outputs": [
    {
     "data": {
      "text/plain": [
       "('h', 'e', 'l', 'l', 'o')"
      ]
     },
     "execution_count": 8,
     "metadata": {},
     "output_type": "execute_result"
    }
   ],
   "source": [
    "t3=tuple(\"hello\",)\n",
    "t3"
   ]
  },
  {
   "cell_type": "code",
   "execution_count": 9,
   "id": "2b76831f",
   "metadata": {},
   "outputs": [
    {
     "data": {
      "text/plain": [
       "('g', 'd', 'g')"
      ]
     },
     "execution_count": 9,
     "metadata": {},
     "output_type": "execute_result"
    }
   ],
   "source": [
    "l1=\"gdg\"\n",
    "tuple(l1,)"
   ]
  },
  {
   "cell_type": "code",
   "execution_count": 10,
   "id": "d5e750a4",
   "metadata": {},
   "outputs": [
    {
     "data": {
      "text/plain": [
       "['g', 'd', 'g']"
      ]
     },
     "execution_count": 10,
     "metadata": {},
     "output_type": "execute_result"
    }
   ],
   "source": [
    "list(l1,)"
   ]
  },
  {
   "cell_type": "code",
   "execution_count": 15,
   "id": "7dde6d5e",
   "metadata": {},
   "outputs": [],
   "source": [
    "t1=\"fec\",1,2"
   ]
  },
  {
   "cell_type": "code",
   "execution_count": 16,
   "id": "b89d5e6a",
   "metadata": {},
   "outputs": [
    {
     "data": {
      "text/plain": [
       "(1, 2, 3, [3, 4, 5])"
      ]
     },
     "execution_count": 16,
     "metadata": {},
     "output_type": "execute_result"
    }
   ],
   "source": [
    "# If one of the items is itself a mutable data type as a list, then we can change its values in the case of a nested tuple.\n",
    "t1=(1,2,3,[3,4,5])\n",
    "t1"
   ]
  },
  {
   "cell_type": "code",
   "execution_count": 17,
   "id": "a1c158d5",
   "metadata": {},
   "outputs": [],
   "source": [
    "t1[3][2]=50"
   ]
  },
  {
   "cell_type": "code",
   "execution_count": 18,
   "id": "7b527a26",
   "metadata": {},
   "outputs": [
    {
     "data": {
      "text/plain": [
       "(1, 2, 3, [3, 4, 50])"
      ]
     },
     "execution_count": 18,
     "metadata": {},
     "output_type": "execute_result"
    }
   ],
   "source": [
    "t1"
   ]
  },
  {
   "cell_type": "code",
   "execution_count": 23,
   "id": "b6e9fdd5",
   "metadata": {},
   "outputs": [],
   "source": [
    "# if we make any change in tuple2 which is called by tuple1 by converting into list and make changes \n",
    "#which does not effectto the tuple1\n",
    "t1=(0,1,2,3,4,5)\n",
    "t2=t1\n",
    "\n",
    "sample_list=list(t2)\n",
    "sample_list\n",
    "\n",
    "# change the value\n",
    "sample_list[6:]=[3,4,5]\n",
    "sample_list\n",
    "\n",
    "t2=tuple(sample_list)"
   ]
  },
  {
   "cell_type": "code",
   "execution_count": 25,
   "id": "3778a5f5",
   "metadata": {},
   "outputs": [
    {
     "name": "stdout",
     "output_type": "stream",
     "text": [
      "(0, 1, 2, 3, 4, 5, 3, 4, 5)\n",
      "(0, 1, 2, 3, 4, 5)\n"
     ]
    }
   ],
   "source": [
    "print(t2)\n",
    "print(t1)"
   ]
  },
  {
   "cell_type": "code",
   "execution_count": 26,
   "id": "b2b317c2",
   "metadata": {},
   "outputs": [
    {
     "data": {
      "text/plain": [
       "(0, 1, 2, 3, 4, 5, 0, 1, 2, 3, 4, 5, 3, 4, 5)"
      ]
     },
     "execution_count": 26,
     "metadata": {},
     "output_type": "execute_result"
    }
   ],
   "source": [
    "# can marge the tuple using + operator\n",
    "t3=t1+t2\n",
    "t3"
   ]
  },
  {
   "cell_type": "code",
   "execution_count": 27,
   "id": "59bd10ec",
   "metadata": {},
   "outputs": [
    {
     "data": {
      "text/plain": [
       "42"
      ]
     },
     "execution_count": 27,
     "metadata": {},
     "output_type": "execute_result"
    }
   ],
   "source": [
    "sum(t3)"
   ]
  },
  {
   "cell_type": "code",
   "execution_count": 29,
   "id": "c5f07861",
   "metadata": {},
   "outputs": [
    {
     "data": {
      "text/plain": [
       "(1, 2, 3, 4, 5, 6, 7, 8)"
      ]
     },
     "execution_count": 29,
     "metadata": {},
     "output_type": "execute_result"
    }
   ],
   "source": [
    "#sum function\n",
    "t1=(1,2,3,4)\n",
    "t2=(5,6,7,8)\n",
    "t3=sum((t1,t2),())\n",
    "t3"
   ]
  },
  {
   "cell_type": "code",
   "execution_count": 36,
   "id": "c9edb8f9",
   "metadata": {},
   "outputs": [
    {
     "data": {
      "text/plain": [
       "(1, 2, 3, 4, 3, 4, 5, 6, 7)"
      ]
     },
     "execution_count": 36,
     "metadata": {},
     "output_type": "execute_result"
    }
   ],
   "source": [
    "# chain function\n",
    "import itertools\n",
    "t1=(1,2,3,4)\n",
    "t2=(3,4,5,6,7)\n",
    "t3=tuple(item for item in itertools.chain(t1,t2))\n",
    "t3"
   ]
  },
  {
   "cell_type": "code",
   "execution_count": 38,
   "id": "9b5ff207",
   "metadata": {},
   "outputs": [
    {
     "name": "stdout",
     "output_type": "stream",
     "text": [
      "(1, 2, 3)\n",
      "1\n",
      "2\n",
      "3\n",
      "(30, 40, 50)\n",
      "30\n",
      "40\n",
      "50\n",
      "python\n",
      "p\n",
      "y\n",
      "t\n",
      "h\n",
      "o\n",
      "n\n"
     ]
    }
   ],
   "source": [
    "t1=((1,2,3),(30,40,50),\"python\")\n",
    "for i in t1:\n",
    "    print(i)\n",
    "    for j in i:\n",
    "        print(j)"
   ]
  },
  {
   "cell_type": "code",
   "execution_count": 2,
   "id": "cd67b427",
   "metadata": {},
   "outputs": [
    {
     "data": {
      "text/plain": [
       "(5, 4, 3, 2, 1)"
      ]
     },
     "execution_count": 2,
     "metadata": {},
     "output_type": "execute_result"
    }
   ],
   "source": [
    "#reverse the tuple\n",
    "t1=(1,2,3,4,5)\n",
    "t1[::-1]"
   ]
  },
  {
   "cell_type": "code",
   "execution_count": 9,
   "id": "4d3d567c",
   "metadata": {},
   "outputs": [
    {
     "name": "stdout",
     "output_type": "stream",
     "text": [
      "10 20 30 40\n"
     ]
    }
   ],
   "source": [
    "t1=(40,30,20,10)\n",
    "last=t1[0]\n",
    "for i in range(1,len(t1)):\n",
    "    print(t1[-i],end=\" \")\n",
    "print(last)"
   ]
  },
  {
   "cell_type": "code",
   "execution_count": 10,
   "id": "63b615a7",
   "metadata": {},
   "outputs": [
    {
     "data": {
      "text/plain": [
       "20"
      ]
     },
     "execution_count": 10,
     "metadata": {},
     "output_type": "execute_result"
    }
   ],
   "source": [
    "#access the value\n",
    "tuple1 = (\"Orange\", [10, 20, 30], (5, 15, 25))\n",
    "tuple1[1][1]"
   ]
  },
  {
   "cell_type": "code",
   "execution_count": 11,
   "id": "71c510dc",
   "metadata": {},
   "outputs": [
    {
     "name": "stdout",
     "output_type": "stream",
     "text": [
      "10 20 30 40\n"
     ]
    }
   ],
   "source": [
    "#Unpack the tuple into 4 variables\n",
    "tuple1 = (10, 20, 30, 40)\n",
    "a,b,c,d=tuple1\n",
    "print(a,b,c,d)"
   ]
  },
  {
   "cell_type": "code",
   "execution_count": 13,
   "id": "89509727",
   "metadata": {},
   "outputs": [
    {
     "name": "stdout",
     "output_type": "stream",
     "text": [
      "10 20 30 40 "
     ]
    }
   ],
   "source": [
    "tuple1 = (10, 20, 30, 40)\n",
    "for i in tuple1:\n",
    "    print(i,end=\" \")"
   ]
  },
  {
   "cell_type": "code",
   "execution_count": 14,
   "id": "9503d1bf",
   "metadata": {},
   "outputs": [],
   "source": [
    "# swap the tuple\n",
    "t1=(1,2,3)\n",
    "t2=(4,5,6)\n",
    "t1,t2=t2,t1"
   ]
  },
  {
   "cell_type": "code",
   "execution_count": 15,
   "id": "efd1a3e7",
   "metadata": {},
   "outputs": [
    {
     "name": "stdout",
     "output_type": "stream",
     "text": [
      "(4, 5, 6) \n",
      " (1, 2, 3)\n"
     ]
    }
   ],
   "source": [
    "print(t1,\"\\n\",t2)"
   ]
  },
  {
   "cell_type": "code",
   "execution_count": 19,
   "id": "b3c97339",
   "metadata": {},
   "outputs": [
    {
     "data": {
      "text/plain": [
       "(44, 55)"
      ]
     },
     "execution_count": 19,
     "metadata": {},
     "output_type": "execute_result"
    }
   ],
   "source": [
    "# copying the value of tuple to new tuple\n",
    "tuple1 = (11, 22, 33, 44, 55, 66)\n",
    "tuple2=()\n",
    "tuple2=tuple1[3:5]\n",
    "tuple2"
   ]
  },
  {
   "cell_type": "code",
   "execution_count": 20,
   "id": "c95dd7aa",
   "metadata": {},
   "outputs": [],
   "source": [
    "tuple1 = (11, [22, 33], 44, 55)\n",
    "tuple1[1][:]=[222,333]"
   ]
  },
  {
   "cell_type": "code",
   "execution_count": 21,
   "id": "09dbe6d6",
   "metadata": {},
   "outputs": [
    {
     "data": {
      "text/plain": [
       "(11, [222, 333], 44, 55)"
      ]
     },
     "execution_count": 21,
     "metadata": {},
     "output_type": "execute_result"
    }
   ],
   "source": [
    "tuple1"
   ]
  },
  {
   "cell_type": "code",
   "execution_count": 25,
   "id": "3d06464f",
   "metadata": {},
   "outputs": [
    {
     "data": {
      "text/plain": [
       "[('c', 11), ('a', 23), ('d', 29), ('b', 37)]"
      ]
     },
     "execution_count": 25,
     "metadata": {},
     "output_type": "execute_result"
    }
   ],
   "source": [
    "# sort the tuple based on second items\n",
    "tuple1 = (('a', 23),('b', 37),('c', 11), ('d',29))\n",
    "a=sorted(tuple1,key=lambda x:x[1])\n",
    "a"
   ]
  },
  {
   "cell_type": "code",
   "execution_count": 27,
   "id": "2ad26e8e",
   "metadata": {},
   "outputs": [
    {
     "data": {
      "text/plain": [
       "2"
      ]
     },
     "execution_count": 27,
     "metadata": {},
     "output_type": "execute_result"
    }
   ],
   "source": [
    "# counting the number of occurance of 50\n",
    "tuple1 = (50, 10, 60, 70, 50)\n",
    "count=0\n",
    "for i in tuple1:\n",
    "    if(i==50):\n",
    "        count+=1\n",
    "count"
   ]
  },
  {
   "cell_type": "code",
   "execution_count": 28,
   "id": "9875b1c0",
   "metadata": {},
   "outputs": [
    {
     "data": {
      "text/plain": [
       "2"
      ]
     },
     "execution_count": 28,
     "metadata": {},
     "output_type": "execute_result"
    }
   ],
   "source": [
    "# direct method\n",
    "tuple1 = (50, 10, 60, 70, 50)\n",
    "tuple1.count(50)"
   ]
  },
  {
   "cell_type": "code",
   "execution_count": 37,
   "id": "c633dc57",
   "metadata": {},
   "outputs": [
    {
     "data": {
      "text/plain": [
       "True"
      ]
     },
     "execution_count": 37,
     "metadata": {},
     "output_type": "execute_result"
    }
   ],
   "source": [
    "# check the all the value in the tuple is same\n",
    "tuple1 = (45, 45, 45, 45)\n",
    "\n",
    "t1=all(i==tuple1[0] for i in tuple1)\n",
    "t1"
   ]
  },
  {
   "cell_type": "code",
   "execution_count": 38,
   "id": "6d4a10ed",
   "metadata": {},
   "outputs": [
    {
     "name": "stdout",
     "output_type": "stream",
     "text": [
      "(100, 100)\n"
     ]
    }
   ],
   "source": [
    "aTuple = (100,)\n",
    "print(aTuple * 2)\n",
    "#We can use * operator to repeat the tuple values n number of times."
   ]
  },
  {
   "cell_type": "markdown",
   "id": "9c626327",
   "metadata": {},
   "source": [
    "## practice"
   ]
  },
  {
   "cell_type": "code",
   "execution_count": 11,
   "id": "7252092b",
   "metadata": {},
   "outputs": [
    {
     "name": "stdout",
     "output_type": "stream",
     "text": [
      "enter the number with white space34 56\n"
     ]
    },
    {
     "data": {
      "text/plain": [
       "[34, 56]"
      ]
     },
     "execution_count": 11,
     "metadata": {},
     "output_type": "execute_result"
    }
   ],
   "source": [
    "a=input(\"enter the number with white space\")\n",
    "l2=[]\n",
    "l1=list((a.split(\" \")))\n",
    "for i in l1:\n",
    "    l2.append(int(i))\n",
    "l2"
   ]
  },
  {
   "cell_type": "code",
   "execution_count": 13,
   "id": "ff4183e0",
   "metadata": {},
   "outputs": [
    {
     "name": "stdout",
     "output_type": "stream",
     "text": [
      "enter the number with white space34 56 78\n",
      "[34, 56, 78]\n"
     ]
    }
   ],
   "source": [
    "a=input(\"enter the number with white space\")\n",
    "l1=list(map(int,a.split(\" \")))\n",
    "print(l1)"
   ]
  },
  {
   "cell_type": "code",
   "execution_count": 14,
   "id": "24afc4e5",
   "metadata": {},
   "outputs": [
    {
     "name": "stdout",
     "output_type": "stream",
     "text": [
      "Enter the size of the list 3\n",
      "\n",
      "\n",
      "Enter the list items separated by space 45 56 67 78\n",
      "User list:  [45, 56, 67]\n"
     ]
    }
   ],
   "source": [
    "n = int(input(\"Enter the size of the list \"))\n",
    "print(\"\\n\")\n",
    "num_list = list(int(num) for num in input(\"Enter the list items separated by space \").strip().split())[:n]\n",
    "\n",
    "print(\"User list: \", num_list)"
   ]
  },
  {
   "cell_type": "code",
   "execution_count": 17,
   "id": "b791a1b0",
   "metadata": {},
   "outputs": [
    {
     "name": "stdout",
     "output_type": "stream",
     "text": [
      "enter the number23 45\n"
     ]
    },
    {
     "data": {
      "text/plain": [
       "[23, 45]"
      ]
     },
     "execution_count": 17,
     "metadata": {},
     "output_type": "execute_result"
    }
   ],
   "source": [
    "l1=list(int(i) for i in input(\"enter the number\").split(\" \"))\n",
    "l1"
   ]
  },
  {
   "cell_type": "code",
   "execution_count": 18,
   "id": "67d7368a",
   "metadata": {},
   "outputs": [
    {
     "name": "stdout",
     "output_type": "stream",
     "text": [
      "enter the family name with spacenidhi niks nichu amma apaji\n"
     ]
    }
   ],
   "source": [
    "# pass the name of the family with one string\n",
    "name=input(\"enter the family name with space\")\n",
    "l1=list(map(str,name.split(\" \")))"
   ]
  },
  {
   "cell_type": "code",
   "execution_count": 19,
   "id": "68ef3b08",
   "metadata": {},
   "outputs": [
    {
     "data": {
      "text/plain": [
       "['nidhi', 'niks', 'nichu', 'amma', 'apaji']"
      ]
     },
     "execution_count": 19,
     "metadata": {},
     "output_type": "execute_result"
    }
   ],
   "source": [
    "l1"
   ]
  },
  {
   "cell_type": "code",
   "execution_count": 28,
   "id": "7af8d907",
   "metadata": {},
   "outputs": [
    {
     "name": "stdout",
     "output_type": "stream",
     "text": [
      "enter the number of sublist3\n",
      "23 45\n",
      "45 56\n",
      "67 78\n",
      "[[23, 45], [45, 56], [67, 78]]\n"
     ]
    }
   ],
   "source": [
    "# want to create the sublist inside the list\n",
    "sub_list=int(input(\"enter the number of sublist\"))\n",
    "l2=[]\n",
    "for i in range(0,sub_list):\n",
    "    l1=[int(j) for j in input().split(\" \")]\n",
    "    l2.append(l1)\n",
    "print(l2)"
   ]
  },
  {
   "cell_type": "code",
   "execution_count": 2,
   "id": "4b81694a",
   "metadata": {},
   "outputs": [
    {
     "name": "stdout",
     "output_type": "stream",
     "text": [
      "NidHishA\n",
      "nIDhISHa\n"
     ]
    }
   ],
   "source": [
    "def swap_case(s):\n",
    "    l1=[]\n",
    "    for i in s:\n",
    "        if (i==i.upper()):\n",
    "            l1.append(i.lower())\n",
    "        else:\n",
    "            l1.append(i.upper())\n",
    "    a=\"\".join(l1)        \n",
    "    return  a\n",
    "\n",
    "if __name__ == '__main__':\n",
    "    s = input()\n",
    "\n",
    "    result = swap_case(s)\n",
    "    print(result)"
   ]
  },
  {
   "cell_type": "code",
   "execution_count": null,
   "id": "cee8779e",
   "metadata": {},
   "outputs": [],
   "source": []
  },
  {
   "cell_type": "code",
   "execution_count": null,
   "id": "ecc66276",
   "metadata": {},
   "outputs": [],
   "source": []
  },
  {
   "cell_type": "code",
   "execution_count": null,
   "id": "34aa3eaf",
   "metadata": {},
   "outputs": [],
   "source": []
  },
  {
   "cell_type": "code",
   "execution_count": null,
   "id": "24dd9f84",
   "metadata": {},
   "outputs": [],
   "source": []
  },
  {
   "cell_type": "code",
   "execution_count": null,
   "id": "b71c0434",
   "metadata": {},
   "outputs": [],
   "source": []
  },
  {
   "cell_type": "code",
   "execution_count": null,
   "id": "75ad94a1",
   "metadata": {},
   "outputs": [],
   "source": []
  },
  {
   "cell_type": "code",
   "execution_count": null,
   "id": "be99c128",
   "metadata": {},
   "outputs": [],
   "source": []
  },
  {
   "cell_type": "code",
   "execution_count": null,
   "id": "685a7fb6",
   "metadata": {},
   "outputs": [],
   "source": []
  },
  {
   "cell_type": "code",
   "execution_count": null,
   "id": "bda88c8f",
   "metadata": {},
   "outputs": [],
   "source": []
  },
  {
   "cell_type": "markdown",
   "id": "12dcdfaf",
   "metadata": {},
   "source": [
    "# String"
   ]
  },
  {
   "cell_type": "markdown",
   "id": "d2dc60a2",
   "metadata": {},
   "source": [
    "#### not add the last of the index value\n",
    "#### string is immutable \n",
    "#### updation or deletion is not can be done in python\n",
    "#### To ignore the escape sequences in a String, r or R is used, this implies that the string is a raw string and escape sequences inside it are to be ignored."
   ]
  },
  {
   "cell_type": "code",
   "execution_count": 30,
   "id": "a035a080",
   "metadata": {},
   "outputs": [
    {
     "data": {
      "text/plain": [
       "8"
      ]
     },
     "execution_count": 30,
     "metadata": {},
     "output_type": "execute_result"
    }
   ],
   "source": [
    "s1=\"nidhisha\"\n",
    "len(s1)"
   ]
  },
  {
   "cell_type": "code",
   "execution_count": 33,
   "id": "89bca5da",
   "metadata": {},
   "outputs": [
    {
     "name": "stdout",
     "output_type": "stream",
     "text": [
      "n i d h i s h a "
     ]
    }
   ],
   "source": [
    " for i in s1: print(i,end=\" \")"
   ]
  },
  {
   "cell_type": "code",
   "execution_count": 35,
   "id": "10e9d297",
   "metadata": {},
   "outputs": [
    {
     "data": {
      "text/plain": [
       "'ihdin'"
      ]
     },
     "execution_count": 35,
     "metadata": {},
     "output_type": "execute_result"
    }
   ],
   "source": [
    "# reversing the string\n",
    "s1=\"nidhi\"\n",
    "s1[::-1]"
   ]
  },
  {
   "cell_type": "code",
   "execution_count": 37,
   "id": "6e05a807",
   "metadata": {},
   "outputs": [
    {
     "data": {
      "text/plain": [
       "'skin'"
      ]
     },
     "execution_count": 37,
     "metadata": {},
     "output_type": "execute_result"
    }
   ],
   "source": [
    "s1=\"niks\"\n",
    "\"\".join(reversed(s1))"
   ]
  },
  {
   "cell_type": "code",
   "execution_count": 40,
   "id": "4f0e8630",
   "metadata": {},
   "outputs": [
    {
     "name": "stdout",
     "output_type": "stream",
     "text": [
      "ihdin"
     ]
    }
   ],
   "source": [
    "#using loop\n",
    "s1=\"nidhi\"\n",
    "last=s1[0]\n",
    "for i in range(1,len(s1)):\n",
    "    print(s1[-i],end=\"\")\n",
    "print(last,end=\"\")"
   ]
  },
  {
   "cell_type": "code",
   "execution_count": 31,
   "id": "a311fb27",
   "metadata": {},
   "outputs": [
    {
     "data": {
      "text/plain": [
       "'hello Im nidhisha'"
      ]
     },
     "execution_count": 31,
     "metadata": {},
     "output_type": "execute_result"
    }
   ],
   "source": [
    "s1=\"hello im nidhisha\"\n",
    "l1=list(s1)\n",
    "l1[6]=\"I\"\n",
    "s1=\"\".join(l1)\n",
    "s1"
   ]
  },
  {
   "cell_type": "code",
   "execution_count": 52,
   "id": "fb94b3f9",
   "metadata": {},
   "outputs": [
    {
     "data": {
      "text/plain": [
       "'hello Im nidhisha'"
      ]
     },
     "execution_count": 52,
     "metadata": {},
     "output_type": "execute_result"
    }
   ],
   "source": [
    "#other method\n",
    "s1=\"hello im nidhisha\"\n",
    "l1=list(s1)\n",
    "string2=l1[:6]+[\"I\"]+l1[7:]\n",
    "\"\".join(string2)"
   ]
  },
  {
   "cell_type": "code",
   "execution_count": 55,
   "id": "97d6973b",
   "metadata": {},
   "outputs": [],
   "source": [
    "# delete the string\n",
    "s1=\"nidhisha gsrg\"\n",
    "del s1"
   ]
  },
  {
   "cell_type": "code",
   "execution_count": 63,
   "id": "17a03e0b",
   "metadata": {},
   "outputs": [
    {
     "data": {
      "text/plain": [
       "'nidhisha'"
      ]
     },
     "execution_count": 63,
     "metadata": {},
     "output_type": "execute_result"
    }
   ],
   "source": [
    "# want to delete the perticular string\n",
    "s1=\"nidhisha grra\"\n",
    "s2=list(s1)\n",
    "s3=s2[:8]\n",
    "\"\".join(s3)"
   ]
  },
  {
   "cell_type": "code",
   "execution_count": 66,
   "id": "af383c73",
   "metadata": {},
   "outputs": [
    {
     "data": {
      "text/plain": [
       "'how are you \"nidhi\"'"
      ]
     },
     "execution_count": 66,
     "metadata": {},
     "output_type": "execute_result"
    }
   ],
   "source": [
    "\"how are you \\\"nidhi\\\"\""
   ]
  },
  {
   "cell_type": "code",
   "execution_count": 69,
   "id": "3b507244",
   "metadata": {},
   "outputs": [
    {
     "data": {
      "text/plain": [
       "'hii \\\\234\\\\ \\\\\"dvsd\\\\\"'"
      ]
     },
     "execution_count": 69,
     "metadata": {},
     "output_type": "execute_result"
    }
   ],
   "source": [
    "r\"hii \\234\\ \\\"dvsd\\\"\""
   ]
  },
  {
   "cell_type": "code",
   "execution_count": 72,
   "id": "8cd2b1af",
   "metadata": {},
   "outputs": [
    {
     "data": {
      "text/plain": [
       "'hello nidhi how are you'"
      ]
     },
     "execution_count": 72,
     "metadata": {},
     "output_type": "execute_result"
    }
   ],
   "source": [
    "# format of the string \n",
    "string1=\"{} {} {}\".format(\"hello\",\"nidhi\",\"how are you\")\n",
    "string1"
   ]
  },
  {
   "cell_type": "code",
   "execution_count": 75,
   "id": "34a83b68",
   "metadata": {},
   "outputs": [
    {
     "data": {
      "text/plain": [
       "'yeah hi hello'"
      ]
     },
     "execution_count": 75,
     "metadata": {},
     "output_type": "execute_result"
    }
   ],
   "source": [
    "string2=\"{2} {0} {1}\".format(\"hi\",\"hello\",\"yeah\")\n",
    "string2"
   ]
  },
  {
   "cell_type": "code",
   "execution_count": 23,
   "id": "716523a0",
   "metadata": {},
   "outputs": [
    {
     "name": "stdout",
     "output_type": "stream",
     "text": [
      "14\n"
     ]
    }
   ],
   "source": [
    "# calcualte the char without containing the space\n",
    "s1=\"nidhisha jain 08\"\n",
    "print(sum(not i.isspace() for i in s1))"
   ]
  },
  {
   "cell_type": "code",
   "execution_count": 27,
   "id": "f3369bfb",
   "metadata": {},
   "outputs": [
    {
     "name": "stdout",
     "output_type": "stream",
     "text": [
      "14\n"
     ]
    }
   ],
   "source": [
    "# map function\n",
    "s1=\"nidhisha jain 08\"\n",
    "print(sum(map(len,s1.split())))"
   ]
  },
  {
   "cell_type": "code",
   "execution_count": 32,
   "id": "95337e66",
   "metadata": {},
   "outputs": [
    {
     "data": {
      "text/plain": [
       "14"
      ]
     },
     "execution_count": 32,
     "metadata": {},
     "output_type": "execute_result"
    }
   ],
   "source": [
    "# using the replace method\n",
    "s1=\"nidhisha jain 08\"\n",
    "s2=s1.replace(\" \",\"\")\n",
    "len(s2)"
   ]
  },
  {
   "cell_type": "code",
   "execution_count": 34,
   "id": "d957a885",
   "metadata": {},
   "outputs": [
    {
     "name": "stdout",
     "output_type": "stream",
     "text": [
      "14\n"
     ]
    }
   ],
   "source": [
    "# using the for loop\n",
    "s1=\"nidhisha jain 08\"\n",
    "count=0\n",
    "for i in s1:\n",
    "    if(i!= \" \"):\n",
    "        count+=1\n",
    "print(count)"
   ]
  },
  {
   "cell_type": "code",
   "execution_count": 36,
   "id": "8f0af3a8",
   "metadata": {},
   "outputs": [
    {
     "data": {
      "text/plain": [
       "14"
      ]
     },
     "execution_count": 36,
     "metadata": {},
     "output_type": "execute_result"
    }
   ],
   "source": [
    "# using the join function\n",
    "a=\"nidhisha jain 08\"\n",
    "len(\"\".join(a.split()))"
   ]
  },
  {
   "cell_type": "code",
   "execution_count": 37,
   "id": "a5119c96",
   "metadata": {},
   "outputs": [
    {
     "name": "stdout",
     "output_type": "stream",
     "text": [
      "n d i h j i 0 "
     ]
    }
   ],
   "source": [
    "# print the even length of the char\n",
    "a=\"nidhishajain08\"\n",
    "for i in range(len(a)):\n",
    "    if(i%2==0):\n",
    "        print(a[i],end=\" \")"
   ]
  },
  {
   "cell_type": "code",
   "execution_count": 41,
   "id": "161b2db0",
   "metadata": {},
   "outputs": [
    {
     "name": "stdout",
     "output_type": "stream",
     "text": [
      "nidhisha\n",
      "jain\n",
      "08\n"
     ]
    }
   ],
   "source": [
    "# even length of the string\n",
    "a=\"nidhisha jain 08 madhu\"\n",
    "l1=a.split()\n",
    "for i in l1:\n",
    "    if(len(i)%2==0):\n",
    "        print(i)"
   ]
  },
  {
   "cell_type": "code",
   "execution_count": 49,
   "id": "1b423329",
   "metadata": {},
   "outputs": [
    {
     "data": {
      "text/plain": [
       "['nidhisha', 'jain', '08']"
      ]
     },
     "execution_count": 49,
     "metadata": {},
     "output_type": "execute_result"
    }
   ],
   "source": [
    "# using the lambda function\n",
    "a=\"nidhisha jain 08 madhu\"\n",
    "l1=list(filter(lambda x:len(x)%2==0,a.split()))\n",
    "l1"
   ]
  },
  {
   "cell_type": "code",
   "execution_count": 1,
   "id": "06ec5111",
   "metadata": {},
   "outputs": [
    {
     "data": {
      "text/plain": [
       "'geeksfORGEEKS'"
      ]
     },
     "execution_count": 1,
     "metadata": {},
     "output_type": "execute_result"
    }
   ],
   "source": [
    "#perform uppercase of the later part of the string.\n",
    "s1=\"geeksforgeeks\"\n",
    "s1[:len(s1)//2]+s1[len(s1)//2:].upper()"
   ]
  },
  {
   "cell_type": "code",
   "execution_count": 20,
   "id": "98cfe1ca",
   "metadata": {},
   "outputs": [
    {
     "name": "stdout",
     "output_type": "stream",
     "text": [
      "NIDHisha"
     ]
    }
   ],
   "source": [
    "s1=\"nidhisha\"\n",
    "for  i in range (len(s1)//2):\n",
    "    print(s1[i].upper(),end=\"\")\n",
    "print(s1[len(s1)//2:],end=\"\")"
   ]
  },
  {
   "cell_type": "code",
   "execution_count": 25,
   "id": "3d3fa4f9",
   "metadata": {},
   "outputs": [
    {
     "data": {
      "text/plain": [
       "'nidhiSHA'"
      ]
     },
     "execution_count": 25,
     "metadata": {},
     "output_type": "execute_result"
    }
   ],
   "source": [
    "# using the join function\n",
    "s1=\"nidhisha\"\n",
    "hlf=len(s1)//2\n",
    "\"\".join([s1[ch].upper() if(hlf<ch) else s1[ch] for ch in range(len(s1))])"
   ]
  },
  {
   "cell_type": "markdown",
   "id": "a6e9188f",
   "metadata": {},
   "source": [
    "### regular expression\n",
    "#### re.sub(patterns,replace,string)-what type of parrtern, replacing the value,provinding string\n",
    "#### r\"(?i)-means incase sensitive it takes both upper and lower value\n",
    "#### (\\w+)-takes any character,digit,underscore.\n"
   ]
  },
  {
   "cell_type": "code",
   "execution_count": 3,
   "id": "8642d2a4",
   "metadata": {},
   "outputs": [
    {
     "data": {
      "text/plain": [
       "'nidhISHA'"
      ]
     },
     "execution_count": 3,
     "metadata": {},
     "output_type": "execute_result"
    }
   ],
   "source": [
    "import re\n",
    "s1=\"nidhisha\"\n",
    "hlf=len(s1)//2\n",
    "res = re.sub(r\"(?i)(\\w+)\", lambda m: m.group().upper(), s1[hlf:])\n",
    "res\n",
    "s1=s1[:hlf]+res\n",
    "s1"
   ]
  },
  {
   "cell_type": "code",
   "execution_count": 7,
   "id": "890f55c9",
   "metadata": {},
   "outputs": [
    {
     "data": {
      "text/plain": [
       "'LoveyourselF'"
      ]
     },
     "execution_count": 7,
     "metadata": {},
     "output_type": "execute_result"
    }
   ],
   "source": [
    "#capitalize the first and last character of each word in a string\n",
    "s1=\"loveyourself\"\n",
    "l1=list(s1)\n",
    "l1[0]=l1[0].upper()\n",
    "l1[-1]=l1[-1].upper()\n",
    "\"\".join(l1)"
   ]
  },
  {
   "cell_type": "code",
   "execution_count": 19,
   "id": "ec60520e",
   "metadata": {},
   "outputs": [
    {
     "data": {
      "text/plain": [
       "'LoveyourselF'"
      ]
     },
     "execution_count": 19,
     "metadata": {},
     "output_type": "execute_result"
    }
   ],
   "source": [
    "s1=\"loveyourself\"\n",
    "\"\".join(map(lambda x:x[:-1]+x[-1].upper(),s1.title().split()))"
   ]
  },
  {
   "cell_type": "code",
   "execution_count": 11,
   "id": "a9f39a8e",
   "metadata": {},
   "outputs": [
    {
     "data": {
      "text/plain": [
       "'Loveyourself'"
      ]
     },
     "execution_count": 11,
     "metadata": {},
     "output_type": "execute_result"
    }
   ],
   "source": [
    "#title function\n",
    "s1=\"loveyourself\".title()\n",
    "s1"
   ]
  },
  {
   "cell_type": "code",
   "execution_count": 33,
   "id": "bb5427c9",
   "metadata": {},
   "outputs": [
    {
     "data": {
      "text/plain": [
       "'LoveyourselF'"
      ]
     },
     "execution_count": 33,
     "metadata": {},
     "output_type": "execute_result"
    }
   ],
   "source": [
    "s1=\"loveyourself\"\n",
    "l1=[]\n",
    "a=list(s1)\n",
    "for i in range(len(a)):\n",
    "    if(i==0 or i==len(s1)-1):\n",
    "        l1.append(a[i].upper())\n",
    "    else:\n",
    "        l1.append(a[i])\n",
    "\"\".join(l1)"
   ]
  },
  {
   "cell_type": "code",
   "execution_count": 37,
   "id": "992512c3",
   "metadata": {},
   "outputs": [
    {
     "name": "stdout",
     "output_type": "stream",
     "text": [
      "LoveyourselF\n"
     ]
    }
   ],
   "source": [
    "s1=\"loveyourself\"\n",
    "for i in s1.title().split():\n",
    "    l1=\"\".join(i[:-1]+i[-1].upper())\n",
    "print(l1)"
   ]
  },
  {
   "cell_type": "code",
   "execution_count": 54,
   "id": "b9e943bb",
   "metadata": {},
   "outputs": [
    {
     "name": "stdout",
     "output_type": "stream",
     "text": [
      "True\n",
      "True\n",
      "True\n",
      "True\n",
      "True\n",
      "0 True\n",
      "True\n",
      "True\n",
      "True\n",
      "True\n",
      "True\n",
      "0 8 "
     ]
    }
   ],
   "source": [
    "#check if a string has at least one letter and one number\n",
    "s1=\"lovey0urself08\"\n",
    "l1=list(s1)\n",
    "for i in l1:\n",
    "    if(i in list(\"1234567890\")):\n",
    "        print(i,end=\" \")\n",
    "    elif(i in list(\"abcdefghijklmnopqrstuvwxyz\")):\n",
    "        print(True)"
   ]
  },
  {
   "cell_type": "markdown",
   "id": "d7acad79",
   "metadata": {},
   "source": [
    "#### isalpha()-his method is used to check if all the characters in the string are alphabetic characters (letters). It returns True if all characters in the string are letters (A-Z or a-z), \n",
    "#### isdigit()-This method is used to check if all the characters in the string are digits (0-9). It returns True"
   ]
  },
  {
   "cell_type": "code",
   "execution_count": 48,
   "id": "9d558200",
   "metadata": {},
   "outputs": [
    {
     "data": {
      "text/plain": [
       "'loveyurself'"
      ]
     },
     "execution_count": 48,
     "metadata": {},
     "output_type": "execute_result"
    }
   ],
   "source": [
    "s1=\"lovey0urself08\"\n",
    "l1=list(s1)\n",
    "l2=[]\n",
    "for i in l1:\n",
    "    if(i.isalpha()):\n",
    "        l2.append(i)\n",
    "\"\".join(l2)"
   ]
  },
  {
   "cell_type": "code",
   "execution_count": 65,
   "id": "4b8397e4",
   "metadata": {},
   "outputs": [
    {
     "name": "stdout",
     "output_type": "stream",
     "text": [
      "False\n"
     ]
    }
   ],
   "source": [
    "import re\n",
    "s1=\"loveyurself\"\n",
    "res=re.search(r\"[a-zA-z]\",s1) and re.search(r'[0-9]+', s1)\n",
    "if res:\n",
    "    print(True)\n",
    "else:\n",
    "    print(False)"
   ]
  },
  {
   "cell_type": "code",
   "execution_count": 68,
   "id": "9b13342b",
   "metadata": {},
   "outputs": [
    {
     "data": {
      "text/plain": [
       "False"
      ]
     },
     "execution_count": 68,
     "metadata": {},
     "output_type": "execute_result"
    }
   ],
   "source": [
    "#s1=\"lovey0urself08\"\n",
    "res=lambda ch:all(i.isalpha() for i in ch) \n",
    "\n",
    "res(\"lovey0urself08\")"
   ]
  },
  {
   "cell_type": "code",
   "execution_count": 69,
   "id": "5b5126bd",
   "metadata": {},
   "outputs": [
    {
     "data": {
      "text/plain": [
       "True"
      ]
     },
     "execution_count": 69,
     "metadata": {},
     "output_type": "execute_result"
    }
   ],
   "source": [
    "res=lambda ch:any(i.isalpha() for i in ch) \n",
    "\n",
    "res(\"lovey0urself08\")"
   ]
  },
  {
   "cell_type": "code",
   "execution_count": 87,
   "id": "7e77291c",
   "metadata": {},
   "outputs": [
    {
     "name": "stdout",
     "output_type": "stream",
     "text": [
      "aeioUy\n",
      "contain all the vowel\n"
     ]
    }
   ],
   "source": [
    "# Accept the Strings Which Contains all Vowels\n",
    "def all_vowel(s1):\n",
    "    s1=s1.lower()\n",
    "    l1=[]\n",
    "    vowel=set(\"aeiou\")\n",
    "    for i in s1:\n",
    "        if i in list(\"aeiou\"):\n",
    "            l1.append(i)\n",
    "    l1=set(l1)\n",
    "    if(len(vowel)==len(l1)):\n",
    "        print(\"contain all the vowel\")\n",
    "    else:\n",
    "        print(\"not contain all the vowel\")\n",
    "s1=input()\n",
    "all_vowel(s1)"
   ]
  },
  {
   "cell_type": "code",
   "execution_count": 88,
   "id": "75091af0",
   "metadata": {},
   "outputs": [
    {
     "name": "stdout",
     "output_type": "stream",
     "text": [
      "contain all the vowel\n"
     ]
    }
   ],
   "source": [
    "def all_vowel(s1):\n",
    "    s1=s1.lower()\n",
    "    vowel=set(\"aeiou\")\n",
    "    l1={i for i in s1 if(i in list(\"aeiou\"))}\n",
    "    if(len(vowel)==len(l1)):\n",
    "        print(\"contain all the vowel\")\n",
    "    else:\n",
    "        print(\"not contain all the vowel\")\n",
    "all_vowel(\"nidhiAeiou\")"
   ]
  },
  {
   "cell_type": "code",
   "execution_count": 97,
   "id": "046e4856",
   "metadata": {},
   "outputs": [
    {
     "name": "stdout",
     "output_type": "stream",
     "text": [
      "[1, 1, 3, 1, 1]\n",
      "contain all the vowel\n"
     ]
    }
   ],
   "source": [
    "def all_vowel(s1):\n",
    "    s1=s1.lower()\n",
    "    l1=[s1.count(\"a\"),s1.count(\"e\"),s1.count(\"i\"),s1.count(\"o\"),s1.count(\"u\")]\n",
    "    print(l1)\n",
    "    if(l1.count(0)>0):\n",
    "        print(\"not contain all the vowel\")\n",
    "    else:\n",
    "        print(\"contain all the vowel\")\n",
    "all_vowel(\"nidhiAeiou\")    "
   ]
  },
  {
   "cell_type": "code",
   "execution_count": 98,
   "id": "b5e31e5e",
   "metadata": {},
   "outputs": [
    {
     "name": "stdout",
     "output_type": "stream",
     "text": [
      "[1, 1, 3, 1, 1]\n"
     ]
    },
    {
     "data": {
      "text/plain": [
       "0"
      ]
     },
     "execution_count": 98,
     "metadata": {},
     "output_type": "execute_result"
    }
   ],
   "source": [
    "s1=\"nidhiAeiou\"\n",
    "s1=s1.lower()\n",
    "l1=[s1.count(\"a\"),s1.count(\"e\"),s1.count(\"i\"),s1.count(\"o\"),s1.count(\"u\")]\n",
    "print(l1)\n",
    "l1.count(0)"
   ]
  },
  {
   "cell_type": "markdown",
   "id": "56547a5c",
   "metadata": {},
   "source": [
    "#### intersection function- set1.intersection(set1,set2.....)\n",
    "####  it finds the common elements shared by all the sets."
   ]
  },
  {
   "cell_type": "code",
   "execution_count": 114,
   "id": "6f19ab37",
   "metadata": {},
   "outputs": [
    {
     "name": "stdout",
     "output_type": "stream",
     "text": [
      "not\n"
     ]
    }
   ],
   "source": [
    "# using the intersection\n",
    "def all_vowel(s1):\n",
    "    if(len(set(s1.lower()).intersection(\"aeiou\"))==5):\n",
    "        print(\"contains all the vowel\")\n",
    "    else:\n",
    "        print(\"not\")\n",
    "s1=\"esraiU\"\n",
    "all_vowel(s1)"
   ]
  },
  {
   "cell_type": "code",
   "execution_count": 111,
   "id": "1fd5ebbb",
   "metadata": {},
   "outputs": [
    {
     "data": {
      "text/plain": [
       "{'a', 'e', 'i', 'o', 'u'}"
      ]
     },
     "execution_count": 111,
     "metadata": {},
     "output_type": "execute_result"
    }
   ],
   "source": [
    "s1=\"esraioU\"\n",
    "b=list(\"aeiou\")\n",
    "set(s1.lower()).intersection(b)"
   ]
  },
  {
   "cell_type": "markdown",
   "id": "b8443949",
   "metadata": {},
   "source": [
    "#### c=re.complie(partten)\n",
    "#### re.findall(c,text)-if text satisify the result of c the return true else not"
   ]
  },
  {
   "cell_type": "code",
   "execution_count": 118,
   "id": "1aa4d507",
   "metadata": {},
   "outputs": [
    {
     "name": "stdout",
     "output_type": "stream",
     "text": [
      "accepted\n"
     ]
    }
   ],
   "source": [
    "import re\n",
    "s1=\"esraioU\"\n",
    "c=re.compile(r\"[aeiouAEIOU]\")\n",
    "res=re.findall(c,s1)\n",
    "print(\"accepted\") if(len(res)>=5) else print(\"not accepted\")"
   ]
  },
  {
   "cell_type": "code",
   "execution_count": 127,
   "id": "7c556d45",
   "metadata": {},
   "outputs": [
    {
     "name": "stdout",
     "output_type": "stream",
     "text": [
      "all vowels except a,i\n"
     ]
    }
   ],
   "source": [
    "#using dict\n",
    "s1=\"esroU\"\n",
    "l1=[ch for ch in s1.lower() if ch in list(\"aeiou\")]\n",
    "dic,lst={},[]\n",
    "dic[\"a\"]=l1.count(\"a\")\n",
    "dic[\"e\"]=l1.count(\"e\")\n",
    "dic[\"i\"]=l1.count(\"i\")\n",
    "dic[\"o\"]=l1.count(\"o\")\n",
    "dic[\"u\"]=l1.count(\"u\")\n",
    "for i,j in dic.items():\n",
    "    if j<=0:\n",
    "        lst.append(i)\n",
    "if lst:\n",
    "    print(\"all vowels except\",\",\".join(lst))\n",
    "else:\n",
    "    print(\"vowel\")"
   ]
  },
  {
   "cell_type": "code",
   "execution_count": 134,
   "id": "8c5f7a08",
   "metadata": {},
   "outputs": [
    {
     "name": "stdout",
     "output_type": "stream",
     "text": [
      "all vowels except a,i\n"
     ]
    }
   ],
   "source": [
    "s1=\"esroU\"\n",
    "s1=s1.lower()\n",
    "l1=[i for i in s1 if i in list(\"aeiou\")]\n",
    "a=list(\"aeiou\")\n",
    "lst=[]\n",
    "lst=[j for j in a if j not in l1]\n",
    "if lst:\n",
    "    print(\"all vowels except\",\",\".join(lst))\n",
    "else:\n",
    "    print(\"vowel\")"
   ]
  },
  {
   "cell_type": "code",
   "execution_count": 3,
   "id": "e6c933a0",
   "metadata": {},
   "outputs": [
    {
     "name": "stdout",
     "output_type": "stream",
     "text": [
      "accepted\n"
     ]
    }
   ],
   "source": [
    "def all_vowel(s1):\n",
    "    vowel=list(\"aeiou\")\n",
    "    if all( i in s1.lower() for i in vowel):\n",
    "        return print(\"accepted\")\n",
    "    return print(\"not accepted\")\n",
    "s1=\"esroUia\"\n",
    "all_vowel(s1)"
   ]
  },
  {
   "cell_type": "markdown",
   "id": "c71cfb26",
   "metadata": {},
   "source": [
    "### difference- set.difference(set1)"
   ]
  },
  {
   "cell_type": "code",
   "execution_count": 143,
   "id": "0743c301",
   "metadata": {},
   "outputs": [
    {
     "name": "stdout",
     "output_type": "stream",
     "text": [
      "accepted\n"
     ]
    }
   ],
   "source": [
    "# using the difference function\n",
    "s1=\"esroUia\"\n",
    "a=set(\"aeiou\")\n",
    "if len(a.difference(s1.lower()))==0:\n",
    "    print(\"accepted\")\n",
    "else:\n",
    "    print(\"not accepted\")"
   ]
  },
  {
   "cell_type": "code",
   "execution_count": 145,
   "id": "1c5dcc02",
   "metadata": {},
   "outputs": [
    {
     "name": "stdout",
     "output_type": "stream",
     "text": [
      "accepted\n"
     ]
    }
   ],
   "source": [
    "s1=\"esroUia\"\n",
    "a=set(\"aeiou\")\n",
    "b=a.difference(s1.lower())\n",
    "if(len(b)==0):\n",
    "    print(\"accepted\")\n",
    "else:\n",
    "    print(\"not accepted\")"
   ]
  },
  {
   "cell_type": "code",
   "execution_count": 152,
   "id": "c82ea53d",
   "metadata": {},
   "outputs": [
    {
     "name": "stdout",
     "output_type": "stream",
     "text": [
      "4\n",
      "matching character a,d,e,f\n"
     ]
    }
   ],
   "source": [
    "#Count the Number of matching characters in a pair of string\n",
    "str1 = 'abcdef'\n",
    "str2 = 'defghia'\n",
    "count=0\n",
    "l1=[]\n",
    "for i in str1:\n",
    "    if(i in str2):\n",
    "        count+=1\n",
    "        l1.append(i)\n",
    "print(count)\n",
    "print(\"matching character\",\",\".join(l1))"
   ]
  },
  {
   "cell_type": "code",
   "execution_count": 156,
   "id": "90ce8f0b",
   "metadata": {},
   "outputs": [
    {
     "name": "stdout",
     "output_type": "stream",
     "text": [
      "matching charaters:- {'e', 'd', 'a', 'f'}\n"
     ]
    }
   ],
   "source": [
    "str1 = 'abcdef'\n",
    "str2 = 'defghia'\n",
    "str1=str1.lower()\n",
    "str2=str2.lower()\n",
    "print(\"matching charaters:-\",set(str1).intersection(set(str2)))"
   ]
  },
  {
   "cell_type": "code",
   "execution_count": 157,
   "id": "048d85c7",
   "metadata": {},
   "outputs": [
    {
     "name": "stdout",
     "output_type": "stream",
     "text": [
      "5\n"
     ]
    }
   ],
   "source": [
    "#count number of vowels using sets in given string\n",
    "s1=\"GeeksforGeeks\"\n",
    "s1=s1.lower()\n",
    "count=0\n",
    "for i in s1:\n",
    "    if(i in list(\"aeiou\")):\n",
    "        count+=1\n",
    "print(count)"
   ]
  },
  {
   "cell_type": "code",
   "execution_count": 159,
   "id": "b2556062",
   "metadata": {},
   "outputs": [
    {
     "data": {
      "text/plain": [
       "5"
      ]
     },
     "execution_count": 159,
     "metadata": {},
     "output_type": "execute_result"
    }
   ],
   "source": [
    "s1=\"GeeksforGeeks\"\n",
    "s1=s1.lower()\n",
    "sum([s1.count(\"a\"),s1.count(\"e\"),s1.count(\"i\"),s1.count(\"o\"),s1.count(\"u\")])"
   ]
  },
  {
   "cell_type": "code",
   "execution_count": 161,
   "id": "956fc100",
   "metadata": {},
   "outputs": [
    {
     "data": {
      "text/plain": [
       "5"
      ]
     },
     "execution_count": 161,
     "metadata": {},
     "output_type": "execute_result"
    }
   ],
   "source": [
    "s1=\"GeeksforGeeks\"\n",
    "s1=s1.lower()\n",
    "vowel=list(\"aeiou\")\n",
    "sum(s1.count(ch) for ch in vowel)"
   ]
  },
  {
   "cell_type": "code",
   "execution_count": 163,
   "id": "1668909f",
   "metadata": {},
   "outputs": [
    {
     "data": {
      "text/plain": [
       "3"
      ]
     },
     "execution_count": 163,
     "metadata": {},
     "output_type": "execute_result"
    }
   ],
   "source": [
    "import re\n",
    "s1=\"niDhIshA\"\n",
    "vowel=re.compile(r\"(?i)[aeiou]\")\n",
    "res=re.findall(vowel,s1)\n",
    "len(res)"
   ]
  },
  {
   "cell_type": "code",
   "execution_count": 166,
   "id": "4783cc2b",
   "metadata": {},
   "outputs": [
    {
     "data": {
      "text/plain": [
       "'geksfor'"
      ]
     },
     "execution_count": 166,
     "metadata": {},
     "output_type": "execute_result"
    }
   ],
   "source": [
    "#Remove all duplicates from a given string in Python\n",
    "s1=\"geeksforgeeks\"\n",
    "l1=[]\n",
    "for i in s1:\n",
    "    if i not in l1:\n",
    "        l1.append(i)\n",
    "\"\".join(l1)"
   ]
  },
  {
   "cell_type": "code",
   "execution_count": 5,
   "id": "533a8ee7",
   "metadata": {},
   "outputs": [
    {
     "name": "stdout",
     "output_type": "stream",
     "text": [
      "[2, 4, 4, 2, 2, 1, 1, 1, 2, 4, 4, 2, 2]\n"
     ]
    },
    {
     "data": {
      "text/plain": [
       "'f'"
      ]
     },
     "execution_count": 5,
     "metadata": {},
     "output_type": "execute_result"
    }
   ],
   "source": [
    "#Least Frequent Character in String\n",
    "s1 = \"GeeksforGeeks\"\n",
    "l1=[]\n",
    "for i in s1:\n",
    "    l1.append(s1.count(i))\n",
    "print(l1)\n",
    "s1[l1.index(min(l1))]"
   ]
  },
  {
   "cell_type": "code",
   "execution_count": 30,
   "id": "69d1cb8e",
   "metadata": {},
   "outputs": [
    {
     "name": "stdout",
     "output_type": "stream",
     "text": [
      "less frequent value:- f\n"
     ]
    }
   ],
   "source": [
    "s1 = \"GeeksforGeeks\"\n",
    "s1=s1.lower()\n",
    "unique=[]\n",
    "for i in s1:\n",
    "    if i not in unique:\n",
    "        unique.append(i)\n",
    "\n",
    "l1=[]\n",
    "for j in unique:\n",
    "    count=0\n",
    "    for k in s1:\n",
    "        if(j==k):\n",
    "            count+=1\n",
    "    l1.append(count)\n",
    "print(\"less frequent value:-\",unique[l1.index(min(l1))])"
   ]
  },
  {
   "cell_type": "code",
   "execution_count": 37,
   "id": "ba9a3fac",
   "metadata": {},
   "outputs": [
    {
     "name": "stdout",
     "output_type": "stream",
     "text": [
      "{'g': 2, 'e': 4, 'k': 2, 's': 2, 'f': 1, 'o': 1, 'r': 1}\n"
     ]
    },
    {
     "data": {
      "text/plain": [
       "'f'"
      ]
     },
     "execution_count": 37,
     "metadata": {},
     "output_type": "execute_result"
    }
   ],
   "source": [
    "s1 = \"GeeksforGeeks\"\n",
    "s1=s1.lower()\n",
    "d1={}\n",
    "for i in s1:\n",
    "    if i in d1:\n",
    "        d1[i]+=1\n",
    "    else:\n",
    "        d1[i]=1\n",
    "print(d1)\n",
    "min(d1,key=d1.get)"
   ]
  },
  {
   "cell_type": "code",
   "execution_count": 51,
   "id": "f7b4e038",
   "metadata": {},
   "outputs": [
    {
     "name": "stdout",
     "output_type": "stream",
     "text": [
      "minimun frequent value:- f,o,r\n"
     ]
    }
   ],
   "source": [
    "s1 = \"GeeksforGeeks\"\n",
    "s1=s1.lower()\n",
    "d1={}\n",
    "for i in s1:\n",
    "    if i in d1:\n",
    "        d1[i]+=1\n",
    "    else:\n",
    "        d1[i]=1\n",
    "min_value=min(d1.values())\n",
    "l1=[i for i,j in d1.items() if j==min_value]\n",
    "print(\"minimun frequent value:-\", \",\".join(l1))"
   ]
  },
  {
   "cell_type": "code",
   "execution_count": 60,
   "id": "85ff36c8",
   "metadata": {},
   "outputs": [
    {
     "data": {
      "text/plain": [
       "'o,f,r'"
      ]
     },
     "execution_count": 60,
     "metadata": {},
     "output_type": "execute_result"
    }
   ],
   "source": [
    "\n",
    "def least_count(s1):\n",
    "    d1={i:s1.count(i) for i in set(s1)}\n",
    "    min_value=min(d1.values())\n",
    "    return \",\".join([i for i,j in d1.items() if j==min_value])\n",
    "s1 = \"GeeksforGeeks\"\n",
    "least_count(s1)"
   ]
  },
  {
   "cell_type": "code",
   "execution_count": 82,
   "id": "a11ac8b4",
   "metadata": {},
   "outputs": [
    {
     "name": "stdout",
     "output_type": "stream",
     "text": [
      "{'k': 2, 'o': 1, 's': 1, 'f': 1, 'r': 1, 'g': 2, 'e': 4}\n",
      "odd char:- o,s,f,r\n"
     ]
    }
   ],
   "source": [
    "#Odd Frequency Characters\n",
    "s1=\"geekforgeeks\"\n",
    "d1={i:s1.count(i) for i in set(s1)}\n",
    "d2=[]\n",
    "for i,j in d1.items():\n",
    "    if(j%2!=0):\n",
    "        d2.append(i)\n",
    "print(\"odd char:-\",\",\".join(d2))"
   ]
  },
  {
   "cell_type": "code",
   "execution_count": 89,
   "id": "429705e5",
   "metadata": {},
   "outputs": [
    {
     "data": {
      "text/plain": [
       "['s', 'r', 'j', 'y', 'a', 'w']"
      ]
     },
     "execution_count": 89,
     "metadata": {},
     "output_type": "execute_result"
    }
   ],
   "source": [
    "def odd_char(s1):\n",
    "    d1={}\n",
    "    for i in s1:\n",
    "        if( i in d1):\n",
    "            d1[i]+=1\n",
    "        else:\n",
    "            d1[i]=1\n",
    "    l1=[i for i,j in d1.items() if j%2!=0]\n",
    "    return l1\n",
    "odd_char(\"gsrgtjyfgdsaweretrfgds\")"
   ]
  },
  {
   "cell_type": "code",
   "execution_count": 98,
   "id": "0fbf65b5",
   "metadata": {},
   "outputs": [
    {
     "data": {
      "text/plain": [
       "['s', 'r', 'j', 'y', 'a', 'w']"
      ]
     },
     "execution_count": 98,
     "metadata": {},
     "output_type": "execute_result"
    }
   ],
   "source": [
    "from collections import Counter\n",
    "def odd_char(s1):\n",
    "    res=[i for i,j in Counter(s1).items() if j & 1]\n",
    "    return res\n",
    "odd_char(\"gsrgtjyfgdsaweretrfgds\")"
   ]
  },
  {
   "cell_type": "code",
   "execution_count": 68,
   "id": "9710395c",
   "metadata": {},
   "outputs": [
    {
     "data": {
      "text/plain": [
       "{'e': 4, 'g': 2}"
      ]
     },
     "execution_count": 68,
     "metadata": {},
     "output_type": "execute_result"
    }
   ],
   "source": [
    "#Specific Characters Frequency in String List\n",
    "def frequency(l1,sub_string):\n",
    "    d1={}\n",
    "    for i in sub_string:\n",
    "        for j in list(\"\".join(l1)):\n",
    "            if(i==j):\n",
    "                d1[i]=l1[0].count(i)\n",
    "    return d1\n",
    "frequency([\"geeksforgeeks\"],['e','g'])"
   ]
  },
  {
   "cell_type": "code",
   "execution_count": 64,
   "id": "82fd00b0",
   "metadata": {},
   "outputs": [
    {
     "name": "stdout",
     "output_type": "stream",
     "text": [
      "{'e': 4, 'g': 2}\n"
     ]
    }
   ],
   "source": [
    "from collections import Counter\n",
    "def frequency(l1,sub_string):\n",
    "    d1={key:val for i in sub_string for key,val in dict(Counter(\"\".join(l1))).items() if key==i}\n",
    "    print(d1)\n",
    "frequency([\"geeksforgeeks\"],['e','g'])"
   ]
  },
  {
   "cell_type": "code",
   "execution_count": 62,
   "id": "59c27169",
   "metadata": {},
   "outputs": [
    {
     "name": "stdout",
     "output_type": "stream",
     "text": [
      "['g', 'e', 'e', 'k', 's', 'f', 'o', 'r', 'g', 'e', 'e', 'k', 's']\n"
     ]
    }
   ],
   "source": [
    "l1=[\"geeksforgeeks\"]\n",
    "l2=list(\"\".join(l1))\n",
    "print(l2)"
   ]
  },
  {
   "cell_type": "code",
   "execution_count": 59,
   "id": "2c6904d1",
   "metadata": {},
   "outputs": [
    {
     "data": {
      "text/plain": [
       "'geeksforgeeks'"
      ]
     },
     "execution_count": 59,
     "metadata": {},
     "output_type": "execute_result"
    }
   ],
   "source": [
    "\"\".join(l2)"
   ]
  },
  {
   "cell_type": "code",
   "execution_count": 72,
   "id": "c9b34b94",
   "metadata": {},
   "outputs": [
    {
     "data": {
      "text/plain": [
       "{'g': 2, 'e': 4}"
      ]
     },
     "execution_count": 72,
     "metadata": {},
     "output_type": "execute_result"
    }
   ],
   "source": [
    "def frequency(l1,substring):\n",
    "    d1={}\n",
    "    l2=list(\"\".join(l1))\n",
    "    for i in l2:\n",
    "        if( i in substring):\n",
    "            d1[i]=l2.count(i)\n",
    "    return d1\n",
    "frequency([\"geeksforgeeks\"],['e','g'])"
   ]
  },
  {
   "cell_type": "code",
   "execution_count": 75,
   "id": "2093ae46",
   "metadata": {},
   "outputs": [
    {
     "data": {
      "text/plain": [
       "{'g': 2, 'e': 4}"
      ]
     },
     "execution_count": 75,
     "metadata": {},
     "output_type": "execute_result"
    }
   ],
   "source": [
    "def frequency(l1,sub_string):\n",
    "    d1={}\n",
    "    for i in list(\"\".join(l1)):\n",
    "        if i in sub_string:\n",
    "            if i in d1:\n",
    "                d1[i]+=1\n",
    "            else:\n",
    "                d1[i]=1\n",
    "    return d1\n",
    "frequency([\"geeksforgeeks\"],['e','g'])        "
   ]
  },
  {
   "cell_type": "code",
   "execution_count": 77,
   "id": "8c237514",
   "metadata": {},
   "outputs": [
    {
     "data": {
      "text/plain": [
       "3"
      ]
     },
     "execution_count": 77,
     "metadata": {},
     "output_type": "execute_result"
    }
   ],
   "source": [
    "#Frequency of numbers in String\n",
    "def no_in_string(l1):\n",
    "    count=0\n",
    "    for i in list(\"\".join(l1)):\n",
    "        if(i in list('0123456789')):\n",
    "            count=count+1\n",
    "    return count\n",
    "no_in_string([\"geeks4feeks is No. 1 4 geeks\"])"
   ]
  },
  {
   "cell_type": "code",
   "execution_count": 79,
   "id": "ed650605",
   "metadata": {},
   "outputs": [
    {
     "data": {
      "text/plain": [
       "3"
      ]
     },
     "execution_count": 79,
     "metadata": {},
     "output_type": "execute_result"
    }
   ],
   "source": [
    "def no_in_string(s1):\n",
    "    a=[i for i in s1 if i in list(\"0123456789\")]\n",
    "    return len(a)\n",
    "no_in_string(\"geeks4feeks is No. 1 4 geeks\")"
   ]
  },
  {
   "cell_type": "code",
   "execution_count": 84,
   "id": "f497a56e",
   "metadata": {},
   "outputs": [
    {
     "data": {
      "text/plain": [
       "3"
      ]
     },
     "execution_count": 84,
     "metadata": {},
     "output_type": "execute_result"
    }
   ],
   "source": [
    "import re\n",
    "s1=\"geeks4feeks is No. 1 4 geeks\"\n",
    "no=re.findall(r\"\\d\",s1)\n",
    "len(no)"
   ]
  },
  {
   "cell_type": "code",
   "execution_count": 86,
   "id": "2b6803d1",
   "metadata": {},
   "outputs": [
    {
     "data": {
      "text/plain": [
       "3"
      ]
     },
     "execution_count": 86,
     "metadata": {},
     "output_type": "execute_result"
    }
   ],
   "source": [
    "#using id digit method\n",
    "def no_in_string(s1):\n",
    "    res=0\n",
    "    for i in s1:\n",
    "        if(i.isdigit()):\n",
    "            res+=1\n",
    "    return res\n",
    "no_in_string(\"geeks4feeks is No. 1 4 geeks\")"
   ]
  },
  {
   "cell_type": "code",
   "execution_count": 90,
   "id": "80cf1191",
   "metadata": {},
   "outputs": [
    {
     "name": "stdout",
     "output_type": "stream",
     "text": [
      "3\n"
     ]
    }
   ],
   "source": [
    "s1=\"geeks4feeks is No. 1 4 geeks\"\n",
    "a=list(filter(lambda i:i.isdigit(),s1))\n",
    "print(len(a))"
   ]
  },
  {
   "cell_type": "code",
   "execution_count": 93,
   "id": "3d119970",
   "metadata": {},
   "outputs": [
    {
     "name": "stdout",
     "output_type": "stream",
     "text": [
      "string is accepted\n"
     ]
    }
   ],
   "source": [
    "#Program to check if a string contains any special character\n",
    "def string(s1):\n",
    "    regex=re.compile(\"[!@#$%^&*()}~`]\")\n",
    "    if(regex.search(s1)==None):\n",
    "        print(\"string is accepted\")\n",
    "    else:\n",
    "        print(\"string is not accepted\")\n",
    "string(\"frhdufe\")"
   ]
  },
  {
   "cell_type": "code",
   "execution_count": 117,
   "id": "79aaf628",
   "metadata": {},
   "outputs": [
    {
     "name": "stdout",
     "output_type": "stream",
     "text": [
      "String is not aceppted\n"
     ]
    }
   ],
   "source": [
    "s1=\"sfdgh&bcfvxds\"\n",
    "a=list(\"!@#$%^&*()_:?><\")\n",
    "count=0\n",
    "for i in s1:\n",
    "    if i in a:\n",
    "        count+=1\n",
    "if(count>0):\n",
    "    print(\"String is not aceppted\")\n",
    "else:\n",
    "    print(\"string is accepted\")"
   ]
  },
  {
   "cell_type": "code",
   "execution_count": 121,
   "id": "eca45c3a",
   "metadata": {},
   "outputs": [
    {
     "name": "stdout",
     "output_type": "stream",
     "text": [
      "string is accpeted\n"
     ]
    }
   ],
   "source": [
    "# def string(s1):\n",
    "#     for i in s1:\n",
    "#         if not (i.isalpha() or i.isdigit() or i==\" \"):\n",
    "#             return True\n",
    "#     return False\n",
    "# if string(\"frgvr@gdf\"):\n",
    "#     print(\"string is accpeted\")\n",
    "# else:\n",
    "#     print(\"string is not accepted\")"
   ]
  },
  {
   "cell_type": "code",
   "execution_count": 114,
   "id": "e906086f",
   "metadata": {},
   "outputs": [
    {
     "name": "stdout",
     "output_type": "stream",
     "text": [
      "string not accepted\n"
     ]
    }
   ],
   "source": [
    "s1=\"gsrgdbdr\"\n",
    "def string(s1):\n",
    "    if(all( i.isalpha() or i.isdigit() or i==\" \" for i in s1)==True):\n",
    "        print(\"string accepted\")\n",
    "    else:\n",
    "        print(\"string not accepted\")\n",
    "string(\"esfdtjgsr$g\")"
   ]
  },
  {
   "cell_type": "code",
   "execution_count": 127,
   "id": "b07e6fed",
   "metadata": {},
   "outputs": [
    {
     "data": {
      "text/plain": [
       "['hello', 'nidhisha']"
      ]
     },
     "execution_count": 127,
     "metadata": {},
     "output_type": "execute_result"
    }
   ],
   "source": [
    "#Find words which are greater than given length k\n",
    "def len_k(l1,k):\n",
    "    l2=[]\n",
    "    for i in l1:\n",
    "        if(len(i)>k):\n",
    "            l2.append(i)\n",
    "    return l2\n",
    "len_k([\"hello\",\"im\", \"nidhisha\"],3)"
   ]
  },
  {
   "cell_type": "code",
   "execution_count": 128,
   "id": "3b158bb1",
   "metadata": {},
   "outputs": [
    {
     "data": {
      "text/plain": [
       "['hello', 'nidhisha']"
      ]
     },
     "execution_count": 128,
     "metadata": {},
     "output_type": "execute_result"
    }
   ],
   "source": [
    "def len_k(l1,k):\n",
    "    l2=[i for i in l1 if len(i)>k]\n",
    "    return l2\n",
    "len_k([\"hello\",\"im\", \"nidhisha\"],3)"
   ]
  },
  {
   "cell_type": "code",
   "execution_count": 144,
   "id": "0c8aeefb",
   "metadata": {},
   "outputs": [
    {
     "data": {
      "text/plain": [
       "['hello', 'nidhisha']"
      ]
     },
     "execution_count": 144,
     "metadata": {},
     "output_type": "execute_result"
    }
   ],
   "source": [
    "def len_k(l1,k):\n",
    "    res=list(filter(lambda x: len(x)>k ,l1.split(\" \")))\n",
    "    return res\n",
    "len_k(\"hello im  nidhisha\",3)"
   ]
  },
  {
   "cell_type": "code",
   "execution_count": 139,
   "id": "67a0c342",
   "metadata": {},
   "outputs": [
    {
     "name": "stdout",
     "output_type": "stream",
     "text": [
      "hello nidhisha "
     ]
    }
   ],
   "source": [
    "def len_k(l1,k):\n",
    "    d1={}\n",
    "    for i in l1:\n",
    "        d1[i]=len(i)\n",
    "    for key,val in d1.items():\n",
    "        if(val>k):\n",
    "            print(key,end=\" \")\n",
    "len_k([\"hello\",\"im\", \"nidhisha\"],3)"
   ]
  },
  {
   "cell_type": "code",
   "execution_count": 149,
   "id": "d9090447",
   "metadata": {},
   "outputs": [
    {
     "data": {
      "text/plain": [
       "'nihisha'"
      ]
     },
     "execution_count": 149,
     "metadata": {},
     "output_type": "execute_result"
    }
   ],
   "source": [
    "#removing i-th character from a string\n",
    "def remove(s1,char):\n",
    "    l1=[]\n",
    "    for i in range(len(s1)):\n",
    "        if(i!=char):\n",
    "            l1.append(s1[i])\n",
    "    return \"\".join(l1)\n",
    "remove(\"nidhisha\",2)"
   ]
  },
  {
   "cell_type": "code",
   "execution_count": 152,
   "id": "0407a1f8",
   "metadata": {},
   "outputs": [
    {
     "data": {
      "text/plain": [
       "'nihisha'"
      ]
     },
     "execution_count": 152,
     "metadata": {},
     "output_type": "execute_result"
    }
   ],
   "source": [
    "def remove(s1,char):\n",
    "    l1=list(\"\".join(s1))\n",
    "    l1.remove(l1[char])\n",
    "    return \"\".join(l1)\n",
    "remove(\"nidhisha\",2)"
   ]
  },
  {
   "cell_type": "code",
   "execution_count": 157,
   "id": "3102484d",
   "metadata": {},
   "outputs": [
    {
     "data": {
      "text/plain": [
       "'nihisha'"
      ]
     },
     "execution_count": 157,
     "metadata": {},
     "output_type": "execute_result"
    }
   ],
   "source": [
    "def remove(s1,char):\n",
    "    l1=\"\".join([s1[i] for i in range(len(s1)) if i!=char])\n",
    "    return l1\n",
    "remove(\"nidhisha\",2)"
   ]
  },
  {
   "cell_type": "code",
   "execution_count": 161,
   "id": "8cfefbd5",
   "metadata": {},
   "outputs": [
    {
     "data": {
      "text/plain": [
       "'nihisha'"
      ]
     },
     "execution_count": 161,
     "metadata": {},
     "output_type": "execute_result"
    }
   ],
   "source": [
    "def remove(s1,char):\n",
    "    s2=s1[:char]+s1[char+1:]\n",
    "    return s2\n",
    "remove(\"nidhisha\",2)"
   ]
  },
  {
   "cell_type": "code",
   "execution_count": 184,
   "id": "aa5afa42",
   "metadata": {},
   "outputs": [
    {
     "data": {
      "text/plain": [
       "'nihisha'"
      ]
     },
     "execution_count": 184,
     "metadata": {},
     "output_type": "execute_result"
    }
   ],
   "source": [
    "def remove(s1,char):\n",
    "    for i in range(len(s1)):\n",
    "        if(i==char):\n",
    "            s1=s1.replace(s1[i],\"\")\n",
    "    return s1\n",
    "remove(\"nidhisha\",2)"
   ]
  },
  {
   "cell_type": "code",
   "execution_count": 188,
   "id": "2fd65108",
   "metadata": {},
   "outputs": [
    {
     "data": {
      "text/plain": [
       "'nihisha'"
      ]
     },
     "execution_count": 188,
     "metadata": {},
     "output_type": "execute_result"
    }
   ],
   "source": [
    "def remove(s1,char):\n",
    "    if char>len(s1):\n",
    "        return s1\n",
    "    else:\n",
    "        l1=list(\"\".join(s1))\n",
    "        l1.pop(char)\n",
    "        return \"\".join(l1)\n",
    "remove(\"nidhisha\",2)"
   ]
  },
  {
   "cell_type": "code",
   "execution_count": 177,
   "id": "a650a29f",
   "metadata": {},
   "outputs": [],
   "source": [
    "a=\"nidhisha\"\n",
    "a=a+\" jain\"\n",
    "b=a"
   ]
  },
  {
   "cell_type": "code",
   "execution_count": 178,
   "id": "eef88de5",
   "metadata": {},
   "outputs": [
    {
     "data": {
      "text/plain": [
       "'nidhisha jain s'"
      ]
     },
     "execution_count": 178,
     "metadata": {},
     "output_type": "execute_result"
    }
   ],
   "source": [
    "a=a+\" s\"\n",
    "a"
   ]
  },
  {
   "cell_type": "code",
   "execution_count": 179,
   "id": "b892ed96",
   "metadata": {},
   "outputs": [
    {
     "data": {
      "text/plain": [
       "'nidhisha jain'"
      ]
     },
     "execution_count": 179,
     "metadata": {},
     "output_type": "execute_result"
    }
   ],
   "source": [
    "b"
   ]
  },
  {
   "cell_type": "code",
   "execution_count": 1,
   "id": "0148f45a",
   "metadata": {},
   "outputs": [
    {
     "data": {
      "text/plain": [
       "['im', 'nidhisha']"
      ]
     },
     "execution_count": 1,
     "metadata": {},
     "output_type": "execute_result"
    }
   ],
   "source": [
    "s1=\"im nidhisha\"\n",
    "l1=s1.split()\n",
    "l1"
   ]
  },
  {
   "cell_type": "code",
   "execution_count": 4,
   "id": "5088f9bf",
   "metadata": {},
   "outputs": [
    {
     "data": {
      "text/plain": [
       "'im nidhisha'"
      ]
     },
     "execution_count": 4,
     "metadata": {},
     "output_type": "execute_result"
    }
   ],
   "source": [
    "s1=\" \".join(l1)\n",
    "s1"
   ]
  },
  {
   "cell_type": "code",
   "execution_count": 39,
   "id": "206fa7f1",
   "metadata": {},
   "outputs": [
    {
     "name": "stdout",
     "output_type": "stream",
     "text": [
      "not binary\n"
     ]
    }
   ],
   "source": [
    "#given string is binary string or not\n",
    "def binary(s1):\n",
    "    l1=[]\n",
    "    for i in range(len(s1)):\n",
    "        if(s1[i]==\"0\" or s1[i]==\"1\"):\n",
    "            l1.append(s1[i])\n",
    "    if(len(l1)==len(s1)):\n",
    "        print(\"binary\")\n",
    "    else:\n",
    "        print(\"not binary\")\n",
    "\n",
    "binary(\"010101w01110\")"
   ]
  },
  {
   "cell_type": "code",
   "execution_count": 31,
   "id": "94be4358",
   "metadata": {},
   "outputs": [
    {
     "name": "stdout",
     "output_type": "stream",
     "text": [
      "binary\n"
     ]
    }
   ],
   "source": [
    "def binary(s1):\n",
    "    a=all(s1[i]=='0' or s1[i]=='1' for i in range(len(s1)))\n",
    "    if(a==True):\n",
    "        print(\"binary\")\n",
    "    else:\n",
    "        print(\"not binary\")\n",
    "binary(\"01010101110\")"
   ]
  },
  {
   "cell_type": "code",
   "execution_count": 43,
   "id": "2b1ecb5f",
   "metadata": {},
   "outputs": [
    {
     "name": "stdout",
     "output_type": "stream",
     "text": [
      "11\n",
      "binary\n"
     ]
    }
   ],
   "source": [
    "def binary(s1):\n",
    "    binary_no=[\"0\",\"1\"]\n",
    "    count=0\n",
    "    for i in range(len(s1)):\n",
    "        if s1[i] in binary_no:\n",
    "            count+=1\n",
    "    if(len(s1)==count):\n",
    "        print(\"binary\")\n",
    "    else:\n",
    "        print(\"not\")\n",
    "binary(\"01010101110\")"
   ]
  },
  {
   "cell_type": "code",
   "execution_count": 44,
   "id": "5cf2ce48",
   "metadata": {},
   "outputs": [
    {
     "data": {
      "text/plain": [
       "'binary'"
      ]
     },
     "execution_count": 44,
     "metadata": {},
     "output_type": "execute_result"
    }
   ],
   "source": [
    "def binary(s1):\n",
    "    a=[i for i in range(len(s1)) if(s1[i]==\"0\" or s1[i]==\"1\")]\n",
    "    if(len(s1)==len(a)):\n",
    "        return \"binary\"\n",
    "    else:\n",
    "        return \"not binary\"\n",
    "binary(\"01010101110\")"
   ]
  },
  {
   "cell_type": "code",
   "execution_count": 49,
   "id": "35122947",
   "metadata": {},
   "outputs": [
    {
     "name": "stdout",
     "output_type": "stream",
     "text": [
      "not a binary\n"
     ]
    }
   ],
   "source": [
    "import re\n",
    "s1=\"011010101101w\"\n",
    "a=re.compile(r'[0-1]')\n",
    "if len(re.findall(a,s1))==len(s1):\n",
    "    print(\"binary\")\n",
    "else:\n",
    "    print(\"not a binary\")\n"
   ]
  },
  {
   "cell_type": "code",
   "execution_count": 4,
   "id": "cbb9a1a2",
   "metadata": {},
   "outputs": [
    {
     "name": "stdout",
     "output_type": "stream",
     "text": [
      "binary\n"
     ]
    }
   ],
   "source": [
    "s1=\"01010101100\"\n",
    "if(s1.count(\"0\")+s1.count(\"1\")==len(s1)):\n",
    "    print(\"binary\")\n",
    "else:\n",
    "    print(\"not binary\")"
   ]
  },
  {
   "cell_type": "code",
   "execution_count": 32,
   "id": "9166e947",
   "metadata": {},
   "outputs": [
    {
     "name": "stdout",
     "output_type": "stream",
     "text": [
      "binary\n"
     ]
    }
   ],
   "source": [
    "# by using replace\n",
    "s1=\"1010110110\"\n",
    "binary=[\"0\",\"1\"]\n",
    "for i in binary:\n",
    "    s1=s1.replace(i,\"\")\n",
    "if(len(s1)==0):\n",
    "    print(\"binary\")\n",
    "else:\n",
    "    print(\"not binary\")"
   ]
  },
  {
   "cell_type": "code",
   "execution_count": 35,
   "id": "9b8d32dd",
   "metadata": {},
   "outputs": [
    {
     "data": {
      "text/plain": [
       "['nidhisha', 'dml', 'veer', 'ujire']"
      ]
     },
     "execution_count": 35,
     "metadata": {},
     "output_type": "execute_result"
    }
   ],
   "source": [
    "#Python program to find uncommon words from two Strings\n",
    "def uncommon(s1,s2):\n",
    "    l3=[]\n",
    "    l1=s1.split(\" \")\n",
    "    l2=s2.split(\" \")\n",
    "    for i in l1:\n",
    "        if i not in l2:\n",
    "            l3.append(i)\n",
    "    for j in l2:\n",
    "        if j not in l1:\n",
    "            l3.append(j)\n",
    "    return l3\n",
    "s1='im nidhisha from dml'\n",
    "s2=\"im veer from ujire\"\n",
    "uncommon(s1,s2)"
   ]
  },
  {
   "cell_type": "code",
   "execution_count": 48,
   "id": "f9380282",
   "metadata": {},
   "outputs": [
    {
     "name": "stdout",
     "output_type": "stream",
     "text": [
      "nidhisha\n",
      "dml\n",
      "veer\n",
      "ujire\n"
     ]
    }
   ],
   "source": [
    "def uncommon(s1,s2):\n",
    "    d1={}\n",
    "    l1=s1.split()+s2.split()\n",
    "    for i in l1:\n",
    "        d1[i]=l1.count(i)\n",
    "    for key,val in d1.items():\n",
    "        if(val==1):\n",
    "            print(key)\n",
    "s1='im nidhisha from dml'\n",
    "s2=\"im veer from ujire\"\n",
    "uncommon(s1,s2)"
   ]
  },
  {
   "cell_type": "code",
   "execution_count": 47,
   "id": "50bea18b",
   "metadata": {},
   "outputs": [
    {
     "data": {
      "text/plain": [
       "{'dml', 'from', 'im', 'nidhisha', 'ujire', 'veer'}"
      ]
     },
     "execution_count": 47,
     "metadata": {},
     "output_type": "execute_result"
    }
   ],
   "source": [
    "s1='im nidhisha from dml'\n",
    "s2=\"im veer from ujire\"\n",
    "set(s1.split()+s2.split())"
   ]
  },
  {
   "cell_type": "code",
   "execution_count": 50,
   "id": "d8d99ed7",
   "metadata": {},
   "outputs": [
    {
     "name": "stdout",
     "output_type": "stream",
     "text": [
      "nidhisha\n",
      "dml\n",
      "veer\n",
      "ujire\n"
     ]
    }
   ],
   "source": [
    "def uncommon(s1,s2):\n",
    "    l1=s1.split()+s2.split()\n",
    "    d1={i:l1.count(i) for i in l1}\n",
    "    for key,val in d1.items():\n",
    "        if(val==1):\n",
    "             print(key)\n",
    "s1='im nidhisha from dml'\n",
    "s2=\"im veer from ujire\"\n",
    "uncommon(s1,s2)           "
   ]
  },
  {
   "cell_type": "code",
   "execution_count": 54,
   "id": "6b6631bf",
   "metadata": {},
   "outputs": [
    {
     "name": "stdout",
     "output_type": "stream",
     "text": [
      "nidhisha\n",
      "dml\n",
      "veer\n",
      "ujire\n"
     ]
    }
   ],
   "source": [
    "from collections import Counter\n",
    "s1='im nidhisha from dml'\n",
    "s2=\"im veer from ujire\"\n",
    "l1=list(s1.split()+s2.split())\n",
    "res=Counter(l1)\n",
    "for key,val in res.items():\n",
    "    if(val==1):\n",
    "         print(key)"
   ]
  },
  {
   "cell_type": "code",
   "execution_count": 59,
   "id": "76e2445f",
   "metadata": {},
   "outputs": [
    {
     "name": "stdout",
     "output_type": "stream",
     "text": [
      "{'veer', 'ujire', 'nidhisha', 'dml'}\n"
     ]
    }
   ],
   "source": [
    "# using set difference\n",
    "s1='im nidhisha from dml'\n",
    "s2=\"im veer from ujire\"\n",
    "s1=set(s1.split())\n",
    "s2=set(s2.split())\n",
    "res=s1.difference(s2).union(s2.difference(s1))\n",
    "print(res)"
   ]
  },
  {
   "cell_type": "markdown",
   "id": "39a6ee08",
   "metadata": {},
   "source": [
    "# Set"
   ]
  },
  {
   "cell_type": "markdown",
   "id": "2d787187",
   "metadata": {},
   "source": [
    "#### set is unordered collection of data\n",
    "#### set is immutable\n",
    "#### set does not allow the duplicates records"
   ]
  },
  {
   "cell_type": "code",
   "execution_count": 4,
   "id": "f8b5a557",
   "metadata": {},
   "outputs": [
    {
     "name": "stdout",
     "output_type": "stream",
     "text": [
      "{2, 3, 12, 14, 55}\n"
     ]
    }
   ],
   "source": [
    "set1={1,2,3}\n",
    "set2=set([14,55,12,2,3])\n",
    "print(set2)"
   ]
  },
  {
   "cell_type": "code",
   "execution_count": 6,
   "id": "1b88a0c5",
   "metadata": {},
   "outputs": [
    {
     "ename": "TypeError",
     "evalue": "unhashable type: 'list'",
     "output_type": "error",
     "traceback": [
      "\u001b[1;31m---------------------------------------------------------------------------\u001b[0m",
      "\u001b[1;31mTypeError\u001b[0m                                 Traceback (most recent call last)",
      "Input \u001b[1;32mIn [6]\u001b[0m, in \u001b[0;36m<cell line: 1>\u001b[1;34m()\u001b[0m\n\u001b[1;32m----> 1\u001b[0m set3\u001b[38;5;241m=\u001b[39m{\u001b[38;5;241m1\u001b[39m,\u001b[38;5;241m2\u001b[39m,\u001b[38;5;124m\"\u001b[39m\u001b[38;5;124mhello\u001b[39m\u001b[38;5;124m\"\u001b[39m,[\u001b[38;5;241m3\u001b[39m,\u001b[38;5;241m4\u001b[39m,\u001b[38;5;241m5\u001b[39m]}\n",
      "\u001b[1;31mTypeError\u001b[0m: unhashable type: 'list'"
     ]
    }
   ],
   "source": [
    "set3={1,2,\"hello\",[3,4,5]}"
   ]
  },
  {
   "cell_type": "code",
   "execution_count": 9,
   "id": "7f3a2559",
   "metadata": {},
   "outputs": [],
   "source": [
    "s1=(\"d\",[1,2,3])\n",
    "s1[1][2]=4"
   ]
  },
  {
   "cell_type": "code",
   "execution_count": 10,
   "id": "5732dbaa",
   "metadata": {},
   "outputs": [
    {
     "data": {
      "text/plain": [
       "('d', [1, 2, 4])"
      ]
     },
     "execution_count": 10,
     "metadata": {},
     "output_type": "execute_result"
    }
   ],
   "source": [
    "s1"
   ]
  },
  {
   "cell_type": "markdown",
   "id": "489f0180",
   "metadata": {},
   "source": [
    "### when we want to create ta set only the one way to create i.e set()"
   ]
  },
  {
   "cell_type": "code",
   "execution_count": 12,
   "id": "02274815",
   "metadata": {},
   "outputs": [
    {
     "ename": "TypeError",
     "evalue": "'set' object is not subscriptable",
     "output_type": "error",
     "traceback": [
      "\u001b[1;31m---------------------------------------------------------------------------\u001b[0m",
      "\u001b[1;31mTypeError\u001b[0m                                 Traceback (most recent call last)",
      "Input \u001b[1;32mIn [12]\u001b[0m, in \u001b[0;36m<cell line: 2>\u001b[1;34m()\u001b[0m\n\u001b[0;32m      1\u001b[0m set2\u001b[38;5;241m=\u001b[39m{\u001b[38;5;241m1\u001b[39m,\u001b[38;5;241m4\u001b[39m,\u001b[38;5;241m28\u001b[39m,\u001b[38;5;241m6\u001b[39m,\u001b[38;5;241m4\u001b[39m}\n\u001b[1;32m----> 2\u001b[0m \u001b[43mset2\u001b[49m\u001b[43m[\u001b[49m\u001b[38;5;241;43m3\u001b[39;49m\u001b[43m]\u001b[49m\n",
      "\u001b[1;31mTypeError\u001b[0m: 'set' object is not subscriptable"
     ]
    }
   ],
   "source": [
    "set2={1,4,28,6,4}\n",
    "set2[3]"
   ]
  },
  {
   "cell_type": "code",
   "execution_count": 13,
   "id": "a82ead29",
   "metadata": {},
   "outputs": [
    {
     "name": "stdout",
     "output_type": "stream",
     "text": [
      "1\n",
      "4\n",
      "28\n",
      "6\n"
     ]
    }
   ],
   "source": [
    "set2={1,4,28,6,4}\n",
    "for i in set2:\n",
    "    print(i)"
   ]
  },
  {
   "cell_type": "code",
   "execution_count": 14,
   "id": "6262f7c2",
   "metadata": {},
   "outputs": [
    {
     "name": "stdout",
     "output_type": "stream",
     "text": [
      "present\n"
     ]
    }
   ],
   "source": [
    "set1={\"nidhi\",\"pathu\",\"sana\"}\n",
    "if\"sana\" in set1:\n",
    "    print(\"present\")\n",
    "else:\n",
    "    print(\"not present\")"
   ]
  },
  {
   "cell_type": "code",
   "execution_count": 15,
   "id": "2278724c",
   "metadata": {},
   "outputs": [],
   "source": [
    "#we cant update the set but we can add the set\n",
    "# if one element can be added using add() method\n",
    "set1={\"nidhi\",\"sana\"}\n",
    "set1.add(\"pathu\")"
   ]
  },
  {
   "cell_type": "code",
   "execution_count": 16,
   "id": "60b1456e",
   "metadata": {},
   "outputs": [
    {
     "data": {
      "text/plain": [
       "{'nidhi', 'pathu', 'sana'}"
      ]
     },
     "execution_count": 16,
     "metadata": {},
     "output_type": "execute_result"
    }
   ],
   "source": [
    "set1"
   ]
  },
  {
   "cell_type": "code",
   "execution_count": 21,
   "id": "28d81def",
   "metadata": {},
   "outputs": [
    {
     "data": {
      "text/plain": [
       "{'nidhi', 'pathu', 'sana'}"
      ]
     },
     "execution_count": 21,
     "metadata": {},
     "output_type": "execute_result"
    }
   ],
   "source": [
    "# to update the set can be done using the list method\n",
    "# to update theset with more than 2  item at time\n",
    "set1={\"nidhi\",\"sana\"}\n",
    "set1.update([\"pathu\"])\n",
    "set1"
   ]
  },
  {
   "cell_type": "code",
   "execution_count": 22,
   "id": "6bfca963",
   "metadata": {},
   "outputs": [],
   "source": [
    "set1={\"red\",\"yellow\",\"blue\",\"green\"}\n",
    "set1.remove(\"red\")"
   ]
  },
  {
   "cell_type": "code",
   "execution_count": 23,
   "id": "8140d6f1",
   "metadata": {},
   "outputs": [
    {
     "data": {
      "text/plain": [
       "{'blue', 'green', 'yellow'}"
      ]
     },
     "execution_count": 23,
     "metadata": {},
     "output_type": "execute_result"
    }
   ],
   "source": [
    "set1"
   ]
  },
  {
   "cell_type": "code",
   "execution_count": 25,
   "id": "9b0505a2",
   "metadata": {},
   "outputs": [
    {
     "data": {
      "text/plain": [
       "{'blue', 'green', 'yellow'}"
      ]
     },
     "execution_count": 25,
     "metadata": {},
     "output_type": "execute_result"
    }
   ],
   "source": [
    "set1.discard(\"black\")\n",
    "set1"
   ]
  },
  {
   "cell_type": "code",
   "execution_count": 26,
   "id": "1f8896ce",
   "metadata": {},
   "outputs": [
    {
     "data": {
      "text/plain": [
       "'blue'"
      ]
     },
     "execution_count": 26,
     "metadata": {},
     "output_type": "execute_result"
    }
   ],
   "source": [
    "set1.pop()"
   ]
  },
  {
   "cell_type": "code",
   "execution_count": 28,
   "id": "76ad5942",
   "metadata": {},
   "outputs": [
    {
     "data": {
      "text/plain": [
       "set()"
      ]
     },
     "execution_count": 28,
     "metadata": {},
     "output_type": "execute_result"
    }
   ],
   "source": [
    "set1.clear()\n",
    "set1"
   ]
  },
  {
   "cell_type": "code",
   "execution_count": 29,
   "id": "8ebd2f7d",
   "metadata": {},
   "outputs": [],
   "source": [
    "#The remove() method throws a keyerror if the item you want to delete is not present in a set\n",
    "#The discard() method will not throw any error if the item you want to delete is not present in a set"
   ]
  },
  {
   "cell_type": "code",
   "execution_count": 30,
   "id": "ee9a69fe",
   "metadata": {},
   "outputs": [],
   "source": [
    "s1={\"red\",\"blue\",\"pink\"}\n",
    "s2={\"blue\",\"pink\",\"black\"}\n",
    "s3=s1.intersection(s2)"
   ]
  },
  {
   "cell_type": "code",
   "execution_count": 31,
   "id": "6d5d911f",
   "metadata": {},
   "outputs": [
    {
     "data": {
      "text/plain": [
       "{'blue', 'pink'}"
      ]
     },
     "execution_count": 31,
     "metadata": {},
     "output_type": "execute_result"
    }
   ],
   "source": [
    "#intersection set wil be returned in new set. original set will be remained has it is.\n",
    "s3"
   ]
  },
  {
   "cell_type": "code",
   "execution_count": 32,
   "id": "8aadb21c",
   "metadata": {},
   "outputs": [],
   "source": [
    "# intsertion set will be get with old set only\n",
    "s1.intersection_update(s2)"
   ]
  },
  {
   "cell_type": "code",
   "execution_count": 33,
   "id": "8d62f51b",
   "metadata": {},
   "outputs": [
    {
     "data": {
      "text/plain": [
       "{'blue', 'pink'}"
      ]
     },
     "execution_count": 33,
     "metadata": {},
     "output_type": "execute_result"
    }
   ],
   "source": [
    "s1"
   ]
  },
  {
   "cell_type": "code",
   "execution_count": 34,
   "id": "e3623408",
   "metadata": {},
   "outputs": [
    {
     "data": {
      "text/plain": [
       "{1, 2}"
      ]
     },
     "execution_count": 34,
     "metadata": {},
     "output_type": "execute_result"
    }
   ],
   "source": [
    "#difference set means only the elements present in the set1\n",
    "#set1.difference(set2)\n",
    "set1={1,2,3,4,5}\n",
    "set2={3,4,5,6,7}\n",
    "set1.difference(set2)"
   ]
  },
  {
   "cell_type": "code",
   "execution_count": 35,
   "id": "801ac8a2",
   "metadata": {},
   "outputs": [
    {
     "data": {
      "text/plain": [
       "{1, 2, 3, 4, 5}"
      ]
     },
     "execution_count": 35,
     "metadata": {},
     "output_type": "execute_result"
    }
   ],
   "source": [
    "set1"
   ]
  },
  {
   "cell_type": "code",
   "execution_count": 36,
   "id": "db4facb6",
   "metadata": {},
   "outputs": [],
   "source": [
    "# difference update which will return the difference element to the first set\n",
    "set1={1,2,3,4,5}\n",
    "set2={3,4,5,6,7}\n",
    "set1.difference_update(set2)"
   ]
  },
  {
   "cell_type": "code",
   "execution_count": 37,
   "id": "bb669b87",
   "metadata": {},
   "outputs": [
    {
     "data": {
      "text/plain": [
       "{1, 2}"
      ]
     },
     "execution_count": 37,
     "metadata": {},
     "output_type": "execute_result"
    }
   ],
   "source": [
    "set1"
   ]
  },
  {
   "cell_type": "code",
   "execution_count": 39,
   "id": "96633bdd",
   "metadata": {},
   "outputs": [
    {
     "name": "stdout",
     "output_type": "stream",
     "text": [
      "{1, 2, 6, 7}\n"
     ]
    }
   ],
   "source": [
    "#symmetric difference means which return unqiue items in the both set\n",
    "set1={1,2,3,4,5}\n",
    "set2={3,4,5,6,7}\n",
    "set3=set1.symmetric_difference(set2)\n",
    "print(set3)"
   ]
  },
  {
   "cell_type": "code",
   "execution_count": 40,
   "id": "675fcdcc",
   "metadata": {},
   "outputs": [],
   "source": [
    "#subset- if the set is subset of mentioned another set the it return true\n",
    "#superset-if the set is super set of mentioned another set then it return true"
   ]
  },
  {
   "cell_type": "code",
   "execution_count": 42,
   "id": "136c16fa",
   "metadata": {},
   "outputs": [
    {
     "data": {
      "text/plain": [
       "True"
      ]
     },
     "execution_count": 42,
     "metadata": {},
     "output_type": "execute_result"
    }
   ],
   "source": [
    "s1={1,2,3,4,5,6,7,8}\n",
    "s2={3,4,5,6}\n",
    "s2.issubset(s1)"
   ]
  },
  {
   "cell_type": "code",
   "execution_count": 43,
   "id": "517417a9",
   "metadata": {},
   "outputs": [
    {
     "data": {
      "text/plain": [
       "True"
      ]
     },
     "execution_count": 43,
     "metadata": {},
     "output_type": "execute_result"
    }
   ],
   "source": [
    "s1.issuperset(s2)"
   ]
  },
  {
   "cell_type": "code",
   "execution_count": 44,
   "id": "b3ac52a6",
   "metadata": {},
   "outputs": [
    {
     "data": {
      "text/plain": [
       "True"
      ]
     },
     "execution_count": 44,
     "metadata": {},
     "output_type": "execute_result"
    }
   ],
   "source": [
    "#disjoint set-mutullay exclusive set\n",
    "s1={1,2,3,4,5,6,7,8}\n",
    "s2={44,55}\n",
    "s1.isdisjoint(s2)"
   ]
  },
  {
   "cell_type": "code",
   "execution_count": 47,
   "id": "11ea5c07",
   "metadata": {},
   "outputs": [
    {
     "name": "stdout",
     "output_type": "stream",
     "text": [
      "[13, 23, 28, 44]\n"
     ]
    }
   ],
   "source": [
    "# if you sort the set then it will return the list\n",
    "s1={44,23,13,44,28}\n",
    "l1=sorted(s1)\n",
    "print(l1)"
   ]
  },
  {
   "cell_type": "code",
   "execution_count": 48,
   "id": "4c1a1d3d",
   "metadata": {},
   "outputs": [],
   "source": [
    "# when we have to use the forzenzet\n",
    "# it is used when we do not want to add or remove the items from set means read olny set.\n",
    "s1={\"nidhi\",\"pathu\",\"sana\",\"anvay\"}\n",
    "s2=frozenset(s1)"
   ]
  },
  {
   "cell_type": "code",
   "execution_count": 50,
   "id": "f8bc1a10",
   "metadata": {},
   "outputs": [
    {
     "ename": "AttributeError",
     "evalue": "'frozenset' object has no attribute 'add'",
     "output_type": "error",
     "traceback": [
      "\u001b[1;31m---------------------------------------------------------------------------\u001b[0m",
      "\u001b[1;31mAttributeError\u001b[0m                            Traceback (most recent call last)",
      "Input \u001b[1;32mIn [50]\u001b[0m, in \u001b[0;36m<cell line: 1>\u001b[1;34m()\u001b[0m\n\u001b[1;32m----> 1\u001b[0m \u001b[43ms2\u001b[49m\u001b[38;5;241;43m.\u001b[39;49m\u001b[43madd\u001b[49m(\u001b[38;5;124m\"\u001b[39m\u001b[38;5;124mmallika\u001b[39m\u001b[38;5;124m\"\u001b[39m)\n",
      "\u001b[1;31mAttributeError\u001b[0m: 'frozenset' object has no attribute 'add'"
     ]
    }
   ],
   "source": [
    "s2.add(\"mallika\")"
   ]
  },
  {
   "cell_type": "code",
   "execution_count": 51,
   "id": "9ed673e0",
   "metadata": {},
   "outputs": [],
   "source": [
    "sample_set = {\"Yellow\", \"Orange\", \"Black\"}\n",
    "sample_list = [\"Blue\", \"Green\", \"Red\"]\n",
    "sample_set.update(sample_list)"
   ]
  },
  {
   "cell_type": "code",
   "execution_count": 52,
   "id": "5a9a8ce0",
   "metadata": {},
   "outputs": [
    {
     "data": {
      "text/plain": [
       "{'Black', 'Blue', 'Green', 'Orange', 'Red', 'Yellow'}"
      ]
     },
     "execution_count": 52,
     "metadata": {},
     "output_type": "execute_result"
    }
   ],
   "source": [
    "sample_set"
   ]
  },
  {
   "cell_type": "code",
   "execution_count": 55,
   "id": "93630f8f",
   "metadata": {},
   "outputs": [
    {
     "name": "stdout",
     "output_type": "stream",
     "text": [
      "{40, 50, 30}\n"
     ]
    }
   ],
   "source": [
    "# Return a new set of identical items from two sets\n",
    "set1 = {10, 20, 30, 40, 50}\n",
    "set2 = {30, 40, 50, 60, 70}\n",
    "set3=set1.intersection(set2)\n",
    "print(set3)"
   ]
  },
  {
   "cell_type": "code",
   "execution_count": 59,
   "id": "8baf2e86",
   "metadata": {},
   "outputs": [
    {
     "name": "stdout",
     "output_type": "stream",
     "text": [
      "{70, 40, 10, 50, 20, 60, 30}\n"
     ]
    }
   ],
   "source": [
    "set1 = {10, 20, 30, 40, 50}\n",
    "set2 = {30, 40, 50, 60, 70}\n",
    "set3=set1.union(set2)\n",
    "print(set3)"
   ]
  },
  {
   "cell_type": "code",
   "execution_count": 60,
   "id": "92c86592",
   "metadata": {},
   "outputs": [],
   "source": [
    "#Update the first set with items that don’t exist in the second set\n",
    "set1={10,20,30,40,90}\n",
    "set2={40,30,20,50,60}\n",
    "set1.difference_update(set2)"
   ]
  },
  {
   "cell_type": "code",
   "execution_count": 61,
   "id": "888afcf5",
   "metadata": {},
   "outputs": [
    {
     "data": {
      "text/plain": [
       "{10, 90}"
      ]
     },
     "execution_count": 61,
     "metadata": {},
     "output_type": "execute_result"
    }
   ],
   "source": [
    "set1"
   ]
  },
  {
   "cell_type": "code",
   "execution_count": 65,
   "id": "c6f2bf86",
   "metadata": {},
   "outputs": [],
   "source": [
    "#Remove items from the set at once\n",
    "set1 = {10, 20, 30, 40, 50}\n",
    "set1.difference_update({10,20,30})"
   ]
  },
  {
   "cell_type": "code",
   "execution_count": 66,
   "id": "5bf3ce0e",
   "metadata": {},
   "outputs": [
    {
     "data": {
      "text/plain": [
       "{40, 50}"
      ]
     },
     "execution_count": 66,
     "metadata": {},
     "output_type": "execute_result"
    }
   ],
   "source": [
    "set1"
   ]
  },
  {
   "cell_type": "code",
   "execution_count": 68,
   "id": "18b6909c",
   "metadata": {},
   "outputs": [
    {
     "name": "stdout",
     "output_type": "stream",
     "text": [
      "{20, 70, 10, 60}\n"
     ]
    }
   ],
   "source": [
    "#Return a set of elements present in Set A or B, but not both\n",
    "set1 = {10, 20, 30, 40, 50}\n",
    "set2 = {30, 40, 50, 60, 70}\n",
    "set3=set1.symmetric_difference(set2)\n",
    "print(set3)"
   ]
  },
  {
   "cell_type": "code",
   "execution_count": 77,
   "id": "b104d41c",
   "metadata": {},
   "outputs": [],
   "source": [
    "#Update set1 by adding items from set2, except common items\n",
    "set1 = {10, 20, 30, 40, 50}\n",
    "set2 = {30, 40, 50, 60, 70}\n",
    "set1.symmetric_difference_update(set2)"
   ]
  },
  {
   "cell_type": "code",
   "execution_count": 78,
   "id": "32678b77",
   "metadata": {},
   "outputs": [
    {
     "data": {
      "text/plain": [
       "{10, 20, 60, 70}"
      ]
     },
     "execution_count": 78,
     "metadata": {},
     "output_type": "execute_result"
    }
   ],
   "source": [
    "set1"
   ]
  },
  {
   "cell_type": "code",
   "execution_count": 81,
   "id": "06a4dc07",
   "metadata": {},
   "outputs": [],
   "source": [
    "#Remove items from set1 that are not common to both set1 and set2\n",
    "set1 = {10, 20, 30, 40, 50}\n",
    "set2 = {30, 40, 50, 60, 70}\n",
    "set1.difference_update(set1.symmetric_difference(set2))"
   ]
  },
  {
   "cell_type": "code",
   "execution_count": 82,
   "id": "b983a794",
   "metadata": {},
   "outputs": [
    {
     "data": {
      "text/plain": [
       "{30, 40, 50}"
      ]
     },
     "execution_count": 82,
     "metadata": {},
     "output_type": "execute_result"
    }
   ],
   "source": [
    "set1"
   ]
  },
  {
   "cell_type": "code",
   "execution_count": 85,
   "id": "011c0f04",
   "metadata": {},
   "outputs": [
    {
     "name": "stdout",
     "output_type": "stream",
     "text": [
      "{40, 50, 30}\n"
     ]
    }
   ],
   "source": [
    "#other method\n",
    "set1 = {10, 20, 30, 40, 50}\n",
    "set2 = {30, 40, 50, 60, 70}\n",
    "set1.intersection_update(set2)\n",
    "print(set1)"
   ]
  },
  {
   "cell_type": "code",
   "execution_count": 91,
   "id": "8e10c671",
   "metadata": {},
   "outputs": [],
   "source": [
    "aSet = {1, 'PYnative', ('abc', 'xyz'), True}"
   ]
  },
  {
   "cell_type": "code",
   "execution_count": 88,
   "id": "fec4d1a0",
   "metadata": {},
   "outputs": [
    {
     "data": {
      "text/plain": [
       "{('abc', 'xyz'), 1, 'PYnative'}"
      ]
     },
     "execution_count": 88,
     "metadata": {},
     "output_type": "execute_result"
    }
   ],
   "source": [
    "aSet"
   ]
  },
  {
   "cell_type": "code",
   "execution_count": 99,
   "id": "b33c0f6a",
   "metadata": {},
   "outputs": [
    {
     "name": "stdout",
     "output_type": "stream",
     "text": [
      "[3, 4, 5]\n"
     ]
    }
   ],
   "source": [
    "s1={1,2,3,4,5}\n",
    "s2={2,3,4,5,6}\n",
    "s3={3,4,5,6,7}\n",
    "s4=[]\n",
    "for i in s1:\n",
    "    if i in s2 and i in s3:\n",
    "        s4.append(i)\n",
    "print(s4)"
   ]
  },
  {
   "cell_type": "code",
   "execution_count": null,
   "id": "7ca1200c",
   "metadata": {},
   "outputs": [],
   "source": [
    "M=int(input())\n",
    "set1=set()\n",
    "fon=input()\n",
    "m=input()\n",
    "l1=n.split()\n",
    "l2=m.split()\n",
    "a=input()\n",
    "b=input()\n",
    "seta=list(a.split())\n",
    "setb=list(b.split())\n",
    "add=0\n",
    "for i in seta:\n",
    "    if(i in l1):\n",
    "        add=add+1\n",
    "    elif(i in l2):\n",
    "        add=add+1\n",
    "    else:\n",
    "        None\n",
    "for j in setb:\n",
    "    if(j in l1):\n",
    "        add=add-1\n",
    "    elif(j in l2):\n",
    "        add=add-1\n",
    "    else:\n",
    "        None\n",
    "print(add)"
   ]
  },
  {
   "cell_type": "code",
   "execution_count": 1,
   "id": "3016a080",
   "metadata": {},
   "outputs": [
    {
     "name": "stdout",
     "output_type": "stream",
     "text": [
      "2 3 4 5\n"
     ]
    }
   ],
   "source": [
    "a=list(map(int,input().split()))"
   ]
  },
  {
   "cell_type": "code",
   "execution_count": 12,
   "id": "741fbaca",
   "metadata": {},
   "outputs": [
    {
     "name": "stdout",
     "output_type": "stream",
     "text": [
      "1 2\n",
      "1\n",
      "2\n",
      "1 2 3 3 4 2 \n"
     ]
    }
   ],
   "source": [
    "n, m = map(int, input().strip().split(' '))\n",
    "print(n)\n",
    "print(m)\n",
    "elements_arr = list(map(int, input().strip().split(' ')))\n"
   ]
  },
  {
   "cell_type": "code",
   "execution_count": 13,
   "id": "3a1227c0",
   "metadata": {},
   "outputs": [
    {
     "data": {
      "text/plain": [
       "[1, 2, 3, 3, 4, 2]"
      ]
     },
     "execution_count": 13,
     "metadata": {},
     "output_type": "execute_result"
    }
   ],
   "source": [
    "elements_arr"
   ]
  },
  {
   "cell_type": "code",
   "execution_count": 22,
   "id": "e44440d0",
   "metadata": {},
   "outputs": [
    {
     "data": {
      "text/plain": [
       "{2, 3, 4, 5, 6, 7, 8, 9}"
      ]
     },
     "execution_count": 22,
     "metadata": {},
     "output_type": "execute_result"
    }
   ],
   "source": [
    "s1={1,2,3,4,5,6,7,8,9}\n",
    "s1.pop()\n",
    "s1"
   ]
  },
  {
   "cell_type": "code",
   "execution_count": null,
   "id": "0326f049",
   "metadata": {},
   "outputs": [],
   "source": []
  },
  {
   "cell_type": "code",
   "execution_count": 24,
   "id": "5c4cfff7",
   "metadata": {},
   "outputs": [
    {
     "name": "stdout",
     "output_type": "stream",
     "text": [
      "9\n",
      "1 2 3 4 5 6 7 8 9\n",
      "10\n",
      "1\n",
      "2\n",
      "3\n",
      "4\n",
      "5\n",
      "6\n",
      "7\n",
      "8\n",
      "9\n",
      "8\n",
      "45\n"
     ]
    }
   ],
   "source": [
    "n = int(input())\n",
    "s = set(map(int, input().split()))\n",
    "N = int(input())\n",
    "for i in range(N):\n",
    "    cmd = list(map(str, input().split()))\n",
    "    if cmd[0] == \"pop\":\n",
    "        s.pop()\n",
    "    elif cmd[0] == \"remove\":\n",
    "        try:\n",
    "            s.remove(int(cmd[1]))\n",
    "        except:\n",
    "            continue\n",
    "    elif cmd[0] == \"discard\":\n",
    "        try:\n",
    "            s.discard(int(cmd[1]))\n",
    "        except:\n",
    "            continue\n",
    "print(sum(s))"
   ]
  },
  {
   "cell_type": "code",
   "execution_count": 26,
   "id": "6a8cc28f",
   "metadata": {},
   "outputs": [
    {
     "name": "stdout",
     "output_type": "stream",
     "text": [
      "2\n",
      "1 2 3 4\n",
      "2\n",
      "nidhi 4\n",
      "['nidhi', '4']\n",
      "veer 5\n",
      "['veer', '5']\n"
     ]
    }
   ],
   "source": [
    "n=int(input())\n",
    "s=set(map(int,input().split(\" \")))\n",
    "N=int(input())\n",
    "for i in range(N):\n",
    "    cmd=list(map(str, input().split(\" \")))\n",
    "    if(cmd[0]==\"pop\"):\n",
    "        s.pop()\n",
    "    elif(cmd[0]==\"remove\"):\n",
    "        s.remove(int(cmd[1]))\n",
    "    elif(cmd[0]==\"discard\"):\n",
    "        s.discrad(int(cmd[1]))\n",
    "    else:\n",
    "        None\n",
    "print(sum(s))"
   ]
  },
  {
   "cell_type": "code",
   "execution_count": 36,
   "id": "6b3cc8d3",
   "metadata": {},
   "outputs": [
    {
     "name": "stdout",
     "output_type": "stream",
     "text": [
      "\n",
      "\n"
     ]
    },
    {
     "ename": "ValueError",
     "evalue": "invalid literal for int() with base 10: ''",
     "output_type": "error",
     "traceback": [
      "\u001b[1;31m---------------------------------------------------------------------------\u001b[0m",
      "\u001b[1;31mValueError\u001b[0m                                Traceback (most recent call last)",
      "Input \u001b[1;32mIn [36]\u001b[0m, in \u001b[0;36m<cell line: 2>\u001b[1;34m()\u001b[0m\n\u001b[0;32m      1\u001b[0m no_a\u001b[38;5;241m=\u001b[39m\u001b[38;5;28mset\u001b[39m(\u001b[38;5;28mmap\u001b[39m(\u001b[38;5;28mint\u001b[39m,\u001b[38;5;28minput\u001b[39m()\u001b[38;5;241m.\u001b[39msplit()))\n\u001b[1;32m----> 2\u001b[0m n\u001b[38;5;241m=\u001b[39m\u001b[38;5;28;43mint\u001b[39;49m\u001b[43m(\u001b[49m\u001b[38;5;28;43minput\u001b[39;49m\u001b[43m(\u001b[49m\u001b[43m)\u001b[49m\u001b[43m)\u001b[49m\n\u001b[0;32m      3\u001b[0m \u001b[38;5;28;01mfor\u001b[39;00m i \u001b[38;5;129;01min\u001b[39;00m \u001b[38;5;28mrange\u001b[39m(\u001b[38;5;241m0\u001b[39m,n):  \n\u001b[0;32m      4\u001b[0m     val\u001b[38;5;241m=\u001b[39m\u001b[38;5;28mlist\u001b[39m(\u001b[38;5;28mmap\u001b[39m(\u001b[38;5;28mstr\u001b[39m,\u001b[38;5;28minput\u001b[39m()\u001b[38;5;241m.\u001b[39msplit()))\n",
      "\u001b[1;31mValueError\u001b[0m: invalid literal for int() with base 10: ''"
     ]
    }
   ],
   "source": [
    "no_a=set(map(int,input().split()))\n",
    "n=int(input())\n",
    "for i in range(0,n):  \n",
    "    val=list(map(str,input().split()))\n",
    "    if(val[0]==\"intersection_update\"):\n",
    "        b=set(map(int,input().split())) \n",
    "        if(len(b)==int(val[1])):\n",
    "            no_a.intersection_update(b)\n",
    "    elif(val[0]==\"update\"):\n",
    "        b=set(map(int,input().split()))\n",
    "        if(len(b)==val[1]):\n",
    "            no_a.update(b)\n",
    "    elif(val[0]==\"symmetric_difference_update\"):\n",
    "        b=set(map(int,input().split()))\n",
    "        if(len(b)==val[1]):\n",
    "            no_a.symmetric_difference_update(b)\n",
    "    else:\n",
    "        b=set(map(int,input().split()))\n",
    "        if(len(b)==val[1]):\n",
    "            no_a.difference_update(b) \n",
    "print(sum(no_a))"
   ]
  },
  {
   "cell_type": "code",
   "execution_count": 46,
   "id": "6b94580b",
   "metadata": {},
   "outputs": [
    {
     "name": "stdout",
     "output_type": "stream",
     "text": [
      "1 2 3 4 5 6 7 8 9\n",
      "2\n",
      "1 2 3 4\n",
      "2 3 11\n",
      "False\n"
     ]
    }
   ],
   "source": [
    "a=set(map(int, input().split()))\n",
    "for i in range(int(input())):\n",
    "    b=set(map(int, input().split()))\n",
    "    if(a.issuperset(b)!=True or len(a)==len(b)):\n",
    "        print(False)\n",
    "        break\n",
    "else: print(True)       "
   ]
  },
  {
   "cell_type": "code",
   "execution_count": null,
   "id": "dcaa2993",
   "metadata": {},
   "outputs": [],
   "source": [
    "def count_substring(s1,sub_string):\n",
    "    a=len(sub_string)\n",
    "    \n",
    "s1=\"abcbcbca\"\n",
    "sub_string=\"bc\"\n",
    "count_substring(s1,sub_string)"
   ]
  },
  {
   "cell_type": "code",
   "execution_count": 59,
   "id": "e0424ffe",
   "metadata": {},
   "outputs": [
    {
     "data": {
      "text/plain": [
       "['a', 'b', 'c', 'b', 'c', 'b', 'c', 'a']"
      ]
     },
     "execution_count": 59,
     "metadata": {},
     "output_type": "execute_result"
    }
   ],
   "source": [
    "s1=\"abcbcbca\"\n",
    "list(\"\".join(s1))"
   ]
  },
  {
   "cell_type": "code",
   "execution_count": 1,
   "id": "5f80b7db",
   "metadata": {},
   "outputs": [
    {
     "name": "stdout",
     "output_type": "stream",
     "text": [
      "qA2\n",
      "True\n",
      "True\n",
      "True\n",
      "True\n",
      "True\n"
     ]
    }
   ],
   "source": [
    "s = input()\n",
    "a=[]\n",
    "for i in range(len(s)):\n",
    "    for j in range(0,len(s)):\n",
    "        a.append(s[i:j+1])\n",
    "a=set(a)\n",
    "print(any(i.isalnum() for i in a))\n",
    "print(any(i.isalpha() for i in a))\n",
    "print(any(i.isdigit() for i in a))\n",
    "print(any(i.islower() for i in a))\n",
    "print(any(i.isupper() for i in a))"
   ]
  },
  {
   "cell_type": "code",
   "execution_count": 3,
   "id": "89f09683",
   "metadata": {},
   "outputs": [
    {
     "data": {
      "text/plain": [
       "2"
      ]
     },
     "execution_count": 3,
     "metadata": {},
     "output_type": "execute_result"
    }
   ],
   "source": [
    "s1=\"WoW!ItSCoOWoWW\"\n",
    "sub=\"oW\"\n",
    "count=0\n",
    "a=len(sub)\n",
    "for i in range(0,len(s1)):\n",
    "    if(s1[i:i+a]==sub):\n",
    "        count=count+1\n",
    "count"
   ]
  },
  {
   "cell_type": "code",
   "execution_count": 4,
   "id": "c1234f0e",
   "metadata": {},
   "outputs": [
    {
     "name": "stdout",
     "output_type": "stream",
     "text": [
      "0\n",
      "3\n",
      "6\n",
      "9\n",
      "['dgt', 'fhf', 'gjn', 'gy']\n"
     ]
    }
   ],
   "source": [
    "input_string = \"dgtfhfgjngy\"\n",
    "segments = []\n",
    "for i in range(0, len(input_string), 3):\n",
    "    print(i)\n",
    "    segment = input_string[i:i+3]\n",
    "    segments.append(segment)\n",
    "print(segments)"
   ]
  },
  {
   "cell_type": "code",
   "execution_count": null,
   "id": "1edbc7e7",
   "metadata": {},
   "outputs": [],
   "source": [
    "def solve(s):\n",
    "    a=[]\n",
    "    for i in s.split(' '):\n",
    "        a.append(i.capitalize())\n",
    "    return \" \".join(a)\n",
    "    "
   ]
  }
 ],
 "metadata": {
  "kernelspec": {
   "display_name": "Python 3 (ipykernel)",
   "language": "python",
   "name": "python3"
  },
  "language_info": {
   "codemirror_mode": {
    "name": "ipython",
    "version": 3
   },
   "file_extension": ".py",
   "mimetype": "text/x-python",
   "name": "python",
   "nbconvert_exporter": "python",
   "pygments_lexer": "ipython3",
   "version": "3.9.12"
  }
 },
 "nbformat": 4,
 "nbformat_minor": 5
}
