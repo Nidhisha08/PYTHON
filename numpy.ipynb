{
 "cells": [
  {
   "cell_type": "code",
   "execution_count": 4,
   "id": "264e3beb",
   "metadata": {},
   "outputs": [],
   "source": [
    "import numpy as np"
   ]
  },
  {
   "cell_type": "markdown",
   "id": "7d0051ac",
   "metadata": {},
   "source": [
    "Create an array A with shape (3,3,3) and array B with shape (1,3,3) and perform the \n",
    "following:\n",
    "1. Check the attributes of the array A.\n",
    "2. Create a subarray by accessing sheet 0 (zero), all rows, flip order of all columns.\n",
    "3. Reshape the array A into 2-Dimension array.\n",
    "4. Addition and Multiplication with broadcasting.\n",
    "5. Sum of all the elements, sum of each row and column of array A."
   ]
  },
  {
   "cell_type": "code",
   "execution_count": 47,
   "id": "6c5e5326",
   "metadata": {},
   "outputs": [
    {
     "name": "stdout",
     "output_type": "stream",
     "text": [
      "[[[ 6  6 16]\n",
      "  [16  9  2]\n",
      "  [17 15 16]]\n",
      "\n",
      " [[ 7 16  5]\n",
      "  [17 15  6]\n",
      "  [ 5 16 13]]\n",
      "\n",
      " [[ 3 11  5]\n",
      "  [ 9 10  8]\n",
      "  [18  6 14]]]\n",
      "\n",
      "\n",
      "[[[20 35 21]\n",
      "  [24 28 37]\n",
      "  [34 31 24]]]\n"
     ]
    }
   ],
   "source": [
    "a=np.random.randint(2,20 ,size=(3,3,3))\n",
    "b=np.random.randint(20,40,size=(1,3,3))\n",
    "print(a)\n",
    "print(\"\\n\")\n",
    "print(b)"
   ]
  },
  {
   "cell_type": "code",
   "execution_count": 48,
   "id": "5c8f5f05",
   "metadata": {},
   "outputs": [
    {
     "name": "stdout",
     "output_type": "stream",
     "text": [
      "shape: (3, 3, 3)\n",
      "dimesion 3\n",
      "size 27\n",
      "types int32\n"
     ]
    }
   ],
   "source": [
    "#attribute a\n",
    "print(\"shape:\",a.shape)\n",
    "print(\"dimesion\",a.ndim)\n",
    "print(\"size\",a.size)\n",
    "print(\"types\",a.dtype)"
   ]
  },
  {
   "cell_type": "code",
   "execution_count": 49,
   "id": "afde3cda",
   "metadata": {},
   "outputs": [
    {
     "name": "stdout",
     "output_type": "stream",
     "text": [
      "[[16  6  6]\n",
      " [ 2  9 16]\n",
      " [16 15 17]]\n"
     ]
    }
   ],
   "source": [
    "sub_a=a[0,:,::-1]\n",
    "print(sub_a)"
   ]
  },
  {
   "cell_type": "code",
   "execution_count": 51,
   "id": "f79ab892",
   "metadata": {},
   "outputs": [
    {
     "data": {
      "text/plain": [
       "array([[ 6,  6, 16],\n",
       "       [16,  9,  2],\n",
       "       [17, 15, 16],\n",
       "       [ 7, 16,  5],\n",
       "       [17, 15,  6],\n",
       "       [ 5, 16, 13],\n",
       "       [ 3, 11,  5],\n",
       "       [ 9, 10,  8],\n",
       "       [18,  6, 14]])"
      ]
     },
     "execution_count": 51,
     "metadata": {},
     "output_type": "execute_result"
    }
   ],
   "source": [
    "two_dim=a.reshape((9,3))\n",
    "two_dim"
   ]
  },
  {
   "cell_type": "code",
   "execution_count": 57,
   "id": "e15bc1f2",
   "metadata": {},
   "outputs": [
    {
     "name": "stdout",
     "output_type": "stream",
     "text": [
      "[[[26 41 37]\n",
      "  [40 37 39]\n",
      "  [51 46 40]]\n",
      "\n",
      " [[27 51 26]\n",
      "  [41 43 43]\n",
      "  [39 47 37]]\n",
      "\n",
      " [[23 46 26]\n",
      "  [33 38 45]\n",
      "  [52 37 38]]]\n",
      "(3, 3, 3)\n"
     ]
    }
   ],
   "source": [
    "addition=a+b\n",
    "print(addition)\n",
    "print(addition.shape)"
   ]
  },
  {
   "cell_type": "code",
   "execution_count": 58,
   "id": "d9f1d1fa",
   "metadata": {},
   "outputs": [
    {
     "name": "stdout",
     "output_type": "stream",
     "text": [
      "[[[120 210 336]\n",
      "  [384 252  74]\n",
      "  [578 465 384]]\n",
      "\n",
      " [[140 560 105]\n",
      "  [408 420 222]\n",
      "  [170 496 312]]\n",
      "\n",
      " [[ 60 385 105]\n",
      "  [216 280 296]\n",
      "  [612 186 336]]]\n",
      "(3, 3, 3)\n"
     ]
    }
   ],
   "source": [
    "mul=a*b\n",
    "print(mul)\n",
    "print(mul.shape)"
   ]
  },
  {
   "cell_type": "code",
   "execution_count": 66,
   "id": "6a546230",
   "metadata": {},
   "outputs": [
    {
     "name": "stdout",
     "output_type": "stream",
     "text": [
      "sum of all value in array a:\n",
      " 287\n",
      "sum of the each row of array a:\n",
      " [[39 30 34]\n",
      " [29 47 24]\n",
      " [30 27 27]]\n",
      "sum of the each column of array a:\n",
      " [[28 27 48]\n",
      " [28 38 34]\n",
      " [19 27 38]]\n"
     ]
    }
   ],
   "source": [
    "print(\"sum of all value in array a:\\n\",np.sum(a))\n",
    "print(\"sum of the each row of array a:\\n\",np.sum(a,axis=1))\n",
    "print(\"sum of the each column of array a:\\n\",np.sum(a,axis=2))"
   ]
  },
  {
   "cell_type": "code",
   "execution_count": 71,
   "id": "a42332fb",
   "metadata": {},
   "outputs": [],
   "source": [
    "#practice"
   ]
  },
  {
   "cell_type": "code",
   "execution_count": 77,
   "id": "34cbf8b6",
   "metadata": {},
   "outputs": [
    {
     "data": {
      "text/plain": [
       "array([[ 2,  4,  6,  8, 10],\n",
       "       [12, 14, 16, 18, 20],\n",
       "       [22, 24, 26, 28, 30],\n",
       "       [32, 34, 36, 38, 40]])"
      ]
     },
     "execution_count": 77,
     "metadata": {},
     "output_type": "execute_result"
    }
   ],
   "source": [
    "a1=np.arange(2,42,2)\n",
    "a2=a1.reshape(4,5)\n",
    "a2"
   ]
  },
  {
   "cell_type": "code",
   "execution_count": 79,
   "id": "dd21561a",
   "metadata": {},
   "outputs": [
    {
     "data": {
      "text/plain": [
       "array([[0.15355585, 0.16270479, 0.91028939],\n",
       "       [0.34308936, 0.156922  , 0.2809797 ],\n",
       "       [0.31499937, 0.85561794, 0.48076717]])"
      ]
     },
     "execution_count": 79,
     "metadata": {},
     "output_type": "execute_result"
    }
   ],
   "source": [
    "np.random.rand(3,3)"
   ]
  },
  {
   "cell_type": "markdown",
   "id": "55cf4c38",
   "metadata": {},
   "source": [
    "Create an array X using a routine of shape (4, 4) with values ranging from -10 to 10 and\n",
    "compute the following:\n",
    "1. Matrix rank of array\n",
    "2. Determinant of an array and round the result for decimal place 1\n",
    "3. Inverse of a matrix\n",
    "4. Eigenvalues and right eigenvectors of a square array\n",
    "5. Create subarrays of x into x1 (first 3 rows & 3 columns) and x2 (last 3 rows & last 3columns) and compute matrix product of two arrays (x1, x2)\n",
    "6. Create subarrays of x into y1 (every other element of row & column) and y2 (everyother element from last row and last column) and compute dot and inner product of (y1, y2)\n",
    "7. Raise a square matrix x1 to the power 3"
   ]
  },
  {
   "cell_type": "code",
   "execution_count": 82,
   "id": "f732bc20",
   "metadata": {},
   "outputs": [
    {
     "name": "stdout",
     "output_type": "stream",
     "text": [
      "[[  2   7   8  -7]\n",
      " [ -1  -3   9  -2]\n",
      " [ -4  -8   6 -10]\n",
      " [ -4  -5  -7   5]]\n"
     ]
    }
   ],
   "source": [
    "x=np.random.randint(-10,10,(4,4))\n",
    "print(x)"
   ]
  },
  {
   "cell_type": "code",
   "execution_count": 87,
   "id": "e7fc15e1",
   "metadata": {},
   "outputs": [
    {
     "name": "stdout",
     "output_type": "stream",
     "text": [
      "rank of the matrix 4\n"
     ]
    }
   ],
   "source": [
    "print(\"rank of the matrix\", np.linalg.matrix_rank(x))"
   ]
  },
  {
   "cell_type": "code",
   "execution_count": 91,
   "id": "4b059594",
   "metadata": {},
   "outputs": [
    {
     "name": "stdout",
     "output_type": "stream",
     "text": [
      "determinent: -2610.0\n"
     ]
    }
   ],
   "source": [
    "print(\"determinent:\",round(np.linalg.det(x),1))"
   ]
  },
  {
   "cell_type": "code",
   "execution_count": 92,
   "id": "608c3414",
   "metadata": {},
   "outputs": [
    {
     "name": "stdout",
     "output_type": "stream",
     "text": [
      "diagonal: [ 2 -3  6  5]\n"
     ]
    }
   ],
   "source": [
    "print(\"diagonal:\",np.diagonal(x))"
   ]
  },
  {
   "cell_type": "code",
   "execution_count": 94,
   "id": "c62f6fea",
   "metadata": {},
   "outputs": [
    {
     "name": "stdout",
     "output_type": "stream",
     "text": [
      "10\n"
     ]
    }
   ],
   "source": [
    "#sum of the diagonal\n",
    "print(sum(np.diagonal(x)))"
   ]
  },
  {
   "cell_type": "code",
   "execution_count": 103,
   "id": "0e9c3117",
   "metadata": {},
   "outputs": [
    {
     "name": "stdout",
     "output_type": "stream",
     "text": [
      "eigen value \n",
      " [-2.88809395+0.j         -0.4477232 +8.08480004j -0.4477232 -8.08480004j\n",
      " 13.78354035+0.j        ]\n",
      "eigen vector \n",
      " [[-0.82041743+0.j          0.53095025+0.j          0.53095025-0.j\n",
      "  -0.68573176+0.j        ]\n",
      " [ 0.51888661+0.j         -0.01107036+0.52248881j -0.01107036-0.52248881j\n",
      "  -0.1873849 +0.j        ]\n",
      " [-0.12962976+0.j         -0.50226383+0.15825172j -0.50226383-0.15825172j\n",
      "  -0.28250402+0.j        ]\n",
      " [-0.20215846+0.j         -0.39942627+0.09011555j -0.39942627-0.09011555j\n",
      "   0.64408877+0.j        ]]\n"
     ]
    }
   ],
   "source": [
    "eig_value,eig_vector=np.linalg.eig(x)\n",
    "print(\"eigen value \\n\",eig_value)\n",
    "print(\"eigen vector \\n\",eig_vector)"
   ]
  },
  {
   "cell_type": "code",
   "execution_count": 120,
   "id": "cd7b734f",
   "metadata": {},
   "outputs": [
    {
     "name": "stdout",
     "output_type": "stream",
     "text": [
      "matrix multiplication:\n",
      " [[-102    4  -34]\n",
      " [ -18  -90   77]\n",
      " [  46 -126  118]]\n"
     ]
    }
   ],
   "source": [
    "x1=x[:3,:3]\n",
    "x2=x[1:,1:]\n",
    "print(\"matrix multiplication:\\n\",np.dot(x1,x2))"
   ]
  },
  {
   "cell_type": "code",
   "execution_count": 125,
   "id": "73c4da89",
   "metadata": {},
   "outputs": [
    {
     "name": "stdout",
     "output_type": "stream",
     "text": [
      "[[ 2  8]\n",
      " [-4  6]] \n",
      "\n",
      "[[ 5 -5]\n",
      " [-2 -3]]\n",
      "inner matrix:\n",
      " [[-30 -28]\n",
      " [-50 -10]]\n"
     ]
    }
   ],
   "source": [
    "y1=x[::2,::2]\n",
    "print(y1,\"\\n\")\n",
    "y2=x[::-2,::-2]\n",
    "print(y2)\n",
    "print(\"inner matrix:\\n\",np.inner(y1,y2))"
   ]
  },
  {
   "cell_type": "code",
   "execution_count": 126,
   "id": "84ac3251",
   "metadata": {},
   "outputs": [
    {
     "name": "stdout",
     "output_type": "stream",
     "text": [
      "[[   8  343  512]\n",
      " [  -1  -27  729]\n",
      " [ -64 -512  216]]\n"
     ]
    }
   ],
   "source": [
    "print(np.power(x1,3))"
   ]
  },
  {
   "cell_type": "markdown",
   "id": "afdf6eb8",
   "metadata": {},
   "source": [
    "Create a structured array with the columns specified in the table below and perform the \n",
    "following:\n",
    "1. Create a copy of the original array and perform the operations on it.\n",
    "2. Sort the array by ‘Salary’ column in descending order.\n",
    "3. Create an array by accessing ‘Age’ column and perform an indirect sort on it to return array of indices, using these indices construct a sorted array via fancy indexing.\n",
    "4. Create a subset of array where ‘Experience’ is greater than 20 (use where() function).\n",
    "5. Create an array ‘Incentive’ by adding 200 to the salary for those who are having work experience more than 20 years.\n",
    "6. Access ‘Name’, ‘Gender’ and ‘Age’ columns at once using a list of field names.\n",
    "7. Access last two names of the array ‘Name’.\n",
    "8. Use shorter syntax method to display the minimum, average, maximum and standard deviation of the salary.\n",
    "9. Are all of the employees male?\n",
    "10. How many employees are there with working experience between 15.2 and 24.5?\n"
   ]
  },
  {
   "cell_type": "code",
   "execution_count": 46,
   "id": "347b7ca0",
   "metadata": {},
   "outputs": [
    {
     "name": "stdout",
     "output_type": "stream",
     "text": [
      "[(b'cathy', b'F', 45, 15.5, 2711) (b'Xavier', b'M', 78,  9.2, 3420)\n",
      " (b'Alexander', b'M', 61, 24.1, 3275) (b'Andrew', b'M', 44, 15.6, 5988)\n",
      " (b'isabelle', b'F', 45, 15.9, 7444) (b'Natasha', b'F', 61, 24.5, 1646)\n",
      " (b'Henry', b'M', 60, 24.5, 1646) (b'David', b'M', 47, 15.3, 9120)]\n"
     ]
    }
   ],
   "source": [
    "dt=np.dtype([('Name','S20'),('Gender','S20'),('Age','i4'),('Experience','float64'),('Salary','i')])\n",
    "p_table= np.array([('cathy','F',45,15.5,2711), \n",
    " ('Xavier','M',78,9.2,3420), \n",
    " ('Alexander','M',61,24.1,3275), \n",
    " ('Andrew','M',44,15.6,5988), \n",
    " ('isabelle','F',45,15.9,7444),\n",
    " ('Natasha','F',61,24.5,1646), \n",
    " ('Henry','M',60,24.5,1646), \n",
    " ('David','M',47,15.3,9120)], dtype=dt) \n",
    "print(p_table)"
   ]
  },
  {
   "cell_type": "code",
   "execution_count": 47,
   "id": "5271ba0b",
   "metadata": {},
   "outputs": [],
   "source": [
    "b=p_table.copy()"
   ]
  },
  {
   "cell_type": "code",
   "execution_count": 48,
   "id": "a18d0388",
   "metadata": {},
   "outputs": [
    {
     "data": {
      "text/plain": [
       "array([(b'David', b'M', 47, 15.3, 9120),\n",
       "       (b'isabelle', b'F', 45, 15.9, 7444),\n",
       "       (b'Andrew', b'M', 44, 15.6, 5988),\n",
       "       (b'Xavier', b'M', 78,  9.2, 3420),\n",
       "       (b'Alexander', b'M', 61, 24.1, 3275),\n",
       "       (b'cathy', b'F', 45, 15.5, 2711), (b'Henry', b'M', 60, 24.5, 1646),\n",
       "       (b'Natasha', b'F', 61, 24.5, 1646)],\n",
       "      dtype=[('Name', 'S20'), ('Gender', 'S20'), ('Age', '<i4'), ('Experience', '<f8'), ('Salary', '<i4')])"
      ]
     },
     "execution_count": 48,
     "metadata": {},
     "output_type": "execute_result"
    }
   ],
   "source": [
    "(b[np.argsort(b[\"Salary\"])])[::-1]"
   ]
  },
  {
   "cell_type": "code",
   "execution_count": 49,
   "id": "f2d7bb5c",
   "metadata": {},
   "outputs": [
    {
     "data": {
      "text/plain": [
       "array([(b'Andrew', b'M', 44, 15.6, 5988),\n",
       "       (b'cathy', b'F', 45, 15.5, 2711),\n",
       "       (b'isabelle', b'F', 45, 15.9, 7444),\n",
       "       (b'David', b'M', 47, 15.3, 9120), (b'Henry', b'M', 60, 24.5, 1646),\n",
       "       (b'Alexander', b'M', 61, 24.1, 3275),\n",
       "       (b'Natasha', b'F', 61, 24.5, 1646),\n",
       "       (b'Xavier', b'M', 78,  9.2, 3420)],\n",
       "      dtype=[('Name', 'S20'), ('Gender', 'S20'), ('Age', '<i4'), ('Experience', '<f8'), ('Salary', '<i4')])"
      ]
     },
     "execution_count": 49,
     "metadata": {},
     "output_type": "execute_result"
    }
   ],
   "source": [
    "#fancy indexing\n",
    "age_1=b[\"Age\"]\n",
    "ind=np.argsort(age_1)\n",
    "b[ind]"
   ]
  },
  {
   "cell_type": "code",
   "execution_count": 50,
   "id": "22c72abc",
   "metadata": {},
   "outputs": [
    {
     "data": {
      "text/plain": [
       "array([(b'Alexander', b'M', 61, 24.1, 3275),\n",
       "       (b'Natasha', b'F', 61, 24.5, 1646),\n",
       "       (b'Henry', b'M', 60, 24.5, 1646)],\n",
       "      dtype=[('Name', 'S20'), ('Gender', 'S20'), ('Age', '<i4'), ('Experience', '<f8'), ('Salary', '<i4')])"
      ]
     },
     "execution_count": 50,
     "metadata": {},
     "output_type": "execute_result"
    }
   ],
   "source": [
    "b[np.where(b[\"Experience\"]>20)]"
   ]
  },
  {
   "cell_type": "code",
   "execution_count": 55,
   "id": "83144d95",
   "metadata": {},
   "outputs": [
    {
     "data": {
      "text/plain": [
       "array([[3475, 1846, 1846]], dtype=int32)"
      ]
     },
     "execution_count": 55,
     "metadata": {},
     "output_type": "execute_result"
    }
   ],
   "source": [
    "b[np.where(b[\"Experience\"]>20),][\"Salary\"]+200"
   ]
  },
  {
   "cell_type": "code",
   "execution_count": null,
   "id": "95c9916a",
   "metadata": {},
   "outputs": [],
   "source": []
  },
  {
   "cell_type": "code",
   "execution_count": 194,
   "id": "de58dfdf",
   "metadata": {},
   "outputs": [
    {
     "data": {
      "text/plain": [
       "array([(b'cathy', b'F', 45), (b'Xavier', b'M', 78),\n",
       "       (b'Alexander', b'M', 61), (b'Andrew', b'M', 44),\n",
       "       (b'isabelle', b'F', 45), (b'Natasha', b'F', 61),\n",
       "       (b'Henry', b'M', 60), (b'David', b'M', 47)],\n",
       "      dtype={'names':['Name','Gender','Age'], 'formats':['S20','S20','<i4'], 'offsets':[0,20,40], 'itemsize':56})"
      ]
     },
     "execution_count": 194,
     "metadata": {},
     "output_type": "execute_result"
    }
   ],
   "source": [
    "b[[\"Name\",\"Gender\",\"Age\"]]"
   ]
  },
  {
   "cell_type": "code",
   "execution_count": 195,
   "id": "8db009be",
   "metadata": {},
   "outputs": [
    {
     "data": {
      "text/plain": [
       "array([b'Henry', b'David'], dtype='|S20')"
      ]
     },
     "execution_count": 195,
     "metadata": {},
     "output_type": "execute_result"
    }
   ],
   "source": [
    "b[\"Name\"][-2:]"
   ]
  },
  {
   "cell_type": "code",
   "execution_count": 196,
   "id": "9e208f64",
   "metadata": {},
   "outputs": [
    {
     "data": {
      "text/plain": [
       "array([(b'cathy', b'F', 45), (b'Xavier', b'M', 78)],\n",
       "      dtype={'names':['Name','Gender','Age'], 'formats':['S20','S20','<i4'], 'offsets':[0,20,40], 'itemsize':56})"
      ]
     },
     "execution_count": 196,
     "metadata": {},
     "output_type": "execute_result"
    }
   ],
   "source": [
    "b[[\"Name\",\"Gender\",\"Age\"]][:2]"
   ]
  },
  {
   "cell_type": "code",
   "execution_count": 197,
   "id": "8fce61fd",
   "metadata": {},
   "outputs": [
    {
     "name": "stdout",
     "output_type": "stream",
     "text": [
      "minimum of salary 1646\n",
      "maximum of salary 9120\n",
      "average of salary 4406.25\n",
      "standard deviation of salary 2605.608\n"
     ]
    }
   ],
   "source": [
    "print(\"minimum of salary\",np.min(b[\"Salary\"]))\n",
    "print(\"maximum of salary\",np.max(b[\"Salary\"]))\n",
    "print(\"average of salary\",np.average(b[\"Salary\"]))\n",
    "print(\"standard deviation of salary\",round(np.std(b[\"Salary\"]),4))"
   ]
  },
  {
   "cell_type": "code",
   "execution_count": 198,
   "id": "7cb22929",
   "metadata": {},
   "outputs": [
    {
     "data": {
      "text/plain": [
       "array([], shape=(0, 8),\n",
       "      dtype=[('Name', 'S20'), ('Gender', 'S20'), ('Age', '<i4'), ('Experience', '<f8'), ('Salary', '<i4')])"
      ]
     },
     "execution_count": 198,
     "metadata": {},
     "output_type": "execute_result"
    }
   ],
   "source": [
    "b[b[\"Gender\"]==\"M\"]"
   ]
  },
  {
   "cell_type": "code",
   "execution_count": 204,
   "id": "ee29dd78",
   "metadata": {},
   "outputs": [
    {
     "name": "stdout",
     "output_type": "stream",
     "text": [
      "number of persons experience between 15.2 and 24.5 is : 5\n"
     ]
    }
   ],
   "source": [
    "print(\"number of persons experience between 15.2 and 24.5 is :\",np.count_nonzero(b[(b[\"Experience\"]>15.2)&(b[\"Experience\"]<24.5)]))"
   ]
  },
  {
   "cell_type": "code",
   "execution_count": 206,
   "id": "893cf93f",
   "metadata": {},
   "outputs": [
    {
     "data": {
      "text/plain": [
       "array([(b'cathy', b'F', 45, 15.5, 2711),\n",
       "       (b'Xavier', b'M', 78,  9.2, 3420),\n",
       "       (b'Alexander', b'M', 61, 24.1, 3275),\n",
       "       (b'Andrew', b'M', 44, 15.6, 5988),\n",
       "       (b'isabelle', b'F', 45, 15.9, 7444),\n",
       "       (b'Natasha', b'F', 61, 24.5, 1646),\n",
       "       (b'Henry', b'M', 60, 24.5, 1646), (b'David', b'M', 47, 15.3, 9120)],\n",
       "      dtype=[('Name', 'S20'), ('Gender', 'S20'), ('Age', '<i4'), ('Experience', '<f8'), ('Salary', '<i4')])"
      ]
     },
     "execution_count": 206,
     "metadata": {},
     "output_type": "execute_result"
    }
   ],
   "source": [
    "b"
   ]
  },
  {
   "cell_type": "code",
   "execution_count": 210,
   "id": "ef500a00",
   "metadata": {},
   "outputs": [
    {
     "data": {
      "text/plain": [
       "array([b'Xavier', b'Alexander', b'Natasha', b'Henry'], dtype='|S20')"
      ]
     },
     "execution_count": 210,
     "metadata": {},
     "output_type": "execute_result"
    }
   ],
   "source": [
    "# name of peoples who age is greater than 50\n",
    "b[b[\"Age\"]>50][\"Name\"]"
   ]
  },
  {
   "cell_type": "code",
   "execution_count": 1,
   "id": "a142f85b",
   "metadata": {},
   "outputs": [],
   "source": [
    "#practice"
   ]
  },
  {
   "cell_type": "code",
   "execution_count": 8,
   "id": "0595722a",
   "metadata": {},
   "outputs": [
    {
     "name": "stdout",
     "output_type": "stream",
     "text": [
      "1.21.5\n"
     ]
    }
   ],
   "source": [
    "print(np.__version__)"
   ]
  },
  {
   "cell_type": "code",
   "execution_count": 11,
   "id": "0cc1af14",
   "metadata": {},
   "outputs": [
    {
     "name": "stdout",
     "output_type": "stream",
     "text": [
      "add(x1, x2, /, out=None, *, where=True, casting='same_kind', order='K', dtype=None, subok=True[, signature, extobj])\n",
      "\n",
      "Add arguments element-wise.\n",
      "\n",
      "Parameters\n",
      "----------\n",
      "x1, x2 : array_like\n",
      "    The arrays to be added.\n",
      "    If ``x1.shape != x2.shape``, they must be broadcastable to a common\n",
      "    shape (which becomes the shape of the output).\n",
      "out : ndarray, None, or tuple of ndarray and None, optional\n",
      "    A location into which the result is stored. If provided, it must have\n",
      "    a shape that the inputs broadcast to. If not provided or None,\n",
      "    a freshly-allocated array is returned. A tuple (possible only as a\n",
      "    keyword argument) must have length equal to the number of outputs.\n",
      "where : array_like, optional\n",
      "    This condition is broadcast over the input. At locations where the\n",
      "    condition is True, the `out` array will be set to the ufunc result.\n",
      "    Elsewhere, the `out` array will retain its original value.\n",
      "    Note that if an uninitialized `out` array is created via the default\n",
      "    ``out=None``, locations within it where the condition is False will\n",
      "    remain uninitialized.\n",
      "**kwargs\n",
      "    For other keyword-only arguments, see the\n",
      "    :ref:`ufunc docs <ufuncs.kwargs>`.\n",
      "\n",
      "Returns\n",
      "-------\n",
      "add : ndarray or scalar\n",
      "    The sum of `x1` and `x2`, element-wise.\n",
      "    This is a scalar if both `x1` and `x2` are scalars.\n",
      "\n",
      "Notes\n",
      "-----\n",
      "Equivalent to `x1` + `x2` in terms of array broadcasting.\n",
      "\n",
      "Examples\n",
      "--------\n",
      ">>> np.add(1.0, 4.0)\n",
      "5.0\n",
      ">>> x1 = np.arange(9.0).reshape((3, 3))\n",
      ">>> x2 = np.arange(3.0)\n",
      ">>> np.add(x1, x2)\n",
      "array([[  0.,   2.,   4.],\n",
      "       [  3.,   5.,   7.],\n",
      "       [  6.,   8.,  10.]])\n",
      "\n",
      "The ``+`` operator can be used as a shorthand for ``np.add`` on ndarrays.\n",
      "\n",
      ">>> x1 = np.arange(9.0).reshape((3, 3))\n",
      ">>> x2 = np.arange(3.0)\n",
      ">>> x1 + x2\n",
      "array([[ 0.,  2.,  4.],\n",
      "       [ 3.,  5.,  7.],\n",
      "       [ 6.,  8., 10.]])\n",
      "None\n"
     ]
    }
   ],
   "source": [
    "print(np.info(np.add))"
   ]
  },
  {
   "cell_type": "code",
   "execution_count": 19,
   "id": "a4e17775",
   "metadata": {},
   "outputs": [
    {
     "name": "stdout",
     "output_type": "stream",
     "text": [
      "whether none of the elements of a given array are zero: True\n",
      "whether none of the elements of a given array are zero: False\n"
     ]
    }
   ],
   "source": [
    "#Write a NumPy program to test whether none of the elements of a given array are zero. \n",
    "a1=np.arange(1,6)\n",
    "print(\"whether none of the elements of a given array are zero:\",np.all(a1))\n",
    "a2=np.array([1,0,6,7,2,3])\n",
    "print(\"whether none of the elements of a given array are zero:\",np.all(a2))"
   ]
  },
  {
   "cell_type": "code",
   "execution_count": 21,
   "id": "f4bcb6ac",
   "metadata": {},
   "outputs": [
    {
     "name": "stdout",
     "output_type": "stream",
     "text": [
      "any of the elements of a given array are zero: False\n",
      "any of the elements of a given array are zero: True\n"
     ]
    }
   ],
   "source": [
    "#Write a NumPy program to test if any of the elements of a given array are non-zero. \n",
    "a1=np.array([0,0,0,0])\n",
    "print(\"any of the elements of a given array are zero:\",np.any(a1))\n",
    "a2=np.array([1,0,6,7,2,3])\n",
    "print(\"any of the elements of a given array are zero:\",np.any(a2))"
   ]
  },
  {
   "cell_type": "code",
   "execution_count": 40,
   "id": "2bcaa9c8",
   "metadata": {},
   "outputs": [
    {
     "name": "stdout",
     "output_type": "stream",
     "text": [
      "[[1, 2, 3, 4], [3, 4, 5, 6], [4, 5, 6, 7], [2, 3, 4, 1]]\n",
      "flatten the array \n",
      " [1 2 3 4 3 4 5 6 4 5 6 7 2 3 4 1]\n"
     ]
    }
   ],
   "source": [
    "#flatten the given list\n",
    "m1=[[1,2,3,4],[3,4,5,6],[4,5,6,7],[2,3,4,1]]\n",
    "print(m1)\n",
    "#flatten the list\n",
    "m2=np.array(m1)\n",
    "print(\"flatten the array \\n\",m2.reshape((m2.size)))"
   ]
  },
  {
   "cell_type": "code",
   "execution_count": 42,
   "id": "77eab589",
   "metadata": {},
   "outputs": [
    {
     "name": "stdout",
     "output_type": "stream",
     "text": [
      "[12.  34.5  4.  53.  12. ]\n"
     ]
    }
   ],
   "source": [
    "#Write a NumPy program to convert a list of numeric values into a one-dimensional NumPy array.\n",
    "l1=[12,34.5,4,53,12]\n",
    "arr1=np.array(l1)\n",
    "print(arr1)"
   ]
  },
  {
   "cell_type": "code",
   "execution_count": 52,
   "id": "c33d7028",
   "metadata": {},
   "outputs": [
    {
     "name": "stdout",
     "output_type": "stream",
     "text": [
      "[ 2  3  4  5  6  7  8  9 10]\n",
      "3X3 matrix is:\n",
      " [[ 2  3  4]\n",
      " [ 5  6  7]\n",
      " [ 8  9 10]]\n"
     ]
    }
   ],
   "source": [
    "#Write a NumPy program to create a 3x3 matrix with values ranging from 2 to 10.\n",
    "arr1=np.arange(2,11)\n",
    "print(arr1)\n",
    "arr2=arr1.reshape(3,3)\n",
    "print(\"3X3 matrix is:\\n\",arr2)"
   ]
  },
  {
   "cell_type": "code",
   "execution_count": 54,
   "id": "9e8fcd83",
   "metadata": {},
   "outputs": [
    {
     "name": "stdout",
     "output_type": "stream",
     "text": [
      "[[ 2  3  4]\n",
      " [ 5  6  7]\n",
      " [ 8  9 10]]\n"
     ]
    }
   ],
   "source": [
    "arr1=np.arange(2,11).reshape(3,3)\n",
    "print(arr1)"
   ]
  },
  {
   "cell_type": "code",
   "execution_count": 58,
   "id": "9100480d",
   "metadata": {},
   "outputs": [
    {
     "name": "stdout",
     "output_type": "stream",
     "text": [
      "null vector of size 10 [0. 0. 0. 0. 0. 0. 0. 0. 0. 0.]\n",
      "updated array [ 0.  0.  0.  0.  0. 11.  0.  0.  0.  0.]\n"
     ]
    }
   ],
   "source": [
    "#Write a NumPy program to create a null vector of size 10 and update the sixth value to 11\n",
    "all_zero=np.zeros(10)\n",
    "print(\"null vector of size 10\",all_zero)\n",
    "all_zero[5]=11\n",
    "print(\"updated array\",all_zero)"
   ]
  },
  {
   "cell_type": "code",
   "execution_count": 60,
   "id": "ca4bd6be",
   "metadata": {},
   "outputs": [
    {
     "name": "stdout",
     "output_type": "stream",
     "text": [
      "[12 13 14 15 16 17 18 19 20 21 22 23 24 25 26 27 28 29 30 31 32 33 34 35\n",
      " 36 37]\n",
      "reversed array [37 36 35 34 33 32 31 30 29 28 27 26 25 24 23 22 21 20 19 18 17 16 15 14\n",
      " 13 12]\n"
     ]
    }
   ],
   "source": [
    "#Write a NumPy program to create an array with values ranging from 12 to 38 and reverse an array\n",
    "arr1=np.arange(12,38)\n",
    "rev_arr1=arr1[::-1]\n",
    "print(arr1)\n",
    "print(\"reversed array\",rev_arr1)"
   ]
  },
  {
   "cell_type": "code",
   "execution_count": 63,
   "id": "515b584a",
   "metadata": {},
   "outputs": [
    {
     "name": "stdout",
     "output_type": "stream",
     "text": [
      "[1 2 3 4]\n",
      "floated value: [1. 2. 3. 4.]\n"
     ]
    }
   ],
   "source": [
    "#Write a NumPy program to convert an array to a floating type\n",
    "arr1=np.arange(1,5)\n",
    "print(arr1)\n",
    "arr2=np.asfarray(arr1)\n",
    "print(\"floated value:\",arr2)"
   ]
  },
  {
   "cell_type": "code",
   "execution_count": 70,
   "id": "cb328de7",
   "metadata": {},
   "outputs": [
    {
     "data": {
      "text/plain": [
       "array([[1., 1., 1., 1., 1., 1.],\n",
       "       [1., 0., 0., 0., 0., 1.],\n",
       "       [1., 0., 0., 0., 0., 1.],\n",
       "       [1., 0., 0., 0., 0., 1.],\n",
       "       [1., 0., 0., 0., 0., 1.],\n",
       "       [1., 1., 1., 1., 1., 1.]])"
      ]
     },
     "execution_count": 70,
     "metadata": {},
     "output_type": "execute_result"
    }
   ],
   "source": [
    "#Write a NumPy program to create a 2D array with 1 on the border and 0 inside.\n",
    "arr1=np.ones((6,6))\n",
    "arr1[1:len(arr1)-1,1:len(arr1)-1]=0\n",
    "arr1"
   ]
  },
  {
   "cell_type": "code",
   "execution_count": 75,
   "id": "0da1492d",
   "metadata": {},
   "outputs": [
    {
     "name": "stdout",
     "output_type": "stream",
     "text": [
      "oroginal array: \n",
      " [[1. 1. 1. 1. 1. 1.]\n",
      " [1. 1. 1. 1. 1. 1.]\n",
      " [1. 1. 1. 1. 1. 1.]\n",
      " [1. 1. 1. 1. 1. 1.]\n",
      " [1. 1. 1. 1. 1. 1.]\n",
      " [1. 1. 1. 1. 1. 1.]]\n",
      "updated array:\n",
      " [[1. 1. 1. 1. 1. 1.]\n",
      " [1. 0. 0. 0. 0. 1.]\n",
      " [1. 0. 0. 0. 0. 1.]\n",
      " [1. 0. 0. 0. 0. 1.]\n",
      " [1. 0. 0. 0. 0. 1.]\n",
      " [1. 1. 1. 1. 1. 1.]]\n"
     ]
    }
   ],
   "source": [
    "#other method\n",
    "arr1=np.ones((6,6))\n",
    "print(\"oroginal array: \\n\",arr1)\n",
    "arr1[1:-1,1:-1]=0\n",
    "print(\"updated array:\\n\",arr1)"
   ]
  },
  {
   "cell_type": "code",
   "execution_count": 86,
   "id": "34da371d",
   "metadata": {},
   "outputs": [
    {
     "name": "stdout",
     "output_type": "stream",
     "text": [
      "[[1. 1. 1. 1. 1. 1. 1. 1.]\n",
      " [1. 1. 1. 1. 1. 1. 1. 1.]\n",
      " [1. 1. 1. 1. 1. 1. 1. 1.]\n",
      " [1. 1. 1. 1. 1. 1. 1. 1.]\n",
      " [1. 1. 1. 1. 1. 1. 1. 1.]\n",
      " [1. 1. 1. 1. 1. 1. 1. 1.]\n",
      " [1. 1. 1. 1. 1. 1. 1. 1.]\n",
      " [1. 1. 1. 1. 1. 1. 1. 1.]]\n",
      "checkerboard pattern: \n",
      " [[1. 0. 1. 0. 1. 0. 1. 0.]\n",
      " [0. 1. 0. 1. 0. 1. 0. 1.]\n",
      " [1. 0. 1. 0. 1. 0. 1. 0.]\n",
      " [0. 1. 0. 1. 0. 1. 0. 1.]\n",
      " [1. 0. 1. 0. 1. 0. 1. 0.]\n",
      " [0. 1. 0. 1. 0. 1. 0. 1.]\n",
      " [1. 0. 1. 0. 1. 0. 1. 0.]\n",
      " [0. 1. 0. 1. 0. 1. 0. 1.]]\n"
     ]
    }
   ],
   "source": [
    "# Write a NumPy program to create an 8x8 matrix and fill it with a checkerboard pattern.\n",
    "arr1=np.ones((8,8))\n",
    "print(arr1)\n",
    "arr1[1::2,::2]=0\n",
    "arr1[::2,1::2]=0\n",
    "print(\"checkerboard pattern: \\n\",arr1)"
   ]
  },
  {
   "cell_type": "code",
   "execution_count": 62,
   "id": "a2647ae7",
   "metadata": {},
   "outputs": [
    {
     "name": "stdout",
     "output_type": "stream",
     "text": [
      "[[0.00000000e+000 0.00000000e+000 0.00000000e+000]\n",
      " [0.00000000e+000 0.00000000e+000 8.22125235e-321]\n",
      " [1.78019082e-306 1.37959740e-306 2.29178686e-312]]\n",
      "full array: \n",
      " [[4 4 4]\n",
      " [4 4 4]\n",
      " [4 4 4]]\n"
     ]
    }
   ],
   "source": [
    "#Write a NumPy program to create an empty and full array.\n",
    "\n",
    "empty_array=np.empty((3,3))\n",
    "print(empty_array)\n",
    "\n",
    "full_array=np.full((3,3),4)\n",
    "print(\"full array: \\n\",full_array)"
   ]
  },
  {
   "cell_type": "code",
   "execution_count": null,
   "id": "ed174a7a",
   "metadata": {},
   "outputs": [],
   "source": []
  },
  {
   "cell_type": "code",
   "execution_count": null,
   "id": "72d9c65d",
   "metadata": {},
   "outputs": [],
   "source": []
  },
  {
   "cell_type": "code",
   "execution_count": null,
   "id": "5d2c295d",
   "metadata": {},
   "outputs": [],
   "source": []
  },
  {
   "cell_type": "code",
   "execution_count": null,
   "id": "dcc76cb7",
   "metadata": {},
   "outputs": [],
   "source": []
  },
  {
   "cell_type": "code",
   "execution_count": null,
   "id": "9db52dad",
   "metadata": {},
   "outputs": [],
   "source": []
  },
  {
   "cell_type": "code",
   "execution_count": null,
   "id": "7366e841",
   "metadata": {},
   "outputs": [],
   "source": []
  },
  {
   "cell_type": "code",
   "execution_count": null,
   "id": "c52a0fc1",
   "metadata": {},
   "outputs": [],
   "source": []
  },
  {
   "cell_type": "code",
   "execution_count": null,
   "id": "66e0abb1",
   "metadata": {},
   "outputs": [],
   "source": []
  },
  {
   "cell_type": "code",
   "execution_count": null,
   "id": "59fa58b2",
   "metadata": {},
   "outputs": [],
   "source": []
  },
  {
   "cell_type": "code",
   "execution_count": 88,
   "id": "7dc50693",
   "metadata": {},
   "outputs": [
    {
     "name": "stdout",
     "output_type": "stream",
     "text": [
      "[1 2 3 4 5]\n",
      "[1 2 3]\n"
     ]
    }
   ],
   "source": [
    "#NumPy program to convert a list and tuple into arrays\n",
    "l1=[1,2,3,4,5]\n",
    "arr1=np.array(l1)\n",
    "print(arr1)\n",
    "t1=(1,2,3)\n",
    "arr2=np.array(t1)\n",
    "print(arr2)"
   ]
  },
  {
   "cell_type": "code",
   "execution_count": 90,
   "id": "d39d49ef",
   "metadata": {},
   "outputs": [
    {
     "data": {
      "text/plain": [
       "array([0, 1, 2, 3, 4, 5, 6, 7, 8, 9])"
      ]
     },
     "execution_count": 90,
     "metadata": {},
     "output_type": "execute_result"
    }
   ],
   "source": [
    "#slicing\n",
    "ar1=np.arange(10)\n",
    "ar1"
   ]
  },
  {
   "cell_type": "code",
   "execution_count": 91,
   "id": "49d020b3",
   "metadata": {},
   "outputs": [
    {
     "name": "stdout",
     "output_type": "stream",
     "text": [
      "[3 4 5 6 7]\n"
     ]
    }
   ],
   "source": [
    "ar1_slice=ar1[3:8]\n",
    "print(ar1_slice)"
   ]
  },
  {
   "cell_type": "code",
   "execution_count": 92,
   "id": "7359b7c2",
   "metadata": {},
   "outputs": [],
   "source": [
    "ar1_slice[3]=24"
   ]
  },
  {
   "cell_type": "code",
   "execution_count": 93,
   "id": "c348e083",
   "metadata": {},
   "outputs": [
    {
     "name": "stdout",
     "output_type": "stream",
     "text": [
      "[ 0  1  2  3  4  5 24  7  8  9]\n"
     ]
    }
   ],
   "source": [
    "print(ar1)"
   ]
  },
  {
   "cell_type": "code",
   "execution_count": 5,
   "id": "c533e102",
   "metadata": {},
   "outputs": [
    {
     "name": "stdout",
     "output_type": "stream",
     "text": [
      "['nidhi' 'niks' 'pokemon' 'nidhi']\n",
      "[[0.46076655 0.0970108  0.710432   0.18559023 0.93440634 0.32114264]\n",
      " [0.57471865 0.15055508 0.65157554 0.61518664 0.03095582 0.11423976]\n",
      " [0.72317268 0.23421574 0.35387872 0.1982846  0.92523841 0.82493669]\n",
      " [0.19150081 0.83654268 0.2945381  0.17943759 0.03819598 0.73224671]]\n"
     ]
    }
   ],
   "source": [
    "#boolean slicing\n",
    "name=np.array([\"nidhi\",\"niks\",\"pokemon\",\"nidhi\"])\n",
    "print(name)\n",
    "arr1=np.random.rand(4,6)\n",
    "print(arr1)"
   ]
  },
  {
   "cell_type": "code",
   "execution_count": 6,
   "id": "9d603801",
   "metadata": {},
   "outputs": [
    {
     "data": {
      "text/plain": [
       "array([ True, False, False,  True])"
      ]
     },
     "execution_count": 6,
     "metadata": {},
     "output_type": "execute_result"
    }
   ],
   "source": [
    "name==\"nidhi\""
   ]
  },
  {
   "cell_type": "code",
   "execution_count": 7,
   "id": "644e8bd0",
   "metadata": {},
   "outputs": [
    {
     "data": {
      "text/plain": [
       "array([[0.46076655, 0.0970108 , 0.710432  , 0.18559023, 0.93440634,\n",
       "        0.32114264],\n",
       "       [0.19150081, 0.83654268, 0.2945381 , 0.17943759, 0.03819598,\n",
       "        0.73224671]])"
      ]
     },
     "execution_count": 7,
     "metadata": {},
     "output_type": "execute_result"
    }
   ],
   "source": [
    "arr1[name==\"nidhi\"]"
   ]
  },
  {
   "cell_type": "code",
   "execution_count": 10,
   "id": "eb747781",
   "metadata": {},
   "outputs": [
    {
     "data": {
      "text/plain": [
       "array([[0.18559023, 0.93440634, 0.32114264],\n",
       "       [0.17943759, 0.03819598, 0.73224671]])"
      ]
     },
     "execution_count": 10,
     "metadata": {},
     "output_type": "execute_result"
    }
   ],
   "source": [
    "# want to access the last 3 columnn\n",
    "arr1[name==\"nidhi\",-3:]"
   ]
  },
  {
   "cell_type": "code",
   "execution_count": 12,
   "id": "da28c64f",
   "metadata": {},
   "outputs": [
    {
     "data": {
      "text/plain": [
       "array([[0.57471865, 0.15055508, 0.65157554, 0.61518664, 0.03095582,\n",
       "        0.11423976],\n",
       "       [0.72317268, 0.23421574, 0.35387872, 0.1982846 , 0.92523841,\n",
       "        0.82493669]])"
      ]
     },
     "execution_count": 12,
     "metadata": {},
     "output_type": "execute_result"
    }
   ],
   "source": [
    "#except nidhi details of others \n",
    "arr1[~(name==\"nidhi\")]"
   ]
  },
  {
   "cell_type": "code",
   "execution_count": 13,
   "id": "c86065e8",
   "metadata": {},
   "outputs": [
    {
     "name": "stdout",
     "output_type": "stream",
     "text": [
      "[[0.46076655 0.0970108  0.710432   0.18559023 0.93440634 0.32114264]\n",
      " [0.57471865 0.15055508 0.65157554 0.61518664 0.03095582 0.11423976]\n",
      " [0.19150081 0.83654268 0.2945381  0.17943759 0.03819598 0.73224671]]\n"
     ]
    }
   ],
   "source": [
    "s1=arr1[(name==\"nidhi\")|(name==\"niks\")]\n",
    "print(s1)"
   ]
  },
  {
   "cell_type": "code",
   "execution_count": 14,
   "id": "0cfc8fdb",
   "metadata": {},
   "outputs": [
    {
     "name": "stdout",
     "output_type": "stream",
     "text": [
      "[[1.         0.0970108  0.710432   0.18559023 0.93440634 0.32114264]\n",
      " [0.57471865 0.15055508 0.65157554 0.61518664 0.03095582 0.11423976]\n",
      " [0.19150081 0.83654268 0.2945381  0.17943759 0.03819598 0.73224671]]\n"
     ]
    }
   ],
   "source": [
    "s1[0,0]=1\n",
    "print(s1)"
   ]
  },
  {
   "cell_type": "markdown",
   "id": "9bba939f",
   "metadata": {},
   "source": [
    "here it create the copy of the main array(arr1). if we update it does not effect to the main array"
   ]
  },
  {
   "cell_type": "code",
   "execution_count": 15,
   "id": "3b6f7a60",
   "metadata": {},
   "outputs": [
    {
     "data": {
      "text/plain": [
       "array([[0.46076655, 0.0970108 , 0.710432  , 0.18559023, 0.93440634,\n",
       "        0.32114264],\n",
       "       [0.57471865, 0.15055508, 0.65157554, 0.61518664, 0.03095582,\n",
       "        0.11423976],\n",
       "       [0.72317268, 0.23421574, 0.35387872, 0.1982846 , 0.92523841,\n",
       "        0.82493669],\n",
       "       [0.19150081, 0.83654268, 0.2945381 , 0.17943759, 0.03819598,\n",
       "        0.73224671]])"
      ]
     },
     "execution_count": 15,
     "metadata": {},
     "output_type": "execute_result"
    }
   ],
   "source": [
    "arr1"
   ]
  },
  {
   "cell_type": "code",
   "execution_count": 17,
   "id": "02c791a3",
   "metadata": {},
   "outputs": [
    {
     "data": {
      "text/plain": [
       "array([[ 0,  1,  2,  3],\n",
       "       [ 4,  5,  6,  7],\n",
       "       [ 8,  9, 10, 11],\n",
       "       [12, 13, 14, 15],\n",
       "       [16, 17, 18, 19],\n",
       "       [20, 21, 22, 23],\n",
       "       [24, 25, 26, 27],\n",
       "       [28, 29, 30, 31]])"
      ]
     },
     "execution_count": 17,
     "metadata": {},
     "output_type": "execute_result"
    }
   ],
   "source": [
    "#fancy indexing\n",
    "arr2=np.arange(32).reshape(8,4)\n",
    "arr2"
   ]
  },
  {
   "cell_type": "code",
   "execution_count": 23,
   "id": "f54df628",
   "metadata": {},
   "outputs": [
    {
     "name": "stdout",
     "output_type": "stream",
     "text": [
      "[[  4   5   6   7]\n",
      " [100  13  14  15]\n",
      " [ 20  21  22  23]\n",
      " [ 28  29  30  31]]\n"
     ]
    }
   ],
   "source": [
    "#select 2,4,6,8 rows\n",
    "arr3=arr2[[1,3,5,7]]\n",
    "arr3[1,0]=100\n",
    "print(arr3)"
   ]
  },
  {
   "cell_type": "code",
   "execution_count": 24,
   "id": "b1363bf8",
   "metadata": {},
   "outputs": [
    {
     "data": {
      "text/plain": [
       "array([[ 0,  1,  2,  3],\n",
       "       [ 4,  5,  6,  7],\n",
       "       [ 8,  9, 10, 11],\n",
       "       [12, 13, 14, 15],\n",
       "       [16, 17, 18, 19],\n",
       "       [20, 21, 22, 23],\n",
       "       [24, 25, 26, 27],\n",
       "       [28, 29, 30, 31]])"
      ]
     },
     "execution_count": 24,
     "metadata": {},
     "output_type": "execute_result"
    }
   ],
   "source": [
    "arr2"
   ]
  },
  {
   "cell_type": "code",
   "execution_count": 33,
   "id": "50a06bca",
   "metadata": {},
   "outputs": [
    {
     "data": {
      "text/plain": [
       "array([ 3,  8, 17, 24])"
      ]
     },
     "execution_count": 33,
     "metadata": {},
     "output_type": "execute_result"
    }
   ],
   "source": [
    "arr2[[0,2,4,6],[3,0,1,0]]       #(0,3) (2,0) (4,1) (6,0)"
   ]
  },
  {
   "cell_type": "code",
   "execution_count": 29,
   "id": "2fb89e59",
   "metadata": {},
   "outputs": [
    {
     "data": {
      "text/plain": [
       "array([[  3],\n",
       "       [  7],\n",
       "       [200],\n",
       "       [ 15],\n",
       "       [ 19],\n",
       "       [ 23],\n",
       "       [ 27],\n",
       "       [ 31]])"
      ]
     },
     "execution_count": 29,
     "metadata": {},
     "output_type": "execute_result"
    }
   ],
   "source": [
    "arr4=arr2[:,3:]\n",
    "arr4\n",
    "arr4[2]=200\n",
    "arr4"
   ]
  },
  {
   "cell_type": "code",
   "execution_count": 31,
   "id": "02e125ea",
   "metadata": {},
   "outputs": [
    {
     "data": {
      "text/plain": [
       "array([[  0,   1,   2,   3],\n",
       "       [  4,   5,   6,   7],\n",
       "       [  8,   9,  10, 200],\n",
       "       [ 12,  13,  14,  15],\n",
       "       [ 16,  17,  18,  19],\n",
       "       [ 20,  21,  22,  23],\n",
       "       [ 24,  25,  26,  27],\n",
       "       [ 28,  29,  30,  31]])"
      ]
     },
     "execution_count": 31,
     "metadata": {},
     "output_type": "execute_result"
    }
   ],
   "source": [
    "arr2"
   ]
  },
  {
   "cell_type": "code",
   "execution_count": 39,
   "id": "ac8d1c56",
   "metadata": {},
   "outputs": [
    {
     "name": "stdout",
     "output_type": "stream",
     "text": [
      "[[ 4 16]\n",
      " [36 81]]\n",
      "square root of the each element \n",
      " [[2. 4.]\n",
      " [6. 9.]]\n"
     ]
    }
   ],
   "source": [
    "#unary function\n",
    "arr1=np.array([[4,16],[36,81]])\n",
    "print(arr1)\n",
    "print(\"square root of the each element \\n\",np.sqrt(arr1))"
   ]
  },
  {
   "cell_type": "code",
   "execution_count": 43,
   "id": "43f821c5",
   "metadata": {},
   "outputs": [
    {
     "name": "stdout",
     "output_type": "stream",
     "text": [
      "maximum value by element wise: \n",
      " [[5 3 4]\n",
      " [6 2 3]]\n"
     ]
    }
   ],
   "source": [
    "x=np.array([[2,3,4],[6,1,2]])\n",
    "y=np.array([[5,1,2],[4,2,3]])\n",
    "print(\"maximum value by element wise: \\n\",np.maximum(x,y))"
   ]
  },
  {
   "cell_type": "code",
   "execution_count": 3,
   "id": "aeb46f59",
   "metadata": {},
   "outputs": [
    {
     "data": {
      "text/plain": [
       "array([-0.10142999,  1.76676833,  0.58767123,  0.93945103,  0.66588371,\n",
       "       -0.04580209, -0.46645616,  0.99168093, -0.77754259,  1.03130882,\n",
       "        1.86149562,  0.51378824, -0.20966563, -0.26366505,  0.6651435 ,\n",
       "        0.27339907, -1.74479463, -0.02050544, -0.77328218,  0.20252866,\n",
       "       -1.20014995,  1.28353621,  1.35002409,  0.02981644,  0.26710197,\n",
       "        0.58497498, -1.80924204,  0.87735572,  0.01100254,  1.65124581,\n",
       "        0.0770837 , -1.44067496,  0.04712552,  1.42739354, -0.99460728,\n",
       "       -0.33472413, -0.71650906,  0.05095632, -0.3605545 ,  0.90393912,\n",
       "       -0.69777274,  0.27244605,  1.32279358,  0.56460617, -0.14365682,\n",
       "       -0.10089833, -1.54083873,  0.31536236,  0.91537696,  0.36204909,\n",
       "        0.80808889, -0.89373631,  0.58142691, -0.19695086,  0.48410622,\n",
       "        0.70108851, -1.25825166,  0.90835767, -0.54835291, -0.33242749,\n",
       "        0.20220455, -0.5723223 ,  2.63174634,  0.47500857, -0.32012601,\n",
       "        0.16371821, -0.26776892, -1.25808544, -0.38412753,  1.05207615,\n",
       "        0.83755988,  0.39090479, -0.34791486, -0.53565905, -0.23108246,\n",
       "        0.86340776,  1.49225771, -0.73793932, -0.69341305,  1.46814068,\n",
       "       -0.39053555,  0.78240625,  1.55677642,  0.91154463, -0.20433001,\n",
       "       -0.7774984 ,  0.23822802,  0.99028567, -2.29507075, -0.2054565 ,\n",
       "        0.05877601,  0.05167504,  0.38790825,  0.28025574,  1.82528411,\n",
       "        1.66403329, -0.85216716, -0.18383634, -0.02209405, -0.92745525])"
      ]
     },
     "execution_count": 3,
     "metadata": {},
     "output_type": "execute_result"
    }
   ],
   "source": [
    "arr1=np.random.randn(100)\n",
    "arr1"
   ]
  },
  {
   "cell_type": "code",
   "execution_count": 5,
   "id": "2e682ad4",
   "metadata": {},
   "outputs": [
    {
     "data": {
      "text/plain": [
       "43.620575579462965"
      ]
     },
     "execution_count": 5,
     "metadata": {},
     "output_type": "execute_result"
    }
   ],
   "source": [
    "arr1[arr1>0].sum()"
   ]
  },
  {
   "cell_type": "code",
   "execution_count": 13,
   "id": "361f7330",
   "metadata": {},
   "outputs": [],
   "source": [
    "#sort from traditional python\n",
    "arr1=np.array([[13,4,5,11,3],[9,45,1,3,5]])\n",
    "arr1.sort(axis=1)"
   ]
  },
  {
   "cell_type": "code",
   "execution_count": 14,
   "id": "c45f12c5",
   "metadata": {},
   "outputs": [
    {
     "data": {
      "text/plain": [
       "array([[ 3,  4,  5, 11, 13],\n",
       "       [ 1,  3,  5,  9, 45]])"
      ]
     },
     "execution_count": 14,
     "metadata": {},
     "output_type": "execute_result"
    }
   ],
   "source": [
    "arr1"
   ]
  },
  {
   "cell_type": "code",
   "execution_count": 18,
   "id": "abc34c1c",
   "metadata": {},
   "outputs": [
    {
     "name": "stdout",
     "output_type": "stream",
     "text": [
      "[[ 3  4  5 11 13]\n",
      " [ 1  3  5  9 45]]\n"
     ]
    }
   ],
   "source": [
    "# using numpy\n",
    "arr1=np.array([[13,4,5,11,3],[9,45,1,3,5]])\n",
    "sorted_arr1=np.sort(arr1)\n",
    "print(sorted_arr1)"
   ]
  },
  {
   "cell_type": "code",
   "execution_count": 20,
   "id": "66385a5f",
   "metadata": {},
   "outputs": [
    {
     "data": {
      "text/plain": [
       "array(['nidhi', 'niks', 'pokemon'], dtype='<U7')"
      ]
     },
     "execution_count": 20,
     "metadata": {},
     "output_type": "execute_result"
    }
   ],
   "source": [
    "#unique values\n",
    "arr2=np.array([\"nidhi\",\"nidhi\",\"pokemon\",\"pokemon\",\"nidhi\",\"niks\"])\n",
    "np.unique(arr2)"
   ]
  },
  {
   "cell_type": "code",
   "execution_count": 31,
   "id": "74d15730",
   "metadata": {},
   "outputs": [
    {
     "name": "stdout",
     "output_type": "stream",
     "text": [
      "[ 0  1  2  3  4  5  6  7  8  9 10 11 12 13 14 15 16 17 18 19 20 21 22 23\n",
      " 24 25 26 27 28 29 30 31 32 33 34 35]\n"
     ]
    },
    {
     "data": {
      "text/plain": [
       "array([[ 0,  1,  2,  3,  4,  5,  6,  7,  8],\n",
       "       [ 9, 10, 11, 12, 13, 14, 15, 16, 17],\n",
       "       [18, 19, 20, 21, 22, 23, 24, 25, 26],\n",
       "       [27, 28, 29, 30, 31, 32, 33, 34, 35]])"
      ]
     },
     "execution_count": 31,
     "metadata": {},
     "output_type": "execute_result"
    }
   ],
   "source": [
    "arr1=np.arange(36)\n",
    "print(arr1)\n",
    "arr1.reshape((4,-1))"
   ]
  },
  {
   "cell_type": "code",
   "execution_count": 35,
   "id": "12342a44",
   "metadata": {},
   "outputs": [
    {
     "data": {
      "text/plain": [
       "array([2, 8, 6, 4, 2, 3, 4, 7, 5, 4, 8, 8, 5, 4, 7, 4])"
      ]
     },
     "execution_count": 35,
     "metadata": {},
     "output_type": "execute_result"
    }
   ],
   "source": [
    "#reval() and flatten()\n",
    "arr1=np.random.randint(2,10,(4,4))\n",
    "#ravel()\n",
    "arr1.ravel()"
   ]
  },
  {
   "cell_type": "code",
   "execution_count": 36,
   "id": "b5f370aa",
   "metadata": {},
   "outputs": [
    {
     "data": {
      "text/plain": [
       "array([[2, 8, 6, 4],\n",
       "       [2, 3, 4, 7],\n",
       "       [5, 4, 8, 8],\n",
       "       [5, 4, 7, 4]])"
      ]
     },
     "execution_count": 36,
     "metadata": {},
     "output_type": "execute_result"
    }
   ],
   "source": [
    "arr1"
   ]
  },
  {
   "cell_type": "code",
   "execution_count": 37,
   "id": "e7b561ce",
   "metadata": {},
   "outputs": [
    {
     "data": {
      "text/plain": [
       "array([2, 8, 6, 4, 2, 3, 4, 7, 5, 4, 8, 8, 5, 4, 7, 4])"
      ]
     },
     "execution_count": 37,
     "metadata": {},
     "output_type": "execute_result"
    }
   ],
   "source": [
    "arr1.flatten()"
   ]
  },
  {
   "cell_type": "code",
   "execution_count": 38,
   "id": "4e0354ab",
   "metadata": {},
   "outputs": [
    {
     "data": {
      "text/plain": [
       "array([[2, 8, 6, 4],\n",
       "       [2, 3, 4, 7],\n",
       "       [5, 4, 8, 8],\n",
       "       [5, 4, 7, 4]])"
      ]
     },
     "execution_count": 38,
     "metadata": {},
     "output_type": "execute_result"
    }
   ],
   "source": [
    "arr1"
   ]
  },
  {
   "cell_type": "code",
   "execution_count": 45,
   "id": "d9172849",
   "metadata": {},
   "outputs": [
    {
     "name": "stdout",
     "output_type": "stream",
     "text": [
      "[[1 2 3 4 4 3 1 2]\n",
      " [2 3 1 3 5 6 7 6]]\n"
     ]
    }
   ],
   "source": [
    "# concatenate of array\n",
    "a1=np.array([[1,2,3,4],[2,3,1,3]])\n",
    "a2=np.array([[4,3,1,2],[5,6,7,6]])\n",
    "a3=np.concatenate((a1,a2),axis=1)\n",
    "print(a3)"
   ]
  },
  {
   "cell_type": "code",
   "execution_count": 49,
   "id": "7be9eebd",
   "metadata": {},
   "outputs": [
    {
     "name": "stdout",
     "output_type": "stream",
     "text": [
      "hstack: \n",
      " [[1 2 3 4 4 3 1 2]\n",
      " [2 3 1 3 5 6 7 6]]\n",
      "vertical stack \n",
      " [[1 2 3 4]\n",
      " [2 3 1 3]\n",
      " [4 3 1 2]\n",
      " [5 6 7 6]]\n"
     ]
    }
   ],
   "source": [
    "# hstack and vstack\n",
    "a1=np.array([[1,2,3,4],[2,3,1,3]])\n",
    "a2=np.array([[4,3,1,2],[5,6,7,6]])\n",
    "print(\"hstack: \\n\",np.hstack((a1,a2)))\n",
    "print(\"vertical stack \\n\",np.vstack((a1,a2)))"
   ]
  },
  {
   "cell_type": "code",
   "execution_count": null,
   "id": "1a9adccb",
   "metadata": {},
   "outputs": [],
   "source": []
  }
 ],
 "metadata": {
  "kernelspec": {
   "display_name": "Python 3 (ipykernel)",
   "language": "python",
   "name": "python3"
  },
  "language_info": {
   "codemirror_mode": {
    "name": "ipython",
    "version": 3
   },
   "file_extension": ".py",
   "mimetype": "text/x-python",
   "name": "python",
   "nbconvert_exporter": "python",
   "pygments_lexer": "ipython3",
   "version": "3.9.12"
  }
 },
 "nbformat": 4,
 "nbformat_minor": 5
}
