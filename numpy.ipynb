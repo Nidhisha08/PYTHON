{
 "cells": [
  {
   "cell_type": "code",
   "execution_count": 2,
   "id": "264e3beb",
   "metadata": {},
   "outputs": [],
   "source": [
    "import numpy as np"
   ]
  },
  {
   "cell_type": "markdown",
   "id": "7d0051ac",
   "metadata": {},
   "source": [
    "Create an array A with shape (3,3,3) and array B with shape (1,3,3) and perform the \n",
    "following:\n",
    "1. Check the attributes of the array A.\n",
    "2. Create a subarray by accessing sheet 0 (zero), all rows, flip order of all columns.\n",
    "3. Reshape the array A into 2-Dimension array.\n",
    "4. Addition and Multiplication with broadcasting.\n",
    "5. Sum of all the elements, sum of each row and column of array A."
   ]
  },
  {
   "cell_type": "code",
   "execution_count": 47,
   "id": "6c5e5326",
   "metadata": {},
   "outputs": [
    {
     "name": "stdout",
     "output_type": "stream",
     "text": [
      "[[[ 6  6 16]\n",
      "  [16  9  2]\n",
      "  [17 15 16]]\n",
      "\n",
      " [[ 7 16  5]\n",
      "  [17 15  6]\n",
      "  [ 5 16 13]]\n",
      "\n",
      " [[ 3 11  5]\n",
      "  [ 9 10  8]\n",
      "  [18  6 14]]]\n",
      "\n",
      "\n",
      "[[[20 35 21]\n",
      "  [24 28 37]\n",
      "  [34 31 24]]]\n"
     ]
    }
   ],
   "source": [
    "a=np.random.randint(2,20 ,size=(3,3,3))\n",
    "b=np.random.randint(20,40,size=(1,3,3))\n",
    "print(a)\n",
    "print(\"\\n\")\n",
    "print(b)"
   ]
  },
  {
   "cell_type": "code",
   "execution_count": 48,
   "id": "5c8f5f05",
   "metadata": {},
   "outputs": [
    {
     "name": "stdout",
     "output_type": "stream",
     "text": [
      "shape: (3, 3, 3)\n",
      "dimesion 3\n",
      "size 27\n",
      "types int32\n"
     ]
    }
   ],
   "source": [
    "#attribute a\n",
    "print(\"shape:\",a.shape)\n",
    "print(\"dimesion\",a.ndim)\n",
    "print(\"size\",a.size)\n",
    "print(\"types\",a.dtype)"
   ]
  },
  {
   "cell_type": "code",
   "execution_count": 49,
   "id": "afde3cda",
   "metadata": {},
   "outputs": [
    {
     "name": "stdout",
     "output_type": "stream",
     "text": [
      "[[16  6  6]\n",
      " [ 2  9 16]\n",
      " [16 15 17]]\n"
     ]
    }
   ],
   "source": [
    "sub_a=a[0,:,::-1]\n",
    "print(sub_a)"
   ]
  },
  {
   "cell_type": "code",
   "execution_count": 51,
   "id": "f79ab892",
   "metadata": {},
   "outputs": [
    {
     "data": {
      "text/plain": [
       "array([[ 6,  6, 16],\n",
       "       [16,  9,  2],\n",
       "       [17, 15, 16],\n",
       "       [ 7, 16,  5],\n",
       "       [17, 15,  6],\n",
       "       [ 5, 16, 13],\n",
       "       [ 3, 11,  5],\n",
       "       [ 9, 10,  8],\n",
       "       [18,  6, 14]])"
      ]
     },
     "execution_count": 51,
     "metadata": {},
     "output_type": "execute_result"
    }
   ],
   "source": [
    "two_dim=a.reshape((9,3))\n",
    "two_dim"
   ]
  },
  {
   "cell_type": "code",
   "execution_count": 57,
   "id": "e15bc1f2",
   "metadata": {},
   "outputs": [
    {
     "name": "stdout",
     "output_type": "stream",
     "text": [
      "[[[26 41 37]\n",
      "  [40 37 39]\n",
      "  [51 46 40]]\n",
      "\n",
      " [[27 51 26]\n",
      "  [41 43 43]\n",
      "  [39 47 37]]\n",
      "\n",
      " [[23 46 26]\n",
      "  [33 38 45]\n",
      "  [52 37 38]]]\n",
      "(3, 3, 3)\n"
     ]
    }
   ],
   "source": [
    "addition=a+b\n",
    "print(addition)\n",
    "print(addition.shape)"
   ]
  },
  {
   "cell_type": "code",
   "execution_count": 58,
   "id": "d9f1d1fa",
   "metadata": {},
   "outputs": [
    {
     "name": "stdout",
     "output_type": "stream",
     "text": [
      "[[[120 210 336]\n",
      "  [384 252  74]\n",
      "  [578 465 384]]\n",
      "\n",
      " [[140 560 105]\n",
      "  [408 420 222]\n",
      "  [170 496 312]]\n",
      "\n",
      " [[ 60 385 105]\n",
      "  [216 280 296]\n",
      "  [612 186 336]]]\n",
      "(3, 3, 3)\n"
     ]
    }
   ],
   "source": [
    "mul=a*b\n",
    "print(mul)\n",
    "print(mul.shape)"
   ]
  },
  {
   "cell_type": "code",
   "execution_count": 66,
   "id": "6a546230",
   "metadata": {},
   "outputs": [
    {
     "name": "stdout",
     "output_type": "stream",
     "text": [
      "sum of all value in array a:\n",
      " 287\n",
      "sum of the each row of array a:\n",
      " [[39 30 34]\n",
      " [29 47 24]\n",
      " [30 27 27]]\n",
      "sum of the each column of array a:\n",
      " [[28 27 48]\n",
      " [28 38 34]\n",
      " [19 27 38]]\n"
     ]
    }
   ],
   "source": [
    "print(\"sum of all value in array a:\\n\",np.sum(a))\n",
    "print(\"sum of the each row of array a:\\n\",np.sum(a,axis=1))\n",
    "print(\"sum of the each column of array a:\\n\",np.sum(a,axis=2))"
   ]
  },
  {
   "cell_type": "code",
   "execution_count": 71,
   "id": "a42332fb",
   "metadata": {},
   "outputs": [],
   "source": [
    "#practice"
   ]
  },
  {
   "cell_type": "code",
   "execution_count": 77,
   "id": "34cbf8b6",
   "metadata": {},
   "outputs": [
    {
     "data": {
      "text/plain": [
       "array([[ 2,  4,  6,  8, 10],\n",
       "       [12, 14, 16, 18, 20],\n",
       "       [22, 24, 26, 28, 30],\n",
       "       [32, 34, 36, 38, 40]])"
      ]
     },
     "execution_count": 77,
     "metadata": {},
     "output_type": "execute_result"
    }
   ],
   "source": [
    "a1=np.arange(2,42,2)\n",
    "a2=a1.reshape(4,5)\n",
    "a2"
   ]
  },
  {
   "cell_type": "code",
   "execution_count": 79,
   "id": "dd21561a",
   "metadata": {},
   "outputs": [
    {
     "data": {
      "text/plain": [
       "array([[0.15355585, 0.16270479, 0.91028939],\n",
       "       [0.34308936, 0.156922  , 0.2809797 ],\n",
       "       [0.31499937, 0.85561794, 0.48076717]])"
      ]
     },
     "execution_count": 79,
     "metadata": {},
     "output_type": "execute_result"
    }
   ],
   "source": [
    "np.random.rand(3,3)"
   ]
  },
  {
   "cell_type": "code",
   "execution_count": null,
   "id": "9aa3f1ed",
   "metadata": {},
   "outputs": [],
   "source": []
  },
  {
   "cell_type": "code",
   "execution_count": null,
   "id": "68977fe0",
   "metadata": {},
   "outputs": [],
   "source": []
  },
  {
   "cell_type": "code",
   "execution_count": null,
   "id": "eacb552f",
   "metadata": {},
   "outputs": [],
   "source": []
  },
  {
   "cell_type": "code",
   "execution_count": null,
   "id": "0b29268d",
   "metadata": {},
   "outputs": [],
   "source": []
  },
  {
   "cell_type": "code",
   "execution_count": null,
   "id": "a1313921",
   "metadata": {},
   "outputs": [],
   "source": []
  },
  {
   "cell_type": "code",
   "execution_count": null,
   "id": "2fcd78bc",
   "metadata": {},
   "outputs": [],
   "source": []
  },
  {
   "cell_type": "markdown",
   "id": "55cf4c38",
   "metadata": {},
   "source": [
    "Create an array X using a routine of shape (4, 4) with values ranging from -10 to 10 and\n",
    "compute the following:\n",
    "1. Matrix rank of array\n",
    "2. Determinant of an array and round the result for decimal place 1\n",
    "3. Inverse of a matrix\n",
    "4. Eigenvalues and right eigenvectors of a square array\n",
    "5. Create subarrays of x into x1 (first 3 rows & 3 columns) and x2 (last 3 rows & last 3columns) and compute matrix product of two arrays (x1, x2)\n",
    "6. Create subarrays of x into y1 (every other element of row & column) and y2 (everyother element from last row and last column) and compute dot and inner product of (y1, y2)\n",
    "7. Raise a square matrix x1 to the power 3"
   ]
  },
  {
   "cell_type": "code",
   "execution_count": 82,
   "id": "f732bc20",
   "metadata": {},
   "outputs": [
    {
     "name": "stdout",
     "output_type": "stream",
     "text": [
      "[[  2   7   8  -7]\n",
      " [ -1  -3   9  -2]\n",
      " [ -4  -8   6 -10]\n",
      " [ -4  -5  -7   5]]\n"
     ]
    }
   ],
   "source": [
    "x=np.random.randint(-10,10,(4,4))\n",
    "print(x)"
   ]
  },
  {
   "cell_type": "code",
   "execution_count": 87,
   "id": "e7fc15e1",
   "metadata": {},
   "outputs": [
    {
     "name": "stdout",
     "output_type": "stream",
     "text": [
      "rank of the matrix 4\n"
     ]
    }
   ],
   "source": [
    "print(\"rank of the matrix\", np.linalg.matrix_rank(x))"
   ]
  },
  {
   "cell_type": "code",
   "execution_count": 91,
   "id": "4b059594",
   "metadata": {},
   "outputs": [
    {
     "name": "stdout",
     "output_type": "stream",
     "text": [
      "determinent: -2610.0\n"
     ]
    }
   ],
   "source": [
    "print(\"determinent:\",round(np.linalg.det(x),1))"
   ]
  },
  {
   "cell_type": "code",
   "execution_count": 92,
   "id": "608c3414",
   "metadata": {},
   "outputs": [
    {
     "name": "stdout",
     "output_type": "stream",
     "text": [
      "diagonal: [ 2 -3  6  5]\n"
     ]
    }
   ],
   "source": [
    "print(\"diagonal:\",np.diagonal(x))"
   ]
  },
  {
   "cell_type": "code",
   "execution_count": 94,
   "id": "c62f6fea",
   "metadata": {},
   "outputs": [
    {
     "name": "stdout",
     "output_type": "stream",
     "text": [
      "10\n"
     ]
    }
   ],
   "source": [
    "#sum of the diagonal\n",
    "print(sum(np.diagonal(x)))"
   ]
  },
  {
   "cell_type": "code",
   "execution_count": 103,
   "id": "0e9c3117",
   "metadata": {},
   "outputs": [
    {
     "name": "stdout",
     "output_type": "stream",
     "text": [
      "eigen value \n",
      " [-2.88809395+0.j         -0.4477232 +8.08480004j -0.4477232 -8.08480004j\n",
      " 13.78354035+0.j        ]\n",
      "eigen vector \n",
      " [[-0.82041743+0.j          0.53095025+0.j          0.53095025-0.j\n",
      "  -0.68573176+0.j        ]\n",
      " [ 0.51888661+0.j         -0.01107036+0.52248881j -0.01107036-0.52248881j\n",
      "  -0.1873849 +0.j        ]\n",
      " [-0.12962976+0.j         -0.50226383+0.15825172j -0.50226383-0.15825172j\n",
      "  -0.28250402+0.j        ]\n",
      " [-0.20215846+0.j         -0.39942627+0.09011555j -0.39942627-0.09011555j\n",
      "   0.64408877+0.j        ]]\n"
     ]
    }
   ],
   "source": [
    "eig_value,eig_vector=np.linalg.eig(x)\n",
    "print(\"eigen value \\n\",eig_value)\n",
    "print(\"eigen vector \\n\",eig_vector)"
   ]
  },
  {
   "cell_type": "code",
   "execution_count": 120,
   "id": "cd7b734f",
   "metadata": {},
   "outputs": [
    {
     "name": "stdout",
     "output_type": "stream",
     "text": [
      "matrix multiplication:\n",
      " [[-102    4  -34]\n",
      " [ -18  -90   77]\n",
      " [  46 -126  118]]\n"
     ]
    }
   ],
   "source": [
    "x1=x[:3,:3]\n",
    "x2=x[1:,1:]\n",
    "print(\"matrix multiplication:\\n\",np.dot(x1,x2))"
   ]
  },
  {
   "cell_type": "code",
   "execution_count": 125,
   "id": "73c4da89",
   "metadata": {},
   "outputs": [
    {
     "name": "stdout",
     "output_type": "stream",
     "text": [
      "[[ 2  8]\n",
      " [-4  6]] \n",
      "\n",
      "[[ 5 -5]\n",
      " [-2 -3]]\n",
      "inner matrix:\n",
      " [[-30 -28]\n",
      " [-50 -10]]\n"
     ]
    }
   ],
   "source": [
    "y1=x[::2,::2]\n",
    "print(y1,\"\\n\")\n",
    "y2=x[::-2,::-2]\n",
    "print(y2)\n",
    "print(\"inner matrix:\\n\",np.inner(y1,y2))"
   ]
  },
  {
   "cell_type": "code",
   "execution_count": 126,
   "id": "84ac3251",
   "metadata": {},
   "outputs": [
    {
     "name": "stdout",
     "output_type": "stream",
     "text": [
      "[[   8  343  512]\n",
      " [  -1  -27  729]\n",
      " [ -64 -512  216]]\n"
     ]
    }
   ],
   "source": [
    "print(np.power(x1,3))"
   ]
  },
  {
   "cell_type": "markdown",
   "id": "afdf6eb8",
   "metadata": {},
   "source": [
    "Create a structured array with the columns specified in the table below and perform the \n",
    "following:\n",
    "1. Create a copy of the original array and perform the operations on it.\n",
    "2. Sort the array by ‘Salary’ column in descending order.\n",
    "3. Create an array by accessing ‘Age’ column and perform an indirect sort on it to return array of indices, using these indices construct a sorted array via fancy indexing.\n",
    "4. Create a subset of array where ‘Experience’ is greater than 20 (use where() function).\n",
    "5. Create an array ‘Incentive’ by adding 200 to the salary for those who are having work experience more than 20 years.\n",
    "6. Access ‘Name’, ‘Gender’ and ‘Age’ columns at once using a list of field names.\n",
    "7. Access last two names of the array ‘Name’.\n",
    "8. Use shorter syntax method to display the minimum, average, maximum and standard deviation of the salary.\n",
    "9. Are all of the employees male?\n",
    "10. How many employees are there with working experience between 15.2 and 24.5?\n"
   ]
  },
  {
   "cell_type": "code",
   "execution_count": 188,
   "id": "347b7ca0",
   "metadata": {},
   "outputs": [
    {
     "name": "stdout",
     "output_type": "stream",
     "text": [
      "[(b'cathy', b'F', 45, 15.5, 2711) (b'Xavier', b'M', 78,  9.2, 3420)\n",
      " (b'Alexander', b'M', 61, 24.1, 3275) (b'Andrew', b'M', 44, 15.6, 5988)\n",
      " (b'isabelle', b'F', 45, 15.9, 7444) (b'Natasha', b'F', 61, 24.5, 1646)\n",
      " (b'Henry', b'M', 60, 24.5, 1646) (b'David', b'M', 47, 15.3, 9120)]\n"
     ]
    }
   ],
   "source": [
    "dt=np.dtype([('Name','S20'),('Gender','S20'),('Age','i4'),('Experience','float64'),('Salary','i')])\n",
    "p_table= np.array([('cathy','F',45,15.5,2711), \n",
    " ('Xavier','M',78,9.2,3420), \n",
    " ('Alexander','M',61,24.1,3275), \n",
    " ('Andrew','M',44,15.6,5988), \n",
    " ('isabelle','F',45,15.9,7444),\n",
    " ('Natasha','F',61,24.5,1646), \n",
    " ('Henry','M',60,24.5,1646), \n",
    " ('David','M',47,15.3,9120)], dtype=dt) \n",
    "print(p_table)"
   ]
  },
  {
   "cell_type": "code",
   "execution_count": 189,
   "id": "5271ba0b",
   "metadata": {},
   "outputs": [],
   "source": [
    "b=p_table.copy()"
   ]
  },
  {
   "cell_type": "code",
   "execution_count": 190,
   "id": "a18d0388",
   "metadata": {},
   "outputs": [
    {
     "data": {
      "text/plain": [
       "array([(b'David', b'M', 47, 15.3, 9120),\n",
       "       (b'isabelle', b'F', 45, 15.9, 7444),\n",
       "       (b'Andrew', b'M', 44, 15.6, 5988),\n",
       "       (b'Xavier', b'M', 78,  9.2, 3420),\n",
       "       (b'Alexander', b'M', 61, 24.1, 3275),\n",
       "       (b'cathy', b'F', 45, 15.5, 2711), (b'Henry', b'M', 60, 24.5, 1646),\n",
       "       (b'Natasha', b'F', 61, 24.5, 1646)],\n",
       "      dtype=[('Name', 'S20'), ('Gender', 'S20'), ('Age', '<i4'), ('Experience', '<f8'), ('Salary', '<i4')])"
      ]
     },
     "execution_count": 190,
     "metadata": {},
     "output_type": "execute_result"
    }
   ],
   "source": [
    "(b[np.argsort(b[\"Salary\"])])[::-1]"
   ]
  },
  {
   "cell_type": "code",
   "execution_count": 191,
   "id": "f2d7bb5c",
   "metadata": {},
   "outputs": [
    {
     "data": {
      "text/plain": [
       "array([(b'Andrew', b'M', 44, 15.6, 5988),\n",
       "       (b'cathy', b'F', 45, 15.5, 2711),\n",
       "       (b'isabelle', b'F', 45, 15.9, 7444),\n",
       "       (b'David', b'M', 47, 15.3, 9120), (b'Henry', b'M', 60, 24.5, 1646),\n",
       "       (b'Alexander', b'M', 61, 24.1, 3275),\n",
       "       (b'Natasha', b'F', 61, 24.5, 1646),\n",
       "       (b'Xavier', b'M', 78,  9.2, 3420)],\n",
       "      dtype=[('Name', 'S20'), ('Gender', 'S20'), ('Age', '<i4'), ('Experience', '<f8'), ('Salary', '<i4')])"
      ]
     },
     "execution_count": 191,
     "metadata": {},
     "output_type": "execute_result"
    }
   ],
   "source": [
    "#fancy indexing\n",
    "age_1=b[\"Age\"]\n",
    "ind=np.argsort(age_1)\n",
    "b[ind]"
   ]
  },
  {
   "cell_type": "code",
   "execution_count": 192,
   "id": "22c72abc",
   "metadata": {},
   "outputs": [
    {
     "data": {
      "text/plain": [
       "array([(b'Alexander', b'M', 61, 24.1, 3275),\n",
       "       (b'Natasha', b'F', 61, 24.5, 1646),\n",
       "       (b'Henry', b'M', 60, 24.5, 1646)],\n",
       "      dtype=[('Name', 'S20'), ('Gender', 'S20'), ('Age', '<i4'), ('Experience', '<f8'), ('Salary', '<i4')])"
      ]
     },
     "execution_count": 192,
     "metadata": {},
     "output_type": "execute_result"
    }
   ],
   "source": [
    "b[np.where(b[\"Experience\"]>20)]"
   ]
  },
  {
   "cell_type": "code",
   "execution_count": 193,
   "id": "83144d95",
   "metadata": {},
   "outputs": [
    {
     "data": {
      "text/plain": [
       "array([3475, 1846, 1846], dtype=int32)"
      ]
     },
     "execution_count": 193,
     "metadata": {},
     "output_type": "execute_result"
    }
   ],
   "source": [
    "b[np.where(b[\"Experience\"]>20)][\"Salary\"]+200"
   ]
  },
  {
   "cell_type": "code",
   "execution_count": 194,
   "id": "de58dfdf",
   "metadata": {},
   "outputs": [
    {
     "data": {
      "text/plain": [
       "array([(b'cathy', b'F', 45), (b'Xavier', b'M', 78),\n",
       "       (b'Alexander', b'M', 61), (b'Andrew', b'M', 44),\n",
       "       (b'isabelle', b'F', 45), (b'Natasha', b'F', 61),\n",
       "       (b'Henry', b'M', 60), (b'David', b'M', 47)],\n",
       "      dtype={'names':['Name','Gender','Age'], 'formats':['S20','S20','<i4'], 'offsets':[0,20,40], 'itemsize':56})"
      ]
     },
     "execution_count": 194,
     "metadata": {},
     "output_type": "execute_result"
    }
   ],
   "source": [
    "b[[\"Name\",\"Gender\",\"Age\"]]"
   ]
  },
  {
   "cell_type": "code",
   "execution_count": 195,
   "id": "8db009be",
   "metadata": {},
   "outputs": [
    {
     "data": {
      "text/plain": [
       "array([b'Henry', b'David'], dtype='|S20')"
      ]
     },
     "execution_count": 195,
     "metadata": {},
     "output_type": "execute_result"
    }
   ],
   "source": [
    "b[\"Name\"][-2:]"
   ]
  },
  {
   "cell_type": "code",
   "execution_count": 196,
   "id": "9e208f64",
   "metadata": {},
   "outputs": [
    {
     "data": {
      "text/plain": [
       "array([(b'cathy', b'F', 45), (b'Xavier', b'M', 78)],\n",
       "      dtype={'names':['Name','Gender','Age'], 'formats':['S20','S20','<i4'], 'offsets':[0,20,40], 'itemsize':56})"
      ]
     },
     "execution_count": 196,
     "metadata": {},
     "output_type": "execute_result"
    }
   ],
   "source": [
    "b[[\"Name\",\"Gender\",\"Age\"]][:2]"
   ]
  },
  {
   "cell_type": "code",
   "execution_count": 197,
   "id": "8fce61fd",
   "metadata": {},
   "outputs": [
    {
     "name": "stdout",
     "output_type": "stream",
     "text": [
      "minimum of salary 1646\n",
      "maximum of salary 9120\n",
      "average of salary 4406.25\n",
      "standard deviation of salary 2605.608\n"
     ]
    }
   ],
   "source": [
    "print(\"minimum of salary\",np.min(b[\"Salary\"]))\n",
    "print(\"maximum of salary\",np.max(b[\"Salary\"]))\n",
    "print(\"average of salary\",np.average(b[\"Salary\"]))\n",
    "print(\"standard deviation of salary\",round(np.std(b[\"Salary\"]),4))"
   ]
  },
  {
   "cell_type": "code",
   "execution_count": 198,
   "id": "7cb22929",
   "metadata": {},
   "outputs": [
    {
     "data": {
      "text/plain": [
       "array([], shape=(0, 8),\n",
       "      dtype=[('Name', 'S20'), ('Gender', 'S20'), ('Age', '<i4'), ('Experience', '<f8'), ('Salary', '<i4')])"
      ]
     },
     "execution_count": 198,
     "metadata": {},
     "output_type": "execute_result"
    }
   ],
   "source": [
    "b[b[\"Gender\"]==\"M\"]"
   ]
  },
  {
   "cell_type": "code",
   "execution_count": 204,
   "id": "ee29dd78",
   "metadata": {},
   "outputs": [
    {
     "name": "stdout",
     "output_type": "stream",
     "text": [
      "number of persons experience between 15.2 and 24.5 is : 5\n"
     ]
    }
   ],
   "source": [
    "print(\"number of persons experience between 15.2 and 24.5 is :\",np.count_nonzero(b[(b[\"Experience\"]>15.2)&(b[\"Experience\"]<24.5)]))"
   ]
  },
  {
   "cell_type": "code",
   "execution_count": 206,
   "id": "893cf93f",
   "metadata": {},
   "outputs": [
    {
     "data": {
      "text/plain": [
       "array([(b'cathy', b'F', 45, 15.5, 2711),\n",
       "       (b'Xavier', b'M', 78,  9.2, 3420),\n",
       "       (b'Alexander', b'M', 61, 24.1, 3275),\n",
       "       (b'Andrew', b'M', 44, 15.6, 5988),\n",
       "       (b'isabelle', b'F', 45, 15.9, 7444),\n",
       "       (b'Natasha', b'F', 61, 24.5, 1646),\n",
       "       (b'Henry', b'M', 60, 24.5, 1646), (b'David', b'M', 47, 15.3, 9120)],\n",
       "      dtype=[('Name', 'S20'), ('Gender', 'S20'), ('Age', '<i4'), ('Experience', '<f8'), ('Salary', '<i4')])"
      ]
     },
     "execution_count": 206,
     "metadata": {},
     "output_type": "execute_result"
    }
   ],
   "source": [
    "b"
   ]
  },
  {
   "cell_type": "code",
   "execution_count": 210,
   "id": "ef500a00",
   "metadata": {},
   "outputs": [
    {
     "data": {
      "text/plain": [
       "array([b'Xavier', b'Alexander', b'Natasha', b'Henry'], dtype='|S20')"
      ]
     },
     "execution_count": 210,
     "metadata": {},
     "output_type": "execute_result"
    }
   ],
   "source": [
    "# name of peoples who age is greater than 50\n",
    "b[b[\"Age\"]>50][\"Name\"]"
   ]
  },
  {
   "cell_type": "code",
   "execution_count": null,
   "id": "a142f85b",
   "metadata": {},
   "outputs": [],
   "source": []
  }
 ],
 "metadata": {
  "kernelspec": {
   "display_name": "Python 3 (ipykernel)",
   "language": "python",
   "name": "python3"
  },
  "language_info": {
   "codemirror_mode": {
    "name": "ipython",
    "version": 3
   },
   "file_extension": ".py",
   "mimetype": "text/x-python",
   "name": "python",
   "nbconvert_exporter": "python",
   "pygments_lexer": "ipython3",
   "version": "3.9.12"
  }
 },
 "nbformat": 4,
 "nbformat_minor": 5
}
