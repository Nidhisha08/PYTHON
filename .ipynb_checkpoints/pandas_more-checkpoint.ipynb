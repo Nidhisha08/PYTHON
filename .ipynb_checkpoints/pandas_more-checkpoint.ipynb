{
 "cells": [
  {
   "cell_type": "code",
   "execution_count": 1,
   "id": "b512c671",
   "metadata": {},
   "outputs": [],
   "source": [
    "import numpy as np\n",
    "import pandas as pd"
   ]
  },
  {
   "cell_type": "code",
   "execution_count": 6,
   "id": "5d69d442",
   "metadata": {},
   "outputs": [
    {
     "data": {
      "text/html": [
       "<div>\n",
       "<style scoped>\n",
       "    .dataframe tbody tr th:only-of-type {\n",
       "        vertical-align: middle;\n",
       "    }\n",
       "\n",
       "    .dataframe tbody tr th {\n",
       "        vertical-align: top;\n",
       "    }\n",
       "\n",
       "    .dataframe thead th {\n",
       "        text-align: right;\n",
       "    }\n",
       "</style>\n",
       "<table border=\"1\" class=\"dataframe\">\n",
       "  <thead>\n",
       "    <tr style=\"text-align: right;\">\n",
       "      <th></th>\n",
       "      <th>key1</th>\n",
       "      <th>key2</th>\n",
       "      <th>d1</th>\n",
       "      <th>d2</th>\n",
       "    </tr>\n",
       "  </thead>\n",
       "  <tbody>\n",
       "    <tr>\n",
       "      <th>0</th>\n",
       "      <td>a</td>\n",
       "      <td>one</td>\n",
       "      <td>6</td>\n",
       "      <td>25</td>\n",
       "    </tr>\n",
       "    <tr>\n",
       "      <th>1</th>\n",
       "      <td>c</td>\n",
       "      <td>one</td>\n",
       "      <td>12</td>\n",
       "      <td>32</td>\n",
       "    </tr>\n",
       "    <tr>\n",
       "      <th>2</th>\n",
       "      <td>b</td>\n",
       "      <td>three</td>\n",
       "      <td>11</td>\n",
       "      <td>28</td>\n",
       "    </tr>\n",
       "    <tr>\n",
       "      <th>3</th>\n",
       "      <td>b</td>\n",
       "      <td>two</td>\n",
       "      <td>14</td>\n",
       "      <td>42</td>\n",
       "    </tr>\n",
       "    <tr>\n",
       "      <th>4</th>\n",
       "      <td>a</td>\n",
       "      <td>three</td>\n",
       "      <td>10</td>\n",
       "      <td>42</td>\n",
       "    </tr>\n",
       "    <tr>\n",
       "      <th>5</th>\n",
       "      <td>c</td>\n",
       "      <td>one</td>\n",
       "      <td>12</td>\n",
       "      <td>41</td>\n",
       "    </tr>\n",
       "    <tr>\n",
       "      <th>6</th>\n",
       "      <td>b</td>\n",
       "      <td>two</td>\n",
       "      <td>5</td>\n",
       "      <td>46</td>\n",
       "    </tr>\n",
       "  </tbody>\n",
       "</table>\n",
       "</div>"
      ],
      "text/plain": [
       "  key1   key2  d1  d2\n",
       "0    a    one   6  25\n",
       "1    c    one  12  32\n",
       "2    b  three  11  28\n",
       "3    b    two  14  42\n",
       "4    a  three  10  42\n",
       "5    c    one  12  41\n",
       "6    b    two   5  46"
      ]
     },
     "execution_count": 6,
     "metadata": {},
     "output_type": "execute_result"
    }
   ],
   "source": [
    "df=pd.DataFrame({\"key1\":[\"a\",\"c\",\"b\",\"b\",\"a\",\"c\",\"b\"],\n",
    "                \"key2\":[\"one\",\"one\",\"three\",\"two\",\"three\",\"one\",\"two\"],\n",
    "                \"d1\":np.random.randint(1,20,7),\n",
    "                \"d2\":np.random.randint(20,50,7)})\n",
    "df"
   ]
  },
  {
   "cell_type": "code",
   "execution_count": 10,
   "id": "7c485b8d",
   "metadata": {},
   "outputs": [],
   "source": [
    "grouped=df[\"d1\"].groupby(df[\"key1\"])"
   ]
  },
  {
   "cell_type": "code",
   "execution_count": 11,
   "id": "0dbaa03d",
   "metadata": {},
   "outputs": [
    {
     "data": {
      "text/plain": [
       "key1\n",
       "a     8.0\n",
       "b    10.0\n",
       "c    12.0\n",
       "Name: d1, dtype: float64"
      ]
     },
     "execution_count": 11,
     "metadata": {},
     "output_type": "execute_result"
    }
   ],
   "source": [
    "grouped.mean()"
   ]
  },
  {
   "cell_type": "code",
   "execution_count": 14,
   "id": "b3635da7",
   "metadata": {},
   "outputs": [
    {
     "data": {
      "text/plain": [
       "key1\n",
       "a     8.0\n",
       "b    10.0\n",
       "c    12.0\n",
       "Name: d1, dtype: float64"
      ]
     },
     "execution_count": 14,
     "metadata": {},
     "output_type": "execute_result"
    }
   ],
   "source": [
    "means=df[\"d1\"].groupby(df[\"key1\"]).mean()\n",
    "means"
   ]
  },
  {
   "cell_type": "code",
   "execution_count": 18,
   "id": "26dd75ce",
   "metadata": {},
   "outputs": [],
   "source": [
    "s1=pd.Series([\"ind\",\"ind\",\"pak\",\"shri\",\"pak\",\"ind\",\"pak\"])\n"
   ]
  },
  {
   "cell_type": "code",
   "execution_count": 19,
   "id": "82e9cc8b",
   "metadata": {},
   "outputs": [
    {
     "data": {
      "text/plain": [
       "ind     10.000000\n",
       "pak      8.666667\n",
       "shri    14.000000\n",
       "Name: d1, dtype: float64"
      ]
     },
     "execution_count": 19,
     "metadata": {},
     "output_type": "execute_result"
    }
   ],
   "source": [
    "df[\"d1\"].groupby(s1).mean()"
   ]
  },
  {
   "cell_type": "code",
   "execution_count": 20,
   "id": "9e0fe3e8",
   "metadata": {},
   "outputs": [
    {
     "data": {
      "text/html": [
       "<div>\n",
       "<style scoped>\n",
       "    .dataframe tbody tr th:only-of-type {\n",
       "        vertical-align: middle;\n",
       "    }\n",
       "\n",
       "    .dataframe tbody tr th {\n",
       "        vertical-align: top;\n",
       "    }\n",
       "\n",
       "    .dataframe thead th {\n",
       "        text-align: right;\n",
       "    }\n",
       "</style>\n",
       "<table border=\"1\" class=\"dataframe\">\n",
       "  <thead>\n",
       "    <tr style=\"text-align: right;\">\n",
       "      <th></th>\n",
       "      <th>d1</th>\n",
       "      <th>d2</th>\n",
       "    </tr>\n",
       "    <tr>\n",
       "      <th>key1</th>\n",
       "      <th></th>\n",
       "      <th></th>\n",
       "    </tr>\n",
       "  </thead>\n",
       "  <tbody>\n",
       "    <tr>\n",
       "      <th>a</th>\n",
       "      <td>8.0</td>\n",
       "      <td>33.500000</td>\n",
       "    </tr>\n",
       "    <tr>\n",
       "      <th>b</th>\n",
       "      <td>10.0</td>\n",
       "      <td>38.666667</td>\n",
       "    </tr>\n",
       "    <tr>\n",
       "      <th>c</th>\n",
       "      <td>12.0</td>\n",
       "      <td>36.500000</td>\n",
       "    </tr>\n",
       "  </tbody>\n",
       "</table>\n",
       "</div>"
      ],
      "text/plain": [
       "        d1         d2\n",
       "key1                 \n",
       "a      8.0  33.500000\n",
       "b     10.0  38.666667\n",
       "c     12.0  36.500000"
      ]
     },
     "execution_count": 20,
     "metadata": {},
     "output_type": "execute_result"
    }
   ],
   "source": [
    "df.groupby(\"key1\").mean()"
   ]
  },
  {
   "cell_type": "code",
   "execution_count": 48,
   "id": "c241bbca",
   "metadata": {},
   "outputs": [],
   "source": [
    "a=pd.DataFrame(df[\"d1\"].groupby(df[\"key1\"]).size())\n"
   ]
  },
  {
   "cell_type": "code",
   "execution_count": 25,
   "id": "751929ec",
   "metadata": {},
   "outputs": [],
   "source": [
    "#missing vaule in the data will be excluded from the result"
   ]
  },
  {
   "cell_type": "markdown",
   "id": "5c7f8e1f",
   "metadata": {},
   "source": [
    "### iterating over the groups"
   ]
  },
  {
   "cell_type": "code",
   "execution_count": 50,
   "id": "092f64b8",
   "metadata": {},
   "outputs": [
    {
     "name": "stdout",
     "output_type": "stream",
     "text": [
      "8.0\n",
      "10.0\n",
      "12.0\n"
     ]
    }
   ],
   "source": [
    "for val in (df[\"d1\"].groupby(df[\"key1\"]).mean()):\n",
    "    print(val)\n",
    "    #print(mean)"
   ]
  },
  {
   "cell_type": "code",
   "execution_count": 35,
   "id": "03b6d9ee",
   "metadata": {},
   "outputs": [
    {
     "name": "stdout",
     "output_type": "stream",
     "text": [
      "a\n",
      "  key1   key2  d1  d2\n",
      "0    a    one   6  25\n",
      "4    a  three  10  42\n",
      "b\n",
      "  key1   key2  d1  d2\n",
      "2    b  three  11  28\n",
      "3    b    two  14  42\n",
      "6    b    two   5  46\n",
      "c\n",
      "  key1 key2  d1  d2\n",
      "1    c  one  12  32\n",
      "5    c  one  12  41\n"
     ]
    }
   ],
   "source": [
    "for i,j in df.groupby(\"key1\"):\n",
    "    print(i)\n",
    "    print(j)"
   ]
  },
  {
   "cell_type": "code",
   "execution_count": 39,
   "id": "3730d944",
   "metadata": {},
   "outputs": [
    {
     "name": "stdout",
     "output_type": "stream",
     "text": [
      "a one\n",
      "  key1 key2  d1  d2\n",
      "0    a  one   6  25\n",
      "a three\n",
      "  key1   key2  d1  d2\n",
      "4    a  three  10  42\n",
      "b three\n",
      "  key1   key2  d1  d2\n",
      "2    b  three  11  28\n",
      "b two\n",
      "  key1 key2  d1  d2\n",
      "3    b  two  14  42\n",
      "6    b  two   5  46\n",
      "c one\n",
      "  key1 key2  d1  d2\n",
      "1    c  one  12  32\n",
      "5    c  one  12  41\n"
     ]
    }
   ],
   "source": [
    "for (j,k),i in df.groupby([\"key1\",\"key2\"]):\n",
    "    print(j,k)\n",
    "    print(i)"
   ]
  },
  {
   "cell_type": "code",
   "execution_count": 59,
   "id": "647847eb",
   "metadata": {},
   "outputs": [
    {
     "data": {
      "text/plain": [
       "{'a': 2, 'b': 3, 'c': 2}"
      ]
     },
     "execution_count": 59,
     "metadata": {},
     "output_type": "execute_result"
    }
   ],
   "source": [
    "a1=dict(df[\"d1\"].groupby(df[\"key1\"]).size())\n",
    "a1"
   ]
  },
  {
   "cell_type": "code",
   "execution_count": 69,
   "id": "8c31428c",
   "metadata": {},
   "outputs": [
    {
     "name": "stdout",
     "output_type": "stream",
     "text": [
      "2\n",
      "a\n",
      "3\n",
      "b\n",
      "2\n",
      "c\n"
     ]
    }
   ],
   "source": [
    "for key,val in a1.items():\n",
    "    print(val)\n",
    "    print(key)"
   ]
  },
  {
   "cell_type": "code",
   "execution_count": 70,
   "id": "200f24f7",
   "metadata": {},
   "outputs": [
    {
     "data": {
      "text/html": [
       "<div>\n",
       "<style scoped>\n",
       "    .dataframe tbody tr th:only-of-type {\n",
       "        vertical-align: middle;\n",
       "    }\n",
       "\n",
       "    .dataframe tbody tr th {\n",
       "        vertical-align: top;\n",
       "    }\n",
       "\n",
       "    .dataframe thead th {\n",
       "        text-align: right;\n",
       "    }\n",
       "</style>\n",
       "<table border=\"1\" class=\"dataframe\">\n",
       "  <thead>\n",
       "    <tr style=\"text-align: right;\">\n",
       "      <th></th>\n",
       "      <th>key1</th>\n",
       "      <th>key2</th>\n",
       "      <th>d1</th>\n",
       "      <th>d2</th>\n",
       "    </tr>\n",
       "  </thead>\n",
       "  <tbody>\n",
       "    <tr>\n",
       "      <th>0</th>\n",
       "      <td>a</td>\n",
       "      <td>one</td>\n",
       "      <td>6</td>\n",
       "      <td>25</td>\n",
       "    </tr>\n",
       "    <tr>\n",
       "      <th>1</th>\n",
       "      <td>c</td>\n",
       "      <td>one</td>\n",
       "      <td>12</td>\n",
       "      <td>32</td>\n",
       "    </tr>\n",
       "    <tr>\n",
       "      <th>2</th>\n",
       "      <td>b</td>\n",
       "      <td>three</td>\n",
       "      <td>11</td>\n",
       "      <td>28</td>\n",
       "    </tr>\n",
       "    <tr>\n",
       "      <th>3</th>\n",
       "      <td>b</td>\n",
       "      <td>two</td>\n",
       "      <td>14</td>\n",
       "      <td>42</td>\n",
       "    </tr>\n",
       "    <tr>\n",
       "      <th>4</th>\n",
       "      <td>a</td>\n",
       "      <td>three</td>\n",
       "      <td>10</td>\n",
       "      <td>42</td>\n",
       "    </tr>\n",
       "    <tr>\n",
       "      <th>5</th>\n",
       "      <td>c</td>\n",
       "      <td>one</td>\n",
       "      <td>12</td>\n",
       "      <td>41</td>\n",
       "    </tr>\n",
       "    <tr>\n",
       "      <th>6</th>\n",
       "      <td>b</td>\n",
       "      <td>two</td>\n",
       "      <td>5</td>\n",
       "      <td>46</td>\n",
       "    </tr>\n",
       "  </tbody>\n",
       "</table>\n",
       "</div>"
      ],
      "text/plain": [
       "  key1   key2  d1  d2\n",
       "0    a    one   6  25\n",
       "1    c    one  12  32\n",
       "2    b  three  11  28\n",
       "3    b    two  14  42\n",
       "4    a  three  10  42\n",
       "5    c    one  12  41\n",
       "6    b    two   5  46"
      ]
     },
     "execution_count": 70,
     "metadata": {},
     "output_type": "execute_result"
    }
   ],
   "source": [
    "df"
   ]
  },
  {
   "cell_type": "code",
   "execution_count": 76,
   "id": "6525f6b3",
   "metadata": {},
   "outputs": [],
   "source": [
    "dtype=dict(list(df.groupby(df.dtypes,axis=1)))"
   ]
  },
  {
   "cell_type": "code",
   "execution_count": 81,
   "id": "fed1565a",
   "metadata": {},
   "outputs": [
    {
     "name": "stdout",
     "output_type": "stream",
     "text": [
      "int32\n",
      "object\n"
     ]
    }
   ],
   "source": [
    "for i,j in dtype.items():\n",
    "    print(i)\n",
    "    #print(j)"
   ]
  },
  {
   "cell_type": "code",
   "execution_count": null,
   "id": "58c89806",
   "metadata": {},
   "outputs": [],
   "source": []
  },
  {
   "cell_type": "code",
   "execution_count": 108,
   "id": "f928baf9",
   "metadata": {},
   "outputs": [],
   "source": [
    "# if the data is passed in scalar will return scalar output"
   ]
  },
  {
   "cell_type": "code",
   "execution_count": 109,
   "id": "9768333b",
   "metadata": {},
   "outputs": [
    {
     "name": "stdout",
     "output_type": "stream",
     "text": [
      "{'a': 0     6\n",
      "4    10\n",
      "Name: d1, dtype: int32, 'b': 2    11\n",
      "3    14\n",
      "6     5\n",
      "Name: d1, dtype: int32, 'c': 1    12\n",
      "5    12\n",
      "Name: d1, dtype: int32}\n",
      "****************************************************************************************************\n"
     ]
    },
    {
     "data": {
      "text/plain": [
       "{'a':    d1\n",
       " 0   6\n",
       " 4  10,\n",
       " 'b':    d1\n",
       " 2  11\n",
       " 3  14\n",
       " 6   5,\n",
       " 'c':    d1\n",
       " 1  12\n",
       " 5  12}"
      ]
     },
     "execution_count": 109,
     "metadata": {},
     "output_type": "execute_result"
    }
   ],
   "source": [
    "print(dict(list(df.groupby(\"key1\")[\"d1\"])))\n",
    "print(\"*\"*100)\n",
    "dict(list(df.groupby(\"key1\")[[\"d1\"]]))"
   ]
  },
  {
   "cell_type": "code",
   "execution_count": null,
   "id": "8f01f6e9",
   "metadata": {},
   "outputs": [],
   "source": []
  },
  {
   "cell_type": "code",
   "execution_count": 110,
   "id": "481a61d4",
   "metadata": {},
   "outputs": [
    {
     "name": "stdout",
     "output_type": "stream",
     "text": [
      "[('a', 0     6\n",
      "4    10\n",
      "Name: d1, dtype: int32), ('b', 2    11\n",
      "3    14\n",
      "6     5\n",
      "Name: d1, dtype: int32), ('c', 1    12\n",
      "5    12\n",
      "Name: d1, dtype: int32)]\n",
      "****************************************************************************************************\n",
      "[('a',    d1\n",
      "0   6\n",
      "4  10), ('b',    d1\n",
      "2  11\n",
      "3  14\n",
      "6   5), ('c',    d1\n",
      "1  12\n",
      "5  12)]\n"
     ]
    }
   ],
   "source": [
    "print(list(df[\"d1\"].groupby(df[\"key1\"])))\n",
    "print(\"*\"*100)\n",
    "print(list(df[[\"d1\"]].groupby(df[\"key1\"])))"
   ]
  },
  {
   "cell_type": "code",
   "execution_count": 111,
   "id": "9521c8ca",
   "metadata": {},
   "outputs": [
    {
     "data": {
      "text/html": [
       "<div>\n",
       "<style scoped>\n",
       "    .dataframe tbody tr th:only-of-type {\n",
       "        vertical-align: middle;\n",
       "    }\n",
       "\n",
       "    .dataframe tbody tr th {\n",
       "        vertical-align: top;\n",
       "    }\n",
       "\n",
       "    .dataframe thead th {\n",
       "        text-align: right;\n",
       "    }\n",
       "</style>\n",
       "<table border=\"1\" class=\"dataframe\">\n",
       "  <thead>\n",
       "    <tr style=\"text-align: right;\">\n",
       "      <th></th>\n",
       "      <th>d2</th>\n",
       "    </tr>\n",
       "    <tr>\n",
       "      <th>key1</th>\n",
       "      <th></th>\n",
       "    </tr>\n",
       "  </thead>\n",
       "  <tbody>\n",
       "    <tr>\n",
       "      <th>a</th>\n",
       "      <td>33.500000</td>\n",
       "    </tr>\n",
       "    <tr>\n",
       "      <th>b</th>\n",
       "      <td>38.666667</td>\n",
       "    </tr>\n",
       "    <tr>\n",
       "      <th>c</th>\n",
       "      <td>36.500000</td>\n",
       "    </tr>\n",
       "  </tbody>\n",
       "</table>\n",
       "</div>"
      ],
      "text/plain": [
       "             d2\n",
       "key1           \n",
       "a     33.500000\n",
       "b     38.666667\n",
       "c     36.500000"
      ]
     },
     "execution_count": 111,
     "metadata": {},
     "output_type": "execute_result"
    }
   ],
   "source": [
    "df.groupby(\"key1\")[[\"d2\"]].mean()"
   ]
  },
  {
   "cell_type": "code",
   "execution_count": 112,
   "id": "88978212",
   "metadata": {},
   "outputs": [
    {
     "data": {
      "text/plain": [
       "key2\n",
       "one      32.666667\n",
       "three    35.000000\n",
       "two      44.000000\n",
       "Name: d2, dtype: float64"
      ]
     },
     "execution_count": 112,
     "metadata": {},
     "output_type": "execute_result"
    }
   ],
   "source": [
    "df[\"d2\"].groupby(df[\"key2\"]).mean()"
   ]
  },
  {
   "cell_type": "markdown",
   "id": "4fce8b7f",
   "metadata": {},
   "source": [
    "### grouping with dict and series"
   ]
  },
  {
   "cell_type": "code",
   "execution_count": 176,
   "id": "456d42f2",
   "metadata": {},
   "outputs": [],
   "source": [
    "df1=pd.DataFrame(np.random.randint(1,300,size=(5,5)),\n",
    "                columns=[\"a\",\"b\",\"c\",\"d\",\"e\"],\n",
    "                index=[\"ind\",\"pak\",\"uk\",\"usa\",\"ger\"])\n",
    "df_copy=df1.copy()"
   ]
  },
  {
   "cell_type": "code",
   "execution_count": 148,
   "id": "9282f107",
   "metadata": {},
   "outputs": [],
   "source": [
    "df1.loc[\"usa\",[\"a\",\"c\"]]=np.nan"
   ]
  },
  {
   "cell_type": "code",
   "execution_count": 149,
   "id": "32969628",
   "metadata": {},
   "outputs": [
    {
     "data": {
      "text/html": [
       "<div>\n",
       "<style scoped>\n",
       "    .dataframe tbody tr th:only-of-type {\n",
       "        vertical-align: middle;\n",
       "    }\n",
       "\n",
       "    .dataframe tbody tr th {\n",
       "        vertical-align: top;\n",
       "    }\n",
       "\n",
       "    .dataframe thead th {\n",
       "        text-align: right;\n",
       "    }\n",
       "</style>\n",
       "<table border=\"1\" class=\"dataframe\">\n",
       "  <thead>\n",
       "    <tr style=\"text-align: right;\">\n",
       "      <th></th>\n",
       "      <th>a</th>\n",
       "      <th>b</th>\n",
       "      <th>c</th>\n",
       "      <th>d</th>\n",
       "      <th>e</th>\n",
       "    </tr>\n",
       "  </thead>\n",
       "  <tbody>\n",
       "    <tr>\n",
       "      <th>ind</th>\n",
       "      <td>297.0</td>\n",
       "      <td>282</td>\n",
       "      <td>56.0</td>\n",
       "      <td>259</td>\n",
       "      <td>250</td>\n",
       "    </tr>\n",
       "    <tr>\n",
       "      <th>pak</th>\n",
       "      <td>212.0</td>\n",
       "      <td>225</td>\n",
       "      <td>289.0</td>\n",
       "      <td>180</td>\n",
       "      <td>163</td>\n",
       "    </tr>\n",
       "    <tr>\n",
       "      <th>uk</th>\n",
       "      <td>141.0</td>\n",
       "      <td>15</td>\n",
       "      <td>291.0</td>\n",
       "      <td>88</td>\n",
       "      <td>196</td>\n",
       "    </tr>\n",
       "    <tr>\n",
       "      <th>usa</th>\n",
       "      <td>NaN</td>\n",
       "      <td>1</td>\n",
       "      <td>NaN</td>\n",
       "      <td>115</td>\n",
       "      <td>9</td>\n",
       "    </tr>\n",
       "    <tr>\n",
       "      <th>ger</th>\n",
       "      <td>127.0</td>\n",
       "      <td>136</td>\n",
       "      <td>68.0</td>\n",
       "      <td>261</td>\n",
       "      <td>56</td>\n",
       "    </tr>\n",
       "  </tbody>\n",
       "</table>\n",
       "</div>"
      ],
      "text/plain": [
       "         a    b      c    d    e\n",
       "ind  297.0  282   56.0  259  250\n",
       "pak  212.0  225  289.0  180  163\n",
       "uk   141.0   15  291.0   88  196\n",
       "usa    NaN    1    NaN  115    9\n",
       "ger  127.0  136   68.0  261   56"
      ]
     },
     "execution_count": 149,
     "metadata": {},
     "output_type": "execute_result"
    }
   ],
   "source": [
    "df1"
   ]
  },
  {
   "cell_type": "code",
   "execution_count": null,
   "id": "c88fd099",
   "metadata": {},
   "outputs": [],
   "source": [
    "#using the dict can done grouping"
   ]
  },
  {
   "cell_type": "code",
   "execution_count": 135,
   "id": "56dcefb5",
   "metadata": {},
   "outputs": [],
   "source": [
    "mapping={\"a\":\"red\",\"b\":\"yellow\",\"c\":\"red\",\"d\":\"purple\",\"e\":\"yellow\",\"f\":\"orange\"}"
   ]
  },
  {
   "cell_type": "code",
   "execution_count": 136,
   "id": "4efa951e",
   "metadata": {},
   "outputs": [],
   "source": [
    "df_col=df1.groupby(mapping,axis=1)"
   ]
  },
  {
   "cell_type": "code",
   "execution_count": 137,
   "id": "88ff7821",
   "metadata": {},
   "outputs": [
    {
     "data": {
      "text/html": [
       "<div>\n",
       "<style scoped>\n",
       "    .dataframe tbody tr th:only-of-type {\n",
       "        vertical-align: middle;\n",
       "    }\n",
       "\n",
       "    .dataframe tbody tr th {\n",
       "        vertical-align: top;\n",
       "    }\n",
       "\n",
       "    .dataframe thead th {\n",
       "        text-align: right;\n",
       "    }\n",
       "</style>\n",
       "<table border=\"1\" class=\"dataframe\">\n",
       "  <thead>\n",
       "    <tr style=\"text-align: right;\">\n",
       "      <th></th>\n",
       "      <th>purple</th>\n",
       "      <th>red</th>\n",
       "      <th>yellow</th>\n",
       "    </tr>\n",
       "  </thead>\n",
       "  <tbody>\n",
       "    <tr>\n",
       "      <th>ind</th>\n",
       "      <td>84.0</td>\n",
       "      <td>375.0</td>\n",
       "      <td>378.0</td>\n",
       "    </tr>\n",
       "    <tr>\n",
       "      <th>pak</th>\n",
       "      <td>75.0</td>\n",
       "      <td>342.0</td>\n",
       "      <td>295.0</td>\n",
       "    </tr>\n",
       "    <tr>\n",
       "      <th>uk</th>\n",
       "      <td>142.0</td>\n",
       "      <td>289.0</td>\n",
       "      <td>225.0</td>\n",
       "    </tr>\n",
       "    <tr>\n",
       "      <th>usa</th>\n",
       "      <td>228.0</td>\n",
       "      <td>0.0</td>\n",
       "      <td>409.0</td>\n",
       "    </tr>\n",
       "    <tr>\n",
       "      <th>ger</th>\n",
       "      <td>47.0</td>\n",
       "      <td>340.0</td>\n",
       "      <td>327.0</td>\n",
       "    </tr>\n",
       "  </tbody>\n",
       "</table>\n",
       "</div>"
      ],
      "text/plain": [
       "     purple    red  yellow\n",
       "ind    84.0  375.0   378.0\n",
       "pak    75.0  342.0   295.0\n",
       "uk    142.0  289.0   225.0\n",
       "usa   228.0    0.0   409.0\n",
       "ger    47.0  340.0   327.0"
      ]
     },
     "execution_count": 137,
     "metadata": {},
     "output_type": "execute_result"
    }
   ],
   "source": [
    "df_col.sum()"
   ]
  },
  {
   "cell_type": "code",
   "execution_count": 138,
   "id": "bcda5405",
   "metadata": {},
   "outputs": [],
   "source": [
    "# using the series same thing can be done"
   ]
  },
  {
   "cell_type": "code",
   "execution_count": 140,
   "id": "91ef9135",
   "metadata": {},
   "outputs": [
    {
     "data": {
      "text/plain": [
       "a       red\n",
       "b    yellow\n",
       "c       red\n",
       "d    purple\n",
       "e    yellow\n",
       "f    orange\n",
       "dtype: object"
      ]
     },
     "execution_count": 140,
     "metadata": {},
     "output_type": "execute_result"
    }
   ],
   "source": [
    "s1=pd.Series(mapping)\n",
    "s1"
   ]
  },
  {
   "cell_type": "code",
   "execution_count": 142,
   "id": "8df548c4",
   "metadata": {},
   "outputs": [
    {
     "data": {
      "text/html": [
       "<div>\n",
       "<style scoped>\n",
       "    .dataframe tbody tr th:only-of-type {\n",
       "        vertical-align: middle;\n",
       "    }\n",
       "\n",
       "    .dataframe tbody tr th {\n",
       "        vertical-align: top;\n",
       "    }\n",
       "\n",
       "    .dataframe thead th {\n",
       "        text-align: right;\n",
       "    }\n",
       "</style>\n",
       "<table border=\"1\" class=\"dataframe\">\n",
       "  <thead>\n",
       "    <tr style=\"text-align: right;\">\n",
       "      <th></th>\n",
       "      <th>purple</th>\n",
       "      <th>red</th>\n",
       "      <th>yellow</th>\n",
       "    </tr>\n",
       "  </thead>\n",
       "  <tbody>\n",
       "    <tr>\n",
       "      <th>ind</th>\n",
       "      <td>84.0</td>\n",
       "      <td>375.0</td>\n",
       "      <td>378.0</td>\n",
       "    </tr>\n",
       "    <tr>\n",
       "      <th>pak</th>\n",
       "      <td>75.0</td>\n",
       "      <td>342.0</td>\n",
       "      <td>295.0</td>\n",
       "    </tr>\n",
       "    <tr>\n",
       "      <th>uk</th>\n",
       "      <td>142.0</td>\n",
       "      <td>289.0</td>\n",
       "      <td>225.0</td>\n",
       "    </tr>\n",
       "    <tr>\n",
       "      <th>usa</th>\n",
       "      <td>228.0</td>\n",
       "      <td>0.0</td>\n",
       "      <td>409.0</td>\n",
       "    </tr>\n",
       "    <tr>\n",
       "      <th>ger</th>\n",
       "      <td>47.0</td>\n",
       "      <td>340.0</td>\n",
       "      <td>327.0</td>\n",
       "    </tr>\n",
       "  </tbody>\n",
       "</table>\n",
       "</div>"
      ],
      "text/plain": [
       "     purple    red  yellow\n",
       "ind    84.0  375.0   378.0\n",
       "pak    75.0  342.0   295.0\n",
       "uk    142.0  289.0   225.0\n",
       "usa   228.0    0.0   409.0\n",
       "ger    47.0  340.0   327.0"
      ]
     },
     "execution_count": 142,
     "metadata": {},
     "output_type": "execute_result"
    }
   ],
   "source": [
    "df_col2=df1.groupby(s1,axis=1)\n",
    "df_col2.sum()"
   ]
  },
  {
   "cell_type": "code",
   "execution_count": 143,
   "id": "e238d8c4",
   "metadata": {},
   "outputs": [
    {
     "data": {
      "text/html": [
       "<div>\n",
       "<style scoped>\n",
       "    .dataframe tbody tr th:only-of-type {\n",
       "        vertical-align: middle;\n",
       "    }\n",
       "\n",
       "    .dataframe tbody tr th {\n",
       "        vertical-align: top;\n",
       "    }\n",
       "\n",
       "    .dataframe thead th {\n",
       "        text-align: right;\n",
       "    }\n",
       "</style>\n",
       "<table border=\"1\" class=\"dataframe\">\n",
       "  <thead>\n",
       "    <tr style=\"text-align: right;\">\n",
       "      <th></th>\n",
       "      <th>purple</th>\n",
       "      <th>red</th>\n",
       "      <th>yellow</th>\n",
       "    </tr>\n",
       "  </thead>\n",
       "  <tbody>\n",
       "    <tr>\n",
       "      <th>ind</th>\n",
       "      <td>1</td>\n",
       "      <td>2</td>\n",
       "      <td>2</td>\n",
       "    </tr>\n",
       "    <tr>\n",
       "      <th>pak</th>\n",
       "      <td>1</td>\n",
       "      <td>2</td>\n",
       "      <td>2</td>\n",
       "    </tr>\n",
       "    <tr>\n",
       "      <th>uk</th>\n",
       "      <td>1</td>\n",
       "      <td>2</td>\n",
       "      <td>2</td>\n",
       "    </tr>\n",
       "    <tr>\n",
       "      <th>usa</th>\n",
       "      <td>1</td>\n",
       "      <td>0</td>\n",
       "      <td>2</td>\n",
       "    </tr>\n",
       "    <tr>\n",
       "      <th>ger</th>\n",
       "      <td>1</td>\n",
       "      <td>2</td>\n",
       "      <td>2</td>\n",
       "    </tr>\n",
       "  </tbody>\n",
       "</table>\n",
       "</div>"
      ],
      "text/plain": [
       "     purple  red  yellow\n",
       "ind       1    2       2\n",
       "pak       1    2       2\n",
       "uk        1    2       2\n",
       "usa       1    0       2\n",
       "ger       1    2       2"
      ]
     },
     "execution_count": 143,
     "metadata": {},
     "output_type": "execute_result"
    }
   ],
   "source": [
    "df1.groupby(s1,axis=1).count()"
   ]
  },
  {
   "cell_type": "markdown",
   "id": "973b1fde",
   "metadata": {},
   "source": [
    "###  grouping with function"
   ]
  },
  {
   "cell_type": "code",
   "execution_count": 144,
   "id": "53aa1788",
   "metadata": {},
   "outputs": [
    {
     "data": {
      "text/html": [
       "<div>\n",
       "<style scoped>\n",
       "    .dataframe tbody tr th:only-of-type {\n",
       "        vertical-align: middle;\n",
       "    }\n",
       "\n",
       "    .dataframe tbody tr th {\n",
       "        vertical-align: top;\n",
       "    }\n",
       "\n",
       "    .dataframe thead th {\n",
       "        text-align: right;\n",
       "    }\n",
       "</style>\n",
       "<table border=\"1\" class=\"dataframe\">\n",
       "  <thead>\n",
       "    <tr style=\"text-align: right;\">\n",
       "      <th></th>\n",
       "      <th>a</th>\n",
       "      <th>b</th>\n",
       "      <th>c</th>\n",
       "      <th>d</th>\n",
       "      <th>e</th>\n",
       "    </tr>\n",
       "  </thead>\n",
       "  <tbody>\n",
       "    <tr>\n",
       "      <th>2</th>\n",
       "      <td>55.0</td>\n",
       "      <td>2</td>\n",
       "      <td>234.0</td>\n",
       "      <td>142</td>\n",
       "      <td>223</td>\n",
       "    </tr>\n",
       "    <tr>\n",
       "      <th>3</th>\n",
       "      <td>600.0</td>\n",
       "      <td>771</td>\n",
       "      <td>457.0</td>\n",
       "      <td>434</td>\n",
       "      <td>638</td>\n",
       "    </tr>\n",
       "  </tbody>\n",
       "</table>\n",
       "</div>"
      ],
      "text/plain": [
       "       a    b      c    d    e\n",
       "2   55.0    2  234.0  142  223\n",
       "3  600.0  771  457.0  434  638"
      ]
     },
     "execution_count": 144,
     "metadata": {},
     "output_type": "execute_result"
    }
   ],
   "source": [
    "df1.groupby(len).sum()"
   ]
  },
  {
   "cell_type": "code",
   "execution_count": 159,
   "id": "02e97eea",
   "metadata": {},
   "outputs": [],
   "source": [
    "# df_copy=pd.DataFrame({\"a\":[23,34,45,56,67],\n",
    "#                      \"b\":[34,45,56,67,78]})\n",
    "# d1=pd.DataFrame(np.zeros((len(df_copy),len(df_copy))),index=df_copy[\"a\"],columns=df_copy[\"a\"])"
   ]
  },
  {
   "cell_type": "code",
   "execution_count": null,
   "id": "7648de63",
   "metadata": {},
   "outputs": [],
   "source": []
  },
  {
   "cell_type": "code",
   "execution_count": 169,
   "id": "dc95b779",
   "metadata": {},
   "outputs": [],
   "source": [
    "ind=pd.MultiIndex.from_arrays([[\"ind\",\"ind\",\"ind\",\"uk\",\"uk\"],[1,2,3,1,2]],\n",
    "                             names=[\"country\",\"code\"])"
   ]
  },
  {
   "cell_type": "code",
   "execution_count": 171,
   "id": "16358f55",
   "metadata": {},
   "outputs": [
    {
     "data": {
      "text/html": [
       "<div>\n",
       "<style scoped>\n",
       "    .dataframe tbody tr th:only-of-type {\n",
       "        vertical-align: middle;\n",
       "    }\n",
       "\n",
       "    .dataframe tbody tr th {\n",
       "        vertical-align: top;\n",
       "    }\n",
       "\n",
       "    .dataframe thead tr th {\n",
       "        text-align: left;\n",
       "    }\n",
       "</style>\n",
       "<table border=\"1\" class=\"dataframe\">\n",
       "  <thead>\n",
       "    <tr>\n",
       "      <th>country</th>\n",
       "      <th colspan=\"3\" halign=\"left\">ind</th>\n",
       "      <th colspan=\"2\" halign=\"left\">uk</th>\n",
       "    </tr>\n",
       "    <tr>\n",
       "      <th>code</th>\n",
       "      <th>1</th>\n",
       "      <th>2</th>\n",
       "      <th>3</th>\n",
       "      <th>1</th>\n",
       "      <th>2</th>\n",
       "    </tr>\n",
       "  </thead>\n",
       "  <tbody>\n",
       "    <tr>\n",
       "      <th>0</th>\n",
       "      <td>-1.689917</td>\n",
       "      <td>0.241640</td>\n",
       "      <td>-0.598299</td>\n",
       "      <td>-1.078659</td>\n",
       "      <td>-0.142356</td>\n",
       "    </tr>\n",
       "    <tr>\n",
       "      <th>1</th>\n",
       "      <td>0.632808</td>\n",
       "      <td>1.286821</td>\n",
       "      <td>1.300747</td>\n",
       "      <td>-1.432260</td>\n",
       "      <td>1.200925</td>\n",
       "    </tr>\n",
       "    <tr>\n",
       "      <th>2</th>\n",
       "      <td>0.152779</td>\n",
       "      <td>-0.268745</td>\n",
       "      <td>0.857233</td>\n",
       "      <td>1.484231</td>\n",
       "      <td>-0.214666</td>\n",
       "    </tr>\n",
       "    <tr>\n",
       "      <th>3</th>\n",
       "      <td>0.863507</td>\n",
       "      <td>1.342628</td>\n",
       "      <td>-0.134688</td>\n",
       "      <td>-0.430362</td>\n",
       "      <td>-0.079820</td>\n",
       "    </tr>\n",
       "    <tr>\n",
       "      <th>4</th>\n",
       "      <td>-1.220960</td>\n",
       "      <td>-0.468210</td>\n",
       "      <td>0.299927</td>\n",
       "      <td>1.349293</td>\n",
       "      <td>-0.256490</td>\n",
       "    </tr>\n",
       "  </tbody>\n",
       "</table>\n",
       "</div>"
      ],
      "text/plain": [
       "country       ind                            uk          \n",
       "code            1         2         3         1         2\n",
       "0       -1.689917  0.241640 -0.598299 -1.078659 -0.142356\n",
       "1        0.632808  1.286821  1.300747 -1.432260  1.200925\n",
       "2        0.152779 -0.268745  0.857233  1.484231 -0.214666\n",
       "3        0.863507  1.342628 -0.134688 -0.430362 -0.079820\n",
       "4       -1.220960 -0.468210  0.299927  1.349293 -0.256490"
      ]
     },
     "execution_count": 171,
     "metadata": {},
     "output_type": "execute_result"
    }
   ],
   "source": [
    "heir_df=pd.DataFrame(np.random.randn(5,5),columns=ind)\n",
    "heir_df"
   ]
  },
  {
   "cell_type": "code",
   "execution_count": 172,
   "id": "9c59b48f",
   "metadata": {},
   "outputs": [
    {
     "data": {
      "text/html": [
       "<div>\n",
       "<style scoped>\n",
       "    .dataframe tbody tr th:only-of-type {\n",
       "        vertical-align: middle;\n",
       "    }\n",
       "\n",
       "    .dataframe tbody tr th {\n",
       "        vertical-align: top;\n",
       "    }\n",
       "\n",
       "    .dataframe thead th {\n",
       "        text-align: right;\n",
       "    }\n",
       "</style>\n",
       "<table border=\"1\" class=\"dataframe\">\n",
       "  <thead>\n",
       "    <tr style=\"text-align: right;\">\n",
       "      <th>country</th>\n",
       "      <th>ind</th>\n",
       "      <th>uk</th>\n",
       "    </tr>\n",
       "  </thead>\n",
       "  <tbody>\n",
       "    <tr>\n",
       "      <th>0</th>\n",
       "      <td>-0.682192</td>\n",
       "      <td>-0.610507</td>\n",
       "    </tr>\n",
       "    <tr>\n",
       "      <th>1</th>\n",
       "      <td>1.073459</td>\n",
       "      <td>-0.115667</td>\n",
       "    </tr>\n",
       "    <tr>\n",
       "      <th>2</th>\n",
       "      <td>0.247089</td>\n",
       "      <td>0.634783</td>\n",
       "    </tr>\n",
       "    <tr>\n",
       "      <th>3</th>\n",
       "      <td>0.690482</td>\n",
       "      <td>-0.255091</td>\n",
       "    </tr>\n",
       "    <tr>\n",
       "      <th>4</th>\n",
       "      <td>-0.463081</td>\n",
       "      <td>0.546401</td>\n",
       "    </tr>\n",
       "  </tbody>\n",
       "</table>\n",
       "</div>"
      ],
      "text/plain": [
       "country       ind        uk\n",
       "0       -0.682192 -0.610507\n",
       "1        1.073459 -0.115667\n",
       "2        0.247089  0.634783\n",
       "3        0.690482 -0.255091\n",
       "4       -0.463081  0.546401"
      ]
     },
     "execution_count": 172,
     "metadata": {},
     "output_type": "execute_result"
    }
   ],
   "source": [
    "heir_df.groupby(level=\"country\",axis=1).mean()"
   ]
  },
  {
   "cell_type": "code",
   "execution_count": 174,
   "id": "cd3de873",
   "metadata": {},
   "outputs": [
    {
     "data": {
      "text/html": [
       "<div>\n",
       "<style scoped>\n",
       "    .dataframe tbody tr th:only-of-type {\n",
       "        vertical-align: middle;\n",
       "    }\n",
       "\n",
       "    .dataframe tbody tr th {\n",
       "        vertical-align: top;\n",
       "    }\n",
       "\n",
       "    .dataframe thead th {\n",
       "        text-align: right;\n",
       "    }\n",
       "</style>\n",
       "<table border=\"1\" class=\"dataframe\">\n",
       "  <thead>\n",
       "    <tr style=\"text-align: right;\">\n",
       "      <th>code</th>\n",
       "      <th>1</th>\n",
       "      <th>2</th>\n",
       "      <th>3</th>\n",
       "    </tr>\n",
       "  </thead>\n",
       "  <tbody>\n",
       "    <tr>\n",
       "      <th>0</th>\n",
       "      <td>-1.384288</td>\n",
       "      <td>0.049642</td>\n",
       "      <td>-0.598299</td>\n",
       "    </tr>\n",
       "    <tr>\n",
       "      <th>1</th>\n",
       "      <td>-0.399726</td>\n",
       "      <td>1.243873</td>\n",
       "      <td>1.300747</td>\n",
       "    </tr>\n",
       "    <tr>\n",
       "      <th>2</th>\n",
       "      <td>0.818505</td>\n",
       "      <td>-0.241705</td>\n",
       "      <td>0.857233</td>\n",
       "    </tr>\n",
       "    <tr>\n",
       "      <th>3</th>\n",
       "      <td>0.216573</td>\n",
       "      <td>0.631404</td>\n",
       "      <td>-0.134688</td>\n",
       "    </tr>\n",
       "    <tr>\n",
       "      <th>4</th>\n",
       "      <td>0.064166</td>\n",
       "      <td>-0.362350</td>\n",
       "      <td>0.299927</td>\n",
       "    </tr>\n",
       "  </tbody>\n",
       "</table>\n",
       "</div>"
      ],
      "text/plain": [
       "code         1         2         3\n",
       "0    -1.384288  0.049642 -0.598299\n",
       "1    -0.399726  1.243873  1.300747\n",
       "2     0.818505 -0.241705  0.857233\n",
       "3     0.216573  0.631404 -0.134688\n",
       "4     0.064166 -0.362350  0.299927"
      ]
     },
     "execution_count": 174,
     "metadata": {},
     "output_type": "execute_result"
    }
   ],
   "source": [
    "heir_df.groupby(level=\"code\",axis=1).mean()"
   ]
  },
  {
   "cell_type": "code",
   "execution_count": 181,
   "id": "808da5de",
   "metadata": {},
   "outputs": [],
   "source": [
    "df.drop(columns=[\"uk\",\"usa\"],inplace=True)"
   ]
  },
  {
   "cell_type": "code",
   "execution_count": 183,
   "id": "053089e5",
   "metadata": {},
   "outputs": [],
   "source": [
    "grouped=df.groupby(\"key1\")"
   ]
  },
  {
   "cell_type": "code",
   "execution_count": 184,
   "id": "31526e4d",
   "metadata": {},
   "outputs": [
    {
     "data": {
      "text/plain": [
       "key1\n",
       "a    36.9\n",
       "b    43.6\n",
       "c    38.3\n",
       "Name: d2, dtype: float64"
      ]
     },
     "execution_count": 184,
     "metadata": {},
     "output_type": "execute_result"
    }
   ],
   "source": [
    "grouped[\"d2\"].quantile(0.7)"
   ]
  },
  {
   "cell_type": "code",
   "execution_count": 190,
   "id": "25345ea5",
   "metadata": {},
   "outputs": [
    {
     "data": {
      "text/html": [
       "<div>\n",
       "<style scoped>\n",
       "    .dataframe tbody tr th:only-of-type {\n",
       "        vertical-align: middle;\n",
       "    }\n",
       "\n",
       "    .dataframe tbody tr th {\n",
       "        vertical-align: top;\n",
       "    }\n",
       "\n",
       "    .dataframe thead th {\n",
       "        text-align: right;\n",
       "    }\n",
       "</style>\n",
       "<table border=\"1\" class=\"dataframe\">\n",
       "  <thead>\n",
       "    <tr style=\"text-align: right;\">\n",
       "      <th></th>\n",
       "      <th>key1</th>\n",
       "      <th>key2</th>\n",
       "      <th>d1</th>\n",
       "      <th>d2</th>\n",
       "    </tr>\n",
       "  </thead>\n",
       "  <tbody>\n",
       "    <tr>\n",
       "      <th>0</th>\n",
       "      <td>a</td>\n",
       "      <td>one</td>\n",
       "      <td>6</td>\n",
       "      <td>25</td>\n",
       "    </tr>\n",
       "    <tr>\n",
       "      <th>1</th>\n",
       "      <td>c</td>\n",
       "      <td>one</td>\n",
       "      <td>12</td>\n",
       "      <td>32</td>\n",
       "    </tr>\n",
       "    <tr>\n",
       "      <th>2</th>\n",
       "      <td>b</td>\n",
       "      <td>three</td>\n",
       "      <td>11</td>\n",
       "      <td>28</td>\n",
       "    </tr>\n",
       "    <tr>\n",
       "      <th>3</th>\n",
       "      <td>b</td>\n",
       "      <td>two</td>\n",
       "      <td>14</td>\n",
       "      <td>42</td>\n",
       "    </tr>\n",
       "    <tr>\n",
       "      <th>4</th>\n",
       "      <td>a</td>\n",
       "      <td>three</td>\n",
       "      <td>10</td>\n",
       "      <td>42</td>\n",
       "    </tr>\n",
       "    <tr>\n",
       "      <th>5</th>\n",
       "      <td>c</td>\n",
       "      <td>one</td>\n",
       "      <td>12</td>\n",
       "      <td>41</td>\n",
       "    </tr>\n",
       "    <tr>\n",
       "      <th>6</th>\n",
       "      <td>b</td>\n",
       "      <td>two</td>\n",
       "      <td>5</td>\n",
       "      <td>46</td>\n",
       "    </tr>\n",
       "  </tbody>\n",
       "</table>\n",
       "</div>"
      ],
      "text/plain": [
       "  key1   key2  d1  d2\n",
       "0    a    one   6  25\n",
       "1    c    one  12  32\n",
       "2    b  three  11  28\n",
       "3    b    two  14  42\n",
       "4    a  three  10  42\n",
       "5    c    one  12  41\n",
       "6    b    two   5  46"
      ]
     },
     "execution_count": 190,
     "metadata": {},
     "output_type": "execute_result"
    }
   ],
   "source": [
    "df"
   ]
  },
  {
   "cell_type": "code",
   "execution_count": 188,
   "id": "33413578",
   "metadata": {},
   "outputs": [],
   "source": [
    "#if we have our own aggrigation then use agg\n",
    "def my_own_agg(arr):\n",
    "    rang=arr.max()-arr.min()\n",
    "    return rang"
   ]
  },
  {
   "cell_type": "code",
   "execution_count": 189,
   "id": "2effda2f",
   "metadata": {},
   "outputs": [
    {
     "name": "stderr",
     "output_type": "stream",
     "text": [
      "C:\\Users\\Pratheek\\AppData\\Local\\Temp\\ipykernel_15228\\3920136673.py:1: FutureWarning: ['key2'] did not aggregate successfully. If any error is raised this will raise in a future version of pandas. Drop these columns/ops to avoid this warning.\n",
      "  grouped.agg(my_own_agg)\n"
     ]
    },
    {
     "data": {
      "text/html": [
       "<div>\n",
       "<style scoped>\n",
       "    .dataframe tbody tr th:only-of-type {\n",
       "        vertical-align: middle;\n",
       "    }\n",
       "\n",
       "    .dataframe tbody tr th {\n",
       "        vertical-align: top;\n",
       "    }\n",
       "\n",
       "    .dataframe thead th {\n",
       "        text-align: right;\n",
       "    }\n",
       "</style>\n",
       "<table border=\"1\" class=\"dataframe\">\n",
       "  <thead>\n",
       "    <tr style=\"text-align: right;\">\n",
       "      <th></th>\n",
       "      <th>d1</th>\n",
       "      <th>d2</th>\n",
       "    </tr>\n",
       "    <tr>\n",
       "      <th>key1</th>\n",
       "      <th></th>\n",
       "      <th></th>\n",
       "    </tr>\n",
       "  </thead>\n",
       "  <tbody>\n",
       "    <tr>\n",
       "      <th>a</th>\n",
       "      <td>4</td>\n",
       "      <td>17</td>\n",
       "    </tr>\n",
       "    <tr>\n",
       "      <th>b</th>\n",
       "      <td>9</td>\n",
       "      <td>18</td>\n",
       "    </tr>\n",
       "    <tr>\n",
       "      <th>c</th>\n",
       "      <td>0</td>\n",
       "      <td>9</td>\n",
       "    </tr>\n",
       "  </tbody>\n",
       "</table>\n",
       "</div>"
      ],
      "text/plain": [
       "      d1  d2\n",
       "key1        \n",
       "a      4  17\n",
       "b      9  18\n",
       "c      0   9"
      ]
     },
     "execution_count": 189,
     "metadata": {},
     "output_type": "execute_result"
    }
   ],
   "source": [
    "grouped.agg(my_own_agg)"
   ]
  },
  {
   "cell_type": "code",
   "execution_count": 193,
   "id": "f8b759b0",
   "metadata": {},
   "outputs": [
    {
     "data": {
      "text/html": [
       "<div>\n",
       "<style scoped>\n",
       "    .dataframe tbody tr th:only-of-type {\n",
       "        vertical-align: middle;\n",
       "    }\n",
       "\n",
       "    .dataframe tbody tr th {\n",
       "        vertical-align: top;\n",
       "    }\n",
       "\n",
       "    .dataframe thead tr th {\n",
       "        text-align: left;\n",
       "    }\n",
       "\n",
       "    .dataframe thead tr:last-of-type th {\n",
       "        text-align: right;\n",
       "    }\n",
       "</style>\n",
       "<table border=\"1\" class=\"dataframe\">\n",
       "  <thead>\n",
       "    <tr>\n",
       "      <th></th>\n",
       "      <th colspan=\"8\" halign=\"left\">d1</th>\n",
       "      <th colspan=\"8\" halign=\"left\">d2</th>\n",
       "    </tr>\n",
       "    <tr>\n",
       "      <th></th>\n",
       "      <th>count</th>\n",
       "      <th>mean</th>\n",
       "      <th>std</th>\n",
       "      <th>min</th>\n",
       "      <th>25%</th>\n",
       "      <th>50%</th>\n",
       "      <th>75%</th>\n",
       "      <th>max</th>\n",
       "      <th>count</th>\n",
       "      <th>mean</th>\n",
       "      <th>std</th>\n",
       "      <th>min</th>\n",
       "      <th>25%</th>\n",
       "      <th>50%</th>\n",
       "      <th>75%</th>\n",
       "      <th>max</th>\n",
       "    </tr>\n",
       "    <tr>\n",
       "      <th>key1</th>\n",
       "      <th></th>\n",
       "      <th></th>\n",
       "      <th></th>\n",
       "      <th></th>\n",
       "      <th></th>\n",
       "      <th></th>\n",
       "      <th></th>\n",
       "      <th></th>\n",
       "      <th></th>\n",
       "      <th></th>\n",
       "      <th></th>\n",
       "      <th></th>\n",
       "      <th></th>\n",
       "      <th></th>\n",
       "      <th></th>\n",
       "      <th></th>\n",
       "    </tr>\n",
       "  </thead>\n",
       "  <tbody>\n",
       "    <tr>\n",
       "      <th>a</th>\n",
       "      <td>2.0</td>\n",
       "      <td>8.0</td>\n",
       "      <td>2.828427</td>\n",
       "      <td>6.0</td>\n",
       "      <td>7.0</td>\n",
       "      <td>8.0</td>\n",
       "      <td>9.0</td>\n",
       "      <td>10.0</td>\n",
       "      <td>2.0</td>\n",
       "      <td>33.500000</td>\n",
       "      <td>12.020815</td>\n",
       "      <td>25.0</td>\n",
       "      <td>29.25</td>\n",
       "      <td>33.5</td>\n",
       "      <td>37.75</td>\n",
       "      <td>42.0</td>\n",
       "    </tr>\n",
       "    <tr>\n",
       "      <th>b</th>\n",
       "      <td>3.0</td>\n",
       "      <td>10.0</td>\n",
       "      <td>4.582576</td>\n",
       "      <td>5.0</td>\n",
       "      <td>8.0</td>\n",
       "      <td>11.0</td>\n",
       "      <td>12.5</td>\n",
       "      <td>14.0</td>\n",
       "      <td>3.0</td>\n",
       "      <td>38.666667</td>\n",
       "      <td>9.451631</td>\n",
       "      <td>28.0</td>\n",
       "      <td>35.00</td>\n",
       "      <td>42.0</td>\n",
       "      <td>44.00</td>\n",
       "      <td>46.0</td>\n",
       "    </tr>\n",
       "    <tr>\n",
       "      <th>c</th>\n",
       "      <td>2.0</td>\n",
       "      <td>12.0</td>\n",
       "      <td>0.000000</td>\n",
       "      <td>12.0</td>\n",
       "      <td>12.0</td>\n",
       "      <td>12.0</td>\n",
       "      <td>12.0</td>\n",
       "      <td>12.0</td>\n",
       "      <td>2.0</td>\n",
       "      <td>36.500000</td>\n",
       "      <td>6.363961</td>\n",
       "      <td>32.0</td>\n",
       "      <td>34.25</td>\n",
       "      <td>36.5</td>\n",
       "      <td>38.75</td>\n",
       "      <td>41.0</td>\n",
       "    </tr>\n",
       "  </tbody>\n",
       "</table>\n",
       "</div>"
      ],
      "text/plain": [
       "        d1                                                  d2             \\\n",
       "     count  mean       std   min   25%   50%   75%   max count       mean   \n",
       "key1                                                                        \n",
       "a      2.0   8.0  2.828427   6.0   7.0   8.0   9.0  10.0   2.0  33.500000   \n",
       "b      3.0  10.0  4.582576   5.0   8.0  11.0  12.5  14.0   3.0  38.666667   \n",
       "c      2.0  12.0  0.000000  12.0  12.0  12.0  12.0  12.0   2.0  36.500000   \n",
       "\n",
       "                                                 \n",
       "            std   min    25%   50%    75%   max  \n",
       "key1                                             \n",
       "a     12.020815  25.0  29.25  33.5  37.75  42.0  \n",
       "b      9.451631  28.0  35.00  42.0  44.00  46.0  \n",
       "c      6.363961  32.0  34.25  36.5  38.75  41.0  "
      ]
     },
     "execution_count": 193,
     "metadata": {},
     "output_type": "execute_result"
    }
   ],
   "source": [
    "grouped.describe()"
   ]
  },
  {
   "cell_type": "code",
   "execution_count": 200,
   "id": "2873fec6",
   "metadata": {},
   "outputs": [
    {
     "data": {
      "text/html": [
       "<div>\n",
       "<style scoped>\n",
       "    .dataframe tbody tr th:only-of-type {\n",
       "        vertical-align: middle;\n",
       "    }\n",
       "\n",
       "    .dataframe tbody tr th {\n",
       "        vertical-align: top;\n",
       "    }\n",
       "\n",
       "    .dataframe thead th {\n",
       "        text-align: right;\n",
       "    }\n",
       "</style>\n",
       "<table border=\"1\" class=\"dataframe\">\n",
       "  <thead>\n",
       "    <tr style=\"text-align: right;\">\n",
       "      <th></th>\n",
       "      <th>total_bill</th>\n",
       "      <th>tip</th>\n",
       "      <th>sex</th>\n",
       "      <th>smoker</th>\n",
       "      <th>day</th>\n",
       "      <th>time</th>\n",
       "      <th>size</th>\n",
       "    </tr>\n",
       "  </thead>\n",
       "  <tbody>\n",
       "    <tr>\n",
       "      <th>0</th>\n",
       "      <td>16.99</td>\n",
       "      <td>1.01</td>\n",
       "      <td>Female</td>\n",
       "      <td>No</td>\n",
       "      <td>Sun</td>\n",
       "      <td>Dinner</td>\n",
       "      <td>2</td>\n",
       "    </tr>\n",
       "    <tr>\n",
       "      <th>1</th>\n",
       "      <td>10.34</td>\n",
       "      <td>1.66</td>\n",
       "      <td>Male</td>\n",
       "      <td>No</td>\n",
       "      <td>Sun</td>\n",
       "      <td>Dinner</td>\n",
       "      <td>3</td>\n",
       "    </tr>\n",
       "    <tr>\n",
       "      <th>2</th>\n",
       "      <td>21.01</td>\n",
       "      <td>3.50</td>\n",
       "      <td>Male</td>\n",
       "      <td>No</td>\n",
       "      <td>Sun</td>\n",
       "      <td>Dinner</td>\n",
       "      <td>3</td>\n",
       "    </tr>\n",
       "  </tbody>\n",
       "</table>\n",
       "</div>"
      ],
      "text/plain": [
       "   total_bill   tip     sex smoker  day    time  size\n",
       "0       16.99  1.01  Female     No  Sun  Dinner     2\n",
       "1       10.34  1.66    Male     No  Sun  Dinner     3\n",
       "2       21.01  3.50    Male     No  Sun  Dinner     3"
      ]
     },
     "execution_count": 200,
     "metadata": {},
     "output_type": "execute_result"
    }
   ],
   "source": [
    "df1=pd.read_csv(\"C:/nidhisha/dataset/tips.csv\")\n",
    "df1.head(3)"
   ]
  },
  {
   "cell_type": "code",
   "execution_count": null,
   "id": "3a15377a",
   "metadata": {},
   "outputs": [],
   "source": []
  },
  {
   "cell_type": "code",
   "execution_count": null,
   "id": "b0780418",
   "metadata": {},
   "outputs": [],
   "source": []
  }
 ],
 "metadata": {
  "kernelspec": {
   "display_name": "Python 3 (ipykernel)",
   "language": "python",
   "name": "python3"
  },
  "language_info": {
   "codemirror_mode": {
    "name": "ipython",
    "version": 3
   },
   "file_extension": ".py",
   "mimetype": "text/x-python",
   "name": "python",
   "nbconvert_exporter": "python",
   "pygments_lexer": "ipython3",
   "version": "3.9.12"
  }
 },
 "nbformat": 4,
 "nbformat_minor": 5
}
